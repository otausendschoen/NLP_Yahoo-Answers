{
 "cells": [
  {
   "cell_type": "markdown",
   "id": "183990f3",
   "metadata": {},
   "source": [
    "![bse_logo_textminingcourse](https://bse.eu/sites/default/files/bse_logo_small.png)\n",
    "\n",
    "# *Yahoo Answers Topic Classification*\n",
    "\n",
    "### Authors: **Tirdod Behbehani, Marvin Ernst, Pol Garcia, Oliver Tausendschön** \n",
    "\n",
    "#### Class: **22DM015 Advanced Methods in Natural Language Processing**\n",
    "\n",
    "##### *Final Assigment*\n",
    "\n",
    "##### Supervisor: **Arnault Gombert**\n",
    "\n",
    "**Date: June 15, 2025**\n",
    "\n",
    "\n",
    "# **Part 4: Model Distillation and Quantization**\n",
    "\n",
    "In this section, we aim to reduce the computational load of our best-performing model from Part 3. This is essential for efficient deployment in resource-constrained environments.\n",
    "\n",
    "We want to reduce computational cost, while retaining as much perfromance as possible."
   ]
  },
  {
   "cell_type": "markdown",
   "id": "98ea981c",
   "metadata": {},
   "source": [
    "**Importing the relevant libraries:**"
   ]
  },
  {
   "cell_type": "code",
   "execution_count": null,
   "id": "f4b11852",
   "metadata": {},
   "outputs": [],
   "source": [
    "from transformers import AutoModelForSequenceClassification, AutoTokenizer\n",
    "from transformers import DistilBertTokenizerFast, DistilBertConfig, DistilBertForSequenceClassification\n",
    "from transformers import BertModel, BertTokenizer, DistilBertModel, DistilBertTokenizer\n",
    "\n",
    "from datasets import load_dataset, Dataset\n",
    "import pandas as pd\n",
    "import numpy as np\n",
    "import random\n",
    "from sklearn.model_selection import train_test_split\n",
    "\n",
    "import torch\n",
    "from torch.utils.data import DataLoader\n",
    "from torch.optim import AdamW\n",
    "\n",
    "import torch.nn.functional as F\n",
    "\n",
    "from sklearn.metrics import accuracy_score, precision_score, recall_score\n",
    "\n",
    "import os\n",
    "import time\n",
    "import matplotlib.pyplot as plt\n",
    "\n",
    "import json\n",
    "from tqdm import tqdm\n",
    "\n",
    "from torch.quantization import quantize_dynamic\n",
    "\n",
    "import copy\n",
    "\n",
    "from torch.nn.functional import softmax"
   ]
  },
  {
   "cell_type": "markdown",
   "id": "826abaad",
   "metadata": {},
   "source": [
    "Set a  seed for reproducibility:"
   ]
  },
  {
   "cell_type": "code",
   "execution_count": 4,
   "id": "7c9d3b63",
   "metadata": {},
   "outputs": [],
   "source": [
    "seed = 42\n",
    "def set_seed(seed):\n",
    "    random.seed(seed)\n",
    "    np.random.seed(seed)\n",
    "    torch.manual_seed(seed)\n",
    "    torch.cuda.manual_seed_all(seed)\n",
    "set_seed(seed)"
   ]
  },
  {
   "cell_type": "markdown",
   "id": "56b1a3b0",
   "metadata": {},
   "source": [
    "## a. Model Distillation/Quantization \n",
    "\n",
    "**Goal**: Convert our large BERT-based model into a smaller and faster model using knowledge distillation and/or quantization techniques."
   ]
  },
  {
   "cell_type": "markdown",
   "id": "5315e026",
   "metadata": {},
   "source": [
    "### **1. Distillation Setup**\n",
    "\n",
    "We will use the `distilbert-base-uncased` architecture as our student model. The teacher is our fine-tuned BERT model from Part 2, which was our best model.\n",
    "\n",
    "(For the teacher model we don't explicitly have to align label mapping to integer-based labels since they are already 0–9).\n",
    "\n",
    "Before we have been using hugging face, however, we encountered issues with it, thus we store the model locally, we will send you the zip file to the pretrained BERT model.\n",
    "\n",
    "This would be the hugging face option, which we still use for the tokenizer:"
   ]
  },
  {
   "cell_type": "code",
   "execution_count": null,
   "id": "77ef65ad",
   "metadata": {},
   "outputs": [],
   "source": [
    "from huggingface_hub import login\n",
    "# Login to Hugging Face Hub\n",
    "#login(token=\".....\")\n",
    "\n",
    "teacher_ckpt_tokenizer = \"tirdodbehbehani/yahoo-bert-32shot_stratified_augm_2\""
   ]
  },
  {
   "cell_type": "markdown",
   "id": "ba425b29",
   "metadata": {},
   "source": [
    "This is when model is stored locally:"
   ]
  },
  {
   "cell_type": "code",
   "execution_count": 6,
   "id": "435bbc99",
   "metadata": {},
   "outputs": [
    {
     "name": "stderr",
     "output_type": "stream",
     "text": [
      "Some weights of DistilBertForSequenceClassification were not initialized from the model checkpoint at distilbert-base-uncased and are newly initialized: ['classifier.bias', 'classifier.weight', 'pre_classifier.bias', 'pre_classifier.weight']\n",
      "You should probably TRAIN this model on a down-stream task to be able to use it for predictions and inference.\n"
     ]
    }
   ],
   "source": [
    "# the path to the pretrained model:\n",
    "teacher_ckpt = \"yahoo_models_best_checkpoints/results_5/checkpoint-2460\"\n",
    "teacher_model = AutoModelForSequenceClassification.from_pretrained(teacher_ckpt)\n",
    "teacher_tokenizer = AutoTokenizer.from_pretrained(teacher_ckpt_tokenizer)\n",
    "\n",
    "student_ckpt = \"distilbert-base-uncased\"\n",
    "student_model = DistilBertForSequenceClassification.from_pretrained(student_ckpt, num_labels=10)\n",
    "student_tokenizer = DistilBertTokenizerFast.from_pretrained(student_ckpt)"
   ]
  },
  {
   "cell_type": "markdown",
   "id": "302e6886",
   "metadata": {},
   "source": [
    "### **2. Dataset Preparation**\n",
    "\n",
    "We will use 5% of the dataset for distillation due to computational constraints, since the goal is here to investigate how we can do a best possible distillation, that still gets close in perfromance to the teacher's model (so we are also using the teacher's model that has been trained on 5% of the data). Of course one could also go for 100%, however the learnings would be similar."
   ]
  },
  {
   "cell_type": "markdown",
   "id": "313776f8",
   "metadata": {},
   "source": [
    "First, we load the Yahoo dataset:"
   ]
  },
  {
   "cell_type": "code",
   "execution_count": 7,
   "id": "e4cdae6e",
   "metadata": {},
   "outputs": [],
   "source": [
    "df = pd.concat([\n",
    "    load_dataset(\"community-datasets/yahoo_answers_topics\", split=\"train\").to_pandas(),\n",
    "    load_dataset(\"community-datasets/yahoo_answers_topics\", split=\"test\").to_pandas()\n",
    "])\n",
    "\n",
    "df = df[df[\"question_content\"].str.strip() != \"\"]\n",
    "df = df[df[\"best_answer\"].str.strip() != \"\"]\n",
    "df = df[[\"question_content\", \"topic\"]].rename(columns={\"topic\": \"label\"})\n",
    "df[\"label\"] = df[\"label\"].astype(int)"
   ]
  },
  {
   "cell_type": "markdown",
   "id": "da9ed7e6",
   "metadata": {},
   "source": [
    "Sample 5%:\n",
    "\n",
    "(We had tried using a fixed label map consistent with teacher training, but this is redundant, since labels are already 0-9.)"
   ]
  },
  {
   "cell_type": "code",
   "execution_count": 8,
   "id": "40808d40",
   "metadata": {},
   "outputs": [],
   "source": [
    "df_sample, _ = train_test_split(df, train_size=0.05, stratify=df[\"label\"], random_state=42)\n",
    "df_sample = df_sample.reset_index(drop=True)"
   ]
  },
  {
   "cell_type": "markdown",
   "id": "e4242c2e",
   "metadata": {},
   "source": [
    "Convert to Hugging Face Dataset:"
   ]
  },
  {
   "cell_type": "code",
   "execution_count": 9,
   "id": "519d8d3d",
   "metadata": {},
   "outputs": [],
   "source": [
    "dataset = Dataset.from_pandas(df_sample)"
   ]
  },
  {
   "cell_type": "markdown",
   "id": "46392cee",
   "metadata": {},
   "source": [
    "We define a function that uses the student tokenizer (i.e., DistilBERT) to tokenize our input texts:"
   ]
  },
  {
   "cell_type": "code",
   "execution_count": 10,
   "id": "5c5b7e56",
   "metadata": {},
   "outputs": [],
   "source": [
    "def tokenize_student(example):\n",
    "    return student_tokenizer(example[\"question_content\"], truncation=True, padding=\"max_length\", max_length=128)"
   ]
  },
  {
   "cell_type": "markdown",
   "id": "c1bbab15",
   "metadata": {},
   "source": [
    "We apply the tokenizer to our full dataset and split it into 80% training and 20% test data (with fixed seed, so everzone can reproduce it). And we format it as PyTorch tensors."
   ]
  },
  {
   "cell_type": "code",
   "execution_count": 11,
   "id": "502a091b",
   "metadata": {},
   "outputs": [
    {
     "data": {
      "application/vnd.jupyter.widget-view+json": {
       "model_id": "e2969206b5e14a659252c2df4d4a8f5e",
       "version_major": 2,
       "version_minor": 0
      },
      "text/plain": [
       "Map:   0%|          | 0/39297 [00:00<?, ? examples/s]"
      ]
     },
     "metadata": {},
     "output_type": "display_data"
    }
   ],
   "source": [
    "dataset = dataset.map(tokenize_student, batched=True)\n",
    "dataset = dataset.train_test_split(test_size=0.2, seed=42)\n",
    "dataset.set_format(\"torch\", columns=[\"input_ids\", \"attention_mask\", \"label\"])"
   ]
  },
  {
   "cell_type": "markdown",
   "id": "96fc2b74",
   "metadata": {},
   "source": [
    "We are creating an **evaluation function** so we can evaluate the models on the flow, on the sane test data:"
   ]
  },
  {
   "cell_type": "code",
   "execution_count": 12,
   "id": "c91a9303",
   "metadata": {},
   "outputs": [],
   "source": [
    "def evaluate_all_models(models_dir=\"models\", cache_file=\"model_eval_cache.json\", dataset=None, device=\"cuda\"):\n",
    "    if dataset is None:\n",
    "        raise ValueError(\"You must pass a dataset dictionary with a 'test' split.\")\n",
    "\n",
    "    # Load existing results:\n",
    "    if os.path.exists(cache_file):\n",
    "        with open(cache_file, \"r\") as f:\n",
    "            cache = json.load(f)\n",
    "    else:\n",
    "        cache = {}\n",
    "\n",
    "    test_loader = DataLoader(dataset[\"test\"], batch_size=64)\n",
    "\n",
    "    results = []\n",
    "\n",
    "    for model_name in tqdm(sorted(os.listdir(models_dir))):\n",
    "        model_path = os.path.join(models_dir, model_name)\n",
    "\n",
    "        if not os.path.isdir(model_path):\n",
    "            continue\n",
    "\n",
    "        if model_name in cache:\n",
    "            cached = cache[model_name]\n",
    "            print(f\"Using cached results for {model_name}\")\n",
    "            print(f\"Accuracy: {cached['accuracy']:.4f}\")\n",
    "            print(f\"Precision: {cached['precision']:.4f}\")\n",
    "            print(f\"Recall: {cached['recall']:.4f}\")\n",
    "            results.append(cached)\n",
    "            continue\n",
    "\n",
    "        print(f\"\\nEvaluating {model_name}\")\n",
    "        model = DistilBertForSequenceClassification.from_pretrained(model_path, local_files_only=True).to(device)\n",
    "        model.eval()\n",
    "\n",
    "        all_preds, all_labels = [], []\n",
    "\n",
    "        with torch.no_grad():\n",
    "            for batch in test_loader:\n",
    "                input_ids = batch[\"input_ids\"].to(device)\n",
    "                attention_mask = batch[\"attention_mask\"].to(device)\n",
    "                labels = batch[\"label\"].cpu().numpy()\n",
    "\n",
    "                outputs = model(input_ids=input_ids, attention_mask=attention_mask)\n",
    "                preds = torch.argmax(outputs.logits, axis=1).cpu().numpy()\n",
    "\n",
    "                all_preds.extend(preds)\n",
    "                all_labels.extend(labels)\n",
    "\n",
    "        acc = accuracy_score(all_labels, all_preds)\n",
    "        prec = precision_score(all_labels, all_preds, average=\"macro\")\n",
    "        rec = recall_score(all_labels, all_preds, average=\"macro\")\n",
    "\n",
    "        print(f\"Accuracy:  {acc:.4f}\")\n",
    "        print(f\"Precision: {prec:.4f}\")\n",
    "        print(f\"Recall:    {rec:.4f}\")\n",
    "\n",
    "        result = {\n",
    "            \"version\": model_name,\n",
    "            \"accuracy\": acc,\n",
    "            \"precision\": prec,\n",
    "            \"recall\": rec\n",
    "        }\n",
    "\n",
    "        # Save to cache and results:\n",
    "        cache[model_name] = result\n",
    "        results.append(result)\n",
    "\n",
    "        # We save after every model:\n",
    "        with open(cache_file, \"w\") as f:\n",
    "            json.dump(cache, f, indent=2)\n",
    "\n",
    "    return results"
   ]
  },
  {
   "cell_type": "markdown",
   "id": "8f25bb65",
   "metadata": {},
   "source": [
    "### **3. Distillation Training**\n",
    "\n",
    "We batch the training data into mini-batches of 32 and shuffle them each epoch to reduce overfitting.\n",
    "\n",
    "We use a simple loss function that encourages the student to match the teacher's predictions, this is AdamW, the standard optimizer (we had also used before).\n",
    "\n",
    "(Note that runtime we will compare after we have selected the best couple distilled models that have been trained for ,ore than 1 epoch etc., what we are doing right now is first to find good configurations.)"
   ]
  },
  {
   "cell_type": "code",
   "execution_count": 13,
   "id": "aa854e12",
   "metadata": {},
   "outputs": [],
   "source": [
    "device = torch.device(\"cuda\" if torch.cuda.is_available() else \"cpu\")\n",
    "teacher_model.to(device).eval()\n",
    "student_model.to(device).train()\n",
    "\n",
    "train_loader = DataLoader(dataset[\"train\"], batch_size=32, shuffle=True)\n",
    "optimizer = AdamW(student_model.parameters(), lr=5e-5)"
   ]
  },
  {
   "cell_type": "markdown",
   "id": "bc7bbaf7",
   "metadata": {},
   "source": [
    "This is for the validation (when we do earlzy stopping) to avoid overfitting we can evaluate on the test set (here we use batch size 64):"
   ]
  },
  {
   "cell_type": "code",
   "execution_count": 14,
   "id": "6b4b535d",
   "metadata": {},
   "outputs": [],
   "source": [
    "val_loader = DataLoader(dataset[\"test\"], batch_size=64)"
   ]
  },
  {
   "cell_type": "markdown",
   "id": "abc25e02",
   "metadata": {},
   "source": [
    "We define a distillation loss that combines **cross-entropy loss** and **Kullback-Leibler divergence**.\n",
    "\n",
    "The paramters that we define here are:\n",
    "\n",
    "**temperature**: softens probabilities, making them more informative, we set it at 2, with this we have smoother distributions as we have see in lecture 9 (slide 18). This means we have more randomness in LLMs, here it means that the model is less canfidence in the distillation. So the student model can learn fine grained-relationships between classes.\n",
    "\n",
    "**alpha**: controls trade-off between matching true labels (CE) and teacher behavior (KL), so how much weight we give to the ground truth vs. the teacher. So with 0.5 we \"equally\" balance between the true labels and the teacher knowledge (via the KL divergence on the softened logits)."
   ]
  },
  {
   "cell_type": "code",
   "execution_count": 15,
   "id": "3ceac390",
   "metadata": {},
   "outputs": [],
   "source": [
    "def distillation_loss(student_logits, teacher_logits, true_labels, alpha=0.5, temperature=2.0):\n",
    "    ce_loss = F.cross_entropy(student_logits, true_labels)\n",
    "    kl_loss = F.kl_div(\n",
    "        F.log_softmax(student_logits / temperature, dim=1),\n",
    "        F.softmax(teacher_logits / temperature, dim=1),\n",
    "        reduction=\"batchmean\"\n",
    "    ) * (temperature ** 2)\n",
    "    return alpha * ce_loss + (1 - alpha) * kl_loss"
   ]
  },
  {
   "cell_type": "markdown",
   "id": "77905ed4",
   "metadata": {},
   "source": [
    "#### *First Version of the Student Model*\n",
    "\n",
    "Just with three epochs and temperature = 2.0 and alpha 0.5."
   ]
  },
  {
   "cell_type": "markdown",
   "id": "23407c80",
   "metadata": {},
   "source": [
    "**Training Loop (Distillation):**\n",
    "\n",
    "We are using real teacher probabilities, not just argmax. With argmax, we would be doing hard predictions like [0,0,1,0,0,1,0,...]. But we are using soft distribution over classes, because they can carry moreinformation as hard labels. Obviouslz, if you consider distributions and when outcomes are Bernoulli, that is the least informative ditribution, you only know for example that class 2 is correct, but zou do not have anz information about the others. If you have soft targets (probability distribution) from the teacher, e.g., [0.01, 0.05, 0.70, 0.23, 0.01, ..., 0.00], then you learn that the teacher is mostly confident in class 2, but also thinks class 3 is plausible (e.g., it relates to computers),and class 1 is mildly relevant (math-related learning). The student now gets more nuanced supervision - not just \"what’s correct,\" but also \"how close are other classes?\" So what we get is a bigger or richer signal than we would get from the true label alone."
   ]
  },
  {
   "cell_type": "code",
   "execution_count": 22,
   "id": "aee8fd62",
   "metadata": {},
   "outputs": [
    {
     "name": "stdout",
     "output_type": "stream",
     "text": [
      "Epoch 1: Loss = 1370.8307\n",
      "Epoch 2: Loss = 1370.8407\n",
      "Epoch 3: Loss = 1370.6875\n"
     ]
    }
   ],
   "source": [
    "for epoch in range(3):\n",
    "    total_loss = 0\n",
    "    for batch in train_loader:\n",
    "        input_ids = batch[\"input_ids\"].to(device)\n",
    "        attention_mask = batch[\"attention_mask\"].to(device)\n",
    "        labels = batch[\"label\"].to(device)\n",
    "\n",
    "        with torch.no_grad():\n",
    "            teacher_logits = teacher_model(input_ids=input_ids, attention_mask=attention_mask).logits\n",
    "\n",
    "        student_logits = student_model(input_ids=input_ids, attention_mask=attention_mask).logits\n",
    "        loss = distillation_loss(student_logits, teacher_logits, labels)\n",
    "\n",
    "        loss.backward()\n",
    "        optimizer.step()\n",
    "        optimizer.zero_grad()\n",
    "\n",
    "        total_loss += loss.item()\n",
    "    print(f\"Epoch {epoch + 1}: Loss = {total_loss:.4f}\")"
   ]
  },
  {
   "cell_type": "markdown",
   "id": "8197118d",
   "metadata": {},
   "source": [
    "This took 14 minutes and 27.1 seconds on a computer with GPU (NVIDIA GeForce RTX 4060 8GB GDDR6.)\n",
    "\n",
    "We can see that the student model is not really improving much, so it has already learned from both the teacher's predictions and the true labels (so more epochs may not lead to better perfromance)."
   ]
  },
  {
   "cell_type": "markdown",
   "id": "e5dc1a4b",
   "metadata": {},
   "source": [
    "Save student model (first version):"
   ]
  },
  {
   "cell_type": "code",
   "execution_count": 23,
   "id": "8a6dfe44",
   "metadata": {},
   "outputs": [
    {
     "data": {
      "text/plain": [
       "('models/student_v1/tokenizer_config.json',\n",
       " 'models/student_v1/special_tokens_map.json',\n",
       " 'models/student_v1/vocab.txt',\n",
       " 'models/student_v1/added_tokens.json',\n",
       " 'models/student_v1/tokenizer.json')"
      ]
     },
     "execution_count": 23,
     "metadata": {},
     "output_type": "execute_result"
    }
   ],
   "source": [
    "save_path = \"models/student_v1\"\n",
    "student_model.save_pretrained(save_path)\n",
    "student_tokenizer.save_pretrained(save_path)"
   ]
  },
  {
   "cell_type": "code",
   "execution_count": 16,
   "id": "d97b5b57",
   "metadata": {},
   "outputs": [
    {
     "name": "stderr",
     "output_type": "stream",
     "text": [
      "100%|██████████| 1/1 [00:00<00:00, 5349.88it/s]"
     ]
    },
    {
     "name": "stdout",
     "output_type": "stream",
     "text": [
      "Using cached results for student_v1\n",
      "Accuracy: 0.8272\n",
      "Precision: 0.8281\n",
      "Recall: 0.8238\n"
     ]
    },
    {
     "name": "stderr",
     "output_type": "stream",
     "text": [
      "\n"
     ]
    }
   ],
   "source": [
    "results = evaluate_all_models(\n",
    "    models_dir=\"models\",\n",
    "    cache_file=\"model_eval_cache.json\",\n",
    "    dataset=dataset,\n",
    "    device=\"cuda\" if torch.cuda.is_available() else \"cpu\"\n",
    ")"
   ]
  },
  {
   "cell_type": "markdown",
   "id": "ce4a43d4",
   "metadata": {},
   "source": [
    "We can see that the perfromance is already quite good for the first very simple version, still, we want to try to further improve it."
   ]
  },
  {
   "cell_type": "markdown",
   "id": "2a2c45b0",
   "metadata": {},
   "source": [
    "#### *Diverse Versions of the Student Model*\n",
    "\n",
    "Before we do further exploration of the student with different attention heads or hidden layers, or even longer training, using more epochs, we will first inspect different distillation parameters:\n",
    "\n",
    "**temperature**: 1.0, 2.0, 5.0\n",
    "\n",
    "Higher = softer logits = more signal in probabilities.\n",
    "\n",
    "**alpha**: 0.2, 0.5, 0.8\n",
    "\n",
    "Give more weight to matching the teacher.\n",
    "\n",
    "We still include the initial setup, since we now only want to do it with one epoch, just to see which may be better parameters (so it is comparable). We are also using batch size 64 for faster evaluation."
   ]
  },
  {
   "cell_type": "code",
   "execution_count": 17,
   "id": "7f887bb6",
   "metadata": {},
   "outputs": [
    {
     "name": "stdout",
     "output_type": "stream",
     "text": [
      "\n",
      "Training student model with alpha=0.2, temperature=1.0\n"
     ]
    },
    {
     "name": "stderr",
     "output_type": "stream",
     "text": [
      "Some weights of DistilBertForSequenceClassification were not initialized from the model checkpoint at distilbert-base-uncased and are newly initialized: ['classifier.bias', 'classifier.weight', 'pre_classifier.bias', 'pre_classifier.weight']\n",
      "You should probably TRAIN this model on a down-stream task to be able to use it for predictions and inference.\n"
     ]
    },
    {
     "name": "stdout",
     "output_type": "stream",
     "text": [
      "Epoch 1 done for alpha=0.2, temperature=1.0 | Loss: 417.8267\n",
      "\n",
      "Training student model with alpha=0.2, temperature=2.0\n"
     ]
    },
    {
     "name": "stderr",
     "output_type": "stream",
     "text": [
      "Some weights of DistilBertForSequenceClassification were not initialized from the model checkpoint at distilbert-base-uncased and are newly initialized: ['classifier.bias', 'classifier.weight', 'pre_classifier.bias', 'pre_classifier.weight']\n",
      "You should probably TRAIN this model on a down-stream task to be able to use it for predictions and inference.\n"
     ]
    },
    {
     "name": "stdout",
     "output_type": "stream",
     "text": [
      "Epoch 1 done for alpha=0.2, temperature=2.0 | Loss: 678.6311\n",
      "\n",
      "Training student model with alpha=0.2, temperature=5.0\n"
     ]
    },
    {
     "name": "stderr",
     "output_type": "stream",
     "text": [
      "Some weights of DistilBertForSequenceClassification were not initialized from the model checkpoint at distilbert-base-uncased and are newly initialized: ['classifier.bias', 'classifier.weight', 'pre_classifier.bias', 'pre_classifier.weight']\n",
      "You should probably TRAIN this model on a down-stream task to be able to use it for predictions and inference.\n"
     ]
    },
    {
     "name": "stdout",
     "output_type": "stream",
     "text": [
      "Epoch 1 done for alpha=0.2, temperature=5.0 | Loss: 602.1761\n",
      "\n",
      "Training student model with alpha=0.5, temperature=1.0\n"
     ]
    },
    {
     "name": "stderr",
     "output_type": "stream",
     "text": [
      "Some weights of DistilBertForSequenceClassification were not initialized from the model checkpoint at distilbert-base-uncased and are newly initialized: ['classifier.bias', 'classifier.weight', 'pre_classifier.bias', 'pre_classifier.weight']\n",
      "You should probably TRAIN this model on a down-stream task to be able to use it for predictions and inference.\n"
     ]
    },
    {
     "name": "stdout",
     "output_type": "stream",
     "text": [
      "Epoch 1 done for alpha=0.5, temperature=1.0 | Loss: 487.7130\n",
      "\n",
      "Training student model with alpha=0.5, temperature=2.0\n"
     ]
    },
    {
     "name": "stderr",
     "output_type": "stream",
     "text": [
      "Some weights of DistilBertForSequenceClassification were not initialized from the model checkpoint at distilbert-base-uncased and are newly initialized: ['classifier.bias', 'classifier.weight', 'pre_classifier.bias', 'pre_classifier.weight']\n",
      "You should probably TRAIN this model on a down-stream task to be able to use it for predictions and inference.\n"
     ]
    },
    {
     "name": "stdout",
     "output_type": "stream",
     "text": [
      "Epoch 1 done for alpha=0.5, temperature=2.0 | Loss: 658.4089\n",
      "\n",
      "Training student model with alpha=0.5, temperature=5.0\n"
     ]
    },
    {
     "name": "stderr",
     "output_type": "stream",
     "text": [
      "Some weights of DistilBertForSequenceClassification were not initialized from the model checkpoint at distilbert-base-uncased and are newly initialized: ['classifier.bias', 'classifier.weight', 'pre_classifier.bias', 'pre_classifier.weight']\n",
      "You should probably TRAIN this model on a down-stream task to be able to use it for predictions and inference.\n"
     ]
    },
    {
     "name": "stdout",
     "output_type": "stream",
     "text": [
      "Epoch 1 done for alpha=0.5, temperature=5.0 | Loss: 619.1440\n",
      "\n",
      "Training student model with alpha=0.8, temperature=1.0\n"
     ]
    },
    {
     "name": "stderr",
     "output_type": "stream",
     "text": [
      "Some weights of DistilBertForSequenceClassification were not initialized from the model checkpoint at distilbert-base-uncased and are newly initialized: ['classifier.bias', 'classifier.weight', 'pre_classifier.bias', 'pre_classifier.weight']\n",
      "You should probably TRAIN this model on a down-stream task to be able to use it for predictions and inference.\n"
     ]
    },
    {
     "name": "stdout",
     "output_type": "stream",
     "text": [
      "Epoch 1 done for alpha=0.8, temperature=1.0 | Loss: 556.1922\n",
      "\n",
      "Training student model with alpha=0.8, temperature=2.0\n"
     ]
    },
    {
     "name": "stderr",
     "output_type": "stream",
     "text": [
      "Some weights of DistilBertForSequenceClassification were not initialized from the model checkpoint at distilbert-base-uncased and are newly initialized: ['classifier.bias', 'classifier.weight', 'pre_classifier.bias', 'pre_classifier.weight']\n",
      "You should probably TRAIN this model on a down-stream task to be able to use it for predictions and inference.\n"
     ]
    },
    {
     "name": "stdout",
     "output_type": "stream",
     "text": [
      "Epoch 1 done for alpha=0.8, temperature=2.0 | Loss: 631.4859\n",
      "\n",
      "Training student model with alpha=0.8, temperature=5.0\n"
     ]
    },
    {
     "name": "stderr",
     "output_type": "stream",
     "text": [
      "Some weights of DistilBertForSequenceClassification were not initialized from the model checkpoint at distilbert-base-uncased and are newly initialized: ['classifier.bias', 'classifier.weight', 'pre_classifier.bias', 'pre_classifier.weight']\n",
      "You should probably TRAIN this model on a down-stream task to be able to use it for predictions and inference.\n"
     ]
    },
    {
     "name": "stdout",
     "output_type": "stream",
     "text": [
      "Epoch 1 done for alpha=0.8, temperature=5.0 | Loss: 613.5604\n"
     ]
    }
   ],
   "source": [
    "train_loader = DataLoader(dataset[\"train\"], batch_size=64, shuffle=True)\n",
    "\n",
    "# Parameter grid\n",
    "alphas = [0.2, 0.5, 0.8]\n",
    "temperatures = [1.0, 2.0, 5.0]\n",
    "\n",
    "for alpha in alphas:\n",
    "    for temperature in temperatures:\n",
    "        print(f\"\\nTraining student model with alpha={alpha}, temperature={temperature}\")\n",
    "\n",
    "        # Fresh student model each time\n",
    "        student_model = DistilBertForSequenceClassification.from_pretrained(\n",
    "            \"distilbert-base-uncased\", num_labels=10\n",
    "        ).to(device)\n",
    "        optimizer = AdamW(student_model.parameters(), lr=5e-5)\n",
    "        student_model.train()\n",
    "\n",
    "        total_loss = 0\n",
    "\n",
    "        for batch in train_loader:\n",
    "            input_ids = batch[\"input_ids\"].to(device)\n",
    "            attention_mask = batch[\"attention_mask\"].to(device)\n",
    "            labels = batch[\"label\"].to(device)\n",
    "\n",
    "            with torch.no_grad():\n",
    "                teacher_logits = teacher_model(input_ids=input_ids, attention_mask=attention_mask).logits\n",
    "\n",
    "            student_logits = student_model(input_ids=input_ids, attention_mask=attention_mask).logits\n",
    "            loss = distillation_loss(student_logits, teacher_logits, labels, alpha=alpha, temperature=temperature)\n",
    "\n",
    "            loss.backward()\n",
    "            optimizer.step()\n",
    "            optimizer.zero_grad()\n",
    "\n",
    "            total_loss += loss.item()\n",
    "\n",
    "        print(f\"Epoch 1 done for alpha={alpha}, temperature={temperature} | Loss: {total_loss:.4f}\")\n",
    "\n",
    "        # Save model and tokenizer\n",
    "        save_path = f\"models/student_a{alpha}_t{temperature}/\"\n",
    "        os.makedirs(save_path, exist_ok=True)\n",
    "        student_model.save_pretrained(save_path)\n",
    "        student_tokenizer.save_pretrained(save_path)"
   ]
  },
  {
   "cell_type": "markdown",
   "id": "3c561f43",
   "metadata": {},
   "source": [
    "**Evaluate the Performance:**"
   ]
  },
  {
   "cell_type": "code",
   "execution_count": 18,
   "id": "49225223",
   "metadata": {},
   "outputs": [
    {
     "name": "stderr",
     "output_type": "stream",
     "text": [
      "  0%|          | 0/10 [00:00<?, ?it/s]"
     ]
    },
    {
     "name": "stdout",
     "output_type": "stream",
     "text": [
      "\n",
      "Evaluating student_a0.2_t1.0\n"
     ]
    },
    {
     "name": "stderr",
     "output_type": "stream",
     "text": [
      " 10%|█         | 1/10 [00:14<02:14, 14.99s/it]"
     ]
    },
    {
     "name": "stdout",
     "output_type": "stream",
     "text": [
      "Accuracy:  0.6670\n",
      "Precision: 0.6679\n",
      "Recall:    0.6626\n",
      "\n",
      "Evaluating student_a0.2_t2.0\n"
     ]
    },
    {
     "name": "stderr",
     "output_type": "stream",
     "text": [
      " 20%|██        | 2/10 [00:30<02:00, 15.01s/it]"
     ]
    },
    {
     "name": "stdout",
     "output_type": "stream",
     "text": [
      "Accuracy:  0.6651\n",
      "Precision: 0.6663\n",
      "Recall:    0.6623\n",
      "\n",
      "Evaluating student_a0.2_t5.0\n"
     ]
    },
    {
     "name": "stderr",
     "output_type": "stream",
     "text": [
      " 30%|███       | 3/10 [00:45<01:45, 15.02s/it]"
     ]
    },
    {
     "name": "stdout",
     "output_type": "stream",
     "text": [
      "Accuracy:  0.6665\n",
      "Precision: 0.6670\n",
      "Recall:    0.6634\n",
      "\n",
      "Evaluating student_a0.5_t1.0\n"
     ]
    },
    {
     "name": "stderr",
     "output_type": "stream",
     "text": [
      " 40%|████      | 4/10 [01:00<01:30, 15.03s/it]"
     ]
    },
    {
     "name": "stdout",
     "output_type": "stream",
     "text": [
      "Accuracy:  0.6651\n",
      "Precision: 0.6661\n",
      "Recall:    0.6614\n",
      "\n",
      "Evaluating student_a0.5_t2.0\n"
     ]
    },
    {
     "name": "stderr",
     "output_type": "stream",
     "text": [
      " 50%|█████     | 5/10 [01:15<01:15, 15.04s/it]"
     ]
    },
    {
     "name": "stdout",
     "output_type": "stream",
     "text": [
      "Accuracy:  0.6599\n",
      "Precision: 0.6679\n",
      "Recall:    0.6538\n",
      "\n",
      "Evaluating student_a0.5_t5.0\n"
     ]
    },
    {
     "name": "stderr",
     "output_type": "stream",
     "text": [
      " 60%|██████    | 6/10 [01:30<01:00, 15.05s/it]"
     ]
    },
    {
     "name": "stdout",
     "output_type": "stream",
     "text": [
      "Accuracy:  0.6651\n",
      "Precision: 0.6724\n",
      "Recall:    0.6625\n",
      "\n",
      "Evaluating student_a0.8_t1.0\n"
     ]
    },
    {
     "name": "stderr",
     "output_type": "stream",
     "text": [
      " 70%|███████   | 7/10 [01:45<00:45, 15.05s/it]"
     ]
    },
    {
     "name": "stdout",
     "output_type": "stream",
     "text": [
      "Accuracy:  0.6604\n",
      "Precision: 0.6618\n",
      "Recall:    0.6582\n",
      "\n",
      "Evaluating student_a0.8_t2.0\n"
     ]
    },
    {
     "name": "stderr",
     "output_type": "stream",
     "text": [
      " 80%|████████  | 8/10 [02:00<00:30, 15.05s/it]"
     ]
    },
    {
     "name": "stdout",
     "output_type": "stream",
     "text": [
      "Accuracy:  0.6581\n",
      "Precision: 0.6698\n",
      "Recall:    0.6516\n",
      "\n",
      "Evaluating student_a0.8_t5.0\n"
     ]
    },
    {
     "name": "stderr",
     "output_type": "stream",
     "text": [
      "100%|██████████| 10/10 [02:15<00:00, 13.54s/it]"
     ]
    },
    {
     "name": "stdout",
     "output_type": "stream",
     "text": [
      "Accuracy:  0.6659\n",
      "Precision: 0.6607\n",
      "Recall:    0.6637\n",
      "Using cached results for student_v1\n",
      "Accuracy: 0.8272\n",
      "Precision: 0.8281\n",
      "Recall: 0.8238\n"
     ]
    },
    {
     "name": "stderr",
     "output_type": "stream",
     "text": [
      "\n"
     ]
    }
   ],
   "source": [
    "results = evaluate_all_models(\n",
    "    models_dir=\"models\",\n",
    "    cache_file=\"model_eval_cache.json\",\n",
    "    dataset=dataset,\n",
    "    device=device\n",
    ")"
   ]
  },
  {
   "cell_type": "markdown",
   "id": "fcacec32",
   "metadata": {},
   "source": [
    "From this we can see that the combination of alpha = 0.2 and temperature = 1.0 yielded the best results in terms of overall performance. It achieved the lowest training loss (417.83) and the highest evaluation accuracy (66.70%), along with strong precision and recall values. This means that our student model benefitted most from a stronger emphasis on the teacher's predictions (1 - alpha = 0.8) and sharper (less softened) output distributions from the teacher (temperature = 1.0).\n",
    "\n",
    "When increasing the temperature to 2.0 or 5.0, we observe higher training loss and slightly lower accuracy across all alpha values. This suggests that over-smoothing the teacher's output distribution (via higher temperatures) made the learning signal less precise, especially for a student trained on only one epoch and a limited dataset.\n",
    "\n",
    "Similarly, increasing alpha, which shifts the loss more toward the ground truth labels, did not yield better performance. For example, with alpha = 0.8, the models performed consistently worse across all temperatures. This indicates that the teacher’s knowledge was more informative than the sparse ground truth in this few-shot setting, and leveraging that knowledge more (via a lower alpha) was beneficial.\n",
    "\n",
    "So this tells us that for fast, low-resource distillation, it's best to rely more on the teacher predictions (meaning low alpha), and also to keep the teacher outputs sharp (low temperature), and limit over-smoothing and underfitting by avoiding overly softened distributions or too much reliance on hard labels.\n",
    "\n",
    "For all future experiments, we therefore fix the distillation parameters to **alpha = 0.2 and temperature = 1.0**.\n",
    "\n",
    "Note that of course we see that with the smaller batch size we had better perfromance, but now for tuning paprameters, we will stick with 64, and then later reduce it for the model with the best parameters again to 32 and then train it with more epochs."
   ]
  },
  {
   "cell_type": "markdown",
   "id": "3309ec05",
   "metadata": {},
   "source": [
    "#### *Different Hidden Layer and Dimension Versions of a Non-Student Model*\n",
    "\n",
    "Now,  we evaluate variants of the student model without using pretrained weights, since we are deviating from the default DistilBERT architecture (i.e., number of layers and hidden size). These models are initialized from scratch and trained using only the supervision provided by the teacher through distillation.\n",
    "\n",
    "Full BERT consists of 12 layers, while DistilBERT reduces this to 6 layers. Here, we experiment with 4 layers, to further reduce inference cost, and 8 layers, which increases capacity and may enable the student to better approximate the teacher’s behavior during distillation, despite not starting from pretrained knowledge.\n",
    "\n",
    "\n",
    "In addition to the number of layers, we vary the hidden dimension, which determines the size of the embeddings and the hidden states within each transformer block. DistilBERT uses a hidden size of 768 by default. We test 768, the standard width, and 384, a smaller variant that significantly reduces the number of parameters and computational cost.\n",
    "\n",
    "We are also testing for different hidden dimensions. The hidden dimension defines the size of the embeddings and hidden states within each transformer block. DistilBERT uses a hidden size of 768 by default. We test the following two configurations: 768 (standard width), and 384, a smaller variant that significantly reduces the number of parameters and compute.\n",
    "\n",
    "\n",
    "For each configuration the feedforward (intermediate) dimension is set to four times the hidden size and the number of attention heads is chosen to ensure hidden_size % num_heads = 0.\n",
    "\n",
    "This setup allows us to explore how well different randomly initialized architectures can learn from a strong teacher via distillation, and how size impacts performance when not relying on pretrained knowledge.\n",
    "\n",
    "Best parameters from previous distillation sweep:"
   ]
  },
  {
   "cell_type": "code",
   "execution_count": null,
   "id": "1e2ee4b3",
   "metadata": {},
   "outputs": [],
   "source": [
    "alpha = 0.2\n",
    "temperature = 1.0"
   ]
  },
  {
   "cell_type": "markdown",
   "id": "338c9c4f",
   "metadata": {},
   "source": [
    "Training with this new hidden layer and dimensions configurations:"
   ]
  },
  {
   "cell_type": "code",
   "execution_count": 20,
   "id": "57eb9759",
   "metadata": {},
   "outputs": [
    {
     "name": "stdout",
     "output_type": "stream",
     "text": [
      "\n",
      "Training student with 4 layers and dim=384\n",
      "Epoch 1 complete | Layers: 4, Dim: 384 | Loss: 861.1549\n",
      "\n",
      "Training student with 4 layers and dim=768\n",
      "Epoch 1 complete | Layers: 4, Dim: 768 | Loss: 781.6780\n",
      "\n",
      "Training student with 6 layers and dim=384\n",
      "Epoch 1 complete | Layers: 6, Dim: 384 | Loss: 856.0326\n",
      "\n",
      "Training student with 6 layers and dim=768\n",
      "Epoch 1 complete | Layers: 6, Dim: 768 | Loss: 792.1129\n",
      "\n",
      "Training student with 8 layers and dim=384\n",
      "Epoch 1 complete | Layers: 8, Dim: 384 | Loss: 846.5542\n",
      "\n",
      "Training student with 8 layers and dim=768\n",
      "Epoch 1 complete | Layers: 8, Dim: 768 | Loss: 796.0934\n"
     ]
    }
   ],
   "source": [
    "hidden_layer_options = [4, 6, 8]\n",
    "hidden_dim_options = [384, 768]\n",
    "\n",
    "for num_layers in hidden_layer_options:\n",
    "    for dim in hidden_dim_options:\n",
    "        print(f\"\\nTraining student with {num_layers} layers and dim={dim}\")\n",
    "\n",
    "        # Defining the model configuration:\n",
    "        config = DistilBertConfig(\n",
    "            num_labels=10,\n",
    "            n_layers=num_layers,\n",
    "            dim=dim, # embedding and hidden state size\n",
    "            hidden_dim=dim * 4,# feedforward size (standard)\n",
    "            n_heads=dim // 64, # ensure heads divide dim (e.g., 6 for dim=384)\n",
    "        )\n",
    "        student_model = DistilBertForSequenceClassification(config).to(device)\n",
    "        optimizer = AdamW(student_model.parameters(), lr=5e-5)\n",
    "        student_model.train()\n",
    "\n",
    "        total_loss = 0\n",
    "\n",
    "        for batch in train_loader:\n",
    "            input_ids = batch[\"input_ids\"].to(device)\n",
    "            attention_mask = batch[\"attention_mask\"].to(device)\n",
    "            labels = batch[\"label\"].to(device)\n",
    "\n",
    "            with torch.no_grad():\n",
    "                teacher_logits = teacher_model(input_ids=input_ids, attention_mask=attention_mask).logits\n",
    "\n",
    "            student_logits = student_model(input_ids=input_ids, attention_mask=attention_mask).logits\n",
    "            loss = distillation_loss(student_logits, teacher_logits, labels, alpha=alpha, temperature=temperature)\n",
    "\n",
    "            loss.backward()\n",
    "            optimizer.step()\n",
    "            optimizer.zero_grad()\n",
    "\n",
    "            total_loss += loss.item()\n",
    "\n",
    "        print(f\"Epoch 1 complete | Layers: {num_layers}, Dim: {dim} | Loss: {total_loss:.4f}\")\n",
    "\n",
    "        # Save model\n",
    "        save_path = f\"models/student_l{num_layers}_d{dim}_a{alpha}_t{temperature}/\"\n",
    "        os.makedirs(save_path, exist_ok=True)\n",
    "        student_model.save_pretrained(save_path)\n",
    "        student_tokenizer.save_pretrained(save_path)"
   ]
  },
  {
   "cell_type": "markdown",
   "id": "3fb579e8",
   "metadata": {},
   "source": [
    "**Evaluate the Performance:**"
   ]
  },
  {
   "cell_type": "code",
   "execution_count": 21,
   "id": "2bcb6706",
   "metadata": {},
   "outputs": [
    {
     "name": "stderr",
     "output_type": "stream",
     "text": [
      "  0%|          | 0/16 [00:00<?, ?it/s]"
     ]
    },
    {
     "name": "stdout",
     "output_type": "stream",
     "text": [
      "Using cached results for student_a0.2_t1.0\n",
      "Accuracy: 0.6670\n",
      "Precision: 0.6679\n",
      "Recall: 0.6626\n",
      "Using cached results for student_a0.2_t2.0\n",
      "Accuracy: 0.6651\n",
      "Precision: 0.6663\n",
      "Recall: 0.6623\n",
      "Using cached results for student_a0.2_t5.0\n",
      "Accuracy: 0.6665\n",
      "Precision: 0.6670\n",
      "Recall: 0.6634\n",
      "Using cached results for student_a0.5_t1.0\n",
      "Accuracy: 0.6651\n",
      "Precision: 0.6661\n",
      "Recall: 0.6614\n",
      "Using cached results for student_a0.5_t2.0\n",
      "Accuracy: 0.6599\n",
      "Precision: 0.6679\n",
      "Recall: 0.6538\n",
      "Using cached results for student_a0.5_t5.0\n",
      "Accuracy: 0.6651\n",
      "Precision: 0.6724\n",
      "Recall: 0.6625\n",
      "Using cached results for student_a0.8_t1.0\n",
      "Accuracy: 0.6604\n",
      "Precision: 0.6618\n",
      "Recall: 0.6582\n",
      "Using cached results for student_a0.8_t2.0\n",
      "Accuracy: 0.6581\n",
      "Precision: 0.6698\n",
      "Recall: 0.6516\n",
      "Using cached results for student_a0.8_t5.0\n",
      "Accuracy: 0.6659\n",
      "Precision: 0.6607\n",
      "Recall: 0.6637\n",
      "\n",
      "Evaluating student_l4_d384_a0.2_t1.0\n"
     ]
    },
    {
     "name": "stderr",
     "output_type": "stream",
     "text": [
      " 62%|██████▎   | 10/16 [00:03<00:01,  3.27it/s]"
     ]
    },
    {
     "name": "stdout",
     "output_type": "stream",
     "text": [
      "Accuracy:  0.4001\n",
      "Precision: 0.3538\n",
      "Recall:    0.3860\n",
      "\n",
      "Evaluating student_l4_d768_a0.2_t1.0\n"
     ]
    },
    {
     "name": "stderr",
     "output_type": "stream",
     "text": [
      " 69%|██████▉   | 11/16 [00:13<00:07,  1.54s/it]"
     ]
    },
    {
     "name": "stdout",
     "output_type": "stream",
     "text": [
      "Accuracy:  0.4884\n",
      "Precision: 0.4933\n",
      "Recall:    0.4779\n",
      "\n",
      "Evaluating student_l6_d384_a0.2_t1.0\n"
     ]
    },
    {
     "name": "stderr",
     "output_type": "stream",
     "text": [
      " 75%|███████▌  | 12/16 [00:17<00:07,  1.99s/it]"
     ]
    },
    {
     "name": "stdout",
     "output_type": "stream",
     "text": [
      "Accuracy:  0.3715\n",
      "Precision: 0.3625\n",
      "Recall:    0.3626\n",
      "\n",
      "Evaluating student_l6_d768_a0.2_t1.0\n"
     ]
    },
    {
     "name": "stderr",
     "output_type": "stream",
     "text": [
      " 81%|████████▏ | 13/16 [00:32<00:12,  4.33s/it]"
     ]
    },
    {
     "name": "stdout",
     "output_type": "stream",
     "text": [
      "Accuracy:  0.4841\n",
      "Precision: 0.4862\n",
      "Recall:    0.4766\n",
      "\n",
      "Evaluating student_l8_d384_a0.2_t1.0\n"
     ]
    },
    {
     "name": "stderr",
     "output_type": "stream",
     "text": [
      " 88%|████████▊ | 14/16 [00:38<00:09,  4.65s/it]"
     ]
    },
    {
     "name": "stdout",
     "output_type": "stream",
     "text": [
      "Accuracy:  0.3802\n",
      "Precision: 0.3601\n",
      "Recall:    0.3719\n",
      "\n",
      "Evaluating student_l8_d768_a0.2_t1.0\n"
     ]
    },
    {
     "name": "stderr",
     "output_type": "stream",
     "text": [
      "100%|██████████| 16/16 [00:58<00:00,  3.68s/it]"
     ]
    },
    {
     "name": "stdout",
     "output_type": "stream",
     "text": [
      "Accuracy:  0.4630\n",
      "Precision: 0.5029\n",
      "Recall:    0.4505\n",
      "Using cached results for student_v1\n",
      "Accuracy: 0.8272\n",
      "Precision: 0.8281\n",
      "Recall: 0.8238\n"
     ]
    },
    {
     "name": "stderr",
     "output_type": "stream",
     "text": [
      "\n"
     ]
    }
   ],
   "source": [
    "results = evaluate_all_models(\n",
    "    models_dir=\"models\",\n",
    "    cache_file=\"model_eval_cache.json\",\n",
    "    dataset=dataset,\n",
    "    device=device\n",
    ")"
   ]
  },
  {
   "cell_type": "markdown",
   "id": "242bd747",
   "metadata": {},
   "source": [
    "From these results, we can clearly observe a substantial performance difference between student models initialized with pretrained weights and those trained from scratch.\n",
    "\n",
    "The first block (students labeled with student_a...) shows results from models that retain the standard DistilBERT architecture (6 layers, 768 hidden dim) and are initialized with pretrained weights. These models reach an accuracy around 66.5%-66.7%, indicating that the knowledge distilled from the teacher is effectively guiding the student. The performance remains quite stable across different values of alpha and temperature, showing robustness of the distillation setup when using a well-initialized student.\n",
    "\n",
    "In contrast, the second block (students labeled student_l...) shows models with custom architectures (4/6/8 layers, 384/768 hidden size) that were initialized from scratch. These models perform significantly worse, with accuracies ranging from 37% to 49%. Even the largest variant tested (l4_d768 or l6_d768) fails to reach the baseline set by the pretrained student models. The worst performing variants (e.g., l6_d384, l8_d384) show that simply adding layers or reducing hidden size, without the benefit of pretrained weights, leads to unstable and ineffective training under distillation.\n",
    "\n",
    "This highlights the importance of pretrained initialization, especially when using relatively shallow students. While training from scratch may offer flexibility in architectural choices, it also makes optimization much harder, especially in low-data or one-epoch distillation settings like this.\n",
    "\n",
    "As we had expected, pretrained student models with default architecture perform significantly better under distillation. The custom student models trained from scratch suffer from poor accuracy and cannot leverage the teacher’s knowledge effectively.\n",
    "\n",
    "However, if architectural changes are desired (e.g., fewer layers or smaller dimensions), it may be crucial to pretrain these models first (e.g., via masked language modeling) before distillation!"
   ]
  },
  {
   "cell_type": "markdown",
   "id": "7c302bc1",
   "metadata": {},
   "source": [
    "#### *Different Learning Rate Versions of the Student Model*\n",
    "\n",
    "Next, we investigate how varying the learning rate impacts the performance of the student model. The learning rate controls how much the model updates its weights during training and is often one of the most sensitive hyperparameters in optimization.\n",
    "\n",
    "Previously, we fixed the learning rate at `5e-5`. While this is commonly used for BERT-like models, smaller student architectures may benefit from **slightly larger** learning rates to compensate for reduced capacity and encourage faster adaptation.\n",
    "\n",
    "We evaluate the following learning rates:\n",
    "\n",
    "- **3e-5**: A conservative value often used for full fine-tuning with large models.\n",
    "- **5e-5**: The baseline used in all previous experiments.\n",
    "- **1e-4**: A more aggressive value that can help smaller models converge faster, especially during short (1-epoch) training.\n",
    "\n",
    "Each student model uses the best distillation parameters (`alpha = 0.2`, `temperature = 1.0`) and is trained for one epoch, as before. We fix the architecture using the default number of layers and dimensions so we can use the pretrained weights."
   ]
  },
  {
   "cell_type": "code",
   "execution_count": 23,
   "id": "c7adefcd",
   "metadata": {},
   "outputs": [
    {
     "name": "stdout",
     "output_type": "stream",
     "text": [
      "\n",
      "Training student with lr=3e-05\n"
     ]
    },
    {
     "name": "stderr",
     "output_type": "stream",
     "text": [
      "Some weights of DistilBertForSequenceClassification were not initialized from the model checkpoint at distilbert-base-uncased and are newly initialized: ['classifier.bias', 'classifier.weight', 'pre_classifier.bias', 'pre_classifier.weight']\n",
      "You should probably TRAIN this model on a down-stream task to be able to use it for predictions and inference.\n"
     ]
    },
    {
     "name": "stdout",
     "output_type": "stream",
     "text": [
      "Epoch 1 complete | LR: 3e-05 | Loss: 432.5083\n",
      "\n",
      "Training student with lr=5e-05\n"
     ]
    },
    {
     "name": "stderr",
     "output_type": "stream",
     "text": [
      "Some weights of DistilBertForSequenceClassification were not initialized from the model checkpoint at distilbert-base-uncased and are newly initialized: ['classifier.bias', 'classifier.weight', 'pre_classifier.bias', 'pre_classifier.weight']\n",
      "You should probably TRAIN this model on a down-stream task to be able to use it for predictions and inference.\n"
     ]
    },
    {
     "name": "stdout",
     "output_type": "stream",
     "text": [
      "Epoch 1 complete | LR: 5e-05 | Loss: 420.8752\n",
      "\n",
      "Training student with lr=0.0001\n"
     ]
    },
    {
     "name": "stderr",
     "output_type": "stream",
     "text": [
      "Some weights of DistilBertForSequenceClassification were not initialized from the model checkpoint at distilbert-base-uncased and are newly initialized: ['classifier.bias', 'classifier.weight', 'pre_classifier.bias', 'pre_classifier.weight']\n",
      "You should probably TRAIN this model on a down-stream task to be able to use it for predictions and inference.\n"
     ]
    },
    {
     "name": "stdout",
     "output_type": "stream",
     "text": [
      "Epoch 1 complete | LR: 1e-04 | Loss: 409.9021\n"
     ]
    }
   ],
   "source": [
    "# Learning rates to evaluate\n",
    "learning_rates = [3e-5, 5e-5, 1e-4]\n",
    "\n",
    "# Best distillation params\n",
    "alpha = 0.2\n",
    "temperature = 1.0\n",
    "\n",
    "for lr in learning_rates:\n",
    "    print(f\"\\nTraining student with lr={lr}\")\n",
    "\n",
    "    # Load pretrained DistilBERT with classification head\n",
    "    student_model = DistilBertForSequenceClassification.from_pretrained(\n",
    "        \"distilbert-base-uncased\", num_labels=10\n",
    "    ).to(device)\n",
    "\n",
    "    optimizer = AdamW(student_model.parameters(), lr=lr)\n",
    "    student_model.train()\n",
    "\n",
    "    total_loss = 0\n",
    "\n",
    "    for batch in train_loader:\n",
    "        input_ids = batch[\"input_ids\"].to(device)\n",
    "        attention_mask = batch[\"attention_mask\"].to(device)\n",
    "        labels = batch[\"label\"].to(device)\n",
    "\n",
    "        with torch.no_grad():\n",
    "            teacher_logits = teacher_model(input_ids=input_ids, attention_mask=attention_mask).logits\n",
    "\n",
    "        student_logits = student_model(input_ids=input_ids, attention_mask=attention_mask).logits\n",
    "        loss = distillation_loss(student_logits, teacher_logits, labels, alpha=alpha, temperature=temperature)\n",
    "\n",
    "        loss.backward()\n",
    "        optimizer.step()\n",
    "        optimizer.zero_grad()\n",
    "\n",
    "        total_loss += loss.item()\n",
    "\n",
    "    print(f\"Epoch 1 complete | LR: {lr:.0e} | Loss: {total_loss:.4f}\")\n",
    "\n",
    "    # Save the model\n",
    "    save_path = f\"models/student_pretrained_lr{lr:.0e}_a{alpha}_t{temperature}/\"\n",
    "    os.makedirs(save_path, exist_ok=True)\n",
    "    student_model.save_pretrained(save_path)\n",
    "    student_tokenizer.save_pretrained(save_path)"
   ]
  },
  {
   "cell_type": "markdown",
   "id": "166e8d3e",
   "metadata": {},
   "source": [
    "**Evaluate the Performance:**"
   ]
  },
  {
   "cell_type": "code",
   "execution_count": 24,
   "id": "3599c9c0",
   "metadata": {},
   "outputs": [
    {
     "name": "stderr",
     "output_type": "stream",
     "text": [
      "  0%|          | 0/19 [00:00<?, ?it/s]"
     ]
    },
    {
     "name": "stdout",
     "output_type": "stream",
     "text": [
      "Using cached results for student_a0.2_t1.0\n",
      "Accuracy: 0.6670\n",
      "Precision: 0.6679\n",
      "Recall: 0.6626\n",
      "Using cached results for student_a0.2_t2.0\n",
      "Accuracy: 0.6651\n",
      "Precision: 0.6663\n",
      "Recall: 0.6623\n",
      "Using cached results for student_a0.2_t5.0\n",
      "Accuracy: 0.6665\n",
      "Precision: 0.6670\n",
      "Recall: 0.6634\n",
      "Using cached results for student_a0.5_t1.0\n",
      "Accuracy: 0.6651\n",
      "Precision: 0.6661\n",
      "Recall: 0.6614\n",
      "Using cached results for student_a0.5_t2.0\n",
      "Accuracy: 0.6599\n",
      "Precision: 0.6679\n",
      "Recall: 0.6538\n",
      "Using cached results for student_a0.5_t5.0\n",
      "Accuracy: 0.6651\n",
      "Precision: 0.6724\n",
      "Recall: 0.6625\n",
      "Using cached results for student_a0.8_t1.0\n",
      "Accuracy: 0.6604\n",
      "Precision: 0.6618\n",
      "Recall: 0.6582\n",
      "Using cached results for student_a0.8_t2.0\n",
      "Accuracy: 0.6581\n",
      "Precision: 0.6698\n",
      "Recall: 0.6516\n",
      "Using cached results for student_a0.8_t5.0\n",
      "Accuracy: 0.6659\n",
      "Precision: 0.6607\n",
      "Recall: 0.6637\n",
      "Using cached results for student_l4_d384_a0.2_t1.0\n",
      "Accuracy: 0.4001\n",
      "Precision: 0.3538\n",
      "Recall: 0.3860\n",
      "Using cached results for student_l4_d768_a0.2_t1.0\n",
      "Accuracy: 0.4884\n",
      "Precision: 0.4933\n",
      "Recall: 0.4779\n",
      "Using cached results for student_l6_d384_a0.2_t1.0\n",
      "Accuracy: 0.3715\n",
      "Precision: 0.3625\n",
      "Recall: 0.3626\n",
      "Using cached results for student_l6_d768_a0.2_t1.0\n",
      "Accuracy: 0.4841\n",
      "Precision: 0.4862\n",
      "Recall: 0.4766\n",
      "Using cached results for student_l8_d384_a0.2_t1.0\n",
      "Accuracy: 0.3802\n",
      "Precision: 0.3601\n",
      "Recall: 0.3719\n",
      "Using cached results for student_l8_d768_a0.2_t1.0\n",
      "Accuracy: 0.4630\n",
      "Precision: 0.5029\n",
      "Recall: 0.4505\n",
      "\n",
      "Evaluating student_pretrained_lr1e-04_a0.2_t1.0\n"
     ]
    },
    {
     "name": "stderr",
     "output_type": "stream",
     "text": [
      " 84%|████████▍ | 16/19 [00:15<00:02,  1.06it/s]"
     ]
    },
    {
     "name": "stdout",
     "output_type": "stream",
     "text": [
      "Accuracy:  0.6609\n",
      "Precision: 0.6671\n",
      "Recall:    0.6575\n",
      "\n",
      "Evaluating student_pretrained_lr3e-05_a0.2_t1.0\n"
     ]
    },
    {
     "name": "stderr",
     "output_type": "stream",
     "text": [
      " 89%|████████▉ | 17/19 [00:30<00:04,  2.10s/it]"
     ]
    },
    {
     "name": "stdout",
     "output_type": "stream",
     "text": [
      "Accuracy:  0.6636\n",
      "Precision: 0.6643\n",
      "Recall:    0.6594\n",
      "\n",
      "Evaluating student_pretrained_lr5e-05_a0.2_t1.0\n"
     ]
    },
    {
     "name": "stderr",
     "output_type": "stream",
     "text": [
      "100%|██████████| 19/19 [00:45<00:00,  2.38s/it]"
     ]
    },
    {
     "name": "stdout",
     "output_type": "stream",
     "text": [
      "Accuracy:  0.6588\n",
      "Precision: 0.6591\n",
      "Recall:    0.6538\n",
      "Using cached results for student_v1\n",
      "Accuracy: 0.8272\n",
      "Precision: 0.8281\n",
      "Recall: 0.8238\n"
     ]
    },
    {
     "name": "stderr",
     "output_type": "stream",
     "text": [
      "\n"
     ]
    }
   ],
   "source": [
    "results = evaluate_all_models(\n",
    "    models_dir=\"models\",\n",
    "    cache_file=\"model_eval_cache.json\",\n",
    "    dataset=dataset,\n",
    "    device=device\n",
    ")"
   ]
  },
  {
   "cell_type": "markdown",
   "id": "86d17e64",
   "metadata": {},
   "source": [
    "From this we can see that varying the learning rate has a noticeable effect on both the training loss and the final evaluation metrics, even when using the same pretrained DistilBERT architecture and fixed distillation parameters (alpha = 0.2, temp. = 1.0).\n",
    "\n",
    "Based on the training loss after one epoch we can see that it steadily decreases as the learning rate increases, this suggests that higher learning rates help the student model converge faster, likely because the pretrained base allows for more aggressive updates without diverging.\n",
    "\n",
    "The evaluation performance, however, does not strictly follow the same trend. In terms of accuracy, the 3e-5 was the the best performing configuration. \n",
    "\n",
    "From this we can conclude that while 1e-4 led to the lowest training loss, it did not generalize as well as the more conservative 3e-5. This confirms that lower learning rates tend to stabilize training and improve generalization, especially when only training for a single epoch. At the same time, the differences are relatively small, and all three configurations outperformed the student models trained from scratch."
   ]
  },
  {
   "cell_type": "markdown",
   "id": "ca16757e",
   "metadata": {},
   "source": [
    "#### *Intermediate Layer Distillation Version of the Student Model*\n",
    "\n",
    "Next, we extend the standard knowledge distillation setup by adding **intermediate layer distillation**, inspired by the TinyBERT framework.\n",
    "\n",
    "Instead of only matching the teacher and student logits at the output layer, we now also align the **hidden states** from intermediate transformer layers. This approach enables the student to learn internal representations that are more closely aligned with the teacher, potentially improving generalization and convergence.\n",
    "\n",
    "We use the pretrained `distilbert-base-uncased` student model and freeze the teacher. We extract hidden states from both models and define a **combined distillation loss** that includes:\n",
    "\n",
    "- **Soft target loss**: KL divergence between teacher and student logits (as before)\n",
    "- **Intermediate hidden loss**: Mean squared error between selected hidden layers\n",
    "\n",
    "We know that the student has fewer layers than the teacher (6), and map corresponding layers using a simple linear strategy (student layers match every 2nd layer of the 12-layer BERT teacher).\n",
    "Again, if we change the number of layers here, we break the mapping that every second layer of the DistilBERT nicely aligns with the teacher (BERT).\n",
    "\n",
    "\n",
    "\n",
    "We normalize the intermediate loss by the number of matched layers. Doing that ensures that the scale of the intermediate loss stays roughly independent of the number of matched layers, but it also leads to that the contribution of intermediate supervision is consistent and interpretable. Another point why we do it here, which may be most important is that we can re-use the same loss weight across experiments without needing to adjust for each model depth.\n",
    "\n",
    "The following function *combines soft label distillation with intermediate hidden state loss (somewhat like TinyBERT-style):*"
   ]
  },
  {
   "cell_type": "code",
   "execution_count": 25,
   "id": "0df51c53",
   "metadata": {},
   "outputs": [],
   "source": [
    "def intermediate_distillation_loss(student_outputs, teacher_outputs, student_logits, teacher_logits, labels, alpha, temperature):\n",
    "    # Soft target loss (as before)\n",
    "    soft_loss = F.kl_div(\n",
    "        F.log_softmax(student_logits / temperature, dim=-1),\n",
    "        F.softmax(teacher_logits / temperature, dim=-1),\n",
    "        reduction=\"batchmean\"\n",
    "    ) * (temperature ** 2)\n",
    "\n",
    "    # Supervised loss\n",
    "    hard_loss = F.cross_entropy(student_logits, labels)\n",
    "\n",
    "    # Intermediate loss between selected hidden states\n",
    "    student_hidden = student_outputs.hidden_states  # tuple of tensors\n",
    "    teacher_hidden = teacher_outputs.hidden_states\n",
    "\n",
    "    # Match layer i of student to layer 2i of teacher\n",
    "    inter_loss = 0.0\n",
    "    for i in range(len(student_hidden)):\n",
    "        inter_loss += F.mse_loss(student_hidden[i], teacher_hidden[2 * i])\n",
    "    inter_loss /= len(student_hidden)  # normalize\n",
    "\n",
    "    # Combine all\n",
    "    return alpha * soft_loss + (1 - alpha) * hard_loss + 0.1 * inter_loss"
   ]
  },
  {
   "cell_type": "markdown",
   "id": "ea997a77",
   "metadata": {},
   "source": [
    "**Training:**\n",
    "\n",
    "Since the intermediate distillation version we want to do builds on top of that same loss framework as the DistilBERT, we keep the alpha and temperature fixed, i.e., the best values that we found. \n",
    "\n",
    "However, the learning-rates should be re-evaluated since adding intermediate-layer distillation introduces new gradients and loss components (from hidden states) which changes the optimization, so there are more layers that may contribute to the total loss, the scale of the loss may increase and learning dznamics may increase.\n",
    "\n",
    "Thus, we again evaluate which is the best learning rate from the same set as before.\n",
    "\n",
    "The teacher stays frozen during training."
   ]
  },
  {
   "cell_type": "code",
   "execution_count": 26,
   "id": "c403408e",
   "metadata": {},
   "outputs": [
    {
     "name": "stdout",
     "output_type": "stream",
     "text": [
      "\n",
      "Training student with lr=3e-05\n"
     ]
    },
    {
     "name": "stderr",
     "output_type": "stream",
     "text": [
      "Some weights of DistilBertForSequenceClassification were not initialized from the model checkpoint at distilbert-base-uncased and are newly initialized: ['classifier.bias', 'classifier.weight', 'pre_classifier.bias', 'pre_classifier.weight']\n",
      "You should probably TRAIN this model on a down-stream task to be able to use it for predictions and inference.\n"
     ]
    },
    {
     "name": "stdout",
     "output_type": "stream",
     "text": [
      "Epoch 1 complete | LR: 3e-05 | Loss: 586.3482\n",
      "\n",
      "Training student with lr=5e-05\n"
     ]
    },
    {
     "name": "stderr",
     "output_type": "stream",
     "text": [
      "Some weights of DistilBertForSequenceClassification were not initialized from the model checkpoint at distilbert-base-uncased and are newly initialized: ['classifier.bias', 'classifier.weight', 'pre_classifier.bias', 'pre_classifier.weight']\n",
      "You should probably TRAIN this model on a down-stream task to be able to use it for predictions and inference.\n"
     ]
    },
    {
     "name": "stdout",
     "output_type": "stream",
     "text": [
      "Epoch 1 complete | LR: 5e-05 | Loss: 569.2524\n",
      "\n",
      "Training student with lr=0.0001\n"
     ]
    },
    {
     "name": "stderr",
     "output_type": "stream",
     "text": [
      "Some weights of DistilBertForSequenceClassification were not initialized from the model checkpoint at distilbert-base-uncased and are newly initialized: ['classifier.bias', 'classifier.weight', 'pre_classifier.bias', 'pre_classifier.weight']\n",
      "You should probably TRAIN this model on a down-stream task to be able to use it for predictions and inference.\n"
     ]
    },
    {
     "name": "stdout",
     "output_type": "stream",
     "text": [
      "Epoch 1 complete | LR: 1e-04 | Loss: 560.4650\n"
     ]
    }
   ],
   "source": [
    "# Teacher model outputs hidden states:\n",
    "teacher_model.config.output_hidden_states = True\n",
    "\n",
    "# Training params:\n",
    "learning_rates = [3e-5, 5e-5, 1e-4]\n",
    "alpha = 0.2\n",
    "temperature = 1.0\n",
    "\n",
    "for lr in learning_rates:\n",
    "    print(f\"\\nTraining student with lr={lr}\")\n",
    "\n",
    "    # Load pretrained DistilBERT with classification head and hidden states:\n",
    "    student_model = DistilBertForSequenceClassification.from_pretrained(\n",
    "        \"distilbert-base-uncased\", num_labels=10,\n",
    "        output_hidden_states=True\n",
    "    ).to(device)\n",
    "\n",
    "    optimizer = AdamW(student_model.parameters(), lr=lr)\n",
    "    student_model.train()\n",
    "    teacher_model.eval()  # Teacher stays frozen\n",
    "\n",
    "    total_loss = 0\n",
    "\n",
    "    for batch in train_loader:\n",
    "        input_ids = batch[\"input_ids\"].to(device)\n",
    "        attention_mask = batch[\"attention_mask\"].to(device)\n",
    "        labels = batch[\"label\"].to(device)\n",
    "\n",
    "        # Get teacher outputs with hidden states\n",
    "        with torch.no_grad():\n",
    "            teacher_outputs = teacher_model(input_ids=input_ids, attention_mask=attention_mask)\n",
    "            teacher_logits = teacher_outputs.logits\n",
    "\n",
    "        # Get student outputs with hidden states:\n",
    "        student_outputs = student_model(input_ids=input_ids, attention_mask=attention_mask)\n",
    "        student_logits = student_outputs.logits\n",
    "\n",
    "        # Our combined loss:\n",
    "        loss = intermediate_distillation_loss(\n",
    "            student_outputs, teacher_outputs,\n",
    "            student_logits, teacher_logits,\n",
    "            labels, alpha, temperature\n",
    "        )\n",
    "\n",
    "        loss.backward()\n",
    "        optimizer.step()\n",
    "        optimizer.zero_grad()\n",
    "\n",
    "        total_loss += loss.item()\n",
    "\n",
    "    print(f\"Epoch 1 complete | LR: {lr:.0e} | Loss: {total_loss:.4f}\")\n",
    "\n",
    "    # Save the model:\n",
    "    save_path = f\"models/student_intermediate_lr{lr:.0e}_a{alpha}_t{temperature}/\"\n",
    "    os.makedirs(save_path, exist_ok=True)\n",
    "    student_model.save_pretrained(save_path)\n",
    "    student_tokenizer.save_pretrained(save_path)"
   ]
  },
  {
   "cell_type": "markdown",
   "id": "e6c91bc9",
   "metadata": {},
   "source": [
    "**Evaluate the Performance:**"
   ]
  },
  {
   "cell_type": "code",
   "execution_count": 27,
   "id": "48750c8c",
   "metadata": {},
   "outputs": [
    {
     "name": "stderr",
     "output_type": "stream",
     "text": [
      "  0%|          | 0/22 [00:00<?, ?it/s]"
     ]
    },
    {
     "name": "stdout",
     "output_type": "stream",
     "text": [
      "Using cached results for student_a0.2_t1.0\n",
      "Accuracy: 0.6670\n",
      "Precision: 0.6679\n",
      "Recall: 0.6626\n",
      "Using cached results for student_a0.2_t2.0\n",
      "Accuracy: 0.6651\n",
      "Precision: 0.6663\n",
      "Recall: 0.6623\n",
      "Using cached results for student_a0.2_t5.0\n",
      "Accuracy: 0.6665\n",
      "Precision: 0.6670\n",
      "Recall: 0.6634\n",
      "Using cached results for student_a0.5_t1.0\n",
      "Accuracy: 0.6651\n",
      "Precision: 0.6661\n",
      "Recall: 0.6614\n",
      "Using cached results for student_a0.5_t2.0\n",
      "Accuracy: 0.6599\n",
      "Precision: 0.6679\n",
      "Recall: 0.6538\n",
      "Using cached results for student_a0.5_t5.0\n",
      "Accuracy: 0.6651\n",
      "Precision: 0.6724\n",
      "Recall: 0.6625\n",
      "Using cached results for student_a0.8_t1.0\n",
      "Accuracy: 0.6604\n",
      "Precision: 0.6618\n",
      "Recall: 0.6582\n",
      "Using cached results for student_a0.8_t2.0\n",
      "Accuracy: 0.6581\n",
      "Precision: 0.6698\n",
      "Recall: 0.6516\n",
      "Using cached results for student_a0.8_t5.0\n",
      "Accuracy: 0.6659\n",
      "Precision: 0.6607\n",
      "Recall: 0.6637\n",
      "\n",
      "Evaluating student_intermediate_lr1e-04_a0.2_t1.0\n"
     ]
    },
    {
     "name": "stderr",
     "output_type": "stream",
     "text": [
      " 45%|████▌     | 10/22 [00:15<00:18,  1.51s/it]"
     ]
    },
    {
     "name": "stdout",
     "output_type": "stream",
     "text": [
      "Accuracy:  0.6515\n",
      "Precision: 0.6511\n",
      "Recall:    0.6516\n",
      "\n",
      "Evaluating student_intermediate_lr3e-05_a0.2_t1.0\n"
     ]
    },
    {
     "name": "stderr",
     "output_type": "stream",
     "text": [
      " 50%|█████     | 11/22 [00:30<00:35,  3.21s/it]"
     ]
    },
    {
     "name": "stdout",
     "output_type": "stream",
     "text": [
      "Accuracy:  0.6623\n",
      "Precision: 0.6627\n",
      "Recall:    0.6590\n",
      "\n",
      "Evaluating student_intermediate_lr5e-05_a0.2_t1.0\n"
     ]
    },
    {
     "name": "stderr",
     "output_type": "stream",
     "text": [
      "100%|██████████| 22/22 [00:45<00:00,  2.06s/it]"
     ]
    },
    {
     "name": "stdout",
     "output_type": "stream",
     "text": [
      "Accuracy:  0.6517\n",
      "Precision: 0.6539\n",
      "Recall:    0.6489\n",
      "Using cached results for student_l4_d384_a0.2_t1.0\n",
      "Accuracy: 0.4001\n",
      "Precision: 0.3538\n",
      "Recall: 0.3860\n",
      "Using cached results for student_l4_d768_a0.2_t1.0\n",
      "Accuracy: 0.4884\n",
      "Precision: 0.4933\n",
      "Recall: 0.4779\n",
      "Using cached results for student_l6_d384_a0.2_t1.0\n",
      "Accuracy: 0.3715\n",
      "Precision: 0.3625\n",
      "Recall: 0.3626\n",
      "Using cached results for student_l6_d768_a0.2_t1.0\n",
      "Accuracy: 0.4841\n",
      "Precision: 0.4862\n",
      "Recall: 0.4766\n",
      "Using cached results for student_l8_d384_a0.2_t1.0\n",
      "Accuracy: 0.3802\n",
      "Precision: 0.3601\n",
      "Recall: 0.3719\n",
      "Using cached results for student_l8_d768_a0.2_t1.0\n",
      "Accuracy: 0.4630\n",
      "Precision: 0.5029\n",
      "Recall: 0.4505\n",
      "Using cached results for student_pretrained_lr1e-04_a0.2_t1.0\n",
      "Accuracy: 0.6609\n",
      "Precision: 0.6671\n",
      "Recall: 0.6575\n",
      "Using cached results for student_pretrained_lr3e-05_a0.2_t1.0\n",
      "Accuracy: 0.6636\n",
      "Precision: 0.6643\n",
      "Recall: 0.6594\n",
      "Using cached results for student_pretrained_lr5e-05_a0.2_t1.0\n",
      "Accuracy: 0.6588\n",
      "Precision: 0.6591\n",
      "Recall: 0.6538\n",
      "Using cached results for student_v1\n",
      "Accuracy: 0.8272\n",
      "Precision: 0.8281\n",
      "Recall: 0.8238\n"
     ]
    },
    {
     "name": "stderr",
     "output_type": "stream",
     "text": [
      "\n"
     ]
    }
   ],
   "source": [
    "results = evaluate_all_models(\n",
    "    models_dir=\"models\",\n",
    "    cache_file=\"model_eval_cache.json\",\n",
    "    dataset=dataset,\n",
    "    device=device\n",
    ")"
   ]
  },
  {
   "cell_type": "markdown",
   "id": "20a01a96",
   "metadata": {},
   "source": [
    "From this we can see that training smaller student architectures from scratch, even when incorporating intermediate layer supervision, leads to lower performance compared to models that utilize pretrained weights. All models were initialized from the base pretrained checkpoint, with classification layers newly initialized.\n",
    "\n",
    "During training, the total loss decreased as the learning rate increased. At a learning rate of 3e-5, the model reached a loss of approximately 586.35. With 5e-5, the loss dropped to 569.25, and with 1e-4 it decreased further to 560.47. This pattern indicates that larger learning rates help the student model adapt more quickly, especially when layers such as the classification head are randomly initialized and only limited training is performed.\n",
    "\n",
    "However, when evaluating performance on the validation set, the relationship between learning rate and generalization was less straightforward. The model trained with the lowest learning rate, 3e-5, achieved the highest accuracy at 66.23%. The models trained with 5e-5 and 1e-4 achieved slightly lower accuracies of 65.17% and 65.15%, respectively. From this we can see that although larger learning rates reduce training loss, they do not necessarily improve validation accuracy, so the more conservative learning rate of 3e-5 appears to offer the best balance between learning and generalization in this setup.\n",
    "\n",
    "Compared to the TinyBERT-style scratch-trained models (from earlier) with reduced hidden size and fewer layers (for example 4 layers with 384 hidden dimensions), which struggled to exceed 49% accuracy, the intermediate distillation models, which preserve the full DistilBERT architecture and leverage both soft targets and hidden state alignment, achieved significantly better results, reaching over 66% accuracy. This demonstrates the strong benefit of combining pretrained knowledge with intermediate supervision, even when the training data and number of epochs are limited.\n",
    "\n",
    "Nevertheless, these models still slightly underperform relative to the best student models trained with standard distillation and fully pretrained weights. For instance, the best standard distillation model with a learning rate of 3e-5 reached 66.36% accuracy, outperforming all intermediate distillation variants by a small but consistent margin."
   ]
  },
  {
   "cell_type": "markdown",
   "id": "3dfa1839",
   "metadata": {},
   "source": [
    "#### *Best Version of the Student Model*\n",
    "\n",
    "Now, we run our best models with maximum 20 epochs and early stopping, where we stop the training if it does not improve after 3 epochs. We also use a batch size of 32 now (and not 64). The models we include are:\n",
    "\n",
    "One version of the standard distillation (pretrained encoder), the *student_pretrained_lr3e-05_a0.2_t1.0*, since it has the best current performance, fewer moving parts, so we can see how much performance can improve over more epochs.\n",
    "\n",
    "And one version of the intermediate distillation (TinyBERT-style, pretrained encoder), the *student_intermediate_lr3e-05_a0.2_t1.0*, since it benefits from both soft targets and internal representation alignment, so we can test if its advantage increases over time and training steps.\n",
    "\n",
    "We first set the batch size to 32:"
   ]
  },
  {
   "cell_type": "code",
   "execution_count": 28,
   "id": "a0b98c3e",
   "metadata": {},
   "outputs": [],
   "source": [
    "train_loader = DataLoader(dataset[\"train\"], batch_size=32, shuffle=True)"
   ]
  },
  {
   "cell_type": "markdown",
   "id": "3b08950e",
   "metadata": {},
   "source": [
    "**Training loop:**"
   ]
  },
  {
   "cell_type": "code",
   "execution_count": null,
   "id": "f931b34a",
   "metadata": {},
   "outputs": [],
   "source": [
    "def train_student_model(\n",
    "    student_model, \n",
    "    student_tokenizer,\n",
    "    train_loader,\n",
    "    val_loader,\n",
    "    teacher_model,\n",
    "    optimizer,\n",
    "    loss_fn,  \n",
    "    model_name,  \n",
    "    alpha=0.2,\n",
    "    temperature=1.0,\n",
    "    patience=3,\n",
    "    max_epochs=20\n",
    "):\n",
    "    best_val_acc = 0\n",
    "    counter = 0\n",
    "    train_losses = []\n",
    "    val_accuracies = []\n",
    "\n",
    "    for epoch in range(max_epochs):\n",
    "        student_model.train()\n",
    "        total_loss = 0\n",
    "\n",
    "        for batch in train_loader:\n",
    "            input_ids = batch[\"input_ids\"].to(device)\n",
    "            attention_mask = batch[\"attention_mask\"].to(device)\n",
    "            labels = batch[\"label\"].to(device)\n",
    "\n",
    "            with torch.no_grad():\n",
    "                teacher_outputs = teacher_model(input_ids=input_ids, attention_mask=attention_mask)\n",
    "                teacher_logits = teacher_outputs.logits\n",
    "\n",
    "            student_outputs = student_model(input_ids=input_ids, attention_mask=attention_mask)\n",
    "            student_logits = student_outputs.logits\n",
    "\n",
    "            # Handle standard vs. intermediate distillation loss:\n",
    "            if loss_fn.__name__ == \"distillation_loss\":\n",
    "                loss = loss_fn(student_logits, teacher_logits, labels, alpha, temperature)\n",
    "            else:\n",
    "                loss = loss_fn(\n",
    "                    student_outputs,\n",
    "                    teacher_outputs,\n",
    "                    student_logits,\n",
    "                    teacher_logits,\n",
    "                    labels,\n",
    "                    alpha,\n",
    "                    temperature\n",
    "                )\n",
    "\n",
    "            loss.backward()\n",
    "            optimizer.step()\n",
    "            optimizer.zero_grad()\n",
    "\n",
    "            total_loss += loss.item()\n",
    "\n",
    "        avg_train_loss = total_loss / len(train_loader)\n",
    "        train_losses.append(avg_train_loss)\n",
    "        print(f\"Epoch {epoch + 1}: Train Loss = {avg_train_loss:.4f}\")\n",
    "\n",
    "        # Validation\n",
    "        student_model.eval()\n",
    "        all_preds, all_labels = [], []\n",
    "\n",
    "        with torch.no_grad():\n",
    "            for batch in val_loader:\n",
    "                input_ids = batch[\"input_ids\"].to(device)\n",
    "                attention_mask = batch[\"attention_mask\"].to(device)\n",
    "                labels = batch[\"label\"].to(\"cpu\").numpy()\n",
    "\n",
    "                outputs = student_model(input_ids=input_ids, attention_mask=attention_mask)\n",
    "                preds = torch.argmax(outputs.logits, dim=1).cpu().numpy()\n",
    "\n",
    "                all_preds.extend(preds)\n",
    "                all_labels.extend(labels)\n",
    "\n",
    "        val_acc = accuracy_score(all_labels, all_preds)\n",
    "        val_accuracies.append(val_acc)\n",
    "        print(f\"Validation Accuracy: {val_acc:.4f}\")\n",
    "\n",
    "        if val_acc > best_val_acc:\n",
    "            best_val_acc = val_acc\n",
    "            counter = 0\n",
    "            print(\"New best model found. Saving...\")\n",
    "            save_path = f\"models/{model_name}\"\n",
    "            os.makedirs(save_path, exist_ok=True)\n",
    "            student_model.save_pretrained(save_path)\n",
    "            student_tokenizer.save_pretrained(save_path)\n",
    "        else:\n",
    "            counter += 1\n",
    "            print(f\"No improvement. Early stopping counter: {counter}/{patience}\")\n",
    "            if counter >= patience:\n",
    "                print(\"Early stopping triggered.\")\n",
    "                break\n",
    "\n",
    "    # Loss curve\n",
    "    plt.figure(figsize=(8, 5))\n",
    "    plt.plot(train_losses, marker='o')\n",
    "    plt.yscale(\"log\")\n",
    "    plt.xlabel(\"Epoch\")\n",
    "    plt.ylabel(\"Training Loss (log scale)\")\n",
    "    plt.title(f\"Loss Curve: {model_name}\")\n",
    "    plt.grid(True)\n",
    "    plt.tight_layout()\n",
    "    plt.show()"
   ]
  },
  {
   "cell_type": "markdown",
   "id": "81613bde",
   "metadata": {},
   "source": [
    "**Load student models:**"
   ]
  },
  {
   "cell_type": "code",
   "execution_count": null,
   "id": "879a0ba9",
   "metadata": {},
   "outputs": [],
   "source": [
    "# Standard distillation student (pretrained encoder)\n",
    "student_pretrained = DistilBertForSequenceClassification.from_pretrained(\n",
    "    \"models/student_pretrained_lr3e-05_a0.2_t1.0\"\n",
    ").to(device)\n",
    "\n",
    "# Intermediate distillation student (TinyBERT-style)\n",
    "student_intermediate = DistilBertForSequenceClassification.from_pretrained(\n",
    "    \"models/student_intermediate_lr3e-05_a0.2_t1.0\"\n",
    ").to(device)\n",
    "\n",
    "# Tokenizer (same for both)\n",
    "student_tokenizer = DistilBertTokenizer.from_pretrained(\"distilbert-base-uncased\")"
   ]
  },
  {
   "cell_type": "markdown",
   "id": "a5101cec",
   "metadata": {},
   "source": [
    "**Define optimizers:**"
   ]
  },
  {
   "cell_type": "code",
   "execution_count": null,
   "id": "7e0bde98",
   "metadata": {},
   "outputs": [],
   "source": [
    "optimizer_pretrained = AdamW(student_pretrained.parameters(), lr=3e-5)\n",
    "optimizer_intermediate = AdamW(student_intermediate.parameters(), lr=3e-5)"
   ]
  },
  {
   "cell_type": "markdown",
   "id": "1326e2fb",
   "metadata": {},
   "source": [
    "The loss functions are already defined, now we can **start the training:**"
   ]
  },
  {
   "cell_type": "code",
   "execution_count": null,
   "id": "b88bc186",
   "metadata": {},
   "outputs": [
    {
     "name": "stdout",
     "output_type": "stream",
     "text": [
      "Epoch 1: Train Loss = 0.5730\n",
      "Validation Accuracy: 0.6621\n",
      "New best model found. Saving...\n",
      "Epoch 2: Train Loss = 0.3898\n",
      "Validation Accuracy: 0.6550\n",
      "No improvement. Early stopping counter: 1/3\n",
      "Epoch 3: Train Loss = 0.2710\n",
      "Validation Accuracy: 0.6566\n",
      "No improvement. Early stopping counter: 2/3\n",
      "Epoch 4: Train Loss = 0.2049\n",
      "Validation Accuracy: 0.6654\n",
      "New best model found. Saving...\n",
      "Epoch 5: Train Loss = 0.1739\n",
      "Validation Accuracy: 0.6618\n",
      "No improvement. Early stopping counter: 1/3\n",
      "Epoch 6: Train Loss = 0.1574\n",
      "Validation Accuracy: 0.6637\n",
      "No improvement. Early stopping counter: 2/3\n",
      "Epoch 7: Train Loss = 0.1474\n",
      "Validation Accuracy: 0.6613\n",
      "No improvement. Early stopping counter: 3/3\n",
      "Early stopping triggered.\n"
     ]
    },
    {
     "data": {
      "image/png": "[encoded data removed]",
      "text/plain": [
       "<Figure size 800x500 with 1 Axes>"
      ]
     },
     "metadata": {},
     "output_type": "display_data"
    },
    {
     "name": "stdout",
     "output_type": "stream",
     "text": [
      "Epoch 1: Train Loss = 0.8747\n",
      "Validation Accuracy: 0.6686\n",
      "New best model found. Saving...\n",
      "Epoch 2: Train Loss = 0.6649\n",
      "Validation Accuracy: 0.6545\n",
      "No improvement. Early stopping counter: 1/3\n",
      "Epoch 3: Train Loss = 0.4914\n",
      "Validation Accuracy: 0.6508\n",
      "No improvement. Early stopping counter: 2/3\n",
      "Epoch 4: Train Loss = 0.3655\n",
      "Validation Accuracy: 0.6380\n",
      "No improvement. Early stopping counter: 3/3\n",
      "Early stopping triggered.\n"
     ]
    },
    {
     "data": {
      "image/png": "[encoded data removed]",
      "text/plain": [
       "<Figure size 800x500 with 1 Axes>"
      ]
     },
     "metadata": {},
     "output_type": "display_data"
    }
   ],
   "source": [
    "# Standard distillation\n",
    "train_student_model(\n",
    "    student_model=student_pretrained,\n",
    "    student_tokenizer=student_tokenizer,\n",
    "    train_loader=train_loader,\n",
    "    val_loader=val_loader,\n",
    "    teacher_model=teacher_model,\n",
    "    optimizer=optimizer_pretrained,\n",
    "    loss_fn=distillation_loss,\n",
    "    model_name=\"student_best_pretrained\",\n",
    "    alpha=0.2,\n",
    "    temperature=1.0,\n",
    ")\n",
    "\n",
    "# Intermediate distillation\n",
    "train_student_model(\n",
    "    student_model=student_intermediate,\n",
    "    student_tokenizer=student_tokenizer,\n",
    "    train_loader=train_loader,\n",
    "    val_loader=val_loader,\n",
    "    teacher_model=teacher_model,\n",
    "    optimizer=optimizer_intermediate,\n",
    "    loss_fn=intermediate_distillation_loss,\n",
    "    model_name=\"student_best_intermediate\",\n",
    "    alpha=0.2,\n",
    "    temperature=1.0,\n",
    ")"
   ]
  },
  {
   "cell_type": "markdown",
   "id": "ae9ae194",
   "metadata": {},
   "source": [
    "**student_best_pretrained**\n",
    "\n",
    "The standard distilled student model, using a pretrained encoder and trained with soft targets only, shows a clear and steady decrease in training loss over 7 epochs. The log-scaled curve highlights that learning was stable, with diminishing returns over time.\n",
    "\n",
    "In Epoch 1, the model achieved a training loss of 0.5730 and a validation accuracy of 66.21%, setting the initial performance benchmark.\n",
    "\n",
    "While the training loss improved substantially in the next two epochs (0.3898 and 0.2710), validation accuracy slightly dropped to 65.50% and 65.66%, triggering early stopping counters.\n",
    "\n",
    "In Epoch 4, the model reached a new best validation accuracy of 66.54% as training loss further decreased to 0.2049.\n",
    "\n",
    "The following epochs continued to improve the training loss (down to 0.1474 in Epoch 7), but validation accuracy fluctuated slightly below the peak (66.18%, 66.37%, 66.13%).\n",
    "\n",
    "Since no further improvement occurred for three consecutive epochs, early stopping was triggered after Epoch 7.\n",
    "\n",
    "Overall, this model showed solid convergence, and the loss curve suggests that the model was still learning, albeit with reduced gains. The final training loss was low, and validation performance was competitive.\n",
    "\n",
    "**student_best_intermediate**\n",
    "\n",
    "This intermediate-distilled model (TinyBERT-style, pretrained encoder, with hidden-state matching) showed faster convergence in terms of loss reduction, but generalization performance did not follow the same trend.\n",
    "\n",
    "In Epoch 1, the training loss was higher at 0.8747, but the model surprisingly reached the highest validation accuracy of 66.86% right away.\n",
    "\n",
    "Subsequent epochs saw consistent reductions in training loss (0.6649, 0.4914, and 0.3655), but validation accuracy declined to 65.45%, 65.08%, and 63.80%.\n",
    "\n",
    "This drop in validation accuracy, despite better training loss, suggests the model may have overfit quickly or learned superficial patterns in early epochs.\n",
    "\n",
    "After no improvement for three epochs, early stopping was triggered at Epoch 4.\n",
    "\n",
    "The corresponding loss curve confirms the rapid drop in training loss, but the decoupling from validation performance highlights a generalization issue. The model's strong initial result might reflect a lucky initialization or effective transfer from the internal alignment objective, but it was not sustained."
   ]
  },
  {
   "cell_type": "markdown",
   "id": "3ba67b15",
   "metadata": {},
   "source": [
    "**Evaluation:**\n",
    "\n",
    "First we load both saved models:"
   ]
  },
  {
   "cell_type": "code",
   "execution_count": 38,
   "id": "9b733835",
   "metadata": {},
   "outputs": [],
   "source": [
    "model_pretrained = DistilBertForSequenceClassification.from_pretrained(\"models/student_best_pretrained\").to(device)\n",
    "model_intermediate = DistilBertForSequenceClassification.from_pretrained(\"models/student_best_intermediate\").to(device)\n",
    "tokenizer = DistilBertTokenizer.from_pretrained(\"models/student_best_pretrained\")"
   ]
  },
  {
   "cell_type": "markdown",
   "id": "e87acc7f",
   "metadata": {},
   "source": [
    "Shorter evaluation function, that only shows us the perfromance of those two:"
   ]
  },
  {
   "cell_type": "code",
   "execution_count": 53,
   "id": "b7e8c8e7",
   "metadata": {},
   "outputs": [],
   "source": [
    "def evaluate(model, dataset, device):\n",
    "    model.eval()\n",
    "    model.to(device)\n",
    "    all_preds, all_labels = [], []\n",
    "\n",
    "    val_loader = DataLoader(dataset[\"test\"], batch_size=64)\n",
    "\n",
    "    with torch.no_grad():\n",
    "        for batch in val_loader:\n",
    "            input_ids = batch[\"input_ids\"].to(device) if device != \"cpu\" else batch[\"input_ids\"]\n",
    "            attention_mask = batch[\"attention_mask\"].to(device) if device != \"cpu\" else batch[\"attention_mask\"]\n",
    "            labels = batch[\"label\"].to(\"cpu\").numpy()  # Always move labels to CPU before .numpy()\n",
    "\n",
    "            outputs = model(input_ids=input_ids, attention_mask=attention_mask)\n",
    "            preds = torch.argmax(outputs.logits, dim=1).cpu().numpy()\n",
    "\n",
    "            all_preds.extend(preds)\n",
    "            all_labels.extend(labels)\n",
    "\n",
    "    acc = accuracy_score(all_labels, all_preds)\n",
    "    precision = precision_score(all_labels, all_preds, average=\"macro\")\n",
    "    recall = recall_score(all_labels, all_preds, average=\"macro\")\n",
    "\n",
    "    return acc, precision, recall"
   ]
  },
  {
   "cell_type": "markdown",
   "id": "43afe270",
   "metadata": {},
   "source": [
    "Final scores:"
   ]
  },
  {
   "cell_type": "code",
   "execution_count": 42,
   "id": "7cc2c58b",
   "metadata": {},
   "outputs": [
    {
     "name": "stdout",
     "output_type": "stream",
     "text": [
      "[Standard] Accuracy: 0.6654, Precision: 0.6634, Recall: 0.6633\n",
      "[Intermediate] Accuracy: 0.6686, Precision: 0.6671, Recall: 0.6646\n"
     ]
    }
   ],
   "source": [
    "acc, prec, rec = evaluate(model_pretrained, dataset, device)\n",
    "print(f\"[Standard] Accuracy: {acc:.4f}, Precision: {prec:.4f}, Recall: {rec:.4f}\")\n",
    "\n",
    "acc, prec, rec = evaluate(model_intermediate, dataset, device)\n",
    "print(f\"[Intermediate] Accuracy: {acc:.4f}, Precision: {prec:.4f}, Recall: {rec:.4f}\")"
   ]
  },
  {
   "cell_type": "markdown",
   "id": "b94b924f",
   "metadata": {},
   "source": [
    "The saved student_v1 model:"
   ]
  },
  {
   "cell_type": "code",
   "execution_count": 54,
   "id": "0357f69e",
   "metadata": {},
   "outputs": [
    {
     "name": "stdout",
     "output_type": "stream",
     "text": [
      "[V1 Model] Accuracy: 0.8272, Precision: 0.8281, Recall: 0.8238\n"
     ]
    }
   ],
   "source": [
    "# Load the saved student_v1 model\n",
    "model_path = \"models/student_v1\"\n",
    "student_v1 = DistilBertForSequenceClassification.from_pretrained(model_path).to(device)\n",
    "\n",
    "# Evaluate using your new function\n",
    "acc, prec, rec = evaluate(student_v1, dataset, device)\n",
    "print(f\"[V1 Model] Accuracy: {acc:.4f}, Precision: {prec:.4f}, Recall: {rec:.4f}\")"
   ]
  },
  {
   "cell_type": "markdown",
   "id": "de7c3e5c",
   "metadata": {},
   "source": [
    "All results:"
   ]
  },
  {
   "cell_type": "code",
   "execution_count": 43,
   "id": "b3165d2a",
   "metadata": {},
   "outputs": [
    {
     "name": "stderr",
     "output_type": "stream",
     "text": [
      "  0%|          | 0/25 [00:00<?, ?it/s]"
     ]
    },
    {
     "name": "stdout",
     "output_type": "stream",
     "text": [
      "Using cached results for student_a0.2_t1.0\n",
      "Accuracy: 0.6670\n",
      "Precision: 0.6679\n",
      "Recall: 0.6626\n",
      "Using cached results for student_a0.2_t2.0\n",
      "Accuracy: 0.6651\n",
      "Precision: 0.6663\n",
      "Recall: 0.6623\n",
      "Using cached results for student_a0.2_t5.0\n",
      "Accuracy: 0.6665\n",
      "Precision: 0.6670\n",
      "Recall: 0.6634\n",
      "Using cached results for student_a0.5_t1.0\n",
      "Accuracy: 0.6651\n",
      "Precision: 0.6661\n",
      "Recall: 0.6614\n",
      "Using cached results for student_a0.5_t2.0\n",
      "Accuracy: 0.6599\n",
      "Precision: 0.6679\n",
      "Recall: 0.6538\n",
      "Using cached results for student_a0.5_t5.0\n",
      "Accuracy: 0.6651\n",
      "Precision: 0.6724\n",
      "Recall: 0.6625\n",
      "Using cached results for student_a0.8_t1.0\n",
      "Accuracy: 0.6604\n",
      "Precision: 0.6618\n",
      "Recall: 0.6582\n",
      "Using cached results for student_a0.8_t2.0\n",
      "Accuracy: 0.6581\n",
      "Precision: 0.6698\n",
      "Recall: 0.6516\n",
      "Using cached results for student_a0.8_t5.0\n",
      "Accuracy: 0.6659\n",
      "Precision: 0.6607\n",
      "Recall: 0.6637\n",
      "\n",
      "Evaluating student_best_intermediate\n"
     ]
    },
    {
     "name": "stderr",
     "output_type": "stream",
     "text": [
      " 40%|████      | 10/25 [00:14<00:22,  1.47s/it]"
     ]
    },
    {
     "name": "stdout",
     "output_type": "stream",
     "text": [
      "Accuracy:  0.6686\n",
      "Precision: 0.6671\n",
      "Recall:    0.6646\n",
      "\n",
      "Evaluating student_best_pretrained\n"
     ]
    },
    {
     "name": "stderr",
     "output_type": "stream",
     "text": [
      " 44%|████▍     | 11/25 [00:29<00:43,  3.14s/it]"
     ]
    },
    {
     "name": "stdout",
     "output_type": "stream",
     "text": [
      "Accuracy:  0.6654\n",
      "Precision: 0.6634\n",
      "Recall:    0.6633\n",
      "Using cached results for student_intermediate_lr1e-04_a0.2_t1.0\n",
      "Accuracy: 0.6515\n",
      "Precision: 0.6511\n",
      "Recall: 0.6516\n",
      "Using cached results for student_intermediate_lr3e-05_a0.2_t1.0\n",
      "Accuracy: 0.6623\n",
      "Precision: 0.6627\n",
      "Recall: 0.6590\n",
      "Using cached results for student_intermediate_lr5e-05_a0.2_t1.0\n",
      "Accuracy: 0.6517\n",
      "Precision: 0.6539\n",
      "Recall: 0.6489\n",
      "Using cached results for student_l4_d384_a0.2_t1.0\n",
      "Accuracy: 0.4001\n",
      "Precision: 0.3538\n",
      "Recall: 0.3860\n",
      "Using cached results for student_l4_d768_a0.2_t1.0\n",
      "Accuracy: 0.4884\n",
      "Precision: 0.4933\n",
      "Recall: 0.4779\n",
      "Using cached results for student_l6_d384_a0.2_t1.0\n",
      "Accuracy: 0.3715\n",
      "Precision: 0.3625\n",
      "Recall: 0.3626\n",
      "Using cached results for student_l6_d768_a0.2_t1.0\n",
      "Accuracy: 0.4841\n",
      "Precision: 0.4862\n",
      "Recall: 0.4766\n",
      "Using cached results for student_l8_d384_a0.2_t1.0\n",
      "Accuracy: 0.3802\n",
      "Precision: 0.3601\n",
      "Recall: 0.3719\n",
      "Using cached results for student_l8_d768_a0.2_t1.0\n",
      "Accuracy: 0.4630\n",
      "Precision: 0.5029\n",
      "Recall: 0.4505\n",
      "Using cached results for student_pretrained_lr1e-04_a0.2_t1.0\n",
      "Accuracy: 0.6609\n",
      "Precision: 0.6671\n",
      "Recall: 0.6575\n",
      "Using cached results for student_pretrained_lr3e-05_a0.2_t1.0\n",
      "Accuracy: 0.6636\n",
      "Precision: 0.6643\n",
      "Recall: 0.6594\n",
      "Using cached results for student_pretrained_lr5e-05_a0.2_t1.0\n",
      "Accuracy: 0.6588\n",
      "Precision: 0.6591\n",
      "Recall: 0.6538\n",
      "Using cached results for student_v1\n",
      "Accuracy: 0.8272\n",
      "Precision: 0.8281\n",
      "Recall: 0.8238\n",
      "\n",
      "Evaluating student_worst_intermediate_long\n"
     ]
    },
    {
     "name": "stderr",
     "output_type": "stream",
     "text": [
      "100%|██████████| 25/25 [00:44<00:00,  1.78s/it]"
     ]
    },
    {
     "name": "stdout",
     "output_type": "stream",
     "text": [
      "Accuracy:  0.6546\n",
      "Precision: 0.6586\n",
      "Recall:    0.6517\n"
     ]
    },
    {
     "name": "stderr",
     "output_type": "stream",
     "text": [
      "\n"
     ]
    }
   ],
   "source": [
    "results = evaluate_all_models(\n",
    "    models_dir=\"models\",\n",
    "    cache_file=\"model_eval_cache.json\",\n",
    "    dataset=dataset,\n",
    "    device=device\n",
    ")"
   ]
  },
  {
   "cell_type": "markdown",
   "id": "ac3d6046",
   "metadata": {},
   "source": [
    "Interpretation will be in part b, since there we will compare them to the teacher directly."
   ]
  },
  {
   "cell_type": "markdown",
   "id": "2c93f9e0",
   "metadata": {},
   "source": [
    "### **4. Dynamic Quantization**\n",
    "\n",
    "Quantization is a technique used in model compression that reduces the precision of the numbers used to represent model parameters (e.g., weights) and sometimes activations.\n",
    "\n",
    "Deep learning models typically use 32-bit floating point (FP32) numbers. Quantization reduces this to 8-bit integers (INT8) or 16-bit floats, depending on the method (we use 8).\n",
    "\n",
    "Dynamic quantization specifically only affects the weights of linear layers and does not require calibration data or retraining, we can do this directly in PyTorch.\n",
    "\n",
    "We use the v1 student model, which was the best standard distillation student. We only quantize linear layers, because these nn.Linear layers account for most of the FLOPs and memory usage in inference, so quantizing them gives the biggest speed and size gains. Weights are static (don’t change at inference). As said, we use 8-bit integers, this should significantly increase speed.\n",
    "\n",
    "Since student_v1 is already trained and saved, we uantize only the classifier with PyTorch."
   ]
  },
  {
   "cell_type": "code",
   "execution_count": null,
   "id": "b062525a",
   "metadata": {},
   "outputs": [],
   "source": [
    "student_v1_quant = copy.deepcopy(student_v1)\n",
    "\n",
    "quantized_classifier = torch.quantization.quantize_dynamic(\n",
    "    student_v1_quant.classifier,\n",
    "    {torch.nn.Linear},\n",
    "    dtype=torch.qint8,\n",
    ")\n",
    "\n",
    "student_v1_quant.classifier = quantized_classifier"
   ]
  },
  {
   "cell_type": "markdown",
   "id": "a7f98ecc",
   "metadata": {},
   "source": [
    "**Evaluate:**"
   ]
  },
  {
   "cell_type": "code",
   "execution_count": 61,
   "id": "a0d5c81f",
   "metadata": {},
   "outputs": [
    {
     "name": "stdout",
     "output_type": "stream",
     "text": [
      "[Quantized Classifier] Accuracy: 0.8272, Precision: 0.8281, Recall: 0.8238\n"
     ]
    }
   ],
   "source": [
    "acc, prec, rec = evaluate(student_v1_quant, dataset, device=\"cpu\")\n",
    "print(f\"[Quantized Classifier] Accuracy: {acc:.4f}, Precision: {prec:.4f}, Recall: {rec:.4f}\")"
   ]
  },
  {
   "cell_type": "markdown",
   "id": "537956c7",
   "metadata": {},
   "source": [
    "Interpretation, see below."
   ]
  },
  {
   "cell_type": "markdown",
   "id": "b2c6734e",
   "metadata": {},
   "source": [
    "## b. Performance and Speed Comparison"
   ]
  },
  {
   "cell_type": "markdown",
   "id": "5e96153c",
   "metadata": {},
   "source": [
    "We first evaluate the stuntent's models and then the teacher model. We evaluate their performance on exactly the same data.\n",
    "\n",
    "However, we need tot create a separate test dataset for the teacher that uses the teacher tokenizer."
   ]
  },
  {
   "cell_type": "code",
   "execution_count": 62,
   "id": "949c54c6",
   "metadata": {},
   "outputs": [],
   "source": [
    "def tokenize_teacher(example):\n",
    "    return teacher_tokenizer(example[\"question_content\"], truncation=True, padding=\"max_length\", max_length=128)"
   ]
  },
  {
   "cell_type": "markdown",
   "id": "4f7c885d",
   "metadata": {},
   "source": [
    "Apply it to a fresh copy of the dataset:"
   ]
  },
  {
   "cell_type": "code",
   "execution_count": 63,
   "id": "07bcdfc8",
   "metadata": {},
   "outputs": [
    {
     "data": {
      "application/vnd.jupyter.widget-view+json": {
       "model_id": "0d75b1be044340ae9fa4383f8c88b5dd",
       "version_major": 2,
       "version_minor": 0
      },
      "text/plain": [
       "Map:   0%|          | 0/39297 [00:00<?, ? examples/s]"
      ]
     },
     "metadata": {},
     "output_type": "display_data"
    }
   ],
   "source": [
    "raw_dataset = Dataset.from_pandas(df_sample.copy())\n",
    "teacher_dataset = raw_dataset.map(tokenize_teacher, batched=True)\n",
    "teacher_dataset = teacher_dataset.train_test_split(test_size=0.2, seed=42)\n",
    "teacher_dataset.set_format(\"torch\", columns=[\"input_ids\", \"attention_mask\", \"label\"])"
   ]
  },
  {
   "cell_type": "markdown",
   "id": "322ff88e",
   "metadata": {},
   "source": [
    "New dataloader:"
   ]
  },
  {
   "cell_type": "code",
   "execution_count": 64,
   "id": "59658a4c",
   "metadata": {},
   "outputs": [],
   "source": [
    "teacher_test_loader = DataLoader(teacher_dataset[\"test\"], batch_size=64)"
   ]
  },
  {
   "cell_type": "markdown",
   "id": "434be063",
   "metadata": {},
   "source": [
    "**Teacher vs best Models:**"
   ]
  },
  {
   "cell_type": "code",
   "execution_count": 65,
   "id": "332c4428",
   "metadata": {},
   "outputs": [
    {
     "name": "stdout",
     "output_type": "stream",
     "text": [
      "\n",
      "Evaluating teacher model\n",
      "Accuracy:  0.8744\n",
      "Precision: 0.8730\n",
      "Recall:    0.8720\n",
      "\n",
      "Evaluating the best student models\n",
      "[Standard] Accuracy: 0.6654, Precision: 0.6634, Recall: 0.6633\n",
      "[Intermediate] Accuracy: 0.6686, Precision: 0.6671, Recall: 0.6646\n",
      "[V1 Model] Accuracy: 0.8272, Precision: 0.8281, Recall: 0.8238\n",
      "[Quantized Classifier] Accuracy: 0.8272, Precision: 0.8281, Recall: 0.8238\n"
     ]
    }
   ],
   "source": [
    "results = []\n",
    "\n",
    "print(\"\\nEvaluating teacher model\")\n",
    "\n",
    "teacher_model.to(device)\n",
    "teacher_model.eval()\n",
    "\n",
    "all_preds = []\n",
    "all_labels = []\n",
    "\n",
    "with torch.no_grad():\n",
    "    for batch in teacher_test_loader:\n",
    "        # Move all batch items to the same device\n",
    "        batch = {k: v.to(device) for k, v in batch.items()}\n",
    "\n",
    "        outputs = teacher_model(\n",
    "            input_ids=batch[\"input_ids\"],\n",
    "            attention_mask=batch[\"attention_mask\"]\n",
    "        )\n",
    "        preds = torch.argmax(outputs.logits, dim=1)\n",
    "\n",
    "        all_preds.extend(preds.cpu().numpy())\n",
    "        all_labels.extend(batch[\"label\"].cpu().numpy())\n",
    "\n",
    "# Compute and print metrics\n",
    "acc = accuracy_score(all_labels, all_preds)\n",
    "prec = precision_score(all_labels, all_preds, average=\"macro\", zero_division=0)\n",
    "rec = recall_score(all_labels, all_preds, average=\"macro\", zero_division=0)\n",
    "\n",
    "print(f\"Accuracy:  {acc:.4f}\")\n",
    "print(f\"Precision: {prec:.4f}\")\n",
    "print(f\"Recall:    {rec:.4f}\")\n",
    "\n",
    "# Log results\n",
    "results.append({\n",
    "    \"version\": \"teacher\",\n",
    "    \"accuracy\": acc,\n",
    "    \"precision\": prec,\n",
    "    \"recall\": rec\n",
    "})\n",
    "\n",
    "# Students:\n",
    "print(\"\\nEvaluating the best student models\")\n",
    "\n",
    "acc, prec, rec = evaluate(model_pretrained, dataset, device)\n",
    "print(f\"[Standard] Accuracy: {acc:.4f}, Precision: {prec:.4f}, Recall: {rec:.4f}\")\n",
    "\n",
    "acc, prec, rec = evaluate(model_intermediate, dataset, device)\n",
    "print(f\"[Intermediate] Accuracy: {acc:.4f}, Precision: {prec:.4f}, Recall: {rec:.4f}\")\n",
    "\n",
    "acc, prec, rec = evaluate(student_v1, dataset, device)\n",
    "print(f\"[V1 Model] Accuracy: {acc:.4f}, Precision: {prec:.4f}, Recall: {rec:.4f}\")\n",
    "\n",
    "acc, prec, rec = evaluate(student_v1_quant, dataset, device=\"cpu\")\n",
    "print(f\"[Quantized Classifier] Accuracy: {acc:.4f}, Precision: {prec:.4f}, Recall: {rec:.4f}\")"
   ]
  },
  {
   "cell_type": "markdown",
   "id": "980fc1e7",
   "metadata": {},
   "source": [
    "The V1 model, trained for just 3 epochs with temperature scaling (temp.=2.0) and an equal balance between hard labels and soft teacher targets (alpha=0.5), achieves a validation accuracy of 82.72%, far surpassing both the best standard and intermediate student models.\n",
    "\n",
    "This is liely due to the fact that V1 was trained with soft targets from a high-performing BERT teacher (accuracy 87%), which provides nuanced information about class probabilities beyond the hard labels. This helped the student learn more than just the \"correct\" answer. Giving equal importance to the teacher’s logits and the ground truth labels allowed the student to learn both general patterns and dataset-specific decision boundaries. Softened logits exposed inter-class relationships. This richer signal likely improved generalization and robustness. V1 used a clean and focused setup without additional complexity (e.g., no intermediate layer matching), allowing the optimization to proceed without unnecessary distractions or noise in the objective. Even with only 5% of the full dataset, the training was effectively regularized by the teacher’s outputs. The limited data combined with soft labels reduced overfitting and allowed for meaningful generalization.\n",
    "\n",
    "For the Standard Distilled Student we had longer training, but worse performance, even after early stopping at epoch 7, this model achieved 16 percentage points lower accuracy than V1. It only relied on soft logits resulting in sharper distributions and weaker signals for secondary classes. The extended training didn't help much because the model lacked access to internal teacher knowledge and used low alpha, thereby underutilizing ground truth.\n",
    "\n",
    "The additional complexity only improved compared to the standard distilled student. This may have hurt generalization and we had rapid overfitting. This shows that more sophisticated objectives can be counterproductive without careful tuning or larger datasets.\n",
    "\n",
    "The quantified version achieves the same perfromance as the V1."
   ]
  },
  {
   "cell_type": "markdown",
   "id": "42278e19",
   "metadata": {},
   "source": [
    "### Inference Speed Comparison\n",
    "\n",
    "We do a warm-up for stability.\n",
    "\n",
    "Sample 100 texts, we do this for all the best models:"
   ]
  },
  {
   "cell_type": "code",
   "execution_count": null,
   "id": "e33425fe",
   "metadata": {},
   "outputs": [
    {
     "name": "stdout",
     "output_type": "stream",
     "text": [
      "\n",
      "Evaluating teacher...\n",
      "Inference time on 100 samples (teacher): 0.7009 seconds\n",
      "\n",
      "Evaluating student_best_pretrained...\n",
      "Inference time on 100 samples (student_best_pretrained): 0.3438 seconds\n",
      "\n",
      "Evaluating student_best_intermediate...\n",
      "Inference time on 100 samples (student_best_intermediate): 0.3357 seconds\n",
      "\n",
      "Evaluating student_v1...\n",
      "Inference time on 100 samples (student_v1): 0.3371 seconds\n",
      "\n",
      "Evaluating student_v1_quantized...\n",
      "Inference time on 100 samples (student_v1_quantized): 0.3482 seconds\n"
     ]
    }
   ],
   "source": [
    "texts = df_sample[\"question_content\"].tolist()[:100]\n",
    "batch_size = 16  # Reduce if still getting OOM\n",
    "\n",
    "# model paths\n",
    "model_variants = {\n",
    "    \"teacher\": {\n",
    "        \"model\": teacher_model,\n",
    "        \"tokenizer\": teacher_tokenizer\n",
    "    },\n",
    "    \"student_best_pretrained\": {\n",
    "        \"model_path\": \"models/student_best_pretrained\"\n",
    "    },\n",
    "    \"student_best_intermediate\": {\n",
    "        \"model_path\": \"models/student_best_intermediate\"\n",
    "    },\n",
    "    \"student_v1\": {\n",
    "        \"model\": student_v1,\n",
    "        \"tokenizer\": student_tokenizer\n",
    "    },\n",
    "    \"student_v1_quantized\": {\n",
    "        \"model\": student_v1_quant,\n",
    "        \"tokenizer\": student_tokenizer\n",
    "    }\n",
    "}\n",
    "\n",
    "# Loop through each model version:\n",
    "for name, info in model_variants.items():\n",
    "    print(f\"\\nEvaluating {name}...\")\n",
    "\n",
    "    # Load model/tokenizer\n",
    "    if \"model\" in info and \"tokenizer\" in info:\n",
    "        model = info[\"model\"].to(device)\n",
    "        tokenizer = info[\"tokenizer\"]\n",
    "    else:\n",
    "        model = DistilBertForSequenceClassification.from_pretrained(info[\"model_path\"]).to(device)\n",
    "        tokenizer = DistilBertTokenizerFast.from_pretrained(info[\"model_path\"])\n",
    "\n",
    "    model.eval()\n",
    "\n",
    "    # Tokenize all texts in advance (on CPU)\n",
    "    encoded = tokenizer(texts, return_tensors=\"pt\", padding=True, truncation=True)\n",
    "    \n",
    "    # Move tensors to device in batches\n",
    "    start_time = time.time()\n",
    "    with torch.no_grad():\n",
    "        for i in range(0, len(texts), batch_size):\n",
    "            batch = {k: v[i:i+batch_size].to(device) for k, v in encoded.items()}\n",
    "            _ = model(**batch)\n",
    "    end_time = time.time()\n",
    "\n",
    "    print(f\"Inference time on 100 samples ({name}): {end_time - start_time:.4f} seconds\")\n",
    "\n",
    "    # Optional: clear memory between models\n",
    "    del model\n",
    "    torch.cuda.empty_cache()"
   ]
  },
  {
   "cell_type": "markdown",
   "id": "f94e0ea0",
   "metadata": {},
   "source": [
    "We observe that the teacher model takes the longest to process 100 samples, with an inference time of approximately 0.70 seconds, reflecting its larger size and complexity. In contrast, all student variants, including the pretrained, intermediate, v1, and quantized versions, achieve significantly faster inference times around 0.33 to 0.35 seconds, demonstrating the efficiency gains achieved through distillation and model compression."
   ]
  },
  {
   "cell_type": "markdown",
   "id": "abbfa75b",
   "metadata": {},
   "source": [
    "## c. Analysis and Improvements\n",
    "\n",
    "Last, we are supposed to analyze deficiencies in the student model's learning. Suggest potential improvements or further research directions.\n",
    "\n",
    "The student models that we chose were limited to the DistilBERT base architecture for the case when we do not want to retrain and use the weights. We saw that already a very simple approach can give very good performance, while benefitting from reduced computaional inference time. \n",
    "\n",
    "Even though the models benefit from faster inference and are much faster to be trained one has to consider that the training still takes a signifcant amount of time which leads to the fact that one can even with those models only do some limited parameter tuning.\n",
    "\n",
    "The most obvious deficiency of the student model's learning is the limited model capacity. Fewer parameters (fewer layers, smaller hidden size, fewer attention heads) mean that it cannot represent complex functions learned by the teacher. Thus, the student may underfit especially on nuanced or ambiguous samples.\n",
    "\n",
    "While the student may generalize quite good, the student misses depth which makes it worse at modeling complex syntax or abstract semantics.\n",
    "\n",
    "There could be models that have different number of layers that do not require retraining everything from scratch.\n",
    "\n",
    "We also suggest experimenting with more advanced quantization techniques, such as post-training quantization with ONNX Runtime or quantization-aware training, which may further reduce memory and inference costs with minimal accuracy degradation. Finally, better distillation objectives that combine soft targets with intermediate layer alignment or contrastive learning may allow student models to capture richer representations without increasing model size."
   ]
  },
  {
   "cell_type": "code",
   "execution_count": null,
   "id": "71ceba55",
   "metadata": {},
   "outputs": [
    {
     "name": "stdout",
     "output_type": "stream",
     "text": [
      "\n",
      "Example 10:\n",
      "Text: can anyone tell me the medical condition that was on Melbournes all saints on the tuesday the 23td of may thanks\n",
      "True Label:     3\n",
      "Teacher Pred:   3 \n",
      "Student V1 Pred:0 \n"
     ]
    }
   ],
   "source": [
    "def predict(model, tokenizer, texts, device):\n",
    "    model.eval()\n",
    "    preds = []\n",
    "    with torch.no_grad():\n",
    "        for text in texts:\n",
    "            inputs = tokenizer(text, return_tensors=\"pt\", truncation=True, padding=True).to(device)\n",
    "            outputs = model(**inputs)\n",
    "            probs = softmax(outputs.logits, dim=1)\n",
    "            pred = torch.argmax(probs, dim=1).item()\n",
    "            preds.append(pred)\n",
    "    return preds\n",
    "\n",
    "# Predict using teacher and student_v1\n",
    "teacher_preds = predict(teacher_model, teacher_tokenizer, texts, device)\n",
    "student_preds = predict(student_v1, student_tokenizer, texts, device)\n",
    "\n",
    "# Compare and print misclassified examples\n",
    "for i, (true, t_pred, s_pred) in enumerate(zip(labels, teacher_preds, student_preds)):\n",
    "    if t_pred == true and s_pred != true:\n",
    "        print(f\"\\nExample {i}:\")\n",
    "        print(f\"Text: {texts[i]}\")\n",
    "        print(f\"True Label:     {true}\")\n",
    "        print(f\"Teacher Pred:   {t_pred} \")\n",
    "        print(f\"Student V1 Pred:{s_pred} \")"
   ]
  },
  {
   "cell_type": "markdown",
   "id": "44b97901",
   "metadata": {},
   "source": [
    "In this example, the teacher model correctly identifies the topic as class 3, likely a medical or health-related category, while the student V1 model misclassifies it as class 0. The text refers to a medical condition on a TV show, which may require more nuanced understanding of context and domain-specific terms. This suggests that the student model, due to its reduced capacity, struggles to capture such specific references and semantic cues, leading to errors in more specialized or context-dependent queries."
   ]
  }
 ],
 "metadata": {
  "kernelspec": {
   "display_name": ".venv",
   "language": "python",
   "name": "python3"
  },
  "language_info": {
   "codemirror_mode": {
    "name": "ipython",
    "version": 3
   },
   "file_extension": ".py",
   "mimetype": "text/x-python",
   "name": "python",
   "nbconvert_exporter": "python",
   "pygments_lexer": "ipython3",
   "version": "3.11.8"
  }
 },
 "nbformat": 4,
 "nbformat_minor": 5
}

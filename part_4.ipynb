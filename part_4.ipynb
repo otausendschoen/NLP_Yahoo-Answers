{
 "cells": [
  {
   "cell_type": "markdown",
   "id": "183990f3",
   "metadata": {},
   "source": [
    "![bse_logo_textminingcourse](https://bse.eu/sites/default/files/bse_logo_small.png)\n",
    "\n",
    "# *Yahoo Answers Topic Classification*\n",
    "\n",
    "### Authors: **Tirdod Behbehani, Marvin Ernst, Pol Garcia, Oliver Tausendschön** \n",
    "\n",
    "#### Class: **22DM015 Advanced Methods in Natural Language Processing**\n",
    "\n",
    "##### *Final Assigment*\n",
    "\n",
    "##### Supervisor: **Arnault Gombert**\n",
    "\n",
    "**Date: June 15, 2025**\n",
    "\n",
    "\n",
    "# **Part 4: Model Distillation and Quantization**\n",
    "\n",
    "In this section, we aim to reduce the computational load of our best-performing model from Part 3. This is essential for efficient deployment in resource-constrained environments.\n",
    "\n",
    "We want to reduce computational cost, while retaining as much perfromance as possible."
   ]
  },
  {
   "cell_type": "markdown",
   "id": "98ea981c",
   "metadata": {},
   "source": [
    "**Importing the relevant libraries:**"
   ]
  },
  {
   "cell_type": "code",
   "execution_count": 89,
   "id": "f4b11852",
   "metadata": {},
   "outputs": [],
   "source": [
    "from transformers import AutoModelForSequenceClassification, AutoTokenizer\n",
    "from transformers import DistilBertTokenizerFast, DistilBertConfig, DistilBertForSequenceClassification\n",
    "from transformers import BertModel, BertTokenizer, DistilBertModel, DistilBertTokenizer\n",
    "\n",
    "from datasets import load_dataset, Dataset\n",
    "import pandas as pd\n",
    "import numpy as np\n",
    "import random\n",
    "from sklearn.model_selection import train_test_split\n",
    "\n",
    "import torch\n",
    "from torch.utils.data import DataLoader\n",
    "from torch.optim import AdamW\n",
    "\n",
    "import torch.nn.functional as F\n",
    "\n",
    "from sklearn.metrics import accuracy_score, precision_score, recall_score\n",
    "\n",
    "import os\n",
    "import time\n",
    "import matplotlib.pyplot as plt\n",
    "\n",
    "import json\n",
    "from tqdm import tqdm\n",
    "\n",
    "from torch.quantization import quantize_dynamic\n",
    "\n",
    "import copy\n",
    "\n",
<<<<<<< HEAD
    "from torch.nn.functional import softmax\n",
    "\n",
    "from sklearn.metrics import confusion_matrix, ConfusionMatrixDisplay"
=======
    "from torch.nn.functional import softmax"
>>>>>>> f0e7895634d6c08a5b570633dca077ab16b11787
   ]
  },
  {
   "cell_type": "markdown",
   "id": "826abaad",
   "metadata": {},
   "source": [
    "Set a  seed for reproducibility:"
   ]
  },
  {
   "cell_type": "code",
<<<<<<< HEAD
   "execution_count": 71,
=======
   "execution_count": 4,
>>>>>>> f0e7895634d6c08a5b570633dca077ab16b11787
   "id": "7c9d3b63",
   "metadata": {},
   "outputs": [],
   "source": [
    "seed = 42\n",
    "def set_seed(seed):\n",
    "    random.seed(seed)\n",
    "    np.random.seed(seed)\n",
    "    torch.manual_seed(seed)\n",
    "    torch.cuda.manual_seed_all(seed)\n",
    "set_seed(seed)"
   ]
  },
  {
   "cell_type": "markdown",
   "id": "56b1a3b0",
   "metadata": {},
   "source": [
    "## a. Model Distillation/Quantization \n",
    "\n",
    "**Goal**: Convert our large BERT-based model into a smaller and faster model using knowledge distillation and/or quantization techniques."
   ]
  },
  {
   "cell_type": "markdown",
   "id": "5315e026",
   "metadata": {},
   "source": [
    "### **1. Distillation Setup**\n",
    "\n",
    "We will use the `distilbert-base-uncased` architecture as our student model. The teacher is our fine-tuned BERT model from Part 2, which was our best model.\n",
    "\n",
    "(For the teacher model we don't explicitly have to align label mapping to integer-based labels since they are already 0–9).\n",
    "\n",
    "Before we have been using hugging face, however, we encountered issues with it, thus we store the model locally, we will send you the zip file to the pretrained BERT model.\n",
    "\n",
    "This would be the hugging face option, which we still use for the tokenizer:"
   ]
  },
  {
   "cell_type": "code",
<<<<<<< HEAD
   "execution_count": 72,
   "id": "77ef65ad",
   "metadata": {},
   "outputs": [],
   "source": [
    "from huggingface_hub import login\n",
    "# Login to Hugging Face Hub\n",
    "\n",
    "\n",
    "teacher_ckpt_tokenizer = \"tirdodbehbehani/yahoo-bert-32shot_stratified_augm_2\""
   ]
  },
  {
   "cell_type": "markdown",
   "id": "ba425b29",
   "metadata": {},
   "source": [
    "This is when model is stored locally:"
   ]
  },
  {
   "cell_type": "code",
   "execution_count": 73,
   "id": "435bbc99",
   "metadata": {},
   "outputs": [
    {
     "name": "stderr",
     "output_type": "stream",
     "text": [
      "Some weights of DistilBertForSequenceClassification were not initialized from the model checkpoint at distilbert-base-uncased and are newly initialized: ['classifier.bias', 'classifier.weight', 'pre_classifier.bias', 'pre_classifier.weight']\n",
      "You should probably TRAIN this model on a down-stream task to be able to use it for predictions and inference.\n"
     ]
    }
   ],
   "source": [
=======
   "execution_count": null,
   "id": "77ef65ad",
   "metadata": {},
   "outputs": [],
   "source": [
    "from huggingface_hub import login\n",
    "# Login to Hugging Face Hub\n",
    "#login(token=\".....\")\n",
    "\n",
    "teacher_ckpt_tokenizer = \"tirdodbehbehani/yahoo-bert-32shot_stratified_augm_2\""
   ]
  },
  {
   "cell_type": "markdown",
   "id": "ba425b29",
   "metadata": {},
   "source": [
    "This is when model is stored locally:"
   ]
  },
  {
   "cell_type": "code",
   "execution_count": 6,
   "id": "435bbc99",
   "metadata": {},
   "outputs": [
    {
     "name": "stderr",
     "output_type": "stream",
     "text": [
      "Some weights of DistilBertForSequenceClassification were not initialized from the model checkpoint at distilbert-base-uncased and are newly initialized: ['classifier.bias', 'classifier.weight', 'pre_classifier.bias', 'pre_classifier.weight']\n",
      "You should probably TRAIN this model on a down-stream task to be able to use it for predictions and inference.\n"
     ]
    }
   ],
   "source": [
>>>>>>> f0e7895634d6c08a5b570633dca077ab16b11787
    "# the path to the pretrained model:\n",
    "teacher_ckpt = \"yahoo_models_best_checkpoints/results_5/checkpoint-2460\"\n",
    "teacher_model = AutoModelForSequenceClassification.from_pretrained(teacher_ckpt)\n",
    "teacher_tokenizer = AutoTokenizer.from_pretrained(teacher_ckpt_tokenizer)\n",
    "\n",
    "student_ckpt = \"distilbert-base-uncased\"\n",
    "student_model = DistilBertForSequenceClassification.from_pretrained(student_ckpt, num_labels=10)\n",
    "student_tokenizer = DistilBertTokenizerFast.from_pretrained(student_ckpt)"
   ]
  },
  {
   "cell_type": "markdown",
   "id": "302e6886",
   "metadata": {},
   "source": [
    "### **2. Dataset Preparation**\n",
    "\n",
    "We will use 5% of the dataset for distillation due to computational constraints, since the goal is here to investigate how we can do a best possible distillation, that still gets close in perfromance to the teacher's model (so we are also using the teacher's model that has been trained on 5% of the data). Of course one could also go for 100%, however the learnings would be similar."
   ]
  },
  {
   "cell_type": "markdown",
   "id": "313776f8",
   "metadata": {},
   "source": [
    "First, we load the Yahoo dataset:"
   ]
  },
  {
   "cell_type": "code",
<<<<<<< HEAD
   "execution_count": 74,
=======
   "execution_count": 7,
>>>>>>> f0e7895634d6c08a5b570633dca077ab16b11787
   "id": "e4cdae6e",
   "metadata": {},
   "outputs": [],
   "source": [
    "df = pd.concat([\n",
    "    load_dataset(\"community-datasets/yahoo_answers_topics\", split=\"train\").to_pandas(),\n",
    "    load_dataset(\"community-datasets/yahoo_answers_topics\", split=\"test\").to_pandas()\n",
    "])\n",
    "\n",
    "df = df[df[\"question_content\"].str.strip() != \"\"]\n",
    "df = df[df[\"best_answer\"].str.strip() != \"\"]\n",
    "df = df[[\"question_content\", \"topic\"]].rename(columns={\"topic\": \"label\"})\n",
    "df[\"label\"] = df[\"label\"].astype(int)"
   ]
  },
  {
   "cell_type": "markdown",
   "id": "da9ed7e6",
   "metadata": {},
   "source": [
    "Sample 5%:\n",
    "\n",
    "(We had tried using a fixed label map consistent with teacher training, but this is redundant, since labels are already 0-9.)"
   ]
  },
  {
   "cell_type": "code",
<<<<<<< HEAD
   "execution_count": 75,
=======
   "execution_count": 8,
>>>>>>> f0e7895634d6c08a5b570633dca077ab16b11787
   "id": "40808d40",
   "metadata": {},
   "outputs": [],
   "source": [
    "df_sample, _ = train_test_split(df, train_size=0.05, stratify=df[\"label\"], random_state=42)\n",
    "df_sample = df_sample.reset_index(drop=True)"
   ]
  },
  {
   "cell_type": "markdown",
   "id": "e4242c2e",
   "metadata": {},
   "source": [
    "Convert to Hugging Face Dataset:"
   ]
  },
  {
   "cell_type": "code",
<<<<<<< HEAD
   "execution_count": 76,
=======
   "execution_count": 9,
>>>>>>> f0e7895634d6c08a5b570633dca077ab16b11787
   "id": "519d8d3d",
   "metadata": {},
   "outputs": [],
   "source": [
    "dataset = Dataset.from_pandas(df_sample)"
   ]
  },
  {
   "cell_type": "markdown",
   "id": "46392cee",
   "metadata": {},
   "source": [
    "We define a function that uses the student tokenizer (i.e., DistilBERT) to tokenize our input texts:"
   ]
  },
  {
   "cell_type": "code",
<<<<<<< HEAD
   "execution_count": 77,
=======
   "execution_count": 10,
>>>>>>> f0e7895634d6c08a5b570633dca077ab16b11787
   "id": "5c5b7e56",
   "metadata": {},
   "outputs": [],
   "source": [
    "def tokenize_student(example):\n",
    "    return student_tokenizer(example[\"question_content\"], truncation=True, padding=\"max_length\", max_length=128)"
   ]
  },
  {
   "cell_type": "markdown",
   "id": "c1bbab15",
   "metadata": {},
   "source": [
    "We apply the tokenizer to our full dataset and split it into 80% training and 20% test data (with fixed seed, so everzone can reproduce it). And we format it as PyTorch tensors."
   ]
  },
  {
   "cell_type": "code",
<<<<<<< HEAD
   "execution_count": 78,
=======
   "execution_count": 11,
>>>>>>> f0e7895634d6c08a5b570633dca077ab16b11787
   "id": "502a091b",
   "metadata": {},
   "outputs": [
    {
     "data": {
      "application/vnd.jupyter.widget-view+json": {
<<<<<<< HEAD
       "model_id": "a98f88180e754c0ea00864c3131a2a98",
=======
       "model_id": "e2969206b5e14a659252c2df4d4a8f5e",
>>>>>>> f0e7895634d6c08a5b570633dca077ab16b11787
       "version_major": 2,
       "version_minor": 0
      },
      "text/plain": [
       "Map:   0%|          | 0/39297 [00:00<?, ? examples/s]"
      ]
     },
     "metadata": {},
     "output_type": "display_data"
    }
   ],
   "source": [
    "dataset = dataset.map(tokenize_student, batched=True)\n",
    "dataset = dataset.train_test_split(test_size=0.2, seed=42)\n",
    "dataset.set_format(\"torch\", columns=[\"input_ids\", \"attention_mask\", \"label\"])"
   ]
  },
  {
   "cell_type": "markdown",
   "id": "96fc2b74",
   "metadata": {},
   "source": [
    "We are creating an **evaluation function** so we can evaluate the models on the flow, on the sane test data:"
   ]
  },
  {
   "cell_type": "code",
<<<<<<< HEAD
   "execution_count": 79,
=======
   "execution_count": 12,
>>>>>>> f0e7895634d6c08a5b570633dca077ab16b11787
   "id": "c91a9303",
   "metadata": {},
   "outputs": [],
   "source": [
    "def evaluate_all_models(models_dir=\"models\", cache_file=\"model_eval_cache.json\", dataset=None, device=\"cuda\"):\n",
    "    if dataset is None:\n",
    "        raise ValueError(\"You must pass a dataset dictionary with a 'test' split.\")\n",
    "\n",
    "    # Load existing results:\n",
    "    if os.path.exists(cache_file):\n",
    "        with open(cache_file, \"r\") as f:\n",
    "            cache = json.load(f)\n",
    "    else:\n",
    "        cache = {}\n",
    "\n",
    "    test_loader = DataLoader(dataset[\"test\"], batch_size=64)\n",
    "\n",
    "    results = []\n",
    "\n",
    "    for model_name in tqdm(sorted(os.listdir(models_dir))):\n",
    "        model_path = os.path.join(models_dir, model_name)\n",
    "\n",
    "        if not os.path.isdir(model_path):\n",
    "            continue\n",
    "\n",
    "        if model_name in cache:\n",
    "            cached = cache[model_name]\n",
    "            print(f\"Using cached results for {model_name}\")\n",
    "            print(f\"Accuracy: {cached['accuracy']:.4f}\")\n",
    "            print(f\"Precision: {cached['precision']:.4f}\")\n",
    "            print(f\"Recall: {cached['recall']:.4f}\")\n",
    "            results.append(cached)\n",
    "            continue\n",
    "\n",
    "        print(f\"\\nEvaluating {model_name}\")\n",
    "        model = DistilBertForSequenceClassification.from_pretrained(model_path, local_files_only=True).to(device)\n",
    "        model.eval()\n",
    "\n",
    "        all_preds, all_labels = [], []\n",
    "\n",
    "        with torch.no_grad():\n",
    "            for batch in test_loader:\n",
    "                input_ids = batch[\"input_ids\"].to(device)\n",
    "                attention_mask = batch[\"attention_mask\"].to(device)\n",
    "                labels = batch[\"label\"].cpu().numpy()\n",
    "\n",
    "                outputs = model(input_ids=input_ids, attention_mask=attention_mask)\n",
    "                preds = torch.argmax(outputs.logits, axis=1).cpu().numpy()\n",
    "\n",
    "                all_preds.extend(preds)\n",
    "                all_labels.extend(labels)\n",
    "\n",
    "        acc = accuracy_score(all_labels, all_preds)\n",
    "        prec = precision_score(all_labels, all_preds, average=\"macro\")\n",
    "        rec = recall_score(all_labels, all_preds, average=\"macro\")\n",
    "\n",
    "        print(f\"Accuracy:  {acc:.4f}\")\n",
    "        print(f\"Precision: {prec:.4f}\")\n",
    "        print(f\"Recall:    {rec:.4f}\")\n",
    "\n",
    "        result = {\n",
    "            \"version\": model_name,\n",
    "            \"accuracy\": acc,\n",
    "            \"precision\": prec,\n",
    "            \"recall\": rec\n",
    "        }\n",
    "\n",
    "        # Save to cache and results:\n",
    "        cache[model_name] = result\n",
    "        results.append(result)\n",
    "\n",
    "        # We save after every model:\n",
    "        with open(cache_file, \"w\") as f:\n",
    "            json.dump(cache, f, indent=2)\n",
    "\n",
    "    return results"
   ]
  },
  {
   "cell_type": "markdown",
   "id": "8f25bb65",
   "metadata": {},
   "source": [
    "### **3. Distillation Training**\n",
    "\n",
    "We batch the training data into mini-batches of 32 and shuffle them each epoch to reduce overfitting.\n",
    "\n",
    "We use a simple loss function that encourages the student to match the teacher's predictions, this is AdamW, the standard optimizer (we had also used before).\n",
    "\n",
    "(Note that runtime we will compare after we have selected the best couple distilled models that have been trained for ,ore than 1 epoch etc., what we are doing right now is first to find good configurations.)"
   ]
  },
  {
   "cell_type": "code",
<<<<<<< HEAD
   "execution_count": 80,
=======
   "execution_count": 13,
>>>>>>> f0e7895634d6c08a5b570633dca077ab16b11787
   "id": "aa854e12",
   "metadata": {},
   "outputs": [],
   "source": [
    "device = torch.device(\"cuda\" if torch.cuda.is_available() else \"cpu\")\n",
    "teacher_model.to(device).eval()\n",
    "student_model.to(device).train()\n",
    "\n",
    "train_loader = DataLoader(dataset[\"train\"], batch_size=32, shuffle=True)\n",
    "optimizer = AdamW(student_model.parameters(), lr=5e-5)"
   ]
  },
  {
   "cell_type": "markdown",
   "id": "bc7bbaf7",
   "metadata": {},
   "source": [
    "This is for the validation (when we do earlzy stopping) to avoid overfitting we can evaluate on the test set (here we use batch size 64):"
   ]
  },
  {
   "cell_type": "code",
<<<<<<< HEAD
   "execution_count": 81,
=======
   "execution_count": 14,
>>>>>>> f0e7895634d6c08a5b570633dca077ab16b11787
   "id": "6b4b535d",
   "metadata": {},
   "outputs": [],
   "source": [
    "val_loader = DataLoader(dataset[\"test\"], batch_size=64)"
   ]
  },
  {
   "cell_type": "markdown",
   "id": "abc25e02",
   "metadata": {},
   "source": [
    "We define a distillation loss that combines **cross-entropy loss** and **Kullback-Leibler divergence**.\n",
    "\n",
    "The paramters that we define here are:\n",
    "\n",
    "**temperature**: softens probabilities, making them more informative, we set it at 2, with this we have smoother distributions as we have see in lecture 9 (slide 18). This means we have more randomness in LLMs, here it means that the model is less canfidence in the distillation. So the student model can learn fine grained-relationships between classes.\n",
    "\n",
    "**alpha**: controls trade-off between matching true labels (CE) and teacher behavior (KL), so how much weight we give to the ground truth vs. the teacher. So with 0.5 we \"equally\" balance between the true labels and the teacher knowledge (via the KL divergence on the softened logits)."
   ]
  },
  {
   "cell_type": "code",
<<<<<<< HEAD
   "execution_count": 82,
=======
   "execution_count": 15,
>>>>>>> f0e7895634d6c08a5b570633dca077ab16b11787
   "id": "3ceac390",
   "metadata": {},
   "outputs": [],
   "source": [
    "def distillation_loss(student_logits, teacher_logits, true_labels, alpha=0.5, temperature=2.0):\n",
    "    ce_loss = F.cross_entropy(student_logits, true_labels)\n",
    "    kl_loss = F.kl_div(\n",
    "        F.log_softmax(student_logits / temperature, dim=1),\n",
    "        F.softmax(teacher_logits / temperature, dim=1),\n",
    "        reduction=\"batchmean\"\n",
    "    ) * (temperature ** 2)\n",
    "    return alpha * ce_loss + (1 - alpha) * kl_loss"
   ]
  },
  {
   "cell_type": "markdown",
   "id": "77905ed4",
   "metadata": {},
   "source": [
    "#### *First Version of the Student Model*\n",
    "\n",
    "Just with three epochs and temperature = 2.0 and alpha 0.5."
   ]
  },
  {
   "cell_type": "markdown",
   "id": "23407c80",
   "metadata": {},
   "source": [
    "**Training Loop (Distillation):**\n",
    "\n",
    "We are using real teacher probabilities, not just argmax. With argmax, we would be doing hard predictions like [0,0,1,0,0,1,0,...]. But we are using soft distribution over classes, because they can carry moreinformation as hard labels. Obviouslz, if you consider distributions and when outcomes are Bernoulli, that is the least informative ditribution, you only know for example that class 2 is correct, but zou do not have anz information about the others. If you have soft targets (probability distribution) from the teacher, e.g., [0.01, 0.05, 0.70, 0.23, 0.01, ..., 0.00], then you learn that the teacher is mostly confident in class 2, but also thinks class 3 is plausible (e.g., it relates to computers),and class 1 is mildly relevant (math-related learning). The student now gets more nuanced supervision - not just \"what’s correct,\" but also \"how close are other classes?\" So what we get is a bigger or richer signal than we would get from the true label alone."
   ]
  },
  {
   "cell_type": "code",
   "execution_count": 22,
   "id": "aee8fd62",
   "metadata": {},
   "outputs": [
    {
     "name": "stdout",
     "output_type": "stream",
     "text": [
      "Epoch 1: Loss = 1370.8307\n",
      "Epoch 2: Loss = 1370.8407\n",
      "Epoch 3: Loss = 1370.6875\n"
     ]
    }
   ],
   "source": [
    "for epoch in range(3):\n",
    "    total_loss = 0\n",
    "    for batch in train_loader:\n",
    "        input_ids = batch[\"input_ids\"].to(device)\n",
    "        attention_mask = batch[\"attention_mask\"].to(device)\n",
    "        labels = batch[\"label\"].to(device)\n",
    "\n",
    "        with torch.no_grad():\n",
    "            teacher_logits = teacher_model(input_ids=input_ids, attention_mask=attention_mask).logits\n",
    "\n",
    "        student_logits = student_model(input_ids=input_ids, attention_mask=attention_mask).logits\n",
    "        loss = distillation_loss(student_logits, teacher_logits, labels)\n",
    "\n",
    "        loss.backward()\n",
    "        optimizer.step()\n",
    "        optimizer.zero_grad()\n",
    "\n",
    "        total_loss += loss.item()\n",
    "    print(f\"Epoch {epoch + 1}: Loss = {total_loss:.4f}\")"
   ]
  },
  {
   "cell_type": "markdown",
   "id": "8197118d",
   "metadata": {},
   "source": [
    "This took 14 minutes and 27.1 seconds on a computer with GPU (NVIDIA GeForce RTX 4060 8GB GDDR6.)\n",
    "\n",
    "We can see that the student model is not really improving much, so it has already learned from both the teacher's predictions and the true labels (so more epochs may not lead to better perfromance)."
   ]
  },
  {
   "cell_type": "markdown",
   "id": "e5dc1a4b",
   "metadata": {},
   "source": [
    "Save student model (first version):"
   ]
  },
  {
   "cell_type": "code",
   "execution_count": 23,
   "id": "8a6dfe44",
   "metadata": {},
   "outputs": [
    {
     "data": {
      "text/plain": [
       "('models/student_v1/tokenizer_config.json',\n",
       " 'models/student_v1/special_tokens_map.json',\n",
       " 'models/student_v1/vocab.txt',\n",
       " 'models/student_v1/added_tokens.json',\n",
       " 'models/student_v1/tokenizer.json')"
      ]
     },
     "execution_count": 23,
     "metadata": {},
     "output_type": "execute_result"
    }
   ],
   "source": [
    "save_path = \"models/student_v1\"\n",
    "student_model.save_pretrained(save_path)\n",
    "student_tokenizer.save_pretrained(save_path)"
   ]
  },
  {
   "cell_type": "code",
   "execution_count": 16,
   "id": "d97b5b57",
   "metadata": {},
   "outputs": [
    {
     "name": "stderr",
     "output_type": "stream",
     "text": [
      "100%|██████████| 1/1 [00:00<00:00, 5349.88it/s]"
     ]
    },
    {
     "name": "stdout",
     "output_type": "stream",
     "text": [
      "Using cached results for student_v1\n",
      "Accuracy: 0.8272\n",
      "Precision: 0.8281\n",
      "Recall: 0.8238\n"
     ]
    },
    {
     "name": "stderr",
     "output_type": "stream",
     "text": [
      "\n"
     ]
    }
   ],
   "source": [
    "results = evaluate_all_models(\n",
    "    models_dir=\"models\",\n",
    "    cache_file=\"model_eval_cache.json\",\n",
    "    dataset=dataset,\n",
    "    device=\"cuda\" if torch.cuda.is_available() else \"cpu\"\n",
    ")"
   ]
  },
  {
   "cell_type": "markdown",
   "id": "ce4a43d4",
   "metadata": {},
   "source": [
    "We can see that the perfromance is already quite good for the first very simple version, still, we want to try to further improve it."
   ]
  },
  {
   "cell_type": "markdown",
   "id": "2a2c45b0",
   "metadata": {},
   "source": [
    "#### *Diverse Versions of the Student Model*\n",
    "\n",
    "Before we do further exploration of the student with different attention heads or hidden layers, or even longer training, using more epochs, we will first inspect different distillation parameters:\n",
    "\n",
    "**temperature**: 1.0, 2.0, 5.0\n",
    "\n",
    "Higher = softer logits = more signal in probabilities.\n",
    "\n",
    "**alpha**: 0.2, 0.5, 0.8\n",
    "\n",
    "Give more weight to matching the teacher.\n",
    "\n",
    "We still include the initial setup, since we now only want to do it with one epoch, just to see which may be better parameters (so it is comparable). We are also using batch size 64 for faster evaluation."
   ]
  },
  {
   "cell_type": "code",
   "execution_count": 17,
   "id": "7f887bb6",
   "metadata": {},
   "outputs": [
    {
     "name": "stdout",
     "output_type": "stream",
     "text": [
      "\n",
      "Training student model with alpha=0.2, temperature=1.0\n"
     ]
    },
    {
     "name": "stderr",
     "output_type": "stream",
     "text": [
      "Some weights of DistilBertForSequenceClassification were not initialized from the model checkpoint at distilbert-base-uncased and are newly initialized: ['classifier.bias', 'classifier.weight', 'pre_classifier.bias', 'pre_classifier.weight']\n",
      "You should probably TRAIN this model on a down-stream task to be able to use it for predictions and inference.\n"
     ]
    },
    {
     "name": "stdout",
     "output_type": "stream",
     "text": [
      "Epoch 1 done for alpha=0.2, temperature=1.0 | Loss: 417.8267\n",
      "\n",
      "Training student model with alpha=0.2, temperature=2.0\n"
     ]
    },
    {
     "name": "stderr",
     "output_type": "stream",
     "text": [
      "Some weights of DistilBertForSequenceClassification were not initialized from the model checkpoint at distilbert-base-uncased and are newly initialized: ['classifier.bias', 'classifier.weight', 'pre_classifier.bias', 'pre_classifier.weight']\n",
      "You should probably TRAIN this model on a down-stream task to be able to use it for predictions and inference.\n"
     ]
    },
    {
     "name": "stdout",
     "output_type": "stream",
     "text": [
      "Epoch 1 done for alpha=0.2, temperature=2.0 | Loss: 678.6311\n",
      "\n",
      "Training student model with alpha=0.2, temperature=5.0\n"
     ]
    },
    {
     "name": "stderr",
     "output_type": "stream",
     "text": [
      "Some weights of DistilBertForSequenceClassification were not initialized from the model checkpoint at distilbert-base-uncased and are newly initialized: ['classifier.bias', 'classifier.weight', 'pre_classifier.bias', 'pre_classifier.weight']\n",
      "You should probably TRAIN this model on a down-stream task to be able to use it for predictions and inference.\n"
     ]
    },
    {
     "name": "stdout",
     "output_type": "stream",
     "text": [
      "Epoch 1 done for alpha=0.2, temperature=5.0 | Loss: 602.1761\n",
      "\n",
      "Training student model with alpha=0.5, temperature=1.0\n"
     ]
    },
    {
     "name": "stderr",
     "output_type": "stream",
     "text": [
      "Some weights of DistilBertForSequenceClassification were not initialized from the model checkpoint at distilbert-base-uncased and are newly initialized: ['classifier.bias', 'classifier.weight', 'pre_classifier.bias', 'pre_classifier.weight']\n",
      "You should probably TRAIN this model on a down-stream task to be able to use it for predictions and inference.\n"
     ]
    },
    {
     "name": "stdout",
     "output_type": "stream",
     "text": [
      "Epoch 1 done for alpha=0.5, temperature=1.0 | Loss: 487.7130\n",
      "\n",
      "Training student model with alpha=0.5, temperature=2.0\n"
     ]
    },
    {
     "name": "stderr",
     "output_type": "stream",
     "text": [
      "Some weights of DistilBertForSequenceClassification were not initialized from the model checkpoint at distilbert-base-uncased and are newly initialized: ['classifier.bias', 'classifier.weight', 'pre_classifier.bias', 'pre_classifier.weight']\n",
      "You should probably TRAIN this model on a down-stream task to be able to use it for predictions and inference.\n"
     ]
    },
    {
     "name": "stdout",
     "output_type": "stream",
     "text": [
      "Epoch 1 done for alpha=0.5, temperature=2.0 | Loss: 658.4089\n",
      "\n",
      "Training student model with alpha=0.5, temperature=5.0\n"
     ]
    },
    {
     "name": "stderr",
     "output_type": "stream",
     "text": [
      "Some weights of DistilBertForSequenceClassification were not initialized from the model checkpoint at distilbert-base-uncased and are newly initialized: ['classifier.bias', 'classifier.weight', 'pre_classifier.bias', 'pre_classifier.weight']\n",
      "You should probably TRAIN this model on a down-stream task to be able to use it for predictions and inference.\n"
     ]
    },
    {
     "name": "stdout",
     "output_type": "stream",
     "text": [
      "Epoch 1 done for alpha=0.5, temperature=5.0 | Loss: 619.1440\n",
      "\n",
      "Training student model with alpha=0.8, temperature=1.0\n"
     ]
    },
    {
     "name": "stderr",
     "output_type": "stream",
     "text": [
      "Some weights of DistilBertForSequenceClassification were not initialized from the model checkpoint at distilbert-base-uncased and are newly initialized: ['classifier.bias', 'classifier.weight', 'pre_classifier.bias', 'pre_classifier.weight']\n",
      "You should probably TRAIN this model on a down-stream task to be able to use it for predictions and inference.\n"
     ]
    },
    {
     "name": "stdout",
     "output_type": "stream",
     "text": [
      "Epoch 1 done for alpha=0.8, temperature=1.0 | Loss: 556.1922\n",
      "\n",
      "Training student model with alpha=0.8, temperature=2.0\n"
     ]
    },
    {
     "name": "stderr",
     "output_type": "stream",
     "text": [
      "Some weights of DistilBertForSequenceClassification were not initialized from the model checkpoint at distilbert-base-uncased and are newly initialized: ['classifier.bias', 'classifier.weight', 'pre_classifier.bias', 'pre_classifier.weight']\n",
      "You should probably TRAIN this model on a down-stream task to be able to use it for predictions and inference.\n"
     ]
    },
    {
     "name": "stdout",
     "output_type": "stream",
     "text": [
      "Epoch 1 done for alpha=0.8, temperature=2.0 | Loss: 631.4859\n",
      "\n",
      "Training student model with alpha=0.8, temperature=5.0\n"
     ]
    },
    {
     "name": "stderr",
     "output_type": "stream",
     "text": [
      "Some weights of DistilBertForSequenceClassification were not initialized from the model checkpoint at distilbert-base-uncased and are newly initialized: ['classifier.bias', 'classifier.weight', 'pre_classifier.bias', 'pre_classifier.weight']\n",
      "You should probably TRAIN this model on a down-stream task to be able to use it for predictions and inference.\n"
     ]
    },
    {
     "name": "stdout",
     "output_type": "stream",
     "text": [
      "Epoch 1 done for alpha=0.8, temperature=5.0 | Loss: 613.5604\n"
     ]
    }
   ],
   "source": [
    "train_loader = DataLoader(dataset[\"train\"], batch_size=64, shuffle=True)\n",
    "\n",
    "# Parameter grid\n",
    "alphas = [0.2, 0.5, 0.8]\n",
    "temperatures = [1.0, 2.0, 5.0]\n",
    "\n",
    "for alpha in alphas:\n",
    "    for temperature in temperatures:\n",
    "        print(f\"\\nTraining student model with alpha={alpha}, temperature={temperature}\")\n",
    "\n",
    "        # Fresh student model each time\n",
    "        student_model = DistilBertForSequenceClassification.from_pretrained(\n",
    "            \"distilbert-base-uncased\", num_labels=10\n",
    "        ).to(device)\n",
    "        optimizer = AdamW(student_model.parameters(), lr=5e-5)\n",
    "        student_model.train()\n",
    "\n",
    "        total_loss = 0\n",
    "\n",
    "        for batch in train_loader:\n",
    "            input_ids = batch[\"input_ids\"].to(device)\n",
    "            attention_mask = batch[\"attention_mask\"].to(device)\n",
    "            labels = batch[\"label\"].to(device)\n",
    "\n",
    "            with torch.no_grad():\n",
    "                teacher_logits = teacher_model(input_ids=input_ids, attention_mask=attention_mask).logits\n",
    "\n",
    "            student_logits = student_model(input_ids=input_ids, attention_mask=attention_mask).logits\n",
    "            loss = distillation_loss(student_logits, teacher_logits, labels, alpha=alpha, temperature=temperature)\n",
    "\n",
    "            loss.backward()\n",
    "            optimizer.step()\n",
    "            optimizer.zero_grad()\n",
    "\n",
    "            total_loss += loss.item()\n",
    "\n",
    "        print(f\"Epoch 1 done for alpha={alpha}, temperature={temperature} | Loss: {total_loss:.4f}\")\n",
    "\n",
    "        # Save model and tokenizer\n",
    "        save_path = f\"models/student_a{alpha}_t{temperature}/\"\n",
    "        os.makedirs(save_path, exist_ok=True)\n",
    "        student_model.save_pretrained(save_path)\n",
    "        student_tokenizer.save_pretrained(save_path)"
   ]
  },
  {
   "cell_type": "markdown",
   "id": "3c561f43",
   "metadata": {},
   "source": [
    "**Evaluate the Performance:**"
   ]
  },
  {
   "cell_type": "code",
   "execution_count": 18,
   "id": "49225223",
   "metadata": {},
   "outputs": [
    {
     "name": "stderr",
     "output_type": "stream",
     "text": [
      "  0%|          | 0/10 [00:00<?, ?it/s]"
     ]
    },
    {
     "name": "stdout",
     "output_type": "stream",
     "text": [
      "\n",
      "Evaluating student_a0.2_t1.0\n"
     ]
    },
    {
     "name": "stderr",
     "output_type": "stream",
     "text": [
      " 10%|█         | 1/10 [00:14<02:14, 14.99s/it]"
     ]
    },
    {
     "name": "stdout",
     "output_type": "stream",
     "text": [
      "Accuracy:  0.6670\n",
      "Precision: 0.6679\n",
      "Recall:    0.6626\n",
      "\n",
      "Evaluating student_a0.2_t2.0\n"
     ]
    },
    {
     "name": "stderr",
     "output_type": "stream",
     "text": [
      " 20%|██        | 2/10 [00:30<02:00, 15.01s/it]"
     ]
    },
    {
     "name": "stdout",
     "output_type": "stream",
     "text": [
      "Accuracy:  0.6651\n",
      "Precision: 0.6663\n",
      "Recall:    0.6623\n",
      "\n",
      "Evaluating student_a0.2_t5.0\n"
     ]
    },
    {
     "name": "stderr",
     "output_type": "stream",
     "text": [
      " 30%|███       | 3/10 [00:45<01:45, 15.02s/it]"
     ]
    },
    {
     "name": "stdout",
     "output_type": "stream",
     "text": [
      "Accuracy:  0.6665\n",
      "Precision: 0.6670\n",
      "Recall:    0.6634\n",
      "\n",
      "Evaluating student_a0.5_t1.0\n"
     ]
    },
    {
     "name": "stderr",
     "output_type": "stream",
     "text": [
      " 40%|████      | 4/10 [01:00<01:30, 15.03s/it]"
     ]
    },
    {
     "name": "stdout",
     "output_type": "stream",
     "text": [
      "Accuracy:  0.6651\n",
      "Precision: 0.6661\n",
      "Recall:    0.6614\n",
      "\n",
      "Evaluating student_a0.5_t2.0\n"
     ]
    },
    {
     "name": "stderr",
     "output_type": "stream",
     "text": [
      " 50%|█████     | 5/10 [01:15<01:15, 15.04s/it]"
     ]
    },
    {
     "name": "stdout",
     "output_type": "stream",
     "text": [
      "Accuracy:  0.6599\n",
      "Precision: 0.6679\n",
      "Recall:    0.6538\n",
      "\n",
      "Evaluating student_a0.5_t5.0\n"
     ]
    },
    {
     "name": "stderr",
     "output_type": "stream",
     "text": [
      " 60%|██████    | 6/10 [01:30<01:00, 15.05s/it]"
     ]
    },
    {
     "name": "stdout",
     "output_type": "stream",
     "text": [
      "Accuracy:  0.6651\n",
      "Precision: 0.6724\n",
      "Recall:    0.6625\n",
      "\n",
      "Evaluating student_a0.8_t1.0\n"
     ]
    },
    {
     "name": "stderr",
     "output_type": "stream",
     "text": [
      " 70%|███████   | 7/10 [01:45<00:45, 15.05s/it]"
     ]
    },
    {
     "name": "stdout",
     "output_type": "stream",
     "text": [
      "Accuracy:  0.6604\n",
      "Precision: 0.6618\n",
      "Recall:    0.6582\n",
      "\n",
      "Evaluating student_a0.8_t2.0\n"
     ]
    },
    {
     "name": "stderr",
     "output_type": "stream",
     "text": [
      " 80%|████████  | 8/10 [02:00<00:30, 15.05s/it]"
     ]
    },
    {
     "name": "stdout",
     "output_type": "stream",
     "text": [
      "Accuracy:  0.6581\n",
      "Precision: 0.6698\n",
      "Recall:    0.6516\n",
      "\n",
      "Evaluating student_a0.8_t5.0\n"
     ]
    },
    {
     "name": "stderr",
     "output_type": "stream",
     "text": [
      "100%|██████████| 10/10 [02:15<00:00, 13.54s/it]"
     ]
    },
    {
     "name": "stdout",
     "output_type": "stream",
     "text": [
      "Accuracy:  0.6659\n",
      "Precision: 0.6607\n",
      "Recall:    0.6637\n",
      "Using cached results for student_v1\n",
      "Accuracy: 0.8272\n",
      "Precision: 0.8281\n",
      "Recall: 0.8238\n"
     ]
    },
    {
     "name": "stderr",
     "output_type": "stream",
     "text": [
      "\n"
     ]
    }
   ],
   "source": [
    "results = evaluate_all_models(\n",
    "    models_dir=\"models\",\n",
    "    cache_file=\"model_eval_cache.json\",\n",
    "    dataset=dataset,\n",
    "    device=device\n",
    ")"
   ]
  },
  {
   "cell_type": "markdown",
   "id": "fcacec32",
   "metadata": {},
   "source": [
    "From this we can see that the combination of alpha = 0.2 and temperature = 1.0 yielded the best results in terms of overall performance. It achieved the lowest training loss (417.83) and the highest evaluation accuracy (66.70%), along with strong precision and recall values. This means that our student model benefitted most from a stronger emphasis on the teacher's predictions (1 - alpha = 0.8) and sharper (less softened) output distributions from the teacher (temperature = 1.0).\n",
    "\n",
    "When increasing the temperature to 2.0 or 5.0, we observe higher training loss and slightly lower accuracy across all alpha values. This suggests that over-smoothing the teacher's output distribution (via higher temperatures) made the learning signal less precise, especially for a student trained on only one epoch and a limited dataset.\n",
    "\n",
    "Similarly, increasing alpha, which shifts the loss more toward the ground truth labels, did not yield better performance. For example, with alpha = 0.8, the models performed consistently worse across all temperatures. This indicates that the teacher’s knowledge was more informative than the sparse ground truth in this few-shot setting, and leveraging that knowledge more (via a lower alpha) was beneficial.\n",
    "\n",
    "So this tells us that for fast, low-resource distillation, it's best to rely more on the teacher predictions (meaning low alpha), and also to keep the teacher outputs sharp (low temperature), and limit over-smoothing and underfitting by avoiding overly softened distributions or too much reliance on hard labels.\n",
    "\n",
    "For all future experiments, we therefore fix the distillation parameters to **alpha = 0.2 and temperature = 1.0**.\n",
    "\n",
    "Note that of course we see that with the smaller batch size we had better perfromance, but now for tuning paprameters, we will stick with 64, and then later reduce it for the model with the best parameters again to 32 and then train it with more epochs."
   ]
  },
  {
   "cell_type": "markdown",
   "id": "3309ec05",
   "metadata": {},
   "source": [
    "#### *Different Hidden Layer and Dimension Versions of a Non-Student Model*\n",
    "\n",
    "Now,  we evaluate variants of the student model without using pretrained weights, since we are deviating from the default DistilBERT architecture (i.e., number of layers and hidden size). These models are initialized from scratch and trained using only the supervision provided by the teacher through distillation.\n",
    "\n",
    "Full BERT consists of 12 layers, while DistilBERT reduces this to 6 layers. Here, we experiment with 4 layers, to further reduce inference cost, and 8 layers, which increases capacity and may enable the student to better approximate the teacher’s behavior during distillation, despite not starting from pretrained knowledge.\n",
    "\n",
    "\n",
    "In addition to the number of layers, we vary the hidden dimension, which determines the size of the embeddings and the hidden states within each transformer block. DistilBERT uses a hidden size of 768 by default. We test 768, the standard width, and 384, a smaller variant that significantly reduces the number of parameters and computational cost.\n",
    "\n",
    "We are also testing for different hidden dimensions. The hidden dimension defines the size of the embeddings and hidden states within each transformer block. DistilBERT uses a hidden size of 768 by default. We test the following two configurations: 768 (standard width), and 384, a smaller variant that significantly reduces the number of parameters and compute.\n",
    "\n",
    "\n",
    "For each configuration the feedforward (intermediate) dimension is set to four times the hidden size and the number of attention heads is chosen to ensure hidden_size % num_heads = 0.\n",
    "\n",
    "This setup allows us to explore how well different randomly initialized architectures can learn from a strong teacher via distillation, and how size impacts performance when not relying on pretrained knowledge.\n",
    "\n",
    "Best parameters from previous distillation sweep:"
   ]
  },
  {
   "cell_type": "code",
   "execution_count": null,
   "id": "1e2ee4b3",
   "metadata": {},
   "outputs": [],
   "source": [
    "alpha = 0.2\n",
    "temperature = 1.0"
   ]
  },
  {
   "cell_type": "markdown",
   "id": "338c9c4f",
   "metadata": {},
   "source": [
    "Training with this new hidden layer and dimensions configurations:"
   ]
  },
  {
   "cell_type": "code",
   "execution_count": 20,
   "id": "57eb9759",
   "metadata": {},
   "outputs": [
    {
     "name": "stdout",
     "output_type": "stream",
     "text": [
      "\n",
      "Training student with 4 layers and dim=384\n",
      "Epoch 1 complete | Layers: 4, Dim: 384 | Loss: 861.1549\n",
      "\n",
      "Training student with 4 layers and dim=768\n",
      "Epoch 1 complete | Layers: 4, Dim: 768 | Loss: 781.6780\n",
      "\n",
      "Training student with 6 layers and dim=384\n",
      "Epoch 1 complete | Layers: 6, Dim: 384 | Loss: 856.0326\n",
      "\n",
      "Training student with 6 layers and dim=768\n",
      "Epoch 1 complete | Layers: 6, Dim: 768 | Loss: 792.1129\n",
      "\n",
      "Training student with 8 layers and dim=384\n",
      "Epoch 1 complete | Layers: 8, Dim: 384 | Loss: 846.5542\n",
      "\n",
      "Training student with 8 layers and dim=768\n",
      "Epoch 1 complete | Layers: 8, Dim: 768 | Loss: 796.0934\n"
     ]
    }
   ],
   "source": [
    "hidden_layer_options = [4, 6, 8]\n",
    "hidden_dim_options = [384, 768]\n",
    "\n",
    "for num_layers in hidden_layer_options:\n",
    "    for dim in hidden_dim_options:\n",
    "        print(f\"\\nTraining student with {num_layers} layers and dim={dim}\")\n",
    "\n",
    "        # Defining the model configuration:\n",
    "        config = DistilBertConfig(\n",
    "            num_labels=10,\n",
    "            n_layers=num_layers,\n",
    "            dim=dim, # embedding and hidden state size\n",
    "            hidden_dim=dim * 4,# feedforward size (standard)\n",
    "            n_heads=dim // 64, # ensure heads divide dim (e.g., 6 for dim=384)\n",
    "        )\n",
    "        student_model = DistilBertForSequenceClassification(config).to(device)\n",
    "        optimizer = AdamW(student_model.parameters(), lr=5e-5)\n",
    "        student_model.train()\n",
    "\n",
    "        total_loss = 0\n",
    "\n",
    "        for batch in train_loader:\n",
    "            input_ids = batch[\"input_ids\"].to(device)\n",
    "            attention_mask = batch[\"attention_mask\"].to(device)\n",
    "            labels = batch[\"label\"].to(device)\n",
    "\n",
    "            with torch.no_grad():\n",
    "                teacher_logits = teacher_model(input_ids=input_ids, attention_mask=attention_mask).logits\n",
    "\n",
    "            student_logits = student_model(input_ids=input_ids, attention_mask=attention_mask).logits\n",
    "            loss = distillation_loss(student_logits, teacher_logits, labels, alpha=alpha, temperature=temperature)\n",
    "\n",
    "            loss.backward()\n",
    "            optimizer.step()\n",
    "            optimizer.zero_grad()\n",
    "\n",
    "            total_loss += loss.item()\n",
    "\n",
    "        print(f\"Epoch 1 complete | Layers: {num_layers}, Dim: {dim} | Loss: {total_loss:.4f}\")\n",
    "\n",
    "        # Save model\n",
    "        save_path = f\"models/student_l{num_layers}_d{dim}_a{alpha}_t{temperature}/\"\n",
    "        os.makedirs(save_path, exist_ok=True)\n",
    "        student_model.save_pretrained(save_path)\n",
    "        student_tokenizer.save_pretrained(save_path)"
   ]
  },
  {
   "cell_type": "markdown",
   "id": "3fb579e8",
   "metadata": {},
   "source": [
    "**Evaluate the Performance:**"
   ]
  },
  {
   "cell_type": "code",
   "execution_count": 21,
   "id": "2bcb6706",
   "metadata": {},
   "outputs": [
    {
     "name": "stderr",
     "output_type": "stream",
     "text": [
      "  0%|          | 0/16 [00:00<?, ?it/s]"
     ]
    },
    {
     "name": "stdout",
     "output_type": "stream",
     "text": [
      "Using cached results for student_a0.2_t1.0\n",
      "Accuracy: 0.6670\n",
      "Precision: 0.6679\n",
      "Recall: 0.6626\n",
      "Using cached results for student_a0.2_t2.0\n",
      "Accuracy: 0.6651\n",
      "Precision: 0.6663\n",
      "Recall: 0.6623\n",
      "Using cached results for student_a0.2_t5.0\n",
      "Accuracy: 0.6665\n",
      "Precision: 0.6670\n",
      "Recall: 0.6634\n",
      "Using cached results for student_a0.5_t1.0\n",
      "Accuracy: 0.6651\n",
      "Precision: 0.6661\n",
      "Recall: 0.6614\n",
      "Using cached results for student_a0.5_t2.0\n",
      "Accuracy: 0.6599\n",
      "Precision: 0.6679\n",
      "Recall: 0.6538\n",
      "Using cached results for student_a0.5_t5.0\n",
      "Accuracy: 0.6651\n",
      "Precision: 0.6724\n",
      "Recall: 0.6625\n",
      "Using cached results for student_a0.8_t1.0\n",
      "Accuracy: 0.6604\n",
      "Precision: 0.6618\n",
      "Recall: 0.6582\n",
      "Using cached results for student_a0.8_t2.0\n",
      "Accuracy: 0.6581\n",
      "Precision: 0.6698\n",
      "Recall: 0.6516\n",
      "Using cached results for student_a0.8_t5.0\n",
      "Accuracy: 0.6659\n",
      "Precision: 0.6607\n",
      "Recall: 0.6637\n",
      "\n",
      "Evaluating student_l4_d384_a0.2_t1.0\n"
     ]
    },
    {
     "name": "stderr",
     "output_type": "stream",
     "text": [
      " 62%|██████▎   | 10/16 [00:03<00:01,  3.27it/s]"
     ]
    },
    {
     "name": "stdout",
     "output_type": "stream",
     "text": [
      "Accuracy:  0.4001\n",
      "Precision: 0.3538\n",
      "Recall:    0.3860\n",
      "\n",
      "Evaluating student_l4_d768_a0.2_t1.0\n"
     ]
    },
    {
     "name": "stderr",
     "output_type": "stream",
     "text": [
      " 69%|██████▉   | 11/16 [00:13<00:07,  1.54s/it]"
     ]
    },
    {
     "name": "stdout",
     "output_type": "stream",
     "text": [
      "Accuracy:  0.4884\n",
      "Precision: 0.4933\n",
      "Recall:    0.4779\n",
      "\n",
      "Evaluating student_l6_d384_a0.2_t1.0\n"
     ]
    },
    {
     "name": "stderr",
     "output_type": "stream",
     "text": [
      " 75%|███████▌  | 12/16 [00:17<00:07,  1.99s/it]"
     ]
    },
    {
     "name": "stdout",
     "output_type": "stream",
     "text": [
      "Accuracy:  0.3715\n",
      "Precision: 0.3625\n",
      "Recall:    0.3626\n",
      "\n",
      "Evaluating student_l6_d768_a0.2_t1.0\n"
     ]
    },
    {
     "name": "stderr",
     "output_type": "stream",
     "text": [
      " 81%|████████▏ | 13/16 [00:32<00:12,  4.33s/it]"
     ]
    },
    {
     "name": "stdout",
     "output_type": "stream",
     "text": [
      "Accuracy:  0.4841\n",
      "Precision: 0.4862\n",
      "Recall:    0.4766\n",
      "\n",
      "Evaluating student_l8_d384_a0.2_t1.0\n"
     ]
    },
    {
     "name": "stderr",
     "output_type": "stream",
     "text": [
      " 88%|████████▊ | 14/16 [00:38<00:09,  4.65s/it]"
     ]
    },
    {
     "name": "stdout",
     "output_type": "stream",
     "text": [
      "Accuracy:  0.3802\n",
      "Precision: 0.3601\n",
      "Recall:    0.3719\n",
      "\n",
      "Evaluating student_l8_d768_a0.2_t1.0\n"
     ]
    },
    {
     "name": "stderr",
     "output_type": "stream",
     "text": [
      "100%|██████████| 16/16 [00:58<00:00,  3.68s/it]"
     ]
    },
    {
     "name": "stdout",
     "output_type": "stream",
     "text": [
      "Accuracy:  0.4630\n",
      "Precision: 0.5029\n",
      "Recall:    0.4505\n",
      "Using cached results for student_v1\n",
      "Accuracy: 0.8272\n",
      "Precision: 0.8281\n",
      "Recall: 0.8238\n"
     ]
    },
    {
     "name": "stderr",
     "output_type": "stream",
     "text": [
      "\n"
     ]
    }
   ],
   "source": [
    "results = evaluate_all_models(\n",
    "    models_dir=\"models\",\n",
    "    cache_file=\"model_eval_cache.json\",\n",
    "    dataset=dataset,\n",
    "    device=device\n",
    ")"
   ]
  },
  {
   "cell_type": "markdown",
   "id": "242bd747",
   "metadata": {},
   "source": [
    "From these results, we can clearly observe a substantial performance difference between student models initialized with pretrained weights and those trained from scratch.\n",
    "\n",
    "The first block (students labeled with student_a...) shows results from models that retain the standard DistilBERT architecture (6 layers, 768 hidden dim) and are initialized with pretrained weights. These models reach an accuracy around 66.5%-66.7%, indicating that the knowledge distilled from the teacher is effectively guiding the student. The performance remains quite stable across different values of alpha and temperature, showing robustness of the distillation setup when using a well-initialized student.\n",
    "\n",
    "In contrast, the second block (students labeled student_l...) shows models with custom architectures (4/6/8 layers, 384/768 hidden size) that were initialized from scratch. These models perform significantly worse, with accuracies ranging from 37% to 49%. Even the largest variant tested (l4_d768 or l6_d768) fails to reach the baseline set by the pretrained student models. The worst performing variants (e.g., l6_d384, l8_d384) show that simply adding layers or reducing hidden size, without the benefit of pretrained weights, leads to unstable and ineffective training under distillation.\n",
    "\n",
    "This highlights the importance of pretrained initialization, especially when using relatively shallow students. While training from scratch may offer flexibility in architectural choices, it also makes optimization much harder, especially in low-data or one-epoch distillation settings like this.\n",
    "\n",
    "As we had expected, pretrained student models with default architecture perform significantly better under distillation. The custom student models trained from scratch suffer from poor accuracy and cannot leverage the teacher’s knowledge effectively.\n",
    "\n",
    "However, if architectural changes are desired (e.g., fewer layers or smaller dimensions), it may be crucial to pretrain these models first (e.g., via masked language modeling) before distillation!"
   ]
  },
  {
   "cell_type": "markdown",
   "id": "7c302bc1",
   "metadata": {},
   "source": [
    "#### *Different Learning Rate Versions of the Student Model*\n",
    "\n",
    "Next, we investigate how varying the learning rate impacts the performance of the student model. The learning rate controls how much the model updates its weights during training and is often one of the most sensitive hyperparameters in optimization.\n",
    "\n",
    "Previously, we fixed the learning rate at `5e-5`. While this is commonly used for BERT-like models, smaller student architectures may benefit from **slightly larger** learning rates to compensate for reduced capacity and encourage faster adaptation.\n",
    "\n",
    "We evaluate the following learning rates:\n",
    "\n",
    "- **3e-5**: A conservative value often used for full fine-tuning with large models.\n",
    "- **5e-5**: The baseline used in all previous experiments.\n",
    "- **1e-4**: A more aggressive value that can help smaller models converge faster, especially during short (1-epoch) training.\n",
    "\n",
    "Each student model uses the best distillation parameters (`alpha = 0.2`, `temperature = 1.0`) and is trained for one epoch, as before. We fix the architecture using the default number of layers and dimensions so we can use the pretrained weights."
   ]
  },
  {
   "cell_type": "code",
   "execution_count": 23,
   "id": "c7adefcd",
   "metadata": {},
   "outputs": [
    {
     "name": "stdout",
     "output_type": "stream",
     "text": [
      "\n",
      "Training student with lr=3e-05\n"
     ]
    },
    {
     "name": "stderr",
     "output_type": "stream",
     "text": [
      "Some weights of DistilBertForSequenceClassification were not initialized from the model checkpoint at distilbert-base-uncased and are newly initialized: ['classifier.bias', 'classifier.weight', 'pre_classifier.bias', 'pre_classifier.weight']\n",
      "You should probably TRAIN this model on a down-stream task to be able to use it for predictions and inference.\n"
     ]
    },
    {
     "name": "stdout",
     "output_type": "stream",
     "text": [
      "Epoch 1 complete | LR: 3e-05 | Loss: 432.5083\n",
      "\n",
      "Training student with lr=5e-05\n"
     ]
    },
    {
     "name": "stderr",
     "output_type": "stream",
     "text": [
      "Some weights of DistilBertForSequenceClassification were not initialized from the model checkpoint at distilbert-base-uncased and are newly initialized: ['classifier.bias', 'classifier.weight', 'pre_classifier.bias', 'pre_classifier.weight']\n",
      "You should probably TRAIN this model on a down-stream task to be able to use it for predictions and inference.\n"
     ]
    },
    {
     "name": "stdout",
     "output_type": "stream",
     "text": [
      "Epoch 1 complete | LR: 5e-05 | Loss: 420.8752\n",
      "\n",
      "Training student with lr=0.0001\n"
     ]
    },
    {
     "name": "stderr",
     "output_type": "stream",
     "text": [
      "Some weights of DistilBertForSequenceClassification were not initialized from the model checkpoint at distilbert-base-uncased and are newly initialized: ['classifier.bias', 'classifier.weight', 'pre_classifier.bias', 'pre_classifier.weight']\n",
      "You should probably TRAIN this model on a down-stream task to be able to use it for predictions and inference.\n"
     ]
    },
    {
     "name": "stdout",
     "output_type": "stream",
     "text": [
      "Epoch 1 complete | LR: 1e-04 | Loss: 409.9021\n"
     ]
    }
   ],
   "source": [
    "# Learning rates to evaluate\n",
    "learning_rates = [3e-5, 5e-5, 1e-4]\n",
    "\n",
    "# Best distillation params\n",
    "alpha = 0.2\n",
    "temperature = 1.0\n",
    "\n",
    "for lr in learning_rates:\n",
    "    print(f\"\\nTraining student with lr={lr}\")\n",
    "\n",
    "    # Load pretrained DistilBERT with classification head\n",
    "    student_model = DistilBertForSequenceClassification.from_pretrained(\n",
    "        \"distilbert-base-uncased\", num_labels=10\n",
    "    ).to(device)\n",
    "\n",
    "    optimizer = AdamW(student_model.parameters(), lr=lr)\n",
    "    student_model.train()\n",
    "\n",
    "    total_loss = 0\n",
    "\n",
    "    for batch in train_loader:\n",
    "        input_ids = batch[\"input_ids\"].to(device)\n",
    "        attention_mask = batch[\"attention_mask\"].to(device)\n",
    "        labels = batch[\"label\"].to(device)\n",
    "\n",
    "        with torch.no_grad():\n",
    "            teacher_logits = teacher_model(input_ids=input_ids, attention_mask=attention_mask).logits\n",
    "\n",
    "        student_logits = student_model(input_ids=input_ids, attention_mask=attention_mask).logits\n",
    "        loss = distillation_loss(student_logits, teacher_logits, labels, alpha=alpha, temperature=temperature)\n",
    "\n",
    "        loss.backward()\n",
    "        optimizer.step()\n",
    "        optimizer.zero_grad()\n",
    "\n",
    "        total_loss += loss.item()\n",
    "\n",
    "    print(f\"Epoch 1 complete | LR: {lr:.0e} | Loss: {total_loss:.4f}\")\n",
    "\n",
    "    # Save the model\n",
    "    save_path = f\"models/student_pretrained_lr{lr:.0e}_a{alpha}_t{temperature}/\"\n",
    "    os.makedirs(save_path, exist_ok=True)\n",
    "    student_model.save_pretrained(save_path)\n",
    "    student_tokenizer.save_pretrained(save_path)"
   ]
  },
  {
   "cell_type": "markdown",
   "id": "166e8d3e",
   "metadata": {},
   "source": [
    "**Evaluate the Performance:**"
   ]
  },
  {
   "cell_type": "code",
   "execution_count": 24,
   "id": "3599c9c0",
   "metadata": {},
   "outputs": [
    {
     "name": "stderr",
     "output_type": "stream",
     "text": [
      "  0%|          | 0/19 [00:00<?, ?it/s]"
     ]
    },
    {
     "name": "stdout",
     "output_type": "stream",
     "text": [
      "Using cached results for student_a0.2_t1.0\n",
      "Accuracy: 0.6670\n",
      "Precision: 0.6679\n",
      "Recall: 0.6626\n",
      "Using cached results for student_a0.2_t2.0\n",
      "Accuracy: 0.6651\n",
      "Precision: 0.6663\n",
      "Recall: 0.6623\n",
      "Using cached results for student_a0.2_t5.0\n",
      "Accuracy: 0.6665\n",
      "Precision: 0.6670\n",
      "Recall: 0.6634\n",
      "Using cached results for student_a0.5_t1.0\n",
      "Accuracy: 0.6651\n",
      "Precision: 0.6661\n",
      "Recall: 0.6614\n",
      "Using cached results for student_a0.5_t2.0\n",
      "Accuracy: 0.6599\n",
      "Precision: 0.6679\n",
      "Recall: 0.6538\n",
      "Using cached results for student_a0.5_t5.0\n",
      "Accuracy: 0.6651\n",
      "Precision: 0.6724\n",
      "Recall: 0.6625\n",
      "Using cached results for student_a0.8_t1.0\n",
      "Accuracy: 0.6604\n",
      "Precision: 0.6618\n",
      "Recall: 0.6582\n",
      "Using cached results for student_a0.8_t2.0\n",
      "Accuracy: 0.6581\n",
      "Precision: 0.6698\n",
      "Recall: 0.6516\n",
      "Using cached results for student_a0.8_t5.0\n",
      "Accuracy: 0.6659\n",
      "Precision: 0.6607\n",
      "Recall: 0.6637\n",
      "Using cached results for student_l4_d384_a0.2_t1.0\n",
      "Accuracy: 0.4001\n",
      "Precision: 0.3538\n",
      "Recall: 0.3860\n",
      "Using cached results for student_l4_d768_a0.2_t1.0\n",
      "Accuracy: 0.4884\n",
      "Precision: 0.4933\n",
      "Recall: 0.4779\n",
      "Using cached results for student_l6_d384_a0.2_t1.0\n",
      "Accuracy: 0.3715\n",
      "Precision: 0.3625\n",
      "Recall: 0.3626\n",
      "Using cached results for student_l6_d768_a0.2_t1.0\n",
      "Accuracy: 0.4841\n",
      "Precision: 0.4862\n",
      "Recall: 0.4766\n",
      "Using cached results for student_l8_d384_a0.2_t1.0\n",
      "Accuracy: 0.3802\n",
      "Precision: 0.3601\n",
      "Recall: 0.3719\n",
      "Using cached results for student_l8_d768_a0.2_t1.0\n",
      "Accuracy: 0.4630\n",
      "Precision: 0.5029\n",
      "Recall: 0.4505\n",
      "\n",
      "Evaluating student_pretrained_lr1e-04_a0.2_t1.0\n"
     ]
    },
    {
     "name": "stderr",
     "output_type": "stream",
     "text": [
      " 84%|████████▍ | 16/19 [00:15<00:02,  1.06it/s]"
     ]
    },
    {
     "name": "stdout",
     "output_type": "stream",
     "text": [
      "Accuracy:  0.6609\n",
      "Precision: 0.6671\n",
      "Recall:    0.6575\n",
      "\n",
      "Evaluating student_pretrained_lr3e-05_a0.2_t1.0\n"
     ]
    },
    {
     "name": "stderr",
     "output_type": "stream",
     "text": [
      " 89%|████████▉ | 17/19 [00:30<00:04,  2.10s/it]"
     ]
    },
    {
     "name": "stdout",
     "output_type": "stream",
     "text": [
      "Accuracy:  0.6636\n",
      "Precision: 0.6643\n",
      "Recall:    0.6594\n",
      "\n",
      "Evaluating student_pretrained_lr5e-05_a0.2_t1.0\n"
     ]
    },
    {
     "name": "stderr",
     "output_type": "stream",
     "text": [
      "100%|██████████| 19/19 [00:45<00:00,  2.38s/it]"
     ]
    },
    {
     "name": "stdout",
     "output_type": "stream",
     "text": [
      "Accuracy:  0.6588\n",
      "Precision: 0.6591\n",
      "Recall:    0.6538\n",
      "Using cached results for student_v1\n",
      "Accuracy: 0.8272\n",
      "Precision: 0.8281\n",
      "Recall: 0.8238\n"
     ]
    },
    {
     "name": "stderr",
     "output_type": "stream",
     "text": [
      "\n"
     ]
    }
   ],
   "source": [
    "results = evaluate_all_models(\n",
    "    models_dir=\"models\",\n",
    "    cache_file=\"model_eval_cache.json\",\n",
    "    dataset=dataset,\n",
    "    device=device\n",
    ")"
   ]
  },
  {
   "cell_type": "markdown",
   "id": "86d17e64",
   "metadata": {},
   "source": [
    "From this we can see that varying the learning rate has a noticeable effect on both the training loss and the final evaluation metrics, even when using the same pretrained DistilBERT architecture and fixed distillation parameters (alpha = 0.2, temp. = 1.0).\n",
    "\n",
    "Based on the training loss after one epoch we can see that it steadily decreases as the learning rate increases, this suggests that higher learning rates help the student model converge faster, likely because the pretrained base allows for more aggressive updates without diverging.\n",
    "\n",
    "The evaluation performance, however, does not strictly follow the same trend. In terms of accuracy, the 3e-5 was the the best performing configuration. \n",
    "\n",
    "From this we can conclude that while 1e-4 led to the lowest training loss, it did not generalize as well as the more conservative 3e-5. This confirms that lower learning rates tend to stabilize training and improve generalization, especially when only training for a single epoch. At the same time, the differences are relatively small, and all three configurations outperformed the student models trained from scratch."
   ]
  },
  {
   "cell_type": "markdown",
   "id": "ca16757e",
   "metadata": {},
   "source": [
    "#### *Intermediate Layer Distillation Version of the Student Model*\n",
    "\n",
    "Next, we extend the standard knowledge distillation setup by adding **intermediate layer distillation**, inspired by the TinyBERT framework.\n",
    "\n",
    "Instead of only matching the teacher and student logits at the output layer, we now also align the **hidden states** from intermediate transformer layers. This approach enables the student to learn internal representations that are more closely aligned with the teacher, potentially improving generalization and convergence.\n",
    "\n",
    "We use the pretrained `distilbert-base-uncased` student model and freeze the teacher. We extract hidden states from both models and define a **combined distillation loss** that includes:\n",
    "\n",
    "- **Soft target loss**: KL divergence between teacher and student logits (as before)\n",
    "- **Intermediate hidden loss**: Mean squared error between selected hidden layers\n",
    "\n",
    "We know that the student has fewer layers than the teacher (6), and map corresponding layers using a simple linear strategy (student layers match every 2nd layer of the 12-layer BERT teacher).\n",
    "Again, if we change the number of layers here, we break the mapping that every second layer of the DistilBERT nicely aligns with the teacher (BERT).\n",
    "\n",
    "\n",
    "\n",
    "We normalize the intermediate loss by the number of matched layers. Doing that ensures that the scale of the intermediate loss stays roughly independent of the number of matched layers, but it also leads to that the contribution of intermediate supervision is consistent and interpretable. Another point why we do it here, which may be most important is that we can re-use the same loss weight across experiments without needing to adjust for each model depth.\n",
    "\n",
    "The following function *combines soft label distillation with intermediate hidden state loss (somewhat like TinyBERT-style):*"
   ]
  },
  {
   "cell_type": "code",
   "execution_count": 25,
   "id": "0df51c53",
   "metadata": {},
   "outputs": [],
   "source": [
    "def intermediate_distillation_loss(student_outputs, teacher_outputs, student_logits, teacher_logits, labels, alpha, temperature):\n",
    "    # Soft target loss (as before)\n",
    "    soft_loss = F.kl_div(\n",
    "        F.log_softmax(student_logits / temperature, dim=-1),\n",
    "        F.softmax(teacher_logits / temperature, dim=-1),\n",
    "        reduction=\"batchmean\"\n",
    "    ) * (temperature ** 2)\n",
    "\n",
    "    # Supervised loss\n",
    "    hard_loss = F.cross_entropy(student_logits, labels)\n",
    "\n",
    "    # Intermediate loss between selected hidden states\n",
    "    student_hidden = student_outputs.hidden_states  # tuple of tensors\n",
    "    teacher_hidden = teacher_outputs.hidden_states\n",
    "\n",
    "    # Match layer i of student to layer 2i of teacher\n",
    "    inter_loss = 0.0\n",
    "    for i in range(len(student_hidden)):\n",
    "        inter_loss += F.mse_loss(student_hidden[i], teacher_hidden[2 * i])\n",
    "    inter_loss /= len(student_hidden)  # normalize\n",
    "\n",
    "    # Combine all\n",
    "    return alpha * soft_loss + (1 - alpha) * hard_loss + 0.1 * inter_loss"
   ]
  },
  {
   "cell_type": "markdown",
   "id": "ea997a77",
   "metadata": {},
   "source": [
    "**Training:**\n",
    "\n",
    "Since the intermediate distillation version we want to do builds on top of that same loss framework as the DistilBERT, we keep the alpha and temperature fixed, i.e., the best values that we found. \n",
    "\n",
    "However, the learning-rates should be re-evaluated since adding intermediate-layer distillation introduces new gradients and loss components (from hidden states) which changes the optimization, so there are more layers that may contribute to the total loss, the scale of the loss may increase and learning dznamics may increase.\n",
    "\n",
    "Thus, we again evaluate which is the best learning rate from the same set as before.\n",
    "\n",
    "The teacher stays frozen during training."
   ]
  },
  {
   "cell_type": "code",
   "execution_count": 26,
   "id": "c403408e",
   "metadata": {},
   "outputs": [
    {
     "name": "stdout",
     "output_type": "stream",
     "text": [
      "\n",
      "Training student with lr=3e-05\n"
     ]
    },
    {
     "name": "stderr",
     "output_type": "stream",
     "text": [
      "Some weights of DistilBertForSequenceClassification were not initialized from the model checkpoint at distilbert-base-uncased and are newly initialized: ['classifier.bias', 'classifier.weight', 'pre_classifier.bias', 'pre_classifier.weight']\n",
      "You should probably TRAIN this model on a down-stream task to be able to use it for predictions and inference.\n"
     ]
    },
    {
     "name": "stdout",
     "output_type": "stream",
     "text": [
      "Epoch 1 complete | LR: 3e-05 | Loss: 586.3482\n",
      "\n",
      "Training student with lr=5e-05\n"
     ]
    },
    {
     "name": "stderr",
     "output_type": "stream",
     "text": [
      "Some weights of DistilBertForSequenceClassification were not initialized from the model checkpoint at distilbert-base-uncased and are newly initialized: ['classifier.bias', 'classifier.weight', 'pre_classifier.bias', 'pre_classifier.weight']\n",
      "You should probably TRAIN this model on a down-stream task to be able to use it for predictions and inference.\n"
     ]
    },
    {
     "name": "stdout",
     "output_type": "stream",
     "text": [
      "Epoch 1 complete | LR: 5e-05 | Loss: 569.2524\n",
      "\n",
      "Training student with lr=0.0001\n"
     ]
    },
    {
     "name": "stderr",
     "output_type": "stream",
     "text": [
      "Some weights of DistilBertForSequenceClassification were not initialized from the model checkpoint at distilbert-base-uncased and are newly initialized: ['classifier.bias', 'classifier.weight', 'pre_classifier.bias', 'pre_classifier.weight']\n",
      "You should probably TRAIN this model on a down-stream task to be able to use it for predictions and inference.\n"
     ]
    },
    {
     "name": "stdout",
     "output_type": "stream",
     "text": [
      "Epoch 1 complete | LR: 1e-04 | Loss: 560.4650\n"
     ]
    }
   ],
   "source": [
    "# Teacher model outputs hidden states:\n",
    "teacher_model.config.output_hidden_states = True\n",
    "\n",
    "# Training params:\n",
    "learning_rates = [3e-5, 5e-5, 1e-4]\n",
    "alpha = 0.2\n",
    "temperature = 1.0\n",
    "\n",
    "for lr in learning_rates:\n",
    "    print(f\"\\nTraining student with lr={lr}\")\n",
    "\n",
    "    # Load pretrained DistilBERT with classification head and hidden states:\n",
    "    student_model = DistilBertForSequenceClassification.from_pretrained(\n",
    "        \"distilbert-base-uncased\", num_labels=10,\n",
    "        output_hidden_states=True\n",
    "    ).to(device)\n",
    "\n",
    "    optimizer = AdamW(student_model.parameters(), lr=lr)\n",
    "    student_model.train()\n",
    "    teacher_model.eval()  # Teacher stays frozen\n",
    "\n",
    "    total_loss = 0\n",
    "\n",
    "    for batch in train_loader:\n",
    "        input_ids = batch[\"input_ids\"].to(device)\n",
    "        attention_mask = batch[\"attention_mask\"].to(device)\n",
    "        labels = batch[\"label\"].to(device)\n",
    "\n",
    "        # Get teacher outputs with hidden states\n",
    "        with torch.no_grad():\n",
    "            teacher_outputs = teacher_model(input_ids=input_ids, attention_mask=attention_mask)\n",
    "            teacher_logits = teacher_outputs.logits\n",
    "\n",
    "        # Get student outputs with hidden states:\n",
    "        student_outputs = student_model(input_ids=input_ids, attention_mask=attention_mask)\n",
    "        student_logits = student_outputs.logits\n",
    "\n",
    "        # Our combined loss:\n",
    "        loss = intermediate_distillation_loss(\n",
    "            student_outputs, teacher_outputs,\n",
    "            student_logits, teacher_logits,\n",
    "            labels, alpha, temperature\n",
    "        )\n",
    "\n",
    "        loss.backward()\n",
    "        optimizer.step()\n",
    "        optimizer.zero_grad()\n",
    "\n",
    "        total_loss += loss.item()\n",
    "\n",
    "    print(f\"Epoch 1 complete | LR: {lr:.0e} | Loss: {total_loss:.4f}\")\n",
    "\n",
    "    # Save the model:\n",
    "    save_path = f\"models/student_intermediate_lr{lr:.0e}_a{alpha}_t{temperature}/\"\n",
    "    os.makedirs(save_path, exist_ok=True)\n",
    "    student_model.save_pretrained(save_path)\n",
    "    student_tokenizer.save_pretrained(save_path)"
   ]
  },
  {
   "cell_type": "markdown",
   "id": "e6c91bc9",
   "metadata": {},
   "source": [
    "**Evaluate the Performance:**"
   ]
  },
  {
   "cell_type": "code",
   "execution_count": 27,
   "id": "48750c8c",
   "metadata": {},
   "outputs": [
    {
     "name": "stderr",
     "output_type": "stream",
     "text": [
      "  0%|          | 0/22 [00:00<?, ?it/s]"
     ]
    },
    {
     "name": "stdout",
     "output_type": "stream",
     "text": [
      "Using cached results for student_a0.2_t1.0\n",
      "Accuracy: 0.6670\n",
      "Precision: 0.6679\n",
      "Recall: 0.6626\n",
      "Using cached results for student_a0.2_t2.0\n",
      "Accuracy: 0.6651\n",
      "Precision: 0.6663\n",
      "Recall: 0.6623\n",
      "Using cached results for student_a0.2_t5.0\n",
      "Accuracy: 0.6665\n",
      "Precision: 0.6670\n",
      "Recall: 0.6634\n",
      "Using cached results for student_a0.5_t1.0\n",
      "Accuracy: 0.6651\n",
      "Precision: 0.6661\n",
      "Recall: 0.6614\n",
      "Using cached results for student_a0.5_t2.0\n",
      "Accuracy: 0.6599\n",
      "Precision: 0.6679\n",
      "Recall: 0.6538\n",
      "Using cached results for student_a0.5_t5.0\n",
      "Accuracy: 0.6651\n",
      "Precision: 0.6724\n",
      "Recall: 0.6625\n",
      "Using cached results for student_a0.8_t1.0\n",
      "Accuracy: 0.6604\n",
      "Precision: 0.6618\n",
      "Recall: 0.6582\n",
      "Using cached results for student_a0.8_t2.0\n",
      "Accuracy: 0.6581\n",
      "Precision: 0.6698\n",
      "Recall: 0.6516\n",
      "Using cached results for student_a0.8_t5.0\n",
      "Accuracy: 0.6659\n",
      "Precision: 0.6607\n",
      "Recall: 0.6637\n",
      "\n",
      "Evaluating student_intermediate_lr1e-04_a0.2_t1.0\n"
     ]
    },
    {
     "name": "stderr",
     "output_type": "stream",
     "text": [
      " 45%|████▌     | 10/22 [00:15<00:18,  1.51s/it]"
     ]
    },
    {
     "name": "stdout",
     "output_type": "stream",
     "text": [
      "Accuracy:  0.6515\n",
      "Precision: 0.6511\n",
      "Recall:    0.6516\n",
      "\n",
      "Evaluating student_intermediate_lr3e-05_a0.2_t1.0\n"
     ]
    },
    {
     "name": "stderr",
     "output_type": "stream",
     "text": [
      " 50%|█████     | 11/22 [00:30<00:35,  3.21s/it]"
     ]
    },
    {
     "name": "stdout",
     "output_type": "stream",
     "text": [
      "Accuracy:  0.6623\n",
      "Precision: 0.6627\n",
      "Recall:    0.6590\n",
      "\n",
      "Evaluating student_intermediate_lr5e-05_a0.2_t1.0\n"
     ]
    },
    {
     "name": "stderr",
     "output_type": "stream",
     "text": [
      "100%|██████████| 22/22 [00:45<00:00,  2.06s/it]"
     ]
    },
    {
     "name": "stdout",
     "output_type": "stream",
     "text": [
      "Accuracy:  0.6517\n",
      "Precision: 0.6539\n",
      "Recall:    0.6489\n",
      "Using cached results for student_l4_d384_a0.2_t1.0\n",
      "Accuracy: 0.4001\n",
      "Precision: 0.3538\n",
      "Recall: 0.3860\n",
      "Using cached results for student_l4_d768_a0.2_t1.0\n",
      "Accuracy: 0.4884\n",
      "Precision: 0.4933\n",
      "Recall: 0.4779\n",
      "Using cached results for student_l6_d384_a0.2_t1.0\n",
      "Accuracy: 0.3715\n",
      "Precision: 0.3625\n",
      "Recall: 0.3626\n",
      "Using cached results for student_l6_d768_a0.2_t1.0\n",
      "Accuracy: 0.4841\n",
      "Precision: 0.4862\n",
      "Recall: 0.4766\n",
      "Using cached results for student_l8_d384_a0.2_t1.0\n",
      "Accuracy: 0.3802\n",
      "Precision: 0.3601\n",
      "Recall: 0.3719\n",
      "Using cached results for student_l8_d768_a0.2_t1.0\n",
      "Accuracy: 0.4630\n",
      "Precision: 0.5029\n",
      "Recall: 0.4505\n",
      "Using cached results for student_pretrained_lr1e-04_a0.2_t1.0\n",
      "Accuracy: 0.6609\n",
      "Precision: 0.6671\n",
      "Recall: 0.6575\n",
      "Using cached results for student_pretrained_lr3e-05_a0.2_t1.0\n",
      "Accuracy: 0.6636\n",
      "Precision: 0.6643\n",
      "Recall: 0.6594\n",
      "Using cached results for student_pretrained_lr5e-05_a0.2_t1.0\n",
      "Accuracy: 0.6588\n",
      "Precision: 0.6591\n",
      "Recall: 0.6538\n",
      "Using cached results for student_v1\n",
      "Accuracy: 0.8272\n",
      "Precision: 0.8281\n",
      "Recall: 0.8238\n"
     ]
    },
    {
     "name": "stderr",
     "output_type": "stream",
     "text": [
      "\n"
     ]
    }
   ],
   "source": [
    "results = evaluate_all_models(\n",
    "    models_dir=\"models\",\n",
    "    cache_file=\"model_eval_cache.json\",\n",
    "    dataset=dataset,\n",
    "    device=device\n",
    ")"
   ]
  },
  {
   "cell_type": "markdown",
   "id": "20a01a96",
   "metadata": {},
   "source": [
    "From this we can see that training smaller student architectures from scratch, even when incorporating intermediate layer supervision, leads to lower performance compared to models that utilize pretrained weights. All models were initialized from the base pretrained checkpoint, with classification layers newly initialized.\n",
    "\n",
    "During training, the total loss decreased as the learning rate increased. At a learning rate of 3e-5, the model reached a loss of approximately 586.35. With 5e-5, the loss dropped to 569.25, and with 1e-4 it decreased further to 560.47. This pattern indicates that larger learning rates help the student model adapt more quickly, especially when layers such as the classification head are randomly initialized and only limited training is performed.\n",
    "\n",
    "However, when evaluating performance on the validation set, the relationship between learning rate and generalization was less straightforward. The model trained with the lowest learning rate, 3e-5, achieved the highest accuracy at 66.23%. The models trained with 5e-5 and 1e-4 achieved slightly lower accuracies of 65.17% and 65.15%, respectively. From this we can see that although larger learning rates reduce training loss, they do not necessarily improve validation accuracy, so the more conservative learning rate of 3e-5 appears to offer the best balance between learning and generalization in this setup.\n",
    "\n",
    "Compared to the TinyBERT-style scratch-trained models (from earlier) with reduced hidden size and fewer layers (for example 4 layers with 384 hidden dimensions), which struggled to exceed 49% accuracy, the intermediate distillation models, which preserve the full DistilBERT architecture and leverage both soft targets and hidden state alignment, achieved significantly better results, reaching over 66% accuracy. This demonstrates the strong benefit of combining pretrained knowledge with intermediate supervision, even when the training data and number of epochs are limited.\n",
    "\n",
    "Nevertheless, these models still slightly underperform relative to the best student models trained with standard distillation and fully pretrained weights. For instance, the best standard distillation model with a learning rate of 3e-5 reached 66.36% accuracy, outperforming all intermediate distillation variants by a small but consistent margin."
   ]
  },
  {
   "cell_type": "markdown",
   "id": "3dfa1839",
   "metadata": {},
   "source": [
    "#### *Best Version of the Student Model*\n",
    "\n",
    "Now, we run our best models with maximum 20 epochs and early stopping, where we stop the training if it does not improve after 3 epochs. We also use a batch size of 32 now (and not 64). The models we include are:\n",
    "\n",
    "One version of the standard distillation (pretrained encoder), the *student_pretrained_lr3e-05_a0.2_t1.0*, since it has the best current performance, fewer moving parts, so we can see how much performance can improve over more epochs.\n",
    "\n",
    "And one version of the intermediate distillation (TinyBERT-style, pretrained encoder), the *student_intermediate_lr3e-05_a0.2_t1.0*, since it benefits from both soft targets and internal representation alignment, so we can test if its advantage increases over time and training steps.\n",
    "\n",
    "We first set the batch size to 32:"
   ]
  },
  {
   "cell_type": "code",
   "execution_count": 28,
   "id": "a0b98c3e",
   "metadata": {},
   "outputs": [],
   "source": [
    "train_loader = DataLoader(dataset[\"train\"], batch_size=32, shuffle=True)"
   ]
  },
  {
   "cell_type": "markdown",
   "id": "3b08950e",
   "metadata": {},
   "source": [
    "**Training loop:**"
   ]
  },
  {
   "cell_type": "code",
   "execution_count": null,
   "id": "f931b34a",
   "metadata": {},
   "outputs": [],
   "source": [
    "def train_student_model(\n",
    "    student_model, \n",
    "    student_tokenizer,\n",
    "    train_loader,\n",
    "    val_loader,\n",
    "    teacher_model,\n",
    "    optimizer,\n",
    "    loss_fn,  \n",
    "    model_name,  \n",
    "    alpha=0.2,\n",
    "    temperature=1.0,\n",
    "    patience=3,\n",
    "    max_epochs=20\n",
    "):\n",
    "    best_val_acc = 0\n",
    "    counter = 0\n",
    "    train_losses = []\n",
    "    val_accuracies = []\n",
    "\n",
    "    for epoch in range(max_epochs):\n",
    "        student_model.train()\n",
    "        total_loss = 0\n",
    "\n",
    "        for batch in train_loader:\n",
    "            input_ids = batch[\"input_ids\"].to(device)\n",
    "            attention_mask = batch[\"attention_mask\"].to(device)\n",
    "            labels = batch[\"label\"].to(device)\n",
    "\n",
    "            with torch.no_grad():\n",
    "                teacher_outputs = teacher_model(input_ids=input_ids, attention_mask=attention_mask)\n",
    "                teacher_logits = teacher_outputs.logits\n",
    "\n",
    "            student_outputs = student_model(input_ids=input_ids, attention_mask=attention_mask)\n",
    "            student_logits = student_outputs.logits\n",
    "\n",
    "            # Handle standard vs. intermediate distillation loss:\n",
    "            if loss_fn.__name__ == \"distillation_loss\":\n",
    "                loss = loss_fn(student_logits, teacher_logits, labels, alpha, temperature)\n",
    "            else:\n",
    "                loss = loss_fn(\n",
    "                    student_outputs,\n",
    "                    teacher_outputs,\n",
    "                    student_logits,\n",
    "                    teacher_logits,\n",
    "                    labels,\n",
    "                    alpha,\n",
    "                    temperature\n",
    "                )\n",
    "\n",
    "            loss.backward()\n",
    "            optimizer.step()\n",
    "            optimizer.zero_grad()\n",
    "\n",
    "            total_loss += loss.item()\n",
    "\n",
    "        avg_train_loss = total_loss / len(train_loader)\n",
    "        train_losses.append(avg_train_loss)\n",
    "        print(f\"Epoch {epoch + 1}: Train Loss = {avg_train_loss:.4f}\")\n",
    "\n",
    "        # Validation\n",
    "        student_model.eval()\n",
    "        all_preds, all_labels = [], []\n",
    "\n",
    "        with torch.no_grad():\n",
    "            for batch in val_loader:\n",
    "                input_ids = batch[\"input_ids\"].to(device)\n",
    "                attention_mask = batch[\"attention_mask\"].to(device)\n",
    "                labels = batch[\"label\"].to(\"cpu\").numpy()\n",
    "\n",
    "                outputs = student_model(input_ids=input_ids, attention_mask=attention_mask)\n",
    "                preds = torch.argmax(outputs.logits, dim=1).cpu().numpy()\n",
    "\n",
    "                all_preds.extend(preds)\n",
    "                all_labels.extend(labels)\n",
    "\n",
    "        val_acc = accuracy_score(all_labels, all_preds)\n",
    "        val_accuracies.append(val_acc)\n",
    "        print(f\"Validation Accuracy: {val_acc:.4f}\")\n",
    "\n",
    "        if val_acc > best_val_acc:\n",
    "            best_val_acc = val_acc\n",
    "            counter = 0\n",
    "            print(\"New best model found. Saving...\")\n",
    "            save_path = f\"models/{model_name}\"\n",
    "            os.makedirs(save_path, exist_ok=True)\n",
    "            student_model.save_pretrained(save_path)\n",
    "            student_tokenizer.save_pretrained(save_path)\n",
    "        else:\n",
    "            counter += 1\n",
    "            print(f\"No improvement. Early stopping counter: {counter}/{patience}\")\n",
    "            if counter >= patience:\n",
    "                print(\"Early stopping triggered.\")\n",
    "                break\n",
    "\n",
    "    # Loss curve\n",
    "    plt.figure(figsize=(8, 5))\n",
    "    plt.plot(train_losses, marker='o')\n",
    "    plt.yscale(\"log\")\n",
    "    plt.xlabel(\"Epoch\")\n",
    "    plt.ylabel(\"Training Loss (log scale)\")\n",
    "    plt.title(f\"Loss Curve: {model_name}\")\n",
    "    plt.grid(True)\n",
    "    plt.tight_layout()\n",
    "    plt.show()"
   ]
  },
  {
   "cell_type": "markdown",
   "id": "81613bde",
   "metadata": {},
   "source": [
    "**Load student models:**"
   ]
  },
  {
   "cell_type": "code",
   "execution_count": null,
   "id": "879a0ba9",
   "metadata": {},
   "outputs": [],
   "source": [
    "# Standard distillation student (pretrained encoder)\n",
    "student_pretrained = DistilBertForSequenceClassification.from_pretrained(\n",
    "    \"models/student_pretrained_lr3e-05_a0.2_t1.0\"\n",
    ").to(device)\n",
    "\n",
    "# Intermediate distillation student (TinyBERT-style)\n",
    "student_intermediate = DistilBertForSequenceClassification.from_pretrained(\n",
    "    \"models/student_intermediate_lr3e-05_a0.2_t1.0\"\n",
    ").to(device)\n",
    "\n",
    "# Tokenizer (same for both)\n",
    "student_tokenizer = DistilBertTokenizer.from_pretrained(\"distilbert-base-uncased\")"
   ]
  },
  {
   "cell_type": "markdown",
   "id": "a5101cec",
   "metadata": {},
   "source": [
    "**Define optimizers:**"
   ]
  },
  {
   "cell_type": "code",
   "execution_count": null,
   "id": "7e0bde98",
   "metadata": {},
   "outputs": [],
   "source": [
    "optimizer_pretrained = AdamW(student_pretrained.parameters(), lr=3e-5)\n",
    "optimizer_intermediate = AdamW(student_intermediate.parameters(), lr=3e-5)"
   ]
  },
  {
   "cell_type": "markdown",
   "id": "1326e2fb",
   "metadata": {},
   "source": [
    "The loss functions are already defined, now we can **start the training:**"
   ]
  },
  {
   "cell_type": "code",
   "execution_count": null,
   "id": "b88bc186",
   "metadata": {},
   "outputs": [
    {
     "name": "stdout",
     "output_type": "stream",
     "text": [
      "Epoch 1: Train Loss = 0.5730\n",
      "Validation Accuracy: 0.6621\n",
      "New best model found. Saving...\n",
      "Epoch 2: Train Loss = 0.3898\n",
      "Validation Accuracy: 0.6550\n",
      "No improvement. Early stopping counter: 1/3\n",
      "Epoch 3: Train Loss = 0.2710\n",
      "Validation Accuracy: 0.6566\n",
      "No improvement. Early stopping counter: 2/3\n",
      "Epoch 4: Train Loss = 0.2049\n",
      "Validation Accuracy: 0.6654\n",
      "New best model found. Saving...\n",
      "Epoch 5: Train Loss = 0.1739\n",
      "Validation Accuracy: 0.6618\n",
      "No improvement. Early stopping counter: 1/3\n",
      "Epoch 6: Train Loss = 0.1574\n",
      "Validation Accuracy: 0.6637\n",
      "No improvement. Early stopping counter: 2/3\n",
      "Epoch 7: Train Loss = 0.1474\n",
      "Validation Accuracy: 0.6613\n",
      "No improvement. Early stopping counter: 3/3\n",
      "Early stopping triggered.\n"
     ]
    },
    {
     "data": {
      "image/png": "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",
      "text/plain": [
       "<Figure size 800x500 with 1 Axes>"
      ]
     },
     "metadata": {},
     "output_type": "display_data"
    },
    {
     "name": "stdout",
     "output_type": "stream",
     "text": [
      "Epoch 1: Train Loss = 0.8747\n",
      "Validation Accuracy: 0.6686\n",
      "New best model found. Saving...\n",
      "Epoch 2: Train Loss = 0.6649\n",
      "Validation Accuracy: 0.6545\n",
      "No improvement. Early stopping counter: 1/3\n",
      "Epoch 3: Train Loss = 0.4914\n",
      "Validation Accuracy: 0.6508\n",
      "No improvement. Early stopping counter: 2/3\n",
      "Epoch 4: Train Loss = 0.3655\n",
      "Validation Accuracy: 0.6380\n",
      "No improvement. Early stopping counter: 3/3\n",
      "Early stopping triggered.\n"
     ]
    },
    {
     "data": {
      "image/png": "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",
      "text/plain": [
       "<Figure size 800x500 with 1 Axes>"
      ]
     },
     "metadata": {},
     "output_type": "display_data"
    }
   ],
   "source": [
    "# Standard distillation\n",
    "train_student_model(\n",
    "    student_model=student_pretrained,\n",
    "    student_tokenizer=student_tokenizer,\n",
    "    train_loader=train_loader,\n",
    "    val_loader=val_loader,\n",
    "    teacher_model=teacher_model,\n",
    "    optimizer=optimizer_pretrained,\n",
    "    loss_fn=distillation_loss,\n",
    "    model_name=\"student_best_pretrained\",\n",
    "    alpha=0.2,\n",
    "    temperature=1.0,\n",
    ")\n",
    "\n",
    "# Intermediate distillation\n",
    "train_student_model(\n",
    "    student_model=student_intermediate,\n",
    "    student_tokenizer=student_tokenizer,\n",
    "    train_loader=train_loader,\n",
    "    val_loader=val_loader,\n",
    "    teacher_model=teacher_model,\n",
    "    optimizer=optimizer_intermediate,\n",
    "    loss_fn=intermediate_distillation_loss,\n",
    "    model_name=\"student_best_intermediate\",\n",
    "    alpha=0.2,\n",
    "    temperature=1.0,\n",
    ")"
   ]
  },
  {
   "cell_type": "markdown",
   "id": "ae9ae194",
   "metadata": {},
   "source": [
    "**student_best_pretrained**\n",
    "\n",
    "The standard distilled student model, using a pretrained encoder and trained with soft targets only, shows a clear and steady decrease in training loss over 7 epochs. The log-scaled curve highlights that learning was stable, with diminishing returns over time.\n",
    "\n",
    "In Epoch 1, the model achieved a training loss of 0.5730 and a validation accuracy of 66.21%, setting the initial performance benchmark.\n",
    "\n",
    "While the training loss improved substantially in the next two epochs (0.3898 and 0.2710), validation accuracy slightly dropped to 65.50% and 65.66%, triggering early stopping counters.\n",
    "\n",
    "In Epoch 4, the model reached a new best validation accuracy of 66.54% as training loss further decreased to 0.2049.\n",
    "\n",
    "The following epochs continued to improve the training loss (down to 0.1474 in Epoch 7), but validation accuracy fluctuated slightly below the peak (66.18%, 66.37%, 66.13%).\n",
    "\n",
    "Since no further improvement occurred for three consecutive epochs, early stopping was triggered after Epoch 7.\n",
    "\n",
    "Overall, this model showed solid convergence, and the loss curve suggests that the model was still learning, albeit with reduced gains. The final training loss was low, and validation performance was competitive.\n",
    "\n",
    "**student_best_intermediate**\n",
    "\n",
    "This intermediate-distilled model (TinyBERT-style, pretrained encoder, with hidden-state matching) showed faster convergence in terms of loss reduction, but generalization performance did not follow the same trend.\n",
    "\n",
    "In Epoch 1, the training loss was higher at 0.8747, but the model surprisingly reached the highest validation accuracy of 66.86% right away.\n",
    "\n",
    "Subsequent epochs saw consistent reductions in training loss (0.6649, 0.4914, and 0.3655), but validation accuracy declined to 65.45%, 65.08%, and 63.80%.\n",
    "\n",
    "This drop in validation accuracy, despite better training loss, suggests the model may have overfit quickly or learned superficial patterns in early epochs.\n",
    "\n",
    "After no improvement for three epochs, early stopping was triggered at Epoch 4.\n",
    "\n",
    "The corresponding loss curve confirms the rapid drop in training loss, but the decoupling from validation performance highlights a generalization issue. The model's strong initial result might reflect a lucky initialization or effective transfer from the internal alignment objective, but it was not sustained."
   ]
  },
  {
   "cell_type": "markdown",
   "id": "3ba67b15",
   "metadata": {},
   "source": [
    "**Evaluation:**\n",
    "\n",
    "First we load both saved models:"
   ]
  },
  {
   "cell_type": "code",
   "execution_count": 38,
   "id": "9b733835",
   "metadata": {},
   "outputs": [],
   "source": [
    "model_pretrained = DistilBertForSequenceClassification.from_pretrained(\"models/student_best_pretrained\").to(device)\n",
    "model_intermediate = DistilBertForSequenceClassification.from_pretrained(\"models/student_best_intermediate\").to(device)\n",
    "tokenizer = DistilBertTokenizer.from_pretrained(\"models/student_best_pretrained\")"
   ]
  },
  {
   "cell_type": "markdown",
   "id": "e87acc7f",
   "metadata": {},
   "source": [
    "Shorter evaluation function, that only shows us the perfromance of those two:"
   ]
  },
  {
   "cell_type": "code",
   "execution_count": 53,
   "id": "b7e8c8e7",
   "metadata": {},
   "outputs": [],
   "source": [
    "def evaluate(model, dataset, device):\n",
    "    model.eval()\n",
    "    model.to(device)\n",
    "    all_preds, all_labels = [], []\n",
    "\n",
    "    val_loader = DataLoader(dataset[\"test\"], batch_size=64)\n",
    "\n",
    "    with torch.no_grad():\n",
    "        for batch in val_loader:\n",
    "            input_ids = batch[\"input_ids\"].to(device) if device != \"cpu\" else batch[\"input_ids\"]\n",
    "            attention_mask = batch[\"attention_mask\"].to(device) if device != \"cpu\" else batch[\"attention_mask\"]\n",
    "            labels = batch[\"label\"].to(\"cpu\").numpy()  # Always move labels to CPU before .numpy()\n",
    "\n",
    "            outputs = model(input_ids=input_ids, attention_mask=attention_mask)\n",
    "            preds = torch.argmax(outputs.logits, dim=1).cpu().numpy()\n",
    "\n",
    "            all_preds.extend(preds)\n",
    "            all_labels.extend(labels)\n",
    "\n",
    "    acc = accuracy_score(all_labels, all_preds)\n",
    "    precision = precision_score(all_labels, all_preds, average=\"macro\")\n",
    "    recall = recall_score(all_labels, all_preds, average=\"macro\")\n",
    "\n",
    "    return acc, precision, recall"
   ]
  },
  {
   "cell_type": "markdown",
   "id": "43afe270",
   "metadata": {},
   "source": [
    "Final scores:"
   ]
  },
  {
   "cell_type": "code",
   "execution_count": 42,
   "id": "7cc2c58b",
   "metadata": {},
   "outputs": [
    {
     "name": "stdout",
     "output_type": "stream",
     "text": [
      "[Standard] Accuracy: 0.6654, Precision: 0.6634, Recall: 0.6633\n",
      "[Intermediate] Accuracy: 0.6686, Precision: 0.6671, Recall: 0.6646\n"
     ]
    }
   ],
   "source": [
    "acc, prec, rec = evaluate(model_pretrained, dataset, device)\n",
    "print(f\"[Standard] Accuracy: {acc:.4f}, Precision: {prec:.4f}, Recall: {rec:.4f}\")\n",
    "\n",
    "acc, prec, rec = evaluate(model_intermediate, dataset, device)\n",
    "print(f\"[Intermediate] Accuracy: {acc:.4f}, Precision: {prec:.4f}, Recall: {rec:.4f}\")"
   ]
  },
  {
   "cell_type": "markdown",
   "id": "b94b924f",
   "metadata": {},
   "source": [
    "The saved student_v1 model:"
   ]
  },
  {
   "cell_type": "code",
   "execution_count": 54,
   "id": "0357f69e",
   "metadata": {},
   "outputs": [
    {
     "name": "stdout",
     "output_type": "stream",
     "text": [
      "[V1 Model] Accuracy: 0.8272, Precision: 0.8281, Recall: 0.8238\n"
     ]
    }
   ],
   "source": [
    "# Load the saved student_v1 model\n",
    "model_path = \"models/student_v1\"\n",
    "student_v1 = DistilBertForSequenceClassification.from_pretrained(model_path).to(device)\n",
    "\n",
    "# Evaluate using your new function\n",
    "acc, prec, rec = evaluate(student_v1, dataset, device)\n",
    "print(f\"[V1 Model] Accuracy: {acc:.4f}, Precision: {prec:.4f}, Recall: {rec:.4f}\")"
   ]
  },
  {
   "cell_type": "markdown",
   "id": "de7c3e5c",
   "metadata": {},
   "source": [
    "All results:"
   ]
  },
  {
   "cell_type": "code",
   "execution_count": 43,
   "id": "b3165d2a",
   "metadata": {},
   "outputs": [
    {
     "name": "stderr",
     "output_type": "stream",
     "text": [
      "  0%|          | 0/25 [00:00<?, ?it/s]"
     ]
    },
    {
     "name": "stdout",
     "output_type": "stream",
     "text": [
      "Using cached results for student_a0.2_t1.0\n",
      "Accuracy: 0.6670\n",
      "Precision: 0.6679\n",
      "Recall: 0.6626\n",
      "Using cached results for student_a0.2_t2.0\n",
      "Accuracy: 0.6651\n",
      "Precision: 0.6663\n",
      "Recall: 0.6623\n",
      "Using cached results for student_a0.2_t5.0\n",
      "Accuracy: 0.6665\n",
      "Precision: 0.6670\n",
      "Recall: 0.6634\n",
      "Using cached results for student_a0.5_t1.0\n",
      "Accuracy: 0.6651\n",
      "Precision: 0.6661\n",
      "Recall: 0.6614\n",
      "Using cached results for student_a0.5_t2.0\n",
      "Accuracy: 0.6599\n",
      "Precision: 0.6679\n",
      "Recall: 0.6538\n",
      "Using cached results for student_a0.5_t5.0\n",
      "Accuracy: 0.6651\n",
      "Precision: 0.6724\n",
      "Recall: 0.6625\n",
      "Using cached results for student_a0.8_t1.0\n",
      "Accuracy: 0.6604\n",
      "Precision: 0.6618\n",
      "Recall: 0.6582\n",
      "Using cached results for student_a0.8_t2.0\n",
      "Accuracy: 0.6581\n",
      "Precision: 0.6698\n",
      "Recall: 0.6516\n",
      "Using cached results for student_a0.8_t5.0\n",
      "Accuracy: 0.6659\n",
      "Precision: 0.6607\n",
      "Recall: 0.6637\n",
      "\n",
      "Evaluating student_best_intermediate\n"
     ]
    },
    {
     "name": "stderr",
     "output_type": "stream",
     "text": [
      " 40%|████      | 10/25 [00:14<00:22,  1.47s/it]"
     ]
    },
    {
     "name": "stdout",
     "output_type": "stream",
     "text": [
      "Accuracy:  0.6686\n",
      "Precision: 0.6671\n",
      "Recall:    0.6646\n",
      "\n",
      "Evaluating student_best_pretrained\n"
     ]
    },
    {
     "name": "stderr",
     "output_type": "stream",
     "text": [
      " 44%|████▍     | 11/25 [00:29<00:43,  3.14s/it]"
     ]
    },
    {
     "name": "stdout",
     "output_type": "stream",
     "text": [
      "Accuracy:  0.6654\n",
      "Precision: 0.6634\n",
      "Recall:    0.6633\n",
      "Using cached results for student_intermediate_lr1e-04_a0.2_t1.0\n",
      "Accuracy: 0.6515\n",
      "Precision: 0.6511\n",
      "Recall: 0.6516\n",
      "Using cached results for student_intermediate_lr3e-05_a0.2_t1.0\n",
      "Accuracy: 0.6623\n",
      "Precision: 0.6627\n",
      "Recall: 0.6590\n",
      "Using cached results for student_intermediate_lr5e-05_a0.2_t1.0\n",
      "Accuracy: 0.6517\n",
      "Precision: 0.6539\n",
      "Recall: 0.6489\n",
      "Using cached results for student_l4_d384_a0.2_t1.0\n",
      "Accuracy: 0.4001\n",
      "Precision: 0.3538\n",
      "Recall: 0.3860\n",
      "Using cached results for student_l4_d768_a0.2_t1.0\n",
      "Accuracy: 0.4884\n",
      "Precision: 0.4933\n",
      "Recall: 0.4779\n",
      "Using cached results for student_l6_d384_a0.2_t1.0\n",
      "Accuracy: 0.3715\n",
      "Precision: 0.3625\n",
      "Recall: 0.3626\n",
      "Using cached results for student_l6_d768_a0.2_t1.0\n",
      "Accuracy: 0.4841\n",
      "Precision: 0.4862\n",
      "Recall: 0.4766\n",
      "Using cached results for student_l8_d384_a0.2_t1.0\n",
      "Accuracy: 0.3802\n",
      "Precision: 0.3601\n",
      "Recall: 0.3719\n",
      "Using cached results for student_l8_d768_a0.2_t1.0\n",
      "Accuracy: 0.4630\n",
      "Precision: 0.5029\n",
      "Recall: 0.4505\n",
      "Using cached results for student_pretrained_lr1e-04_a0.2_t1.0\n",
      "Accuracy: 0.6609\n",
      "Precision: 0.6671\n",
      "Recall: 0.6575\n",
      "Using cached results for student_pretrained_lr3e-05_a0.2_t1.0\n",
      "Accuracy: 0.6636\n",
      "Precision: 0.6643\n",
      "Recall: 0.6594\n",
      "Using cached results for student_pretrained_lr5e-05_a0.2_t1.0\n",
      "Accuracy: 0.6588\n",
      "Precision: 0.6591\n",
      "Recall: 0.6538\n",
      "Using cached results for student_v1\n",
      "Accuracy: 0.8272\n",
      "Precision: 0.8281\n",
      "Recall: 0.8238\n",
      "\n",
      "Evaluating student_worst_intermediate_long\n"
     ]
    },
    {
     "name": "stderr",
     "output_type": "stream",
     "text": [
      "100%|██████████| 25/25 [00:44<00:00,  1.78s/it]"
     ]
    },
    {
     "name": "stdout",
     "output_type": "stream",
     "text": [
      "Accuracy:  0.6546\n",
      "Precision: 0.6586\n",
      "Recall:    0.6517\n"
     ]
    },
    {
     "name": "stderr",
     "output_type": "stream",
     "text": [
      "\n"
     ]
    }
   ],
   "source": [
    "results = evaluate_all_models(\n",
    "    models_dir=\"models\",\n",
    "    cache_file=\"model_eval_cache.json\",\n",
    "    dataset=dataset,\n",
    "    device=device\n",
    ")"
   ]
  },
  {
   "cell_type": "markdown",
   "id": "ac3d6046",
   "metadata": {},
   "source": [
    "Interpretation will be in part b, since there we will compare them to the teacher directly."
   ]
  },
  {
   "cell_type": "markdown",
   "id": "2c93f9e0",
   "metadata": {},
   "source": [
    "### **4. Dynamic Quantization**\n",
    "\n",
    "Quantization is a technique used in model compression that reduces the precision of the numbers used to represent model parameters (e.g., weights) and sometimes activations.\n",
    "\n",
    "Deep learning models typically use 32-bit floating point (FP32) numbers. Quantization reduces this to 8-bit integers (INT8) or 16-bit floats, depending on the method (we use 8).\n",
    "\n",
    "Dynamic quantization specifically only affects the weights of linear layers and does not require calibration data or retraining, we can do this directly in PyTorch.\n",
    "\n",
    "We use the v1 student model, which was the best standard distillation student. We only quantize linear layers, because these nn.Linear layers account for most of the FLOPs and memory usage in inference, so quantizing them gives the biggest speed and size gains. Weights are static (don’t change at inference). As said, we use 8-bit integers, this should significantly increase speed.\n",
    "\n",
    "Since student_v1 is already trained and saved, we uantize only the classifier with PyTorch."
   ]
  },
  {
   "cell_type": "code",
   "execution_count": null,
   "id": "b062525a",
   "metadata": {},
   "outputs": [],
   "source": [
    "student_v1_quant = copy.deepcopy(student_v1)\n",
    "\n",
    "quantized_classifier = torch.quantization.quantize_dynamic(\n",
    "    student_v1_quant.classifier,\n",
    "    {torch.nn.Linear},\n",
    "    dtype=torch.qint8,\n",
    ")\n",
    "\n",
    "student_v1_quant.classifier = quantized_classifier"
   ]
  },
  {
   "cell_type": "markdown",
   "id": "a7f98ecc",
   "metadata": {},
   "source": [
    "**Evaluate:**"
   ]
  },
  {
   "cell_type": "code",
   "execution_count": 61,
   "id": "a0d5c81f",
   "metadata": {},
   "outputs": [
    {
     "name": "stdout",
     "output_type": "stream",
     "text": [
      "[Quantized Classifier] Accuracy: 0.8272, Precision: 0.8281, Recall: 0.8238\n"
     ]
    }
   ],
   "source": [
    "acc, prec, rec = evaluate(student_v1_quant, dataset, device=\"cpu\")\n",
    "print(f\"[Quantized Classifier] Accuracy: {acc:.4f}, Precision: {prec:.4f}, Recall: {rec:.4f}\")"
   ]
  },
  {
   "cell_type": "markdown",
   "id": "537956c7",
   "metadata": {},
   "source": [
    "Interpretation, see below."
   ]
  },
  {
   "cell_type": "markdown",
   "id": "b2c6734e",
   "metadata": {},
   "source": [
    "## b. Performance and Speed Comparison"
   ]
  },
  {
   "cell_type": "markdown",
   "id": "5e96153c",
   "metadata": {},
   "source": [
    "We first evaluate the stuntent's models and then the teacher model. We evaluate their performance on exactly the same data.\n",
    "\n",
    "However, we need tot create a separate test dataset for the teacher that uses the teacher tokenizer."
   ]
  },
  {
   "cell_type": "code",
   "execution_count": 62,
   "id": "949c54c6",
   "metadata": {},
   "outputs": [],
   "source": [
    "def tokenize_teacher(example):\n",
    "    return teacher_tokenizer(example[\"question_content\"], truncation=True, padding=\"max_length\", max_length=128)"
   ]
  },
  {
   "cell_type": "markdown",
   "id": "4f7c885d",
   "metadata": {},
   "source": [
    "Apply it to a fresh copy of the dataset:"
   ]
  },
  {
   "cell_type": "code",
   "execution_count": 63,
   "id": "07bcdfc8",
   "metadata": {},
   "outputs": [
    {
     "data": {
      "application/vnd.jupyter.widget-view+json": {
       "model_id": "0d75b1be044340ae9fa4383f8c88b5dd",
       "version_major": 2,
       "version_minor": 0
      },
      "text/plain": [
       "Map:   0%|          | 0/39297 [00:00<?, ? examples/s]"
      ]
     },
     "metadata": {},
     "output_type": "display_data"
    }
   ],
   "source": [
    "raw_dataset = Dataset.from_pandas(df_sample.copy())\n",
    "teacher_dataset = raw_dataset.map(tokenize_teacher, batched=True)\n",
    "teacher_dataset = teacher_dataset.train_test_split(test_size=0.2, seed=42)\n",
    "teacher_dataset.set_format(\"torch\", columns=[\"input_ids\", \"attention_mask\", \"label\"])"
   ]
  },
  {
   "cell_type": "markdown",
   "id": "322ff88e",
   "metadata": {},
   "source": [
    "New dataloader:"
   ]
  },
  {
   "cell_type": "code",
   "execution_count": 64,
   "id": "59658a4c",
   "metadata": {},
   "outputs": [],
   "source": [
    "teacher_test_loader = DataLoader(teacher_dataset[\"test\"], batch_size=64)"
   ]
  },
  {
   "cell_type": "markdown",
   "id": "434be063",
   "metadata": {},
   "source": [
    "**Teacher vs best Models:**"
   ]
  },
  {
   "cell_type": "code",
   "execution_count": 65,
   "id": "332c4428",
   "metadata": {},
   "outputs": [
    {
     "name": "stdout",
     "output_type": "stream",
     "text": [
      "\n",
      "Evaluating teacher model\n",
      "Accuracy:  0.8744\n",
      "Precision: 0.8730\n",
      "Recall:    0.8720\n",
      "\n",
      "Evaluating the best student models\n",
      "[Standard] Accuracy: 0.6654, Precision: 0.6634, Recall: 0.6633\n",
      "[Intermediate] Accuracy: 0.6686, Precision: 0.6671, Recall: 0.6646\n",
      "[V1 Model] Accuracy: 0.8272, Precision: 0.8281, Recall: 0.8238\n",
      "[Quantized Classifier] Accuracy: 0.8272, Precision: 0.8281, Recall: 0.8238\n"
     ]
    }
   ],
   "source": [
    "results = []\n",
    "\n",
    "print(\"\\nEvaluating teacher model\")\n",
    "\n",
    "teacher_model.to(device)\n",
    "teacher_model.eval()\n",
    "\n",
    "all_preds = []\n",
    "all_labels = []\n",
    "\n",
    "with torch.no_grad():\n",
    "    for batch in teacher_test_loader:\n",
    "        # Move all batch items to the same device\n",
    "        batch = {k: v.to(device) for k, v in batch.items()}\n",
    "\n",
    "        outputs = teacher_model(\n",
    "            input_ids=batch[\"input_ids\"],\n",
    "            attention_mask=batch[\"attention_mask\"]\n",
    "        )\n",
    "        preds = torch.argmax(outputs.logits, dim=1)\n",
    "\n",
    "        all_preds.extend(preds.cpu().numpy())\n",
    "        all_labels.extend(batch[\"label\"].cpu().numpy())\n",
    "\n",
    "# Compute and print metrics\n",
    "acc = accuracy_score(all_labels, all_preds)\n",
    "prec = precision_score(all_labels, all_preds, average=\"macro\", zero_division=0)\n",
    "rec = recall_score(all_labels, all_preds, average=\"macro\", zero_division=0)\n",
    "\n",
    "print(f\"Accuracy:  {acc:.4f}\")\n",
    "print(f\"Precision: {prec:.4f}\")\n",
    "print(f\"Recall:    {rec:.4f}\")\n",
    "\n",
    "# Log results\n",
    "results.append({\n",
    "    \"version\": \"teacher\",\n",
    "    \"accuracy\": acc,\n",
    "    \"precision\": prec,\n",
    "    \"recall\": rec\n",
    "})\n",
    "\n",
    "# Students:\n",
    "print(\"\\nEvaluating the best student models\")\n",
    "\n",
    "acc, prec, rec = evaluate(model_pretrained, dataset, device)\n",
    "print(f\"[Standard] Accuracy: {acc:.4f}, Precision: {prec:.4f}, Recall: {rec:.4f}\")\n",
    "\n",
    "acc, prec, rec = evaluate(model_intermediate, dataset, device)\n",
    "print(f\"[Intermediate] Accuracy: {acc:.4f}, Precision: {prec:.4f}, Recall: {rec:.4f}\")\n",
    "\n",
    "acc, prec, rec = evaluate(student_v1, dataset, device)\n",
    "print(f\"[V1 Model] Accuracy: {acc:.4f}, Precision: {prec:.4f}, Recall: {rec:.4f}\")\n",
    "\n",
    "acc, prec, rec = evaluate(student_v1_quant, dataset, device=\"cpu\")\n",
    "print(f\"[Quantized Classifier] Accuracy: {acc:.4f}, Precision: {prec:.4f}, Recall: {rec:.4f}\")"
   ]
  },
  {
   "cell_type": "markdown",
   "id": "980fc1e7",
   "metadata": {},
   "source": [
    "The V1 model, trained for just 3 epochs with temperature scaling (temp.=2.0) and an equal balance between hard labels and soft teacher targets (alpha=0.5), achieves a validation accuracy of 82.72%, far surpassing both the best standard and intermediate student models.\n",
    "\n",
    "This is liely due to the fact that V1 was trained with soft targets from a high-performing BERT teacher (accuracy 87%), which provides nuanced information about class probabilities beyond the hard labels. This helped the student learn more than just the \"correct\" answer. Giving equal importance to the teacher’s logits and the ground truth labels allowed the student to learn both general patterns and dataset-specific decision boundaries. Softened logits exposed inter-class relationships. This richer signal likely improved generalization and robustness. V1 used a clean and focused setup without additional complexity (e.g., no intermediate layer matching), allowing the optimization to proceed without unnecessary distractions or noise in the objective. Even with only 5% of the full dataset, the training was effectively regularized by the teacher’s outputs. The limited data combined with soft labels reduced overfitting and allowed for meaningful generalization.\n",
    "\n",
    "For the Standard Distilled Student we had longer training, but worse performance, even after early stopping at epoch 7, this model achieved 16 percentage points lower accuracy than V1. It only relied on soft logits resulting in sharper distributions and weaker signals for secondary classes. The extended training didn't help much because the model lacked access to internal teacher knowledge and used low alpha, thereby underutilizing ground truth.\n",
    "\n",
    "The additional complexity only improved compared to the standard distilled student. This may have hurt generalization and we had rapid overfitting. This shows that more sophisticated objectives can be counterproductive without careful tuning or larger datasets.\n",
    "\n",
    "The quantified version achieves the same perfromance as the V1."
   ]
  },
  {
   "cell_type": "markdown",
   "id": "42278e19",
   "metadata": {},
   "source": [
    "### Inference Speed Comparison\n",
    "\n",
    "We do a warm-up for stability.\n",
    "\n",
    "Sample 100 texts, we do this for all the best models:"
   ]
  },
  {
   "cell_type": "code",
   "execution_count": null,
   "id": "e33425fe",
   "metadata": {},
   "outputs": [
    {
     "name": "stdout",
     "output_type": "stream",
     "text": [
      "\n",
      "Evaluating teacher...\n",
      "Inference time on 100 samples (teacher): 0.7009 seconds\n",
      "\n",
      "Evaluating student_best_pretrained...\n",
      "Inference time on 100 samples (student_best_pretrained): 0.3438 seconds\n",
      "\n",
      "Evaluating student_best_intermediate...\n",
      "Inference time on 100 samples (student_best_intermediate): 0.3357 seconds\n",
      "\n",
      "Evaluating student_v1...\n",
      "Inference time on 100 samples (student_v1): 0.3371 seconds\n",
      "\n",
      "Evaluating student_v1_quantized...\n",
      "Inference time on 100 samples (student_v1_quantized): 0.3482 seconds\n"
     ]
    }
   ],
   "source": [
    "texts = df_sample[\"question_content\"].tolist()[:100]\n",
    "batch_size = 16  # Reduce if still getting OOM\n",
    "\n",
    "# model paths\n",
    "model_variants = {\n",
    "    \"teacher\": {\n",
    "        \"model\": teacher_model,\n",
    "        \"tokenizer\": teacher_tokenizer\n",
    "    },\n",
    "    \"student_best_pretrained\": {\n",
    "        \"model_path\": \"models/student_best_pretrained\"\n",
    "    },\n",
    "    \"student_best_intermediate\": {\n",
    "        \"model_path\": \"models/student_best_intermediate\"\n",
    "    },\n",
    "    \"student_v1\": {\n",
    "        \"model\": student_v1,\n",
    "        \"tokenizer\": student_tokenizer\n",
    "    },\n",
    "    \"student_v1_quantized\": {\n",
    "        \"model\": student_v1_quant,\n",
    "        \"tokenizer\": student_tokenizer\n",
    "    }\n",
    "}\n",
    "\n",
    "# Loop through each model version:\n",
    "for name, info in model_variants.items():\n",
    "    print(f\"\\nEvaluating {name}...\")\n",
    "\n",
    "    # Load model/tokenizer\n",
    "    if \"model\" in info and \"tokenizer\" in info:\n",
    "        model = info[\"model\"].to(device)\n",
    "        tokenizer = info[\"tokenizer\"]\n",
    "    else:\n",
    "        model = DistilBertForSequenceClassification.from_pretrained(info[\"model_path\"]).to(device)\n",
    "        tokenizer = DistilBertTokenizerFast.from_pretrained(info[\"model_path\"])\n",
    "\n",
    "    model.eval()\n",
    "\n",
    "    # Tokenize all texts in advance (on CPU)\n",
    "    encoded = tokenizer(texts, return_tensors=\"pt\", padding=True, truncation=True)\n",
    "    \n",
    "    # Move tensors to device in batches\n",
    "    start_time = time.time()\n",
    "    with torch.no_grad():\n",
    "        for i in range(0, len(texts), batch_size):\n",
    "            batch = {k: v[i:i+batch_size].to(device) for k, v in encoded.items()}\n",
    "            _ = model(**batch)\n",
    "    end_time = time.time()\n",
    "\n",
    "    print(f\"Inference time on 100 samples ({name}): {end_time - start_time:.4f} seconds\")\n",
    "\n",
    "    # Optional: clear memory between models\n",
    "    del model\n",
    "    torch.cuda.empty_cache()"
   ]
  },
  {
   "cell_type": "markdown",
   "id": "f94e0ea0",
   "metadata": {},
   "source": [
    "We observe that the teacher model takes the longest to process 100 samples, with an inference time of approximately 0.70 seconds, reflecting its larger size and complexity. In contrast, all student variants, including the pretrained, intermediate, v1, and quantized versions, achieve significantly faster inference times around 0.33 to 0.35 seconds, demonstrating the efficiency gains achieved through distillation and model compression."
   ]
  },
  {
   "cell_type": "markdown",
   "id": "abbfa75b",
   "metadata": {},
   "source": [
    "## c. Analysis and Improvements\n",
    "\n",
<<<<<<< HEAD
    "Last, we are supposed to analyze deficiencies in the student model's learning. Suggest potential improvements or further research directions."
=======
    "Last, we are supposed to analyze deficiencies in the student model's learning. Suggest potential improvements or further research directions.\n",
    "\n",
    "The student models that we chose were limited to the DistilBERT base architecture for the case when we do not want to retrain and use the weights. We saw that already a very simple approach can give very good performance, while benefitting from reduced computaional inference time. \n",
    "\n",
    "Even though the models benefit from faster inference and are much faster to be trained one has to consider that the training still takes a signifcant amount of time which leads to the fact that one can even with those models only do some limited parameter tuning.\n",
    "\n",
    "The most obvious deficiency of the student model's learning is the limited model capacity. Fewer parameters (fewer layers, smaller hidden size, fewer attention heads) mean that it cannot represent complex functions learned by the teacher. Thus, the student may underfit especially on nuanced or ambiguous samples.\n",
    "\n",
    "While the student may generalize quite good, the student misses depth which makes it worse at modeling complex syntax or abstract semantics.\n",
    "\n",
    "There could be models that have different number of layers that do not require retraining everything from scratch.\n",
    "\n",
    "We also suggest experimenting with more advanced quantization techniques, such as post-training quantization with ONNX Runtime or quantization-aware training, which may further reduce memory and inference costs with minimal accuracy degradation. Finally, better distillation objectives that combine soft targets with intermediate layer alignment or contrastive learning may allow student models to capture richer representations without increasing model size."
   ]
  },
  {
   "cell_type": "code",
   "execution_count": null,
   "id": "71ceba55",
   "metadata": {},
   "outputs": [
    {
     "name": "stdout",
     "output_type": "stream",
     "text": [
      "\n",
      "Example 10:\n",
      "Text: can anyone tell me the medical condition that was on Melbournes all saints on the tuesday the 23td of may thanks\n",
      "True Label:     3\n",
      "Teacher Pred:   3 \n",
      "Student V1 Pred:0 \n"
     ]
    }
   ],
   "source": [
    "def predict(model, tokenizer, texts, device):\n",
    "    model.eval()\n",
    "    preds = []\n",
    "    with torch.no_grad():\n",
    "        for text in texts:\n",
    "            inputs = tokenizer(text, return_tensors=\"pt\", truncation=True, padding=True).to(device)\n",
    "            outputs = model(**inputs)\n",
    "            probs = softmax(outputs.logits, dim=1)\n",
    "            pred = torch.argmax(probs, dim=1).item()\n",
    "            preds.append(pred)\n",
    "    return preds\n",
    "\n",
    "# Predict using teacher and student_v1\n",
    "teacher_preds = predict(teacher_model, teacher_tokenizer, texts, device)\n",
    "student_preds = predict(student_v1, student_tokenizer, texts, device)\n",
    "\n",
    "# Compare and print misclassified examples\n",
    "for i, (true, t_pred, s_pred) in enumerate(zip(labels, teacher_preds, student_preds)):\n",
    "    if t_pred == true and s_pred != true:\n",
    "        print(f\"\\nExample {i}:\")\n",
    "        print(f\"Text: {texts[i]}\")\n",
    "        print(f\"True Label:     {true}\")\n",
    "        print(f\"Teacher Pred:   {t_pred} \")\n",
    "        print(f\"Student V1 Pred:{s_pred} \")"
>>>>>>> f0e7895634d6c08a5b570633dca077ab16b11787
   ]
  },
  {
   "cell_type": "markdown",
<<<<<<< HEAD
   "id": "220a46a9",
   "metadata": {},
   "source": [
    "**Misclassification Example:**"
   ]
  },
  {
   "cell_type": "code",
   "execution_count": null,
   "id": "71ceba55",
   "metadata": {},
   "outputs": [
    {
     "name": "stdout",
     "output_type": "stream",
     "text": [
      "\n",
      "Example 10:\n",
      "Text: can anyone tell me the medical condition that was on Melbournes all saints on the tuesday the 23td of may thanks\n",
      "True Label:     3\n",
      "Teacher Pred:   3 \n",
      "Student V1 Pred:0 \n"
     ]
    }
   ],
   "source": [
    "def predict(model, tokenizer, texts, device):\n",
    "    model.eval()\n",
    "    preds = []\n",
    "    with torch.no_grad():\n",
    "        for text in texts:\n",
    "            inputs = tokenizer(text, return_tensors=\"pt\", truncation=True, padding=True).to(device)\n",
    "            outputs = model(**inputs)\n",
    "            probs = softmax(outputs.logits, dim=1)\n",
    "            pred = torch.argmax(probs, dim=1).item()\n",
    "            preds.append(pred)\n",
    "    return preds\n",
    "\n",
    "# Predict using teacher and student_v1\n",
    "teacher_preds = predict(teacher_model, teacher_tokenizer, texts, device)\n",
    "student_preds = predict(student_v1, student_tokenizer, texts, device)\n",
    "\n",
    "# Compare and print misclassified examples\n",
    "for i, (true, t_pred, s_pred) in enumerate(zip(labels, teacher_preds, student_preds)):\n",
    "    if t_pred == true and s_pred != true:\n",
    "        print(f\"\\nExample {i}:\")\n",
    "        print(f\"Text: {texts[i]}\")\n",
    "        print(f\"True Label:     {true}\")\n",
    "        print(f\"Teacher Pred:   {t_pred} \")\n",
    "        print(f\"Student V1 Pred:{s_pred} \")"
   ]
  },
  {
   "cell_type": "markdown",
   "id": "44b97901",
   "metadata": {},
   "source": [
    "In this example, the teacher model correctly identifies the topic as class 3, likely a medical or health-related category, while the student V1 model misclassifies it as class 0. The text refers to a medical condition on a TV show, which may require more nuanced understanding of context and domain-specific terms. This suggests that the student model, due to its reduced capacity, struggles to capture such specific references and semantic cues, leading to errors in more specialized or context-dependent queries."
   ]
  },
  {
   "cell_type": "markdown",
   "id": "9d952383",
   "metadata": {},
   "source": [
    "**Confusion Matrix:**\n",
    "\n",
    "First, we run once to collect predictions. "
   ]
  },
  {
   "cell_type": "code",
   "execution_count": 88,
   "id": "eb01b4a9",
   "metadata": {},
   "outputs": [],
   "source": [
    "true_labels = []\n",
    "teacher_preds = []\n",
    "student_v1_preds = []\n",
    "\n",
    "for text, label in zip(df_sample[\"question_content\"].tolist(), df_sample[\"label\"].tolist()):\n",
    "    # Tokenize and remove token_type_ids\n",
    "    encoded = teacher_tokenizer(text, return_tensors=\"pt\", truncation=True, padding=True)\n",
    "    if \"token_type_ids\" in encoded:\n",
    "        del encoded[\"token_type_ids\"]\n",
    "    inputs = encoded.to(device)\n",
    "\n",
    "    \n",
    "    with torch.no_grad():\n",
    "        teacher_output = teacher_model(**inputs).logits\n",
    "        student_output = student_v1(**inputs).logits\n",
    "    \n",
    "    true_labels.append(label)\n",
    "    teacher_preds.append(teacher_output.argmax(dim=1).item())\n",
    "    student_v1_preds.append(student_output.argmax(dim=1).item())"
   ]
  },
  {
   "cell_type": "markdown",
   "id": "187b78b0",
   "metadata": {},
   "source": [
    "Now, we compute and plot the confusion matrix:"
   ]
  },
  {
   "cell_type": "code",
   "execution_count": 90,
   "id": "045311cb",
   "metadata": {},
   "outputs": [
    {
     "data": {
      "image/png": "iVBORw0KGgoAAAANSUhEUgAABJcAAAIECAYAAACkK88/AAAAOnRFWHRTb2Z0d2FyZQBNYXRwbG90bGliIHZlcnNpb24zLjEwLjEsIGh0dHBzOi8vbWF0cGxvdGxpYi5vcmcvc2/+5QAAAAlwSFlzAAAPYQAAD2EBqD+naQABAABJREFUeJzs3Xd0FNXbwPHv7maz6Z10SELoTQQRIkpRISqiothQOgoIKqA0QekWsIA0u6AURUT9KShVsABK750QEtJ7z2525/1jyYYlCQTc1Pf5nJNz2Jm7d58dZuc+c+fOHZWiKApCCCGEEEIIIYQQQtwEdXUHIIQQQgghhBBCCCFqL+lcEkIIIYQQQgghhBA3TTqXhBBCCCGEEEIIIcRNk84lIYQQQgghhBBCCHHTpHNJCCGEEEIIIYQQQtw06VwSQgghhBBCCCGEEDdNOpeEEEIIIYQQQgghxE2TziUhhBBCCCGEEEIIcdOkc0kIIYQQQgghhBBC3DTpXBLiKoMGDcLFxaW6w6h2v/32G23btsXBwQGVSkVGRoZN61+2bBkqlYoLFy7YtN7aTKVSMX369OoOQwghxP8z0v5UP8m7qp7s90LYlnQuiWqjUqkq9Ld9+/bqDrXabN++nUcffRR/f3/s7e3x9fWld+/erFu3rlI/NzU1lSeeeAJHR0cWL17M119/jbOzc6V+ZlUKDQ1FpVJx7733lrn+008/tex/e/fuveH6d+7cyfTp022eGAohhKh7jhw5Qt++fQkJCcHBwYGgoCB69OjBwoULrcq9+eab/Pjjj9UTpA2sWrWK+fPnX7fc/v37UalUTJ06tdwyZ86cQaVSMW7cOADi4+OZNGkS3bt3x9XV9abzR8m7KofkXUL8/2BX3QGI/7++/vprq9dfffUVmzdvLrW8efPmVRlWjTFt2jRmzpxJ48aNGT58OCEhIaSmprJhwwYee+wxVq5cSb9+/Srls/fs2UN2djazZs0qNxH4r/r3789TTz2FTqerlPqvx8HBgd9//52EhAT8/f2t1q1cuRIHBwcKCgpuqu6dO3cyY8YMBg0ahIeHR4Xfl5+fj52dHJaFEOL/i507d9K9e3caNGjAc889h7+/PzExMezevZsFCxbw4osvWsq++eab9O3bl0ceeaT6Av4PVq1axdGjRxkzZsw1y7Vr145mzZqxevVqZs+eXW5dAM8++ywAp06d4p133qFx48a0bt2aXbt23XB8kndVLsm7hKj75Nckqk1xQlBs9+7dbN68udTyukhRFAoKCnB0dCxz/dq1a5k5cyZ9+/Zl1apVaLVay7rx48ezceNGDAZDpcWXlJQEcEMN9I3SaDRoNJpKq/96OnfuzJ49e/j22295+eWXLctjY2P5888/6dOnD99//32lx2EymdDr9Tg4OODg4FDpnyeEEKLmmDNnDu7u7uzZs6dUm1vcFv9/9Mwzz/D666+ze/duOnXqVGr96tWradasGe3atQOgffv2pKam4uXlxdq1a3n88cdv6PMk76p8kncJUffJbXGiRjOZTMyfP5+WLVvi4OCAn58fw4cPJz093arcTz/9RK9evQgMDESn0xEeHs6sWbMwGo2l6vznn3944IEH8PT0xNnZmTZt2rBgwYJS5S5dusQjjzyCi4sL9erV49VXXy1VX0XjCw0N5cEHH2Tjxo3cdtttODo68vHHH5f7vV9//XW8vLz44osvrBKcYpGRkTz44IOW10lJSQwdOhQ/Pz8cHBy45ZZbWL58udV7Lly4gEql4t133+WTTz4hPDwcnU5Hhw4d2LNnj6Vct27dGDhwIAAdOnRApVIxaNAgy/co/veVunXrRrdu3ayWLVy4kJYtW+Lk5ISnpye33Xab5UojlH/v/5IlS2jZsiU6nY7AwEBGjRpVaphzt27daNWqFcePH6d79+44OTkRFBTE3Llzy9ukpTg4OPDoo49axQTmhNXT05PIyMhS7zl8+DCDBg2iYcOGODg44O/vz5AhQ0hNTbWUmT59OuPHjwcgLCzMMsy7+HuqVCpGjx7NypUrLd/zt99+s6wrvvc/Pz+fZs2a0axZM/Lz8y31p6WlERAQwB133FHm/i2EEKL2OHfuHC1btiyzU8HX19fyb5VKRW5uLsuXL7e0K8Xt8aBBgwgNDS31/unTp6NSqayWFRYWMnbsWOrVq4erqysPPfQQsbGxZcZ26dIlhgwZgp+fHzqdjpYtW/LFF19Yldm+fTsqlYo1a9YwZ84cgoODcXBw4J577uHs2bOWct26dWP9+vVER0db4i8r5mLPPPMMQKk2GmDfvn2cOnXKUgbA1dUVLy+vcuu7Hsm7JO+SvEuI/05GLokabfjw4SxbtozBgwfz0ksvERUVxaJFizhw4AB///23JQFYtmwZLi4ujBs3DhcXF7Zt28Ybb7xBVlYW8+bNs9S3efNmHnzwQQICAnj55Zfx9/fnxIkT/PLLL1ZXUYxGI5GRkXTs2JF3332XLVu28N577xEeHs7IkSNvOD4wD9l++umnGT58OM899xxNmzYt8zufOXOGkydPMmTIEFxdXa+7jfLz8+nWrRtnz55l9OjRhIWF8d133zFo0CAyMjKsvheYE7Xs7GyGDx+OSqVi7ty5PProo5w/fx6tVsuUKVNo2rQpn3zyCTNnziQsLIzw8PCK/Ydd9umnn/LSSy/Rt29fXn75ZQoKCjh8+DD//PPPNYeUT58+nRkzZnDvvfcycuRITp06xdKlS9mzZ0+p7Zmens59993Ho48+yhNPPMHatWuZOHEirVu35v77769QnP369aNnz56cO3fO8h1XrVpF3759y0wuN2/ezPnz5xk8eDD+/v4cO3aMTz75hGPHjrF7925UKhWPPvoop0+fZvXq1XzwwQf4+PgAUK9ePUs927ZtY82aNYwePRofH58yE2xHR0eWL19O586dmTJlCu+//z4Ao0aNIjMzk2XLllXrFUghhBD/XUhICLt27eLo0aO0atWq3HJff/01w4YN4/bbb+f5558HuOG2GWDYsGGsWLGCfv36cccdd7Bt2zZ69epVqlxiYiKdOnWynJjXq1ePX3/9laFDh5KVlVXq1ra3334btVrNq6++SmZmJnPnzuWZZ57hn3/+AWDKlClkZmYSGxvLBx98AHDNh6eEhYVxxx13sGbNGj744AOr9q64c8JWt6hJ3iV5F0jeJYRNKELUEKNGjVKu3CX//PNPBVBWrlxpVe63334rtTwvL69UfcOHD1ecnJyUgoICRVEUpaioSAkLC1NCQkKU9PR0q7Imk8ny74EDByqAMnPmTKsyt956q9K+ffubii8kJEQBlN9+++16m0H56aefFED54IMPrltWURRl/vz5CqCsWLHCskyv1ysRERGKi4uLkpWVpSiKokRFRSmA4u3traSlpZX6vJ9//tmy7Msvv1QAZc+ePVafFRISogwcOLBUDF27dlW6du1qef3www8rLVu2vGbcxZ8RFRWlKIqiJCUlKfb29krPnj0Vo9FoKbdo0SIFUL744gurzwOUr776yrKssLBQ8ff3Vx577LFrfm7x9+jVq5dSVFSk+Pv7K7NmzVIURVGOHz+uAMqOHTvK3AZl7WerV69WAOWPP/6wLJs3b57Vd7sSoKjVauXYsWNlrps2bZrVssmTJytqtVr5448/lO+++04BlPnz51/3OwohhKj5Nm3apGg0GkWj0SgRERHKhAkTlI0bNyp6vb5UWWdn5zLb4IEDByohISGllk+bNs0qrzp48KACKC+88IJVuX79+pVqf4YOHaoEBAQoKSkpVmWfeuopxd3d3dIe/v777wqgNG/eXCksLLSUW7BggQIoR44csSzr1atXmXGWZ/HixQqgbNy40bLMaDQqQUFBSkRERLnvK24rf//99wp9juRdknddSfIuIW6e3BYnaqzvvvsOd3d3evToQUpKiuWvffv2uLi48Pvvv1vKXjl3UXZ2NikpKdx1113k5eVx8uRJAA4cOEBUVBRjxowpNfz86mHjACNGjLB6fdddd3H+/Pmbig/MV+HKGvJ7taysLIAKXT0D2LBhA/7+/jz99NOWZVqtlpdeeomcnBx27NhhVf7JJ5/E09PT6nsBVt/tv/Lw8CA2NtZq2Pf1bNmyBb1ez5gxY1CrSw5Nzz33HG5ubqxfv96qvIuLi9X8XPb29tx+++039D00Gg1PPPEEq1evBswTStavX9+yTa525X5WUFBASkqKZS6I/fv3V/hzu3btSosWLSpUdvr06bRs2ZKBAwfywgsv0LVrV1566aUKf5YQQoiaq0ePHuzatYuHHnqIQ4cOMXfuXCIjIwkKCuJ///ufTT9rw4YNAKXakKtHISmKwvfff0/v3r1RFMUqx4mMjCQzM7NUmzd48GDs7e0tr22RWzz55JNotVqr26h27NjBpUuXrG6J+68k75K860qSdwlx86RzSdRYZ86cITMzE19fX+rVq2f1l5OTYzXR5bFjx+jTpw/u7u64ublRr149SwOYmZkJmOc1AK457LyYg4OD1XBaAE9PT6u5lG4kPjB3LlWEm5sbYO4kq4jo6GgaN25slRhAyVP2oqOjrZY3aNCg1PcCSs0T9V9MnDgRFxcXbr/9dho3bsyoUaP4+++/r/me4jivvl3Q3t6ehg0blvoewcHBpToFr/4/qoh+/fpx/PhxDh06xKpVq3jqqafK7GwE8333L7/8Mn5+fjg6OlKvXj3L/2vxflYRFd0XwPz9v/jiC6KiosjOzubLL78sNz4hhBC1T4cOHVi3bh3p6en8+++/TJ48mezsbPr27cvx48dt9jnR0dGo1epSt1xd3e4mJyeTkZHBJ598Uiq/GTx4MFB6svHKyC28vb2JjIzkhx9+sDxFbNWqVdjZ2fHEE0/cdL1Xk7xL8q4rSd4lxM2TOZdEjWUymfD19WXlypVlri/u/MnIyKBr1664ubkxc+ZMwsPDcXBwYP/+/UycOBGTyXTDn12Re6orGl+x8p4Md7VmzZoBcOTIkQqVv1HlfTdFUa773vIaV6PRaFVv8+bNOXXqFL/88gu//fYb33//PUuWLOGNN95gxowZNxf4Vf7L97hSx44dCQ8PZ8yYMURFRV1zboInnniCnTt3Mn78eNq2bYuLiwsmk4n77rvvhvaziu4LxTZu3AiYr9qdOXPmhpIkIYQQtYO9vT0dOnSgQ4cONGnShMGDB/Pdd98xbdq0a77vWm3zzShuz5599lnLRNNXa9OmjdVrW7XJV3v22Wf55Zdf+OWXX3jooYf4/vvv6dmzZ6kc67+QvKtiJO8SQlyPdC6JGis8PJwtW7bQuXPnazYK27dvJzU1lXXr1tGlSxfL8qioqFL1ARw9epR77723yuK7UU2aNKFp06b89NNPLFiw4JoTXoJ5MtDDhw9jMpmsrqIV3w4YEhJis9g8PT1LPUEEzFe/GjZsaLXM2dmZJ598kieffBK9Xs+jjz7KnDlzmDx5cpmPfi2O89SpU1Z16fV6oqKibPJ/Vp6nn36a2bNn07x5c9q2bVtmmfT0dLZu3cqMGTN44403LMvPnDlTqqwtr3AdPnyYmTNnMnjwYA4ePMiwYcM4cuQI7u7uNvsMIYQQNcttt90GQHx8vGVZeW3LtdrmK4WEhGAymTh37pzVaJVTp05ZlSt+kpzRaLRp23szbeNDDz2Eq6srq1atQqvVkp6ebtNb4kDyLsm7rEneJcTNk9viRI31xBNPYDQamTVrVql1RUVFlsa2+ErKlVdO9Ho9S5YssXpPu3btCAsLY/78+aUa6pu5slbR+G7GjBkzSE1NZdiwYRQVFZVav2nTJn755RcAHnjgARISEvj222+tPn/hwoW4uLjQtWvXm47jauHh4ezevRu9Xm9Z9ssvvxATE2NV7spHxIL5amyLFi1QFAWDwVBm3ffeey/29vZ8+OGHVv8fn3/+OZmZmWU+zcZWhg0bxrRp03jvvffKLVPWfgYwf/78UmWdnZ0B/tM+AGAwGBg0aBCBgYEsWLCAZcuWkZiYyNixY/9TveL/l4KCArKysirlr/hWFSHEzfn999/LzEGK50e6shPI2dm5zHYlPDyczMxMDh8+bFkWHx/PDz/8YFWu+IleH374odXyq9sxjUbDY489xvfff8/Ro0dLfV5ycvK1v1Q5nJ2db+hWJjCPOOnTpw8bNmxg6dKlODs78/DDD9/U51+L5F2Sd4HkXaK0ysqh6mr+JCOXRI3VtWtXhg8fzltvvcXBgwfp2bMnWq2WM2fO8N1337FgwQL69u3LHXfcgaenJwMHDuSll15CpVLx9ddfl2qM1Go1S5cupXfv3rRt25bBgwcTEBDAyZMnOXbsmGUIrK3juxlPPvkkR44cYc6cORw4cICnn36akJAQUlNT+e2339i6datlgsvnn3+ejz/+mEGDBrFv3z5CQ0NZu3Ytf//9N/Pnz6/wBJUVMWzYMNauXct9993HE088wblz51ixYkWp+Rt69uyJv78/nTt3xs/PjxMnTrBo0SJ69epVbjz16tVj8uTJzJgxg/vuu4+HHnqIU6dOsWTJEjp06GA1iaSthYSEMH369GuWcXNzo0uXLsydOxeDwUBQUBCbNm0qNUIOoH379oD50ctPPfUUWq2W3r17W5Kfipo9ezYHDx5k69atuLq60qZNG9544w2mTp1K3759eeCBB26oPvH/T0FBAWEhLiQk3dztMdfj7+9PVFRUmVfFhRDX9+KLL5KXl0efPn1o1qwZer2enTt38u233xIaGmqZ4wjMbcuWLVt4//33CQwMJCwsjI4dO/LUU08xceJE+vTpw0svvUReXh5Lly6lSZMmVpMet23blqeffpolS5aQmZnJHXfcwdatWzl79mypuN5++21+//13OnbsyHPPPUeLFi1IS0tj//79bNmyhbS0tBv+ru3bt+fbb79l3LhxdOjQARcXF3r37n3d9z377LN89dVXbNy4kWeeeabctnT27NmAeR5OgK+//pq//voLgKlTp17zMyTvkrwLJO8S1iozh6qz+VOVP59OiHKMGjVKKWuX/OSTT5T27dsrjo6Oiqurq9K6dWtlwoQJSlxcnKXM33//rXTq1ElxdHRUAgMDLY/ypYxH0f71119Kjx49FFdXV8XZ2Vlp06aNsnDhQsv6gQMHKs7OzqXiuPqRvjcSX/EjWG/U1q1blYcffljx9fVV7OzslHr16im9e/dWfvrpJ6tyiYmJyuDBgxUfHx/F3t5ead26tfLll19alSl+JO68efNKfQ5XPYq1vEfiKoqivPfee0pQUJCi0+mUzp07K3v37i31SNyPP/5Y6dKli+Lt7a3odDolPDxcGT9+vJKZmVnqM65+bOyiRYuUZs2aKVqtVvHz81NGjhyppKenW5Xp2rVrmY/cLe9xzFeryP9HWdsgNjZW6dOnj+Lh4aG4u7srjz/+uBIXF1fmo2xnzZqlBAUFKWq12up7AsqoUaPK/Mwr69m3b59iZ2envPjii1ZlioqKlA4dOiiBgYGltosQV8vMzFQAJXpfqJJ+uqFN/6L3hSqA1e9aCHFjfv31V2XIkCFKs2bNFBcXF8Xe3l5p1KiR8uKLLyqJiYlWZU+ePKl06dJFcXR0VACrR9Rv2rRJadWqlWJvb680bdpUWbFiRZl5S35+vvLSSy8p3t7eirOzs9K7d28lJiamzHYsMTFRGTVqlFK/fn1Fq9Uq/v7+yj333KN88sknljK///67Aijfffed1XuLc44rc5GcnBylX79+ioeHhwJUqL1WFHO7FxAQoADKhg0byi0HlPtXUZJ3Sd4leZcoVlk5VF3On1SK8h9n2hNCCCFEjZSVlYW7uzupp8Nwc7XtnfBZ2Sa8m0SRmZlpedqSEEIIIURdUFk5VF3On2TOJSGEEEIIIYQQQghx02TOJSGEEKKOMyomjDYep2xUKv4YaCGEEEKI2sjWOVRdzp+kc0kIIYSo40womLBt75Kt6xNCCCGEqGlsnUPV5fxJbosTQgghhBBCCCGEEDdNRi4JIYQQdZwJE7YehG37GoUQQgghahZb51B1OX+SkUtCCCGEEEIIIYQQ4qbV6pFLJpOJuLg4XF1dUalU1R2OEEIIcV2KopCdnU1gYCBqddVc4zEqCkbFtvf427o+UbUkhxJCCFHb1IUcqi7nT7W6cykuLo769etXdxhCCCHEDYuJiSE4OLi6wxD/T0kOJYQQoraSHKpmqtWdS66urgB8+mcznFw01RzN9X3avml1h1BhKnXtuYqpsqv5//fFTIX66g6h4mpRr7rKrnYdymrTPoumFsVaSxQpBv7IW2tpw6qCPC1OXK14/1v5d0OcXGr+LAkftr+lukOoOFXN357FVNrac4w35RdUdwh1kspOW90h3BC1o666Q6i4WpRDKYWF1R1ChRQpBv7I/75W51B1OX+qXWdkVykexu3kosHJteb/eO1UtefgXZuGyKtUtWc3Nqlq08Gk9sRam/YBqGXxqmr+sbW2qk3HWVH3lORQapwlh7Kt2tS5VIvaI5PKWN0h1Emq2vTbAtQq++oOoeJqUQ6l1KpzFMmhaqra06IIIYQQ4qaYUDDKyCUhhBBCiBti6xyqLudP0rkkhBBC1HFyW5wQQgghxI2T2+IqrvaM2xVCCCGEEEIIIYQQNY6MXBJCCCHqOFs/Rre4TiGEEEKIuszWOVRdzp9k5JIQQgghhBBCCCGEuGnSuSSEEELUcaZK+rtZb7/9NiqVijFjxliWFRQUMGrUKLy9vXFxceGxxx4jMTHR6n0XL16kV69eODk54evry/jx4ykqKrIqs337dtq1a4dOp6NRo0YsW7bsP0QqhBBCiP/PalL+VNNJ55IQQgghqsyePXv4+OOPadOmjdXysWPH8vPPP/Pdd9+xY8cO4uLiePTRRy3rjUYjvXr1Qq/Xs3PnTpYvX86yZct44403LGWioqLo1asX3bt35+DBg4wZM4Zhw4axcePGKvt+QgghhBD/H0nnkhBCCFHHGS8/RtfWfzcqJyeHZ555hk8//RRPT0/L8szMTD7//HPef/997r77btq3b8+XX37Jzp072b17NwCbNm3i+PHjrFixgrZt23L//fcza9YsFi9ejF6vB+Cjjz4iLCyM9957j+bNmzN69Gj69u3LBx98YJsNKYQQQoj/V2pC/lRbSOeSEEIIUccZlcr5A8jKyrL6KywsLDeOUaNG0atXL+69916r5fv27cNgMFgtb9asGQ0aNGDXrl0A7Nq1i9atW+Pn52cpExkZSVZWFseOHbOUubruyMhISx1CCCGEEDeisvKnukg6l4QQQghx0+rXr4+7u7vl76233iqz3DfffMP+/fvLXJ+QkIC9vT0eHh5Wy/38/EhISLCUubJjqXh98bprlcnKyiI/P/+mvp8QQgghhLg+u+oOQAghhBCVqzImkCyuLyYmBjc3N8tynU5XqmxMTAwvv/wymzdvxsHBwcaRCCGEEEJUDlvnUDKhtxBCCCFEGdzc3Kz+yupc2rdvH0lJSbRr1w47Ozvs7OzYsWMHH374IXZ2dvj5+aHX68nIyLB6X2JiIv7+/gD4+/uXenpc8evrlXFzc8PR0dFWX1kIIYQQQlxFOpeEEEKIOs6ECqON/0yoKvz599xzD0eOHOHgwYOWv9tuu41nnnnG8m+tVsvWrVst7zl16hQXL14kIiICgIiICI4cOUJSUpKlzObNm3Fzc6NFixaWMlfWUVymuA4hhBBCiBth6xzqRvKn2qZO3hZ3dKU7R1d7kBVr/npejfV0GJ1KSNc8S5mEAw7sft+HxEMOqNQKPs0LeejLS9g5mGfYSj6mY+dcH5KOOKDSQHhkNp0nJ2PvXDIDV8xOR/6d70PqaR12jiaa9cmi07gU1Dbeqs+Oi6P/uASrZTFndQzr1hJXjyL6vxJPuy5Z+AbpyUy1Y+dGD5bPCyQvW2PbQCoS69g4nh0bXyrW5+5uBYBnPQPDpsRy651ZOLmYiD2nY/WiAP7+1bOs6myqVYcs+j4fT6NWuXj7GZg5vDG7NntZ1t8RmUavfok0apWHm2cRo3q14vwJZ8t6F/ci+o+Jpd1dmdQLLCQzTcuuTZ589UEwedmV+1N6cnQine/PoH6jQvQFao7vdeLzNwOJPVfW7SUKs78+T4e7s5k+JJRdGz0qNbYyY30g0zrWOQFWsWp1Jp6fFke3hzLQ6hT2bXdl4eQgMlK0VRorgLefnqGTL3Fb90x0jibiLuh4/9VQzhwu/r9X6D8unvv7JePsZuT4XhcWvtaAuAuVf2vPtfZZjZ2Jga/Eclu3DALqF5KbreHA3+58Obc+aUn2ljqeeuESHbpn0LBFHkUGFY+3va2SYs2k77A4GrXMMcc6sim7tnhb1o975ww9Hk22es/ePzx4fWgLy+tpH52gYfNcPLwN5GTacWCnB1/MC7H6PlUR65VGzzxHr6cT+XhOKD8uC7Ra16FbGv1GxxLWNA99oYoj/7oz64VmNo21rnB1daVVq1ZWy5ydnfH29rYsHzp0KOPGjcPLyws3NzdefPFFIiIi6NSpEwA9e/akRYsW9O/fn7lz55KQkMDUqVMZNWqUZbTUiBEjWLRoERMmTGDIkCFs27aNNWvWsH79+qr9wrXYgZVeHFzpReYl8+/Op3Ehd4xOpGG3HABW9wsj5h8Xq/fc8nQqkbPjrJYdWevB3i98SIvSoXMx0fSBTHrMKCmTdNKBLdMCiT/siJNXEe0GpNJxeIrNv8/1jvHPjo2ja+806gUaMBhUnD3ixLK5QZw66Hydmm1v+V+H8KuvL7X85698Wfx6CAENChg2JYaWHXLQ2pvYt8OdJdNCqqTtbNUhi77PXXHcHNGUXVuuaI/GxnBbt/SS9minO19edfwOCs1n6KRoWrTLRmuvEHXSia/m1+fwbvdKjf16OZRfcCFf/XOizPfOHh7Kn794VGp8NxIrwEvvxHDrndl4+xnIz1NzYq8zn88JJKbMnLDyXGt/Xf5uEP3HXaL9XVnUCyokM1XLrk0eLH8vqNJzZoBWt2Xy2NBY8/7qq2fWqObs2upjVaZ+wzwGvxpF6w6ZaDQKF885Meel5iTHO+DibuDZF6Np1zmDegGXc/6t3ny9IIS8HNvG/8SwaO7okUJwWB76AjUnDrrxxfvhXLrgZCmjtTfy3IRzdLk/Ca29if1/e7F4VhMyUkt+X41bZTF47HkatchGUVScPurKF++FE3XKpayPvSm2OA5M+/jkVbmeO1/MtX2uJ6pHjehcWrx4MfPmzSMhIYFbbrmFhQsXcvvtt990fc7+RXR6NQWPUD0ocPIHNzaMDOKJn6Lxbqwn4YADPw8Jot2INO56Iwm1RiHlpA7V5U7E3EQNPw0MptED2XSZloQ+R81fc3zZNtGf+xaZO05STtjzy7AgbhuZxj3zEshNsGPHG74oJug8yfbJ0YWTDkx6urHltbHIHKyXnwFvPwOfzgri4hlHfIP0vPT2Rbz9DMwe3tDmcVQo1lMOTO7XpFSsAK9+EIWLm5HpQxuRlW5H94fTeG3JeV56sDnnjjmVVZ3NODiZOH/CiU3f1eP1j86UXu9o5NheV/5Y782Yt6NKrff20+Plp+ezNxtw8awjvkGFjJ59AW8/PXNGNSlV3pbadMrh5+U+nD7ohMYOBk2K581V53iuWzMK8607Efs8l4xSjU8haBORy8/LimNVzLGuPs9zXZtaYh0xPY7b781i9vAQcrM0jJpziTc+v8C4hxtfp3bbcnEv4v11pzi0y5WpAxqTmWZHUGghOZklh8bHRyby8OAk3h0XSmKMPQNejWPOijM8f09LDIWVO/jzWvusztFEeMtcVi8M4vwJJ1zdixj+RjTTPj3Nyw+XnMTb2Sv8+asXJw64EPlE8tUfYbtYHU2cP+nMprW+vL7kVJll9uzw4INJjSyvDXrr7XdotzvffhRMWpIWbz89wyZFM2XhKV55snWVxwpwR49UmrXNJiWhdMLTOTKVl2efY9n7DTi0yx2NnUJI47wyaqkZTIr5z9Z12tIHH3yAWq3mscceo7CwkMjISJYsWWJZr9Fo+OWXXxg5ciQRERE4OzszcOBAZs6caSkTFhbG+vXrGTt2LAsWLCA4OJjPPvuMyMhI2wZbQ9g6fwJw9TfQZXwinqHmp/4d/d6TdSNCGPS/s/g0MS9r82Qad44tuf1Q62A9g8Sez33Y87kP3SbFE3BLPoZ8NZmxJR0ghdlqvhsYSkjnHHrOukTyKQd+nRSMzs1I26fT/1P8V6rIMT72vANL3mhA/EUdOgcTfYYm8uaK0wzp0orMtKq94PHSQy1QX9GkhzbJ461Vp/lzvSc6RyNzVpwm6oQjk55uCsCAVy4x4/MzjHmkOYpSuVfCHRyNJe3R0tNW63QOl9ujxcGcP+Fsbo+mXmDaxyd5uU8bS7npn54k7oIDk/q3QF+g5pHB8cz45CRD7r6V9JTKO7G8Xg6VHGfPU21bWr3ngWdS6TsyiT3bXCstrpuJFeDMYUe2rfMk+ZIWVw8jz76SwJurzzGwUwtMpqobEXGt/dXbT28+P5lTn4tnHPAN1vPinAt4+RmYM7JR+ZXaiIOjkaiTzmz63o/XF5XuOPSvn8+8VYfYtNafFQtDyMvRENIoD/3lvM7bV4+3r57P5oZx8awTfoGFjJ5xFm/fQt58uUWp+v6LVh0y+GV1IKePuKGxUxj48nnmfHqI4Q/dbvk/f37iOTp0TeWtcS3JzbZj5JQzTF1wlFefbWf+vk5FzPr4MP/87sPiWU3QaBSeHR3FrE8OMfCeCIxFtslXbXEcOLTbjW+XBpGWZG/O9SZfYMqiU7zyhG1zPVuydQ5l6/ypJqn2zqVvv/2WcePG8dFHH9GxY0fmz59PZGQkp06dwtfX96bqDLsn1+p1p3GpHF3lQeJBB7wb6/lrTj3aDMig/fCSBMazocHy7wu/u6C2U+g6PQnV5d9it5mJfPNgKBnRKXiEGDizwRWfZno6vJgGgEeIgYgJKWx8OYAOo1Oxd7HtXmM0qkhPLp3kRJ9yZNbzJZ1I8dE6lr0TyIQPL6DWKJiMVT/szlhUdqwALdrnsmhKA04fMl8RXL0wgD7DEmncOq/SO5f27vBg7w6Pctdv+7EeAL5BZT9GO/q0E3NeKOlEir/owPJ3g5nw/rlK39ZTng23ev3emAasOXKUxm3yOXrFFeSGLfN4bHgyL97fhG8OHqu0eK5lyjPWnZrvjWnAmqPHLLE6uRqJfDqNt0c14NDf5qTt/XH1+eyPUzRrl8vJ/VV3tfjxkQkkx9vz/quhlmWJMVfOF6PQZ2giqxf6s3uzBwDzxobxzb5D3NEzgx0/e1GZrrXP5mXbMWVAc6tlS6eHsuDHY9QLLCQ5zvw9VswPBuDexyqvYwlg7x+e7P3j2iMQDXr1NU8grhwZlBTnwJqPg3hj6Uk0diabJUYVjdXbr5CRb0QxZXALZn5qnZiqNQojpkbx2TshbFpb8mSyi2cr9xj2XxQPxbZ1nf/F9u3brV47ODiwePFiFi9eXO57QkJC2LBhwzXr7datGwcOHPhPsdUGlZE/ATS6J9vqdZdXEzm4you4g06WziWtowmXekVlvr8gU82f7/vx2CcXCOlcko/5Niuw/Pv4/zwwGlTc//YlNPYKPk0KSTrhwN4vfGzauXT9Yzxs/8n6OP7JrPrc93QqYc3zOfh31XYuXd2Z9cTITOIu6Di825V2d2XhF1zI6AdakpdjPuF895Uw1h4+QNs7sjjwd+WO/rnWcTMvx44pg6xPuJfOCGPBD0eoF1BIcrwON08DwWEFzJ8czoVT5nb+y3kh9H42kZAmeZXauXS9HMpkKp233nF/Jn/87EFBXtXeBVCRfO/XlSUjcBJjYfncAD7acgq/+nrio0vPeVdZrrW/gorZI0o6keIvOrB8XjDj55+vkvOTvX96sffP8nO0gWMusHeHF1+8G2ZZlhBTMi9f9Bln5rzUwmrd8g9CGD/vlM3jf2P4LVav35/SjG/+2knjFtkc3eeBk0sRPR+LZ+6E5hz6x/wb/GBqUz75ZQ9N22Ry6rA79cPycPMo4utFoaQkmEewrVoSypIf9+IbWED8RdvkJ//1OADw45dX5nq6y7neKZvnerZk6xzK1vlYTVLt/4Pvv/8+zz33HIMHD6ZFixZ89NFHODk58cUXX9ikfpMRzvziiiFPhX/bAvJSNSQecsTR28j3T9Tni04N+aFfMHF7S4aSGvUqNFrF0rEEoLl8u1z8XseSMjrrK3V2DgrGQjXJx2w/LDUorJBVe4+w7O+jTFwYRb3A0sNQizm7GcnL0VRLxxKYY1255zBf/nWECQusYz2+z5kuvdNxcS9CpVLo2jsNe53CoV22G7JZlZxdq2dbO7sZAcjOKEl6dA4mJi2KZvFrweV27lWHq2Nt3CYPrb3CgT9LrgbGnHUgMVZL8/ZVO/KjU49MTh92YsrSc3yz/xCLNhznvqdLOmH8G+jx8i3iwF8lT8LKy9Zw8qAzzdvnllVltXJyNWIyQW5W1d8SWxFtOmayeve/fLpxP6NnnMPVw1BuWRd3A90fSubEftcqTzZUKoVX551h7WeBZXYYNWqZg4+/HkWBRT8dYuXfe5j52XFCGte8fULUXZWdP4E5hzrxszuGfDWBt5Ycn4//z4OFtzXni/sas2OeH4b8kjbwwl+uKCbITtTyWc/GLOncjJ9erE9WXEm7FLffieAOuWjsSy7Ehd6VQ9p5Bwoybfd7v94x/mp2WhP390smJ1PD+ePV21lspzVxd59UNq7xAVRo7RVQwKAv2daGQjWKCVp2yKm+QMvh5Fpkbo8uT9GQlW5HzDkH7umTjM7RiFqj8MBTiaSnaDl7tGpzwLJyqCs1ap1Ho1b5bPym7Nulq9L1YtU5Gun5ZBrx0fYkx1Vf7nf1/lqW6j4/KaZSKXTols6lC47M+uwIq/7ezQffHiTinmvfeVJVOb+zq7njPvvyCMvGLbPRahUO7irp1ImNciYpTkfztlmXXzuRmW5H5KPx2GlN2OuM9HwsnovnnEi8VH1PaL36OHA1c66XUi25nqgc1TpySa/Xs2/fPiZPnmxZplaruffee9m1a1ep8oWFhRQWlowqycrKKrfu1FP2rH2iAcZCFVonE/cvicfr8i1xAP8u9KbzxGR8mhdy6kc3fhoQzNMbovEINRAUkcffb9Vj/6ee3DIwHUO+mt3zzFcJ8pLNP44Gd+ZxeJknp392pdED2eQl27FnkbmHPDfJtpv15AFn3h0bQux5HV6+RTw7Np731p1m+D3Nyc+1/rG6eRbR7+UEfl1ZPQ3iyQPOvPdKKLHndHj5GnhmTDzvrj3FiB4tyM/V8OYLDXltcRRrjxyiyACF+WpmPhdOfHTtezS1m6eBp1+8xK/f3PwV4puhUimMmHGJo/86E32q5CrL8BmXOL7XmV2bKvfq5Y0oidXJEquXbxH6QlWpDpCMZDu8fMvvbKgMAfULefDZZNZ95sc3iwJocksuI2fEUGRQs2WtN571zPFcPZ9FRorWsq6m0NqbGDLhIjt+9rb5fAC2sO8PT/7e6E1irI6ABgUMeuUisz47wbgnWlsN4x8y/gK9n03AwcnEiQMuTHu++TVqrRyPP38Jk1HFT8sDylwfUN/cDj3zYgyfvhVGYqyOR4fG8c6KYwzreSs5mTWnc7dYTRy5JG7ejeZPcGM5VPIpHSv6hlNUqMbeycQjSy7i09j83ua9M3APMuDiZyDppCM75vqTdl5Hn6UXAciIsUdRYPfSetzzejw6VyN/vu/PmoGhDF5/Fo29Qm6KHe7B1hfJnH3MJ1S5yVoc3MseQXyjrneML3b7PRlMXhSFztFEWpKW155pTFZ69R5HI3pm4OJWxObvzPnnyQPOFORpGDIplmVzg0AFQybForGjytvO6ylpj3yuaI9UvDawBa8vPcW6Q/+imCAjVcvrQ5qTk1V127q8HOpK9z2dSvRpHcf3Vv28W1e6VqwPDkxh2JQ4HJ1NxJzVMfnpcIoM1XdyfvX+ejVzzhzHr6vrVXFkpXl4G3ByNvL4czF8tSCUL98No/1d6UxZeIJJA1tzdI9Hqfe4eRh4euRFfl1Tdl5gKyqVwvCJZzm2343os+ZOV08fPQa9itxs69wiPdUeTx/zcTQ/z45Jg9ry+sKjPDUiGoC4aEdef/4WTMbq2S/KPg6YDRkfTe/+V+R6z9Xs+Spl5FLFVWsXYUpKCkajET8/P6vlfn5+JCQklCr/1ltv4e7ubvmrX79+uXV7hOl58n/R9F17kVb9Mtk6wY+0M/aWuWhaPpVB875Z1GtZyJ1TkvFsaODEWvNJuXdjPfe8k8DBLzz5uE1jvoxoiGuwAUefIsu8TA3uyuOOicnseMOXj1o2ZmXPUEK6ma9aq9S2vSVu7+/u/Lnek6gTTuzb4cbUAeG4uBXRpbf10HEnFyOzvjrLxTMOfP1+YDm1Va692y/HetKJfX+48/qgRuZYHzTHOuCVOJzdipj0dGNefLA56z7z47Ul5wltml8t8d4sJ5ciZnx+iotnHFmxIKhKP3v0m7GENM3nrRdCLMs69cikbedsPppWtbFcz+g3LxHSrIC3RoZcv3A1UKnh7FHz5K3njjnx66p6/Lbah17PVO4tZLamsTPx2qIzqFSw6PXQ6g6nTDvW+/DPNi8unHZm1xZvpj3fnKa35NCmY6ZVubWfBTH64Vt4bVALTEYVr847A1TdzemNWubw8MB43pvYmPKuvhYf479dGszfG705e8zFMpfUXfenVlWo4v+xG82f4MZyKK8wPYN+Pkv/78/S9plUNkwIJuWM+ZaGtk+nE9Ylh3pNC2n5cAa95sVwZpM76dHm25oUE5gMau55I56wLjkE3ppP7/kXSb+g4+Luqj1Zr+gx/tBOV164rznj+jRl33Y3XltyHnfv6u2wue/JZPZsd7dMcpuZpmXOC+F0vDeDH07sZ93R/bi4GTlzxAmT6TqVVSGNnYnXFp42t0fTwq5Yo/DC9CgyU7WMf6olLz/Wml1bvJj+yUk865U/Gt/WysqhrmTvYKL7I+k1YtTStWLdts6TFyKb8sqjjYg9r2PKRxfQ6qpvR7h6f72Sk4uRmV+e4eJZR1Z8UD3nJ1cqbsN3b/Pmx+VBnD/pwnef1uff7V488FTp46ejcxEzPj7GxXNOrFzUoFJje2HqGUIa5/L2qzc2r5O9zsiYWac4fsCdcf3a8eqztxJ91pnpSw9jrzNWUrTlK/84YLb2s0BGP9SG1wY2v5zrnaUqcz1ReWre5e1rmDx5MuPGjbO8zsrKKjc50tib50EC8G1VSNIRHYeWe9B+uHmOJK9G1g2ZZ7ie7LiSzdHkoWyaPJRNXooGO0cTKhUc+tITtwYlyUbbIRncMjiDvCQNOncTWbFadr9bD7f6lZuQ5GbZEXvegcDQkit7js5G5qw4S36OhhnDGlpNol2dcrPsuBRljjUgpJCHBycz/N4WRJ82X4GJOuFEq9tz6D0wiYWv1cwOiKs5OhuZ9eUp8nM1zBrRpEqHcY6aHUvHe7N45dFGpMSXNOBt78wmIETPuhNHrMq//ukFjv7jzITHq3aibIBRc2Lp2COLV/qEW8WalmSHvU7B2c1oNXrJo14RaUlVO+IjLUnLxTPWo+YunnGk8/0ZAJbbCz18DFaxefgYqv2WiWLmBvwsvkF6Jj3TrEaOWipLQowDmWl2BIQUcPCKgRZZ6Vqy0rVcuuBIzDlHvv5zH83a5nDyYNVMqtqqQxYe3ga+2rHXskxjB8MmXeCRgfEM6t7ekjxfecucQa8mPsYB3wDbjLiwNZOiwmTjCX9tXZ+oXDeWQyl4hprzJP/WBSQcdmLfMm8i58SVKhvQ1ny7XEa0PZ4helx8zSOQfBqVzLHk5G3E0bPIcmucs08RuSnWx6ri1842HBV6vWN8scJ8DfHRGuKj4eQBFz7fcZT7nkrh28WVO0qhPL5BhbS9M4tZw60nPt7/pztDurTBzdOA0agiN8uOVXsOkBBTufP/VZTGzsRrH57GN7CQSf1bWLVHbSOyuL17Ok+072BZvniaC7d2PsC9jybz3ceVf3GsvBzqSnf1ykDnqLDlu+rdpteLNS9bQ162hrgoHSf3O/H98aN0vi+T7T9V/tOXr1be/grmnHn2V+aceebzjWrErU9Z6VqKDKpSt73HnHOiZXvrEZ2OzkXM+uwoebkaZo1uUanxj5xymtu7pjJhYFtSE0uOW+kp9mjtFZxdDVajlzy99Za5yrr1SsI3sIBx/dpZJvefO8GVNTv/otPdKfzxq/WFiMp0reNAsVK53l/7aXZrDicPVO0E+hVl6xyqLudP1XoW4uPjg0ajITEx0Wp5YmIi/v7+pcrrdDrL44ZvlGJSYdKrcA0uwtmviIzz1gfqjCgtDbqWni/Dycfc23v8Ozc0OoX6na3nhFGpwNnPXObML664BBio17JyTy4cnIwEhhaydZ254XNyMTJn5VkMehXTBodX+hOsboSDk5GAkEK2rtOiu/w0mauvsJmMKqv5rWoyJ5ciZi87hUGvYsZzTUo97aryKIyafYk77stk/OONSk1I+u0iP35dZX2V7ZNtp/h4ehC7N7tRtRRGzbkca9/SsZ457IRBr+LWO7P5a4MHAMHhBfgFGzixr2o7bI7vdSY43Pr3GtSwgKRY8/Eh4aI9aUl2tO2cbelMcnIx0qxtLuu/rv6h3cUdS4GhBUx6pjnZGTXvdqzy+PgX4upRdM1HzxaPFNXaV93V2K0/1is1Me7sL06w7ad6bPrefAvs2WPO6AtVBIXlc2yf+felsTPhF1RIUlzVTaYq/v+60fwJ/msOBcZy2ruk4+aLRc6XO5WCLs9Hl3Zeh2uAeVl+hob8dDvcgswdR4Ht8vjzPT+MBtBcPmxF/+2CV8MCHNxt93u/3jG+PCq1Yp7jqJr0fDyFzFQt/27zKHN9Vrp5o91yRxYePkWWB05Up+ITysDQAiY927JUe6RzNOfKVz/NTDGB2sYj/ku7dg51pcinUtm92Y3MtOo6Rap4rMVUKkClVNvIpfL2VycXI3O+PoWhUM30oY1qzPlJkUHN6aMuBIdZ3zURFJpv1YY7Ohcx+/OjGPRqZr7QohJzfoWRU84QcU8Kkwa1JfGS9S2QZ465YjCoaNspg78317scax6+gYWcOGjOQXQORhRFZfW0aJPJPBZIXYWb/XrHgbJUR64nKk+1di7Z29vTvn17tm7dyiOPPAKAyWRi69atjB49+qbr3fWuDyFdcnEJNGDIVXP6Zzcu/ePIQ1+koVLBrUPT+PdDb7ybFeLTopBT69xIP2/PfQvjLXUc/tqDgHb5aJ1MxPztxM536tHp1RR0biU7/v5PPQnpkgtqOL/Rhf2feBG5IM7qsZy28NzUWHZvcScp1h5vPwP9X4nHaFSx/UdPnFyMvLnqDDpHE3NfCsfJ1YiTq7kBz0y1q9JHkgIMmxLLP1vcSbpkj5efgf7j4syx/uRJTpYdl6J0vPTWRT6dHUx2hh0RPTO49a4spg2ugseSOhkJDCm5kupXv5CGzXPJzrQjOU6Hi3sRvoGFePuZk9/ghuay6cla0lPscXIpYs7yk+gcTcwb1wQnFyNOLpe3dZq2Urf16Ddj6f5IOtOHNCQ/R22Z7yc3W4O+QG2OsYxJvJMuaSuUmNg21kt075PO9MFhZcaal61h42ovnp8eR3aGHbnZakbNucTxvU5V+qQ4gB8+8+P9H07y5Kh4/vjFk6Zt83igXwoLJhUPe1bxw+d+PP1SPHEXdCRc1DHg1UukJmnZucmj0uO71j6blqRlyuIzNGqZx7RhTVCrFcu999mZdpa5F+oFFuJ6ed9WqxUaNjef+MVFO9j0KTilYg2+HGuGHdmZdjzzYgx/b/QmLVlLYIMChkyIJi7agf1/eQDQ9JZsmrTO4dg+N3IyNQQ0KKT/mIvERTvYfNTStWJNjteVSoaMRSrSU7RcijInfHk5dmxY7U//l2NISdCReElH32GXAPjz17Lnm6huMudS3VJZ+RPAjnl+NOyajVugAX2umuP/8+DiP848sewC6dH2nPifBw27ZeHoaSTppAO/zwkg+PYcy9PgvML0NLo3k62zAomccwl7FyN/vOuPV3ghDTqZJ55u8VAGOz/05bdJwXQcnkzyaQf2LfOh+5TSI6P+i+sd43WORp5+MYHdm91JS9Li5lVE7wHJ+PgZ+HN91Y8AAfOcKz0eT2HzWu9SEwf3eDyZmLOOZKba0bx9DiOmXeSHz/2IPV/23EG2VLo9KrAcN9OStUxZdJpGLXOZ9lyzMtujEwdcycm045W5Z1m1KBh9gZr7nkzEL7iQf3+v3G19vRyqWGBoIa075fJ6/4blVVXprherf4NCuj6Uwb4drmSm2lEv0MAToxLRF6j5d2tVX0wsf38t7lhycDQx9+WGOLmacHI1n0NVxfmJg5ORwAYlnUd+wYU0bJZjzvnjHfj+82AmvX+SI3vdOPyPB+3vSqdj91QmDmgDmDuW5nx+FJ2jkXnjm1Zqzv/C62fo9kAiM19sTX6eBk8fc4d4brYd+kINeTl2bPo+gOcmnCU70468HDtGvHaG4wfcOHXYfDHswC5Phr56jhdeP8PPK4NQqeCJYRcxFqk49I+HzWL9r8eBprdk06RNDsf2upGTaUdAgwL6j40hLlpXY0ctgcy5dCNUiqJU6w2O3377LQMHDuTjjz/m9ttvZ/78+axZs4aTJ0+WmkvgallZWbi7u7PyQEucXEtOkrZN9iN2lxO5SRp0ria8mxXS7rl06t9ZMupo38eeHF3hQUGmBp9mhURMSCbwtpIfy5bx/lzY7owhV4VnuIFbh6bR9BHrx/P+2D+Y5GM6jHoVPs0K6fBiKiFdy3/a1eKmNzcx7eTFUbTumIOrZxGZaXYc+9eFZXMDiY/W0SYim3nfnSnzfQM6tSQx9uY6FlTqm9vpJy06b47V43Kse1xYPi/I8mjUwNAChky6RMsOOTg6m4i7oOP7T/zYuu7m721X2VWsj7R1xyzmrj5RavnmtT68PyGcex9L5pV550utX7EgiJULgst9P8DAu9qSdOn629pUeHOj2jZeOljm8nfH1mfzmrK33cZLB5k+JJRdGz1u6jO5yUPDxrhDZS5/d0x9Nq8xj7bT6kw8Py2O7g9noNUp7N3uyqLJQTf9lLuK7gNluf2eDAZPvERQaCEJMTrWfebLb1YTTir0HxfP/f2ScXEzcmyvC4umNOBS1M1PQm+LfXbFgmCW/3mwzPdNeLo5R/4xJ5nj5p6jR9/ST0C5ssw1aSrWAdX69kzmrjxWOtZ19Vj0RkPeWHqK8BY5OLsaSUuyZ/9fHnw1vz4ZqeYRBKFNchk+NYqGzfJwcDKX2fenB6uXBJOaaNsO0mvF+v7E0reQLvt9Hz8uD+DHZSVzRWjsTAx+5SJ3P5KMzsHEyUMufDw7rMyny12tSNGzLXc1mZmZuLlV7slAcTu57Wh9XFxte/kyJ9vE3a1iquR7iNL+S/4EJfvGD4ca4XxFDvXrpCCid7qQm2yHzsVEvWYFdByeTOidOWTFafnllWBSTjtgyFPjGmCgSc8sIkYloXMtufhWmK1m25wATm90R6VWqH97Lve8Ho9bYMktb0knHdgyLZD4w444ehlpPyCFjsPLf1rTvKa33tR2utYxXqszMenDKJremoubZxHZGXacPuTE6g8DOH34P1zs+A/DsdvdlcmbK04ztFvrUu3M4Ikx9OibgquHkcRYezas9GXdZ36UNz9chULVVrQ9ymTuyuOllm/+vh4rPgxm+Y4DZb5vwjMtOPKP+QS4cascBr5ykcatcrHTKkSfcWTVwuByH21+NVP+zc3PWdEcavCkOO5+NJ0BHVtYbi2qateL1cvPwNh5F2ncJh8XdyMZKXYc2e3Cyvl+xJ67ubxEZXfzo57L21/bdMpi7renynzPwM5tbvr8BEDteP3v2fr2DN756kip5Zt/8OWDyU0B6PFoAk88H4OPv57YKEdWLgxh9zbva74fYNA9HUiq6BPYKpBDbTi2vczl709pypYfzbfmau2NPDfhHF0fSEKrNbHvby+WzG5MekrJdrw1Io1+L1wgpFEuiqLi3AkXli8Is3RAXY9SgXOU/3ocCG2Sy/DXL1jnen94sHpJUIVzvSJFz7a8b2p1DlWX86dq71wCWLRoEfPmzSMhIYG2bdvy4Ycf0rFjx+u+r7zOpZrqZjuXqsPNdi5Vh//SsVDVbrZzqVpU/6GhwmrTPgC1LN4Kdi6JipPOJWErN5s/QfmdSzXVzXYuVYvacq8/Fe9cqglutnNJXNt/6VyqDhXpXKoxalEOVZHOpZpAOpdqthrRoowePfo/D+MWQgghRNmUSpjQu7qu7IsSkj8JIYQQlcvWOVRdzp9qz6UVIYQQQgghhBBCCFHj1IiRS0IIIYSoPDKhtxBCCCHEjZMJvStORi4JIYQQQgghhBBCiJsmI5eEEEKIOs6oqDEqtr2eZKw9c/4LIYQQQtwUW+dQdTl/ks4lIYQQoo4zocJk48HKJupwdiSEEEIIge1zqLqcP8ltcUIIIYQQQgghhBDipsnIJSGEEKKOkwm9hRBCCCFunEzoXXEyckkIIYQQQgghhBBC3DQZuSSEEELUcZUzoXfdnTNACCGEEAIqY0Lvups/ycglIYQQQgghhBBCCHHTZOSSEEIIUceZn3Ri23v8bV2fEEIIIURNY+scqi7nT9K5JIQQQtRxJtQYbTxYuS4/SlcIIYQQAmyfQ9Xl/EluixNCCCGEEEIIIYSoYZYuXUqbNm1wc3PDzc2NiIgIfv31V8v6bt26oVKprP5GjBhhVcfFixfp1asXTk5O+Pr6Mn78eIqKiqzKbN++nXbt2qHT6WjUqBHLli274Vhl5JIQQghRx8mE3kIIIYQQN666J/QODg7m7bffpnHjxiiKwvLly3n44Yc5cOAALVu2BOC5555j5syZlvc4OTmVfJ7RSK9evfD392fnzp3Ex8czYMAAtFotb775JgBRUVH06tWLESNGsHLlSrZu3cqwYcMICAggMjKywrFK55IQQgghhBBCCCFEDdO7d2+r13PmzGHp0qXs3r3b0rnk5OSEv79/me/ftGkTx48fZ8uWLfj5+dG2bVtmzZrFxIkTmT59Ovb29nz00UeEhYXx3nvvAdC8eXP++usvPvjgg/9/nUuftmuMnUpb3WFcV+Aup+sXqiHi7yqs7hCEqDDlqmGdNV1ti1fYlkkxVP1nosYkcy6JMnx4e7takUP5/qmr7hAqLKlbLcqhNJrqjqDiVLVoNg+TsbojqDDFWHtiBTDm5FZ3CBWnmKo7gjqnLuRQxflTVlaW1XKdTodOd+22zmg08t1335Gbm0tERIRl+cqVK1mxYgX+/v707t2b119/3TJ6adeuXbRu3Ro/Pz9L+cjISEaOHMmxY8e49dZb2bVrF/fee6/VZ0VGRjJmzJgb+m51onNJCCGEEEIIIYQQojaoX7++1etp06Yxffr0MsseOXKEiIgICgoKcHFx4YcffqBFixYA9OvXj5CQEAIDAzl8+DATJ07k1KlTrFu3DoCEhASrjiXA8johIeGaZbKyssjPz8fR0bFC30k6l4QQQog6zqioMCq2ffStresTQgghhKhpbJ1DFdcVExODm5ubZfm1Ri01bdqUgwcPkpmZydq1axk4cCA7duygRYsWPP/885ZyrVu3JiAggHvuuYdz584RHh5us7grQjqXhBBCiDrOaOPH6JrrlNvihBBCCFG32TqHKs6fip/+VhH29vY0atQIgPbt27Nnzx4WLFjAxx9/XKpsx44dATh79izh4eH4+/vz77//WpVJTEwEsMzT5O/vb1l2ZRk3N7cKj1oCbJxpCiGEEEIIIYQQQohKYTKZKCwse36/gwcPAhAQEABAREQER44cISkpyVJm8+bNuLm5WW6ti4iIYOvWrVb1bN682Wpep4qQkUtCCCFEHWdS1Jhs+Bhdc50yckkIIYQQdZutc6gbzZ8mT57M/fffT4MGDcjOzmbVqlVs376djRs3cu7cOVatWsUDDzyAt7c3hw8fZuzYsXTp0oU2bdoA0LNnT1q0aEH//v2ZO3cuCQkJTJ06lVGjRlluxRsxYgSLFi1iwoQJDBkyhG3btrFmzRrWr19/Q7FK55IQQgghhBBCCCFEDZOUlMSAAQOIj4/H3d2dNm3asHHjRnr06EFMTAxbtmxh/vz55ObmUr9+fR577DGmTp1qeb9Go+GXX35h5MiRRERE4OzszMCBA5k5c6alTFhYGOvXr2fs2LEsWLCA4OBgPvvsMyIjI28oVulcEkIIIeo4mXNJCCGEEOLGVdacSxX1+eefl7uufv367Nix47p1hISEsGHDhmuW6datGwcOHLih2K4mcy4JIYQQQgghhBBCiJsmI5eEEEKIOs4ENn2MbnGdQgghhBB1ma1zqLqcP0nnkhBCCFHHmVBjsvFgZVvXJ4QQQghR09g6h6rL+VPd/WZCCCGEEEIIIYQQotLJyCUhhBCijjMqaow2fIxucZ1CCCGEEHWZrXOoupw/1d1vJoQQQgghhBBCCCEqnYxcEkIIIeo4EypM2HpCb9vWJ4QQQghR09g6h6rL+ZOMXBJCCCGEEEIIIYQQN+3/7cilBwek0Kt/Cn719QBEn3Zg5Qf+7P3dDYC5353hljtyrd6z/mtvPpxU36Zx5H6vJ3edAWO8+aGEdg3VuA7R4XCH+b8m90c9+RuLMJwyouSB/2YX1K4lvZ2F+4pIHZVfZt0+Xzhh30IDgOGMkcx3C9GfMKL2UOH8uBbX/jqbfheA5X8dsmzTK/38lS+LXw8hoEEBw6bE0LJDDlp7E/t2uLNkWggZKVqbx3K1Vh2y6Pt8PI1a5eLtZ2Dm8Mbs2uxlWX9HZBq9+iXSqFUebp5FjOrVivMnnK3qeGfVcdp0yrZatn6VL4umhlVq7NfbXz3rGRj2ehzt7srGycVEzDkd33zox18bPCo1rrI8OTqRzg9kUr9RIfoCNcf3OvH5nABizzkA4OpRRP9XE2jXNQffQD2ZaXbs/M2d5XP9ycvWSLzX0KpjDo+/kEzj1nl4+xcxfUgou35zt6x3cDIydEo8EZFZuHkWkRBjz0+f+7D+a58qjfN6sWrsFAZNjKfD3dkEhOjJzVJz4E9XPn8zgLTEyj8W3EisABvjDpX5vk9nBbB2qW9VhfmfyJxLwlbUaoVnx1zi7kdS8KxnIDXRni3f+7BqYSBcvhrr4WNg6MQY2t2VibObkaP/urJkeghxFxxsGkvu8kIKdhgwRptAp8K+tQaXF3TYhZQcm4tiTeQsLEB/2Ah6BftOdri+4oDGy7z/6vcXkT4qr8z6vT53Rns5jyrYYiD3q0KKLppQe6pweswe52dtm0c5OhsZMC6WOyLT8fA2cO6YMx/NbMDpwy4AvDLvPD36pli9Z+8Od6YOamrTOMrS6rZM+g6NNedQvnpmvtCcXVu9LevHvXWaHo8mWcf2pwevD2sFQOvbM5j79dEy63657y2cPuJaecFf4YlRCQydHMcPn9Xjo+nmnD4gpJDnXo+lZYdcc2663Y3Fr9evktz0atdrj1754CI9n0y3es/e312Z8kzDqg6VB/sn02tAMn7BxbmpIyvn+7P3d3O8NWm7Xq2s/QCgebscBk2Mo9mteRiNcP6YE6892wh9QdW1d9fL+bU6E8+/EUe3h9PR2ivs2+7KwteCq2W7Pjk6kc73Z1jn0G8GWnJoKN4P4mh5e87leN1YPDWoRuwHFSVzLlVctXYu/fHHH8ybN499+/YRHx/PDz/8wCOPPFIln50cr+WLtwK5FKVDpVLo8Xg607+IYlRkE6JPOwKwYYU3X73rb3lPYb7tdwSNrxq3UTrsgs115603kDYhn3pfOaFtqEEpAF2EBl2EhuwlpTtt7Nto8Ftv3QGS/bGewr1FaJub6zTlKqS+nI+ug4Z6E50oOmciY3YBalcVzo/Y2/T7vPRQC9RXnG+HNsnjrVWn+XO9JzpHI3NWnCbqhCOTnjYnQgNeucSMz88w5pHmKErlDhF0cDJx/oQTm76rx+sfnSm93tHIsb2u/LHemzFvR5Vbz6+r6/H1B8GW14VV0OBcb38dv+AiLm5Gpg8OIzPNju590nntowu8eH8Tzh1zqvT4rtQmIpefl/lw+qCTuRNhUjxvrj7Pc12bUpivwcvPgLdfEZ/ODODiaQd8g/W89HYs3n4GZj8fWqWx1rZ4HZxMnD/mwMbVXkz74kKp9cOnx9G2cw5zX2xAYow97bpm8+JbsaQmatm9yb10hdUUq87RRKPW+aya78f54w64uBsZOTOOGcuiePH+JlUa5/ViBXjqlhZWrzvcnc3Y92L4a33VblMhrlRdOdTjI+Lp9UwS773akOjTjjRuk8u4uefJzdbw0zJ/QGHax6cpKlIz4/nG5OVoeHRoAm+tOMnzPVpTmG+7Tnn9gSKcHrNH21yDYoScjwpJH5OHzyoXVI4qlHyFjDG52DXS4LnQ3BbmflpIxqt5eH3mjEqtQttag88vLlb15n5SiH5vEXaX86jCXQYyp+fjOs4B+452GC8YyXq7AJVOhdPjtsujxrwdRWiTfOaNa0hqoj33PJLCW1+f4vmerUlNNH/Onu3uvD++5IKWQV81JykOTkbOn3Jh0/d+vL74ZJll9vzhyQeTG5cZ24kDbvTrfLtV+f4vR9M2IoPTR6y3f2VpcksuvZ5J4fxxR8synaORN1ee4fwJRyY+aY594KtxzFx2jpd7N6303PRq12uPAPZsc+W9sSUdIgZ99dxiY85Ng8y5KdDj8VSmf36eUfc1IyHGvkZt1yuVtR+AuWNpzoqzfLPYnyWv18dYpKJhi3wUU9XGd72cf8T0S9x+Txazh4eSm6Vh1JxY3vjsAuMeaXz9ym2sTaccfl5enENjzqFXneO5bs0ozNeYf1+rznH+uCMTn2gEwMDx8cxcFsXLvRtX634gKke1di7l5uZyyy23MGTIEB599NEq/ex/NlufFCx7J4AH+6fQrF2epXOpsEBFenLl9qo63GX9X+A2UkfuD3r0R41oG2pwecqcTBTuKyrz/SqtCo13yQ9TKVIo+LMI58e1qFTm5fm/GVCKFDymOqDSqtA21GA4bSJ3tcHmnUuZadbb64mRmcRd0HF4tyvt7srCL7iQ0Q+0JC/HnFy++0oYaw8foO0dWRz4u3JP1Pbu8GDvDo9y12/7sR4AvkGF16ynsEBDeoptt9v1XG9/bXFbLgsnB3PqoLmjcfUCfx59LpnGbfKrvHPp6qtn741pwJqjx2jcJp+j/7gQfcqRWc+FWtbHR+tY9k4AExZeRK1RMBmrtqGpTfHu/d3NcuWqLC1uy2Pzd14c3mVO1H9d6U2v/qk0bZtX5Z1L14o1L1vD5KfCrZYtnhLEwl/PUC9IT/Klqv19XW+7Xt0ORERmcuhvFxIu2n70Z2UxosZo4zvhbV2fuDHVlUO1aJfN7s0e/Pu7BwCJl3R0651K01vMo72Dwgpo3i6X4T1bEX3G3P4snBrK6n8P0P2hVH771naj/TznW19cc5/qQPIDORhOGrG/1Q79YSPGeAWv5Y6onc3HarfXHUnumY1+rxHd7Xbl5lFOfe0teVTBrwZ0XexwetR8bLILUuM8QCF3RSGOfUvyrf/CXmfizvvSmPF8E47+az4erVgQTMd7Mnjw2SSWv2e+qGXQq6o8BwHY+4cXe//wumaZa8VWZFBbrdPYmYi4J43/rQiAKph/xMHJyMSFF5g/oQFPv5xgWd6yQy5+9fWMuq+5JTedNzaU748dom3nbA78VX7bUBmu1x7B5e1cyecnFfHPFg+r18vmBvHggBSatcvF299Qo7ZrsfL2A4Dh02P58Qtf1iwuGVgQe962oy0r4lo5f3K8PZFPpfH26BAO/W0e7ff+2AZ89sdJmrXL5eR+57KqrDRTnrXO5d4b04A1R45acmjL7yuyacl+MCaE748foe2dORz4s2pGLP5Xts6h6nL+VK3f7P7772f27Nn06dOnOsNArVbo+lA6OicTJ/aV/Ci790lnzZEjfLz1JIMnxaFzqNyua8WokL/ZgJIP9q1v7spewR9FmDIVnB4saXT0R43o2poTqGK6ThqKok2YspT/HHd57LQm7u6TysY1PoAKrb0CivUVFkOhGsUELTvkVFocttb9oRS+2buPpb8eZtD4i+gcjFX6+WXtr8f3OtP1oQxcPYpQqczr7XWKpZOhOjm7mbdPdkb5+7Szm5G8HHWVdyyVFwvUnnivdHyvE516ZuLtbwAUbrkjh6CGhezbUfMbb2c3IyYT5GZW/a2RN8LDx8Dt92Sx8Ztrn2TVNCZFVSl/FbV06VLatGmDm5sbbm5uRERE8Ouvv1rWd+vWDZVKZfU3YsQIqzouXrxIr169cHJywtfXl/Hjx1NUZH3hZfv27bRr1w6dTkejRo1YtmzZf9puNVl15VDH97vStnMWQWHmW/LDmufRskM2e7abT4i09ua8Ql9YkmIqigqDXk3L2yq3rTddrl7tdnnf1CugAtUV5+Eqe0ANhsNlX7Qr/LMIJVPB8Yo8SjGASnfV/q4DU5KCKcE2eZTGTkFjB/pC68/RF6hpeVvJ7fhtOmXzzZ79fLb1MKNnXcDVw2CTz7eFNrdnsnrnP3z62z5GTz97zdg63Z2Gq4eBzd/7VUlso+fE8O9W91KdGlp7Uxm5qcqcm95eM3PTNhE5fHv4GJ/9eZIX34rF1bPsfbkqmXPTNHSO5ty0pm7X8vYDd28DzdvlkZFqxwc/nuKbA4eZt/Z0tZ+fXJ3zN26Th9Ze4cCfJfl9zDkHEmO1NG+fe42aqsbVObRWV9a5n6rWnftVZ/5U29SqOZcKCwspLCwZVZKVlfWf6gttls/8/53BXmciP1fNzGFhXDxj7qH+/UdPkmLtSU3UEtY8n6FT4gkOL2TWc7afW8dw1kjKc3koelA5gtc7jmjDbu4EK+9nA7qOGjS+JUmdKVVBE2jdj6j2Mu/UxlQTarfKOZmL6JmBi1sRm78zz/dy8oAzBXkahkyKZdncIFDBkEmxaOzAy7fmJEfXsv1/PiResictyZ6wZnkMmXCR4IYFzB5Z+bfyXGt/nTMihNeWRrP22FGKDOZbOGcMDSXuQvWOrFCpFEbMuMTRf52IPuVYZhk3ryL6jUnk1xXeZa6vSrUt3qstmRrEy3NjWbX/OEUGMJlULBgfzNF/qr+T8Vq0OhNDp8Sz/UcPy5WtmqrHE+nk52j4a4PcEncjgoODefvtt2ncuDGKorB8+XIefvhhDhw4QMuWLQF47rnnmDlzpuU9Tk4loy6NRiO9evXC39+fnTt3Eh8fz4ABA9Bqtbz55psAREVF0atXL0aMGMHKlSvZunUrw4YNIyAggMjIyKr9wjWQrXKoNUsDcHIx8umWI5iMKtQaheXvBvP7T+a2PuacA4mX7Bk8IZYPXwulIF9NnyEJ1AvU4+Vb+vZ+W1FMCtnzC9C20WAXfvnEppUGlQPkLC7EZaQOFMheUgBGMKWU3SmU/7MB+452VnmUfUc7shcU4PCAFvv2GoyxJvJWmb+LMcWEJuC/X6vNz9VwfJ8L/V6M4+JZRzJStHR7KJVm7XKIjza39Xt3uPP3Rk8SYnQENChk0PgYZi/LZeyjLTCZqvdkZd+fnvy92ZvEWAcC6hcwaNwFZn16jHFP3lJmbJF9E9n/lycpiZWfp3R9KI1GrfN4sVezUutO7nemIE/N0Ncu8eXbQaBSGPpa3OXctPo7ba62d7srf//qTsJFewJC9QyeFM+cFecZ07txtewDoc3ymf/Tqcu5qYaZzzXk4hlHMlPtatx2vdZ+EBBi/j33HxfPp7OCOXfMkXv7pvH2N2cYfm9z4qKqdgRTeTl/eMt89IUqcrOsT+EzkrV41ave/bUkh3a25NAn913+fU2J48u3Ai/vB/Hm/cCv5v2+xH9XqzqX3nrrLWbMmGGz+mLP6XihZ1OcXI3c1SuDV+dHM/6xxlw848CvK0smwL1w0pG0JC1z15wjIKSQ+GjbNoR2IWrqfeWMKVehYFsRGTML8F564x1MxiQThf8Y8Zxd9UM4y3Lfk8ns2e5OWpJ5GHRmmpY5L4Qzek40Dw9ORDHB9v95c+aIE6Yqvp/5Zv36Tclw/gunnEhL0vL2ypMENCgg/mLlbvdr7a8Dxyfg4mZk4pPhZKXZERGZyZSPLvDKo425cLLsTpKqMPrNS4Q0K+CVRxqVud7Jxcisr6K4eNqBr9/zL7NMVapt8V7t4SEpNGufxxsDQ0mKtad1p1xGvXmJ1ERtjR16rLFTmPJxNKhg4aTg67+hmkU+lca2HzwwFNauIc2mSrgtznQD9fXu3dvq9Zw5c1i6dCm7d++2dC45OTnh71/272rTpk0cP36cLVu24OfnR9u2bZk1axYTJ05k+vTp2Nvb89FHHxEWFsZ7770HQPPmzfnrr7/44IMPpHMJ2+VQXXqlcffDqbzzcjjRZxwJb5HH8NejSU3UsmVdPYxFamaNaMzYd6JYe2g/xiI48Lc7//7ujg3uHitX9rsFFJ034vVxyQh0taca9zlOZM/LJ+87PajBoYcWu6bqMsfuG5NM6P8pwn22dbvp+LAW4yUTGa/mgRFUTuD0pI7czwpR2fBnNW9cQ8bOjWLVPwcxFsHZY87s+NmbRq3MIxJ2/FJyUePCKSeiTjqy7I/DtOmUxcGd1dvhvWNDPcu/L5x2JuqUM19u3Uub2zM5uNvDqqyPXyHt7kznrTGlT/JtrV6AnpEzYpncr1GZx+3MNC2zRzTkxTcv8vCQZBQT/P6TF2cOO1b5XDsVseMnT8u/L5x0JOq4A8t3n6TNHTkc/Kvq2/nYczpeiGyGk6uJu3ql8+oH0Yzv25iLZxxr1Ha93n6gVpk7mzes8GHTGvPv7NwxJ9remUXkk6nmDrIqVF7OX5ONfjOWkKb5vNKnJM7MNDtmDw/lxbdieXhIyuX9wLPG/r7KY+sc6kbyp9qmVnUuTZ48mXHjxlleZ2VlUb/+zT+9rcigtozsOHvEiaZt83hkWDIfTixd58n95iuogaG271xSaVXY1TdnXPbNNOiPG8n91oDHpBvrXMr7xYDaXYVDF+v/VrW3ClOa9RW64tca78rZuX2DCml7ZxazhlufpO//050hXdrg5mnAaDT3vK/ac4CEmNp1i0mxkwfNI0ICQiq/c6m8/fW7Jb48PCSF57s3tcwXdv64I6075vDQoBSbP+GwokbNiaVjjyxe6RNOSnzpORgcnY3MWXWe/FzzKCtjUfVeda1t8V7N3sHEoEkJzBwayr9bzcO9o0440rBlPn1HJNfIziVzx9IF/IL0THgivMaPWmp1ew71GxXy5oiQ6g6lRrl6BIxOp0OnK7+dNBqNfPfdd+Tm5hIREWFZvnLlSlasWIG/vz+9e/fm9ddft4xe2rVrF61bt8bPr+QWmsjISEaOHMmxY8e49dZb2bVrF/fee6/VZ0VGRjJmzBgbfMvaz1Y51LDJMaz5KMDS0XHhlBO+QYU8+UI8W9aZOxjOHnVmVK9WOLkWodUqZKZpmf/DMc4cqZz5QLLezafw7yK8ljpbjTgC0HW0Q7fWFVOGCTQq1K4qkntllxrRDZD/iwGVuwrdVfNhqlQqXEc54DJChylVQe2pQr/XfNW9rHpuVvxFByY81RydoxFnFyNpyfZMXni23PndEmIcyEi1IzCkkIM7bRaGTSTEOpCZZkdASH6pzqUejyWSnaFl97bKz/0atcnDs14Ri38tmYRcY8flHCmZBxveyv4/3Bh8ZyvcPIswGiE3y47V+w8TXwvm1Uu4qCMjVUNgqJ6Df1X955tzU3P+e/aIE01vyeORocl8OKlBjdqu19sPhnY1X+SIPmOdy8ecccA3qPJGXJanvJx/x/88sNcpOLsVWY1e8qhnIC25+k7rR82OpeO9WbzyaKNSOfT+P9wY3LmF9X5w4KjNz6dFzVCrOpeul7D+Vyr15XuvyxDe0jy3QFpSFUygp4Civ7F7+BVFIe8XA47326Gysz7ptW+lIevjQpQixbKu8F8jdiHqknkJbKzn4ylkpmr5d5tHmeuz0s3b8ZY7svDwKWL35rLL1XThLcyPL05LrvrJNYv3V52jeZ+9eji00aiq1KvE5VMYNecSd9yXyfi+jUiMKf2bdXIxd9QY9CqmDQqr5lEgtS3estnZKWjtlVKjAE1GUKkrb261m1XcsRQUpmdC33Cy02t+cxT5dBqnDzmWesJMbWBS1Jhs/Ojb4vqu7qCYNm0a06dPL1X+yJEjREREUFBQgIuLCz/88AMtWpifxNevXz9CQkIIDAzk8OHDTJw4kVOnTrFu3ToAEhISrDqWAMvrhISEa5bJysoiPz8fR8fa9/9mS7bKoXSOxjKOM6oyjzN52ebfdWBoAY1b5/LV+7YdnagoCtnvFVC4owjPJU7X7OhRe5jX6fcWYUpXSnUgKYpCwXo9jvdpS+VRxVQaFRrfy5N8bypC20qD2tP27UFhvobCfA0ubkW075LJ52+X3Qno46/HzbOItBowufPVfPwKcfUoKiM/UujxaCJbf/TFWFT5benBv1x5/p7mVsteeS+amHMOrFniZ5U7ZV1uh265I9ucm1bxgzBuhk+AHjdPI2lJNaMNVamVUudSNWG7Xm8/iI+2JyVBS3BD64f6BDUsvO4E61WhOOc/c9gJg17FrXfm8NcGDwCCwwvwCzZYzRtcdRRGzb6cQz9edg5dzLIfdL68H2yu/u1aUbbOoWydj9UkNeNIVA0GT4pjz+9uJF/S4uhiovsj6bSJyGFKv3ACQgrp3iedf7e6kZ2uIax5AcOnX+LwLmeiTtg2Oc1aUoguQoPGT42Sp5C/qQj9fiNe882fY0w1YUpVKIo1H6gN54yonVRo/NSo3UsaRP1eI8Y4BaeHSicYjpFasj/XkzGnAJf+9hSdM5H7rR63MZXTUWd+bGYKm9d6l5rwuMfjycScNd+L3bx9DiOmXeSHz/2IPV/5Sb+Dk5HAkALLa7/6hTRsnkt2ph3JcTpc3IvwDSzE2888/1NwQ3PZ9GQt6Sn2BDQooNtDqezZ7kFWuh1hzfIYPjWaI/+4cuFk5T6R7Vr7a8xZBy5F2fPyOzF8OiuQrHQ77rgvk3ZdsnljYMPrV25jo9+8RPc+6UwfHEZ+jhrPeubtmZutQV+gxsnFyJurz6NzNDH3xVCcXIw4uZgnAMxMtavyOQNqU7wOTkYCw0quoPnX19OwZT7ZGRqSL9lzaKczz70ej75ATWKsljYRudzbN51PZgRWWYwViTUtUcvrn16gUet83hgQhlqjWLZ7doaGIkPVNrrX265g7mDs0juTT2YEVGlstUFMTAxubiVJYnkdGE2bNuXgwYNkZmaydu1aBg4cyI4dO2jRogXPP/+8pVzr1q0JCAjgnnvu4dy5c4SHh5dZn6ge/2z15KlRcSTH6Yg+7Uh4y1z6DE1g03clt0Xd9UAamal2JMXZE9osn5FvRLNrkyf7/7TtSWX2uwUUbDLg8Y4TKicVxlRzrqR2VqFyuPzE3F/0aELVqD3UGI4Wkf1BIU5P2WMXYj1SsjiPciwjjzJlmCjYVoR9Ow2KHvLXGyjYZsBriW1P5tp3yQAg9rwjgaEFDJscQ8w5BzZ954ODk5FnX77EX796kZ6sJSCkgKGTYoiL1rHvj8o/WXdwMhLYIN/y2i+4gIbNcsjOtCM7U8szoy/y90Zv0lLsCaxfwJDxUcRFO7D/T0+retp2yiSgfiG/ra2aibzzczWl5lAsyFeTnV6yvOcTqVw862DJTUfOiOWHT32r5Ulh12qPstM1PPtKIn+tdyc9SUtAaCHDpsYTF2XPvu1VPzp58KRLl3NT+8u5aZo5N33GfNdCTdquFdkP1i71o/8rcZw/4cj5y3Mu1W9UwOzhVZtLXyvnz8vWsPEbL56fdonsDA252RpGzY7l+F6nKn9SHJhvhev+SDrThzQsM4eGq/eDXEbOvMQPn9Yj9lzNmMZF2Fa1di7l5ORw9uxZy+uoqCgOHjyIl5cXDRo0qNTP9vApYvyCaLx8i8jL1hB1woEp/cLZ/6cr9QL13HpnNn2GJePgaCI5XstfGzxYvcD2DaEpXSFjRgHGVAW1iwq7cDVe8x1x6Gj+r8ldZyDn85JGJnWEuWH3mOpg9US4vJ8NaFur0YaWvq1E7aLCe4Ejme8WkjwoD7W7Cpch9jg/UjmjbW69Mwu/YD2b1tQrtS64YQGDJ8Ti6mEkMdaebxYFsu6zqkkwGrfOZe7qE5bXw6deBGDzWh/enxBOp3vTeWXeecv6yQvN++aKBUGsXBCMwaDi1s6ZPDI4AQcnI8nx9vz1mxffLK78E/dr7a8AU/uHM3RyHDOWReHobCLugj3vjmnAnm1Vf1Wg96BUAN5dd85q+btj6rN5jReNWufTvL15xNeyXSetygy4vTmJsVU7Cqw2xdvklnzmfV8S54gZcQBs+taT98Y24K2RIQx5LZ6Ji6Jx9TCSdMmeZe8E8MtXVT/5+LViXfGePxGR5luplm45bfW+8Y+FV/lTDq+3XQG6PpwBKoXff/Qsq4oaz4gKo40f911cX/ET4K7H3t6eRo3MJx3t27dnz549LFiwgI8//rhU2Y4dOwJw9uxZwsPD8ff3599//7Uqk5iYCGCZp8nf39+y7Moybm5udXLUUnXlUEumhzBgXCyjZl3Aw9tAaqI9v672ZeWHJW2hl6+e56dcxMPHQFqylq3rfFi10PZtZf4684lM+qg8q+VuUx1w7GU+NhddNJGztBBTloImQI3zIHucnip93C74WY+2tQa7MvIogIJfDeQsKkBRzCPCvZY4oW1p21t5nVyNDB4fi4+/npxMO/76zZNl7wZjLFKj0ZgIa5bHvY+m4OxmJC1Jy74/3fnq/WAM+srvkG/cKpu5Xx+1vB7+WhQAm9f5smh6OGFNcrn3kSScXYtIS7Jn/98efLUgBMNVFwt69k3k2H5XYs9X7kW5GxEcXsDgSZcsuenqD/1Z96nv9d9YCa7VHi2cHExY83x6PJ6Os5uR1EQ79u9wZflc/yrZB67m4VPE+PnRePkaLuemjkx5phH7/zS3BzVpu1bED5/7onUwMWKa+Tzl/HFHJj/duMpv37pezv/R9CBMJhWvf3IBrU5h73ZXFr1WPXNW9h54OYf+/qzV8nfH1mfz5bmrgsMLGTw5/or9wI91n5Q+R6zJbJ1D2Tofq0lUiqJU2/0S27dvp3v37qWWDxw4sEKPD87KysLd3Z1uqkewU9W8IcFXC6wBj4WvqPi7Cq9fqIZQaWrP0EJTYe3ZrlTfoUGIOq1IMbCdn8jMzKxQp8x/UdxOzvjnXhxcbHs9qSCniGkdt9z097j77rtp0KBBme3933//zZ133smhQ4do06YNv/76Kw8++CDx8fH4+ppPTj755BPGjx9PUlISOp2OiRMnsmHDBo4cOWKpp1+/fqSlpfHbb7/d9PesqWyVQ3XXPVErcijf7bVnfo6kbrWnrVfZV/1t/TfLlJt3/UI1hclY3RFUnLpmz3dYq9WmWatriSLFwHblx1qdQ/3X/Kkmq9aRS926daMa+7aEEEIIUQUmT57M/fffT4MGDcjOzmbVqlVs376djRs3cu7cOVatWsUDDzyAt7c3hw8fZuzYsXTp0oU2bdoA0LNnT1q0aEH//v2ZO3cuCQkJTJ06lVGjRlluwxsxYgSLFi1iwoQJDBkyhG3btrFmzRrWr19fnV+90kgOJYQQQoia5P/tnEtCCCHE/xdGbD8M+0auyyclJTFgwADi4+Nxd3enTZs2bNy4kR49ehATE8OWLVuYP38+ubm51K9fn8cee4ypU6da3q/RaPjll18YOXIkERERODs7M3DgQGbOnGkpExYWxvr16xk7diwLFiwgODiYzz77jMjISBt+ayGEEEL8f2LrHKoWjWu8YdK5JIQQQohK9fnnn5e7rn79+uzYseO6dYSEhLBhw4ZrlunWrRsHDhy44fiEEEIIIcR/I51LQgghRB1n68foFtcphBBCCFGX2TqHqsv5U939ZkIIIYQQQgghhBCi0snIJSGEEKKOMypqjDa+Umbr+oQQQgghahpb51B1OX+SziUhhBCijlNQYbLxhN6KjesTQgghhKhpbJ1D1eX8qe52mwkhhBBCCCGEEEKISicjl4QQQog6Tm6LE0IIIYS4cXJbXMXV3W8mhBBCCCGEEEIIISqdjFwSQggh6jiTosKk2PYef1vXJ4QQQghR09g6h6rL+ZOMXBJCCCGEEEIIIYQQN01GLgkhhBB1nBE1RhtfT7J1fUIIIYQQNY2tc6i6nD9J55IQQghRx8ltcUIIIYQQN05ui6u4utttJoQQQgghhBBCCCEqnYxcEkIIIeo4E2pMNr6eZOv6hBBCCCFqGlvnUHU5f6obnUsqtfmvhou7I6+6Q6iwkadOVXcIFba0SePqDqFuUtWiIZu14PdvRTFVdwQVprLTVncIFaYUGao7hApSgVLdMQhRuyR2zq3uECpswpmD1R1Chc1remt1h1BxtajtrFU5VC2jUteebauy01V3CBVmKiys7hBEHVA3OpeEEEIIUS6josJo43v8bV2fEEIIIURNY+scqi7nT7Xscr8QQgghhBBCCCGEqElk5JIQQghRx8nT4oQQQgghbpw8La7ipHNJCCGEqOMURY1Jse1gZcXG9QkhhBBC1DS2zqHqcv5Ud7+ZEEIIIYQQQgghhKh0MnJJCCGEqOOMqDBi4wm9bVyfEEIIIURNY+scqi7nTzJySQghhBBCCCGEEELcNBm5JIQQQtRxJsX2E0iaFJtWJ4QQQghR49g6h6rL+ZOMXBJCCCGEEEIIIYQQN006l4QQQog6znT5SSe2/hNCCCGEqMuqO39aunQpbdq0wc3NDTc3NyIiIvj1118t6wsKChg1ahTe3t64uLjw2GOPkZiYaFXHxYsX6dWrF05OTvj6+jJ+/HiKioqsymzfvp127dqh0+lo1KgRy5Ytu+FtJZmhEEIIUceZUFXKnxBCCCFEXVbd+VNwcDBvv/02+/btY+/evdx99908/PDDHDt2DICxY8fy888/891337Fjxw7i4uJ49NFHLe83Go306tULvV7Pzp07Wb58OcuWLeONN96wlImKiqJXr150796dgwcPMmbMGIYNG8bGjRtvKFaZc0kIIYQQQgghhBCihundu7fV6zlz5rB06VJ2795NcHAwn3/+OatWreLuu+8G4Msvv6R58+bs3r2bTp06sWnTJo4fP86WLVvw8/Ojbdu2zJo1i4kTJzJ9+nTs7e356KOPCAsL47333gOgefPm/PXXX3zwwQdERkZWOFYZuSSEEELUcUZFVSl/QgghhBB1WWXlT1lZWVZ/hYWF14/FaOSbb74hNzeXiIgI9u3bh8Fg4N5777WUadasGQ0aNGDXrl0A7Nq1i9atW+Pn52cpExkZSVZWlmX0065du6zqKC5TXEdFSeeSEEIIIYQQQgghRBWpX78+7u7ulr+33nqr3LJHjhzBxcUFnU7HiBEj+OGHH2jRogUJCQnY29vj4eFhVd7Pz4+EhAQAEhISrDqWitcXr7tWmaysLPLz8yv8neS2OCGEEKKOq4wJuGVCbyGEEELUdbbOoYrriomJwc3NzbJcp9OV+56mTZty8OBBMjMzWbt2LQMHDmTHjh02i8lW/t92Lj07Lo7+4xKslsWc1TGsW0sAtDoTz78eS7eH09HaK+zb4cbC1+qTkaKtcbHO/e40t0TkWK1f/7UPH05uYNM4jq5049hqd7JjzdvAq7Ge9qPTCOmaZymTcMCBf973IumQAyo1+DQv5MEv47BzUABIPqZj91xvko7oUGmgYWQOnSenoHU2r085Yc+Bjz2J3+dAQboG16AiWj6dSZtBmTb9LgAPDkihV/8U/OrrAYg+7cDKD/zZ+7v5R67VmXj+jbiSfWC7KwtfC66WfeBasbp6FNH/lQTadc3GN1BPZpodO39zZ/m8APKyNVUe65OjE+l8fwb1GxWiL1BzfK8Tn78ZSOw5B6tyzdvnMmhiPM1uzcNohPPHHHntmXD0BdV3wvrEqASGTo7jh8/q8dH0+gC89PZFbr0zC29/A/m5Gk7sdebzN4OIuer7VIWKbNu5353hljtyrd63/mtvPpxUv0pjXf7XIcv+eqWfv/Jl8esheNYzMOy1GG69MxMnFxOx5x1YvSiAv3/1qtI44frHgvufSaH7I+k0ap2Ps6uJR5u3Ijfr/23zKQSOzkYGjIvljsh0PLwNnDvmzEczG3D6sAsAHj4Ghk6Mod1dmTi7GTn6rytLpocQd6Hqj5vXyqHM7Wc87bpk4RukJzPVjp0bPVg+L9Dm7eeBlV4cXOlF5iV7AHwaF3LH6EQadjPnb6v7hRHzj4vVe255OpXI2XFWy46s9WDvFz6kRenQuZho+kAmPWaYyxQVqtg0NYiEo46kntMR3j2LRz++aNPvUezZsXE8OzbealnMWR3P3d0Kv+BClu88Wub75oxsyJ/rPSslpvLUprykIrG+9E4Mt96Zjbefgfw8tTkvmRNY5XnJ9c5PalL+BODtp2fo5Evc1j0TnaOJuAs63n81lDOHnQHzPt21dxr1Ag0YDCrOHnFi2dwgTh10rtS4WnXIou/z8TRqlYu3n4GZwxuza/OVuZBC/zGXuO+pJJzdiji+z5VFr4eVeTzV2pv4YN0xwlvkMapXK86fqNzYK/rbKv4es78+T4e7s5k+JJRdGz0qNbbaoPjpbxVhb29Po0aNAGjfvj179uxhwYIFPPnkk+j1ejIyMqxGLyUmJuLv7w+Av78///77r1V9xU+Tu7LM1U+YS0xMxM3NDUdHxwp/p//X2fGFkw5Merqx5bWxqGT+iBHTYrn9nkxmD29IbraGUbNjeOPT84zr07Q6Qr1mrAAbVnrz1buBlteF+bZvCF38i+j0airuoQZQ4NQPrvw2MoDHf4rBq7GehAMOrB8SwK0j0rnrjRRUGoXUkzpUKnPHUW6ihp8HBhL+QA53TkvGkKPm7zk+bJvoR+Qic+OUfFSHo7eRe99NxCWgiIQDDuyY6otKA63727aDKTleyxdvBXIpyhxjj8fTmf5FFKMimxB92pER0y9x+z1ZzB4eSm6WhlFzYnnjswuMe6Tx9Su3sWvFigq8/Qx8OiuQi6cd8A3W89LbsXj7G5j9fFiVx9qmUw4/L/fh9EEnNHYwaFI8b646x3PdmlGYb07Wm7fPZc6Kc3yzyI8lU4MwGlU0bJGPYqrycC2a3JJLr2dSOH/c+gB65ogT237wJPmSPa4eRp4dF8+bq84wMKIVJlPVzjlTkW0LsGGFN1+96295XRnHg+t56aEWqK84Nwttksdbq05bTipeff88Lm5Gpg9rTFaaHd0fSeO1xed4qbeOc8cqNxm62vWOBQ6OJvZud2PvdjeGvhZ//QprIBMqTDaeI0meFvf/15i3owhtks+8cQ1JTbTnnkdSeOvrUzzfszWpiVqmfXyaoiI1M55vTF6OhkeHJvDWipM836O11bGqqpSXQ3n5GS63n0FcPOOIb5Cel96+iLefgdnDG9o0Bld/A13GJ+IZap5T4+j3nqwbEcKg/53Fp4l5WZsn07hzbElyr3WwbhT3fO7Dns996DYpnoBb8jHkq8mMLbngZTKCnYOJ9gNTOP2bu03jL8uFUw5M7tfE8rp4uybH2fN0+zZWZe/vl0zf4Yns+b1iJ1K2VJvykorEeuawI9vWeZJ8SWvOS15J4M3V5xjYqUWV5yXXOj+pSfmTi3sR7687xaFdrkwd0JjMNDuCQgvJySw5FY4978CSNxoQf1GHzsFEn6GJvLniNEO6tCIzrfIuLDs4mTh/wolN39Xj9Y/OlFr/+PB4HhqUwHuvNiQh1oEBY2OYvewkw3u2waC3zu+GTLxIWpKW8BaVFq6ViualAH2eS0ZRqiYuW7N1DmWL/MlkMlFYWEj79u3RarVs3bqVxx57DIBTp05x8eJFIiIiAIiIiGDOnDkkJSXh6+sLwObNm3Fzc6NFixaWMhs2bLD6jM2bN1vqqKhq7Vx66623WLduHSdPnsTR0ZE77riDd955h6ZNq6YDx2hUkZ5c+mDh5Gok8qlU3n4xlEM7XQF4f1wIn+04TrN2uZzcX7UnPlB+rMUK89XXXG8LoffkWb3uOC6NY6vcSTyow6uxnr/n+NB6QCbthmdYyng2NFj+Hf27M2o7hS7Tk1FdPhZ2mZnMmgcbkBmtxT3EQPPHs4Fsy3vcGuSQcMCB85ucbd659M9m68Rr2TsBPNg/hWbt8kiOtyfyqTTeHh3Cob8v7wNjG/DZHyerZR+4Vqwbv/Fm1hWdSPHROpa9E8CED6NRaxRMxqptwKc8G271+r0xDVhz5CiN2+Rz9PJV2eHTL/HjF/VYs7jk3t6yr3JUDQcnIxMXXmD+hAY8/bL1VbhfV/pY/p0YC8vnBfDR5pP41dcTH13+8NXKUJFtC1BYcO3jRVW4OhF7YmQmcRd0HN5t/j21aJ/DoikhnD5kjnv1wkD6DE2gceu8Ku9cutbvK/q0Iz98Zm6I20Rkl/X2WkG5iUffVqROUT2qM3+y15m48740ZjzfhKP/mjsKViwIpuM9GTz4bBJb1nnTvF0uw3u2IvqMEwALp4ay+t8DdH8old++9a30GK9WXg4VfcqRWc+XdCKZ289AJnx4webtZ6N7rI8fXV5N5OAqL+IOOlk6l7SOJlzqFZX5/oJMNX++78djn1wgpHPJ6FTfZgWWf9s7KfScZR7FdGmfMwVZlXthwVhU9nY1mUovvyMygz9/8aQgr+o7F2tTXlKRWEvlJXMD+GjLqWrJS651flKT8qfHRyaQHG/P+6+GlsQUYx3D9p+sR05/Mqs+9z2dSljzfA7+XXk51d4dHuzd4VHOWoVHBifwzaIgdm8xx/fuq+Gs/nc/d/RMZ8cv3paSt3XNoN1dmcx5oTEduh2ptHivVNG8tGHLPB4bnsyL9zfhm4PHqiQ2W7J1DnWj+dPkyZO5//77adCgAdnZ2axatYrt27ezceNG3N3dGTp0KOPGjcPLyws3NzdefPFFIiIi6NSpEwA9e/akRYsW9O/fn7lz55KQkMDUqVMZNWqU5Va8ESNGsGjRIiZMmMCQIUPYtm0ba9asYf369TcUa7VOmLBjxw5GjRrF7t272bx5MwaDgZ49e5Kbm3v9N9tAUFghq/YeYdnfR5m4MIp6geZbIhq3zkNrr3DgT1dL2ZhzDiTG2tO8XU551VVLrMW690lnzeFDfLzlOIMnXULnULmXWkxGOPOLC4Y8NX5tC8hL1ZB0yAFHbyPrnghiWadQfuwXRPzekobZqFeh1iqWjiXAcrvcleWups/W4OBeud9HrVbo+lA6OicTJ/Y507hN8T5QcmA07wNamrevmv2zPFfHWhZnVyN5Oeoq71gqMxY3IwDZGeaE0t3bQPN2eWSk2PHBT6f55uBR5q09Q8sO1fPbAhg9J4Z/t7pz4K9rX1HVORrp+UQa8dH2JMdVb+cNlN62xbr3SWfNkSN8vPUkgyfFVfrx4HrstCbu7pPKxjU+cLlBPb7PhS6903BxL0KlUujaOxV7ncKhXa7XrqySVeT3JUR1q878SWOnoLEDfaF1+6IvUNPytmy09uZ2XV9Y0tgrigqDXk3L22pmDnUlZzcjeTmaSm0/TUY48bM7hnw1gbeWXLg7/j8PFt7WnC/ua8yOeX4Y8ktiuPCXK4oJshO1fNazMUs6N+OnF+uTVY1tUVBYISv3HObLv44wYUH527VR61watcrnt299ylxf1WpDXlKsvHa+mM7RSM8nqy8vqehvq7rzp049Mjl92IkpS8/xzf5DLNpwnPueTi63vJ3WxP39ksnJ1HD+uFMVRmrNv34hXr4GDvxdkp/mZdtx6qALzW4t6bD28DHw8pvnefeVcAqqYXRosbL2V52DiUmLoln8WnC1X/isrZKSkhgwYABNmzblnnvuYc+ePWzcuJEePXoA8MEHH/Dggw/y2GOP0aVLF/z9/Vm3bp3l/RqNhl9++QWNRkNERATPPvssAwYMYObMmZYyYWFhrF+/ns2bN3PLLbfw3nvv8dlnnxEZGXlDsVbryKXffvvN6vWyZcvw9fVl3759dOnSpVI/++QBZ94dG0LseR1evkU8Ozae99adZvg9zfHyNaAvVJWaUyMjxQ4v37KvKFVXrPm5Gn7/0YukWHtSE7WENc9n6GuXCA4vYNZz4dev/AalnrJn3RPBGAtVaJ1M3LckHq/GBhIOmHs99yz04o6JKXg3L+T0j278b0AQT264iEeogaCIfHa+5cOBTz1oMzCDonw1u+eZe9zzksveFRP2O3BugwsPfBJX5vr/KrRZPvP/dwZ7nYn8XDUzh4Vx8YwD4S3zy94HkrV4lXNVsbKVF+vV3DyL6DcmweqKUXVRqRRGzLjE0X+diT5lvt0sIMScePR/JYFPZwZy7pgj9z6eztvfnmP4Pc2Ii6raq1ldH0qjUes8XuzVrNwyDw5IZtiUSzg6m4g5q2Nyv8YUGap3MuOyti3A7z96Wh8PpsQTHF7IrOeq/hbJYhE9M3BxK2LzdyX75Jujwnlt0TnWHj5AkUFFYb6amc83Ij66ekawVfT3VVuZlEq4Lc7G9YmKq878KT9Xw/F9LvR7MY6LZx3JSNHS7aFUmrXLIT7awXwh5pI9gyfE8uFroRTkq+kzJIF6gXq8fMvv1Kks18uhruTmWUS/lxP4daV3ObX9N8mndKzoG05RoRp7JxOPLLmIT2PzqKXmvTNwDzLg4mcg6aQjO+b6k3ZeR5+l5jmTMmLsURTYvbQe97wej87VyJ/v+7NmYCiD159FY1+195ucPODMe6+EEntOh5evgWfGxPPu2lOM6NGi1HaNfDKV6DMOnNjnUk5tVac25CXXirXYgwNTGDYlriQveTq8yvOSivy2akr+FFC/kAefTWbdZ358syiAJrfkMnJGDEUGNVvWlvzeb78ng8mLotA5mkhL0vLaM43JSq++02XPeuY7QNKvmu81PUVrWQcK4+aeY/0qP84cccE36PqPs68M5e2vw2dc4vheZ3ZtqvxbdSuLrXOoG63r888/v+Z6BwcHFi9ezOLFi8stExISUuq2t6t169aNAwcO3FBsV6tRcy5lZppve/LyKntC18LCQgoLS34wWVlZN/1Ze38v2cGjTsDJA058vfsoXXqnV+uEwmW5Vqwbv/Gx6kS4cNKRtEQtc9ecISCk0ObDTj3C9Dzxvxj02WrO/ebCtgl+PLwyFi7/SFo8lUmzvuae9HotU4jd5cjJtW50ejUVr8Z6ur+TyM63fPjnPW9Uamg9IANHnyLLvExXSj1tz68jArhtdBr176r4IxBvROw5HS/0bIqTq5G7emXw6vxoxj9W9XMqVUR5sV55AuzkYmTWV+e5eNqBr9/zv0ZtVWP0m7GENM3nlT4l21R9+ee1YYU3m9aYG/Rzx5xo2zmbyCdT+fLtwLKqqhT1AvSMnBHL5H6NMBSW/7vf9oMX+/90xcvXQN/hSUxZep6xfZpe8z2VraxtC5Q+HiRpmbvmXKUcDyrqvieT2bPdnbQke8uyAa9cwtnNyKR+TclMs+OOnum8tvgcrz7ejAunqv4qYUV+X0LUVNfLn8C2OdS8cQ0ZOzeKVf8cxFgEZ485s+Nnbxq1ysVYpGbWiMaMfSeKtYf2YyyCA3+78+/v7qiqoT/yejlUMXP7eZaLZxz4+v3KaYe8wvQM+vkshdlqTv3mzoYJwTy96jw+jQtp+3S6pVy9poW41DPwbf+GpEfb4xmiRzGByaDmnjfiCbvLPKKm9/yLLO7UnIu7nQnrUrWjbPZuv2K7noSTB535aucRujyYzsYrRijZ60x0fziNVR8GVGl85anpecmVymvnAbat82T/H5fzkhFJTPnoAmMfaVyleUlFfls1JX9SqeHMYfME3WD+/w1tmk+vZ5KtOpcO7XTlhfua4+5VxP1Pp/DakvO8/HAzMlNr7oibhwYm4uRiZM3S6tlPi5W1v3bqkUnbztm80LN65iwWVa/GdC6ZTCbGjBlD586dadWqVZll3nrrLWbMmFEpn5+bZUfseQcCQwvZ/4cb9joFZ7ciq5ErHj5FpCVV/ya7MtaynDxgPjELDLX9yaTGHtxDzD3l9VoVknREx5HlHtw63JwUeTWyvirpGa4nJ65kmzV5KIcmD+WQl6JB62gCFRz+0gO3Bgar96Wd0fLzgEBaPJVJ+1HpVJYig5q4C+ZtdPaIE03b5vHIsGR2/M+j7H2gnoG0ckZZVbbyYv1wovkpYI7ORuasPEd+rpoZw8JKTfpe1UbNjqXjvVm88mgjUuJLOhVSE83bL/q09Ul7zFkHfIOs94PK1qhNHp71ilj860nLMo0dtO6Yw0ODknmw4a2YTCrysjXkZWuIi3Lg5H5nvj92mM73ZZS6P7+qlLdty3Jyf+UdDyrCN6iQtndmMWt4I8uygAYFPDwoieH3tiL6jPnqVtQJJ1rdnkPvAUksnBJa5XFe7/dV29n6MbrFdYrqV5H8CWybQ8VfdGDCU83RORpxdjGSlmzP5IVnSbh4+Td01JlRvVrh5FqEVquQmaZl/g/HOHOk+m81LSuHcnQ2MmfFWfJzNMwY1rDS2k+NvYJnqDlP8m9dQMJhJ/Yt8yZyTunR2QFtzbfLZVzuXHK5PHLep1HJHEtO3kYcPYuq9da4YrlZdlyKKp2b3tUrHZ2jia3fV097eaXakJcUu147X5KX6Di534nvjx+l832ZbP+pap/Ed6Wyfls1JX9KS9KWulh08Ywjne/PsFpWmK8hPlpDfDScPODC5zuOct9TKXy7uHo6R4tvI/P0MZCeXLIfePoYOHf5dr1bIrJodmsO/ztp/TSwD386yu8/+fDeeNvfyXK18vbXtndmExCiZ90J6zmgXv/0Akf/cWbC4zXzgv7VbJ1D1eX8qcZ8s1GjRnH06FG++eabcstMnjyZzMxMy19MTIzNPt/ByUhgaCFpSVrOHHHCoFdx650l97IGNyzAL1jPif3VP6T3yljLEt7SPMqnKjrCFJN5LiXX4CKc/YrIOG/dAGZG2eNSRsPs5GNE66xwdr0LGp1CcOeSkUlpZ+z5X/8gmvbJpuO4tEr/DldSqc2P8TxzuHgfKLkSGBxegF+wocbMw1IcK5ivuL65+hwGvYppgxpW64gaUBg1O5Y77stkwhONSk2YmBhjT0q8luBw6wQ0qGEhSZeqNkE++Jcrz9/TnJGRJX+nDjqx7QcvRkY2L/NpJioVoFIs84pUrWtv27KUHA+q5+Sj5+MpZKZq+Xebh2WZztG835qu2oQmI1ZzslWnK39fQtRkFcmfoHJyqMJ8DWnJ9ri4FdG+Sya7tlif2OZl25GZpiUwtIDGrXPZtbn6TnyLXZ1DObkYeXPVWQwGFdMGh1dp+2nOocr+vKTLTy51vtypFHR5vse08yXH/fwMDfnpdrhVUwfIlRycjASElM5NI59MYfcW90p92tb11Z685GbaeUteoqveNut65yfVmT8d3+tcxv9vAUmx175Ap1JXV75nlhCjIy1JS9s7SkaaOrkU0bRtDicPmOeo/GhmCKN6tWbUg+a/N4aYRwm99VJjlr8XXMkRXnt//XaRHyPubcrIniV/AB9PD+K9cQ0qOTZRHap/GA4wevRofvnlF/744w+Cg8v/Eeh0OsuM5v/Vc1Nj2b3FnaRYe7z9DPR/JR6jUcX2Hz3Jy9aw8Rtvnn/jEtkZduRmaxg1K4bje52r5Ulx14o1IKSQ7o+k8e82d7LTNYQ1z2f4tFgO73Yh6oRtby3Z/a43Dbrk4hJYhCFXzZmfXYn7x5EHv4hDpYJbhqaz90MvvJsV4tNCz6l1rqSf19JzYckB8cjX7vi3K0DrZCL2byd2veNNx1dT0bmZG8TU0/b8r38gDe7K45YhGeQlm+/ZVqkVHL1t22gOnhTHnt/dSL6kxdHFRPdH0mkTkcOUfuGX9wEvnp92iewMjXkfmB3L8b1O1bIPXCvW4o4lnYOJuS+G4eRqxMnVPKFeZqpdlT/udfSbsXR/JJ3pQxqSn6O23BOem625fMupirUf1aP/KwmcP+7I+WOO3Pt4GvXDC5j9fGiVxpqfqyk1j0FBvprsdPNy/waFdO2dzr4/3MhMtaNegJ4nRiWiL1Dz77aqf5zy9bZtQEgh3fuk8+9Wt8vHgwKGT7/E4V3ORJ1wvE7ttqdSKfR4PIXNa72tJseNOefApSgdL715gU/n1Cc73Y6IyAxuvSuLaUOq/irWtX5fYJ7zwNPXQODlEQdhzQrIy1WTfMme7Iwa0Yxel8y5VDdVNH8C2+ZQ7btkABB73pHA0AKGTY4h5pwDmy7Pq3bXA2lkptqRFGdPaLN8Rr4Rza5Nnuz/s+rn3LhWDmXuWDqDztHE3JfCK7X93DHPj4Zds3ELNKDPVXP8fx5c/MeZJ5ZdID3anhP/86BhtywcPY0knXTg9zkBBN+eY3kanFeYnkb3ZrJ1ViCRcy5h72Lkj3f98QovpEGnkgthKWd0GA0q8jM16HPUJB43j9bwa1FQZlw3a9iUWP7Z4k7SJXu8/Az0Hxdn3q5XjJwJCCmgVcccXh/Y6Bo1Vb7alJdcL1b/BoV0fSiDfTtczXlJoKEkL9latXnJtX5bNS1/+uGz/2PvvsObqt4Ajn+TtEm6F3TRUkrZS8CfQsWBiiDiAPcAEQEFC8qQJaJsXIgDBDeoIOLArQgyFAVlyt5Qulu6Z/bvj9CUQGlTTJq2vp/nyaO5Obl9c7n33Peee865Yby6+hD3JaTx2/dBtO5cwi0PnuH1ydYGDo2XiQdGp7N1bQA5mZ74Bxu57eEsGoUZ+P0H1zaKa71NRMZUHJ9h0Tqaty2mMN+DrFQNX38Yzv2jUkg5pSUjWcOgsclkZ6j58xdrXFmp9vV6+XxXaYkazqS7tsd6dftrbpZnpZN4Z6Z4OtRwWle4e86l+sStWbHFYmH06NGsXr2ajRs3EhtbexPONoowMGXhKfyCjOTneLD/b1/G3N7admdlyYwozOZkpr1zAk+1he2b/Fj4jHtaWKuKVa3R0+WaQgYMy0TrZSYrTc3mnwL59HXnd98szVaxfmIYxZkeqP1MhLTRc+sHqURfbe0ZcdmQfEx6BX/MbYQuX0VIGx23LU0lIKZiAuzMPRq2vRGMoVhJUJyea2dl0bp/RQ+xEz/7UpbjwZFv/DnyTcXJx6+JgYEbE536ewIbGZnweiLBoUZKClWcPKhl6oNx7Dz7lMAl05tgNiuY9s4pPDUWtm/0Y+Ezrr4DUPNYO8UX0rartfv80j8P2n3v4W5tyUiu3cr7tsHZALzy5TG75a+MjWbt2bkMVr8XiqfGwojpKfgFmjhxQMuUB+LcNifQxeh1Cjp0K2LAsEx8A0zknfFg71++jL2jtVvG31e3bY0Ga4/LAcOyztYHnmz+MZBPXw+rbHUu1+XqAsKi9PyyqrHdcpNRybRHWvHo5GRmvH8ULx8zqac0zB8Xy7YNgbUeZ3V1Qb9BZxg0PsNWfv5q6/Y/d58Woja5M38C8PYzMWRCMo3C9RTle7D55yCWvhKFyWjthRMcquexqacJbGQgJ8uTX79qxIo33TMfSFU5lN358w/7x2M/3L29U8+fJdke/PB0NMVZHmh8zTRuU8a9S0/R7OoiClI9OfWnD9uXhmAoUeIXYaBVnwLiEzLt1tHvlWTWz4ngi2HNUCgtRF9ZzD0fnEJ1zunoi6HNKEip6I2x7DZrg/3E4859NHmjCD2TF57EL/Dsdt3my9j+bex6KPW5L5szaZ7s/K32GxPOVZ/ykupi1euUdLiyiAHDsirykq2+jL2jZa3nJVUdWypPfZ3Kn47s8WHmY3EMmZTCQ0+lkZ6kYcmMKDZ8bf33N5sVRMeV0evubPyDjBTmeXDkH2+evrs1iUdce3OuZcdiXvq0In9//FnrJP5rv2jEqxPj+PztCLReZp6cexJffyP7t/sxbUhrDBfp9VibHDm2xH+LwmKxuK2v3xNPPMGKFSv45ptvaN26YqKvgIAAvLyqP5ALCgoICAigp/JOPBTuH2/ekIw8fNjdIThscav6MV5XuFBdGUvlKEv9GW6l8Kg/davF6P6hIY4wWgxstHxNfn4+/v6uvegqP0/e9stQPH2q7v5fU4ZiPd/1fr9Wfoew92/zJ6jYN67X3FsvciiLwT1Par0UE4/udncIDnu5dRd3h+Awi8nk7hAapnqWQymU9afXh8KjfvRuBjDr3POUuZpqCDlUQ86f3LrHL168GLA+9u5cH374IY888kjtBySEEEI0QDIsrmGR/EkIIYSoHTIsznFuHxYnhBBCCCEcJ/mTEEIIIeqa+tUPUgghhBA1Vn7XzdkvRy1evJhOnTrh7++Pv78/8fHx/PTTT7bPy8rKSEhIICQkBF9fX+666y4yMjLs1nH69Gn69euHt7c3oaGhTJgwAaPRfqjUxo0b6dq1KxqNhhYtWrB06dJ/td2EEEII8d/mzvypvpHGJSGEEEK4VFRUFC+88AI7duxg+/bt3HDDDdxxxx3s32+dRHns2LF89913fP7552zatInU1FTuvPNO2/dNJhP9+vVDr9fz559/smzZMpYuXcpzzz1nK3Py5En69evH9ddfz+7duxkzZgzDhg1jzZo1tf57hRBCCCH+a+rPLGNCCCGEuCTunnPptttus3s/Z84cFi9ezNatW4mKiuL9999nxYoV3HDDDYB17qC2bduydetWunfvzi+//MKBAwdYt24dYWFhdO7cmVmzZjFp0iSmT5+OWq1myZIlxMbGMn/+fADatm3L5s2bWbBgAX369HHeDxdCCCHEf4bMueQ46bkkhBBCiEtWUFBg99JV88QZk8nEypUrKS4uJj4+nh07dmAwGOjVq5etTJs2bWjatClbtmwBYMuWLXTs2JGwsDBbmT59+lBQUGDr/bRlyxa7dZSXKV+HEEIIIYRwHWlcEkIIIRo4V865FB0dTUBAgO01b968SmPYu3cvvr6+aDQaRowYwerVq2nXrh3p6emo1WoCAwPtyoeFhZGeng5Aenq6XcNS+efln1VVpqCggNLS0n+9DYUQQgjx3yNzLjlOhsUJIYQQDZwFMOPcZKb8eWVJSUn4+/vblms0mkrLt27dmt27d5Ofn88XX3zB4MGD2bRpk1NjEkIIIYRwJmfnUA35ea/SuCSEEEKIS1b+BLjqqNVqWrRoAcDll1/Otm3beP3117nvvvvQ6/Xk5eXZ9V7KyMggPDwcgPDwcP7++2+79ZU/Te7cMuc/YS4jIwN/f3+8vLwu+fcJIYQQQojqybA4IYQQooFz5bC4S47JbEan03H55Zfj6enJr7/+avvs8OHDnD59mvj4eADi4+PZu3cvmZmZtjJr167F39+fdu3a2cqcu47yMuXrEEIIIYSoqbqWP9Vl0nNJCCGEEC41ZcoU+vbtS9OmTSksLGTFihVs3LiRNWvWEBAQwNChQxk3bhzBwcH4+/szevRo4uPj6d69OwC9e/emXbt2DBo0iJdeeon09HSeffZZEhISbMPwRowYwcKFC5k4cSKPPvoo69evZ9WqVfzwww/u/OlCCCGEEP8J0rgkhBBCNHCuuFNWk/VlZmby8MMPk5aWRkBAAJ06dWLNmjXcdNNNACxYsAClUsldd92FTqejT58+vPXWW7bvq1Qqvv/+e0aOHEl8fDw+Pj4MHjyYmTNn2srExsbyww8/MHbsWF5//XWioqJ477336NOnj/N+tBBCCCH+U5ydQ0nPJSGEEEKIS/T+++9X+blWq2XRokUsWrToomViYmL48ccfq1xPz5492bVr1yXFKIQQQgghLp00LgkhhBANnLt7LgkhhBBC1EfSc8lx0rgkhBBCNHDSuCSEEEIIUXPSuOQ4eVqcEEIIIYQQQgghhLhkDaLnkkKlQqFQuTuMaqkaBbs7BIctbmV2dwgOK/op1t0hOMzv1tPuDsFhFqPR3SE4TOFR94//c1lM7o7AcRajwd0hOE5RX+6XKMFSu3/RYlFgcfKdMmevT7iH0kuDUqF2dxjVUgR7uTsEh73cuou7Q3BY1urm7g7BYY3vPOXuEBxWn86dSrWnu0NosMz6+rMfKDzqx36gsAC1vFmdnUM15PypvmTiQgghhBBCCCGEEKIOahA9l4QQQghxcWYUmHHynEtOXp8QQgghRF3j7ByqIedP0nNJCCGEEEIIIYQQQlwy6bkkhBBCNHDytDghhBBCiJqTp8U5ThqXhBBCiAZOJvQWQgghhKg5mdDbcTIsTgghhBBCCCGEEEJcMum5JIQQQjRwMixOCCGEEKLmZFic46TnkhBCCCGEEEIIIYS4ZNJzSQghhGjgZM4lIYQQQoiakzmXHCc9l4QQQgghhBBCCCHEJZOeS0IIIUQDZ3HBnEsN+c6bEEIIIQQ4P4dqyPmTNC4JIYQQDZwFsFicv04hhBBCiIbM2TlUQ86fZFicEEIIIYQQQgghhLhk0nNJCCGEaODMKFDg3G7YZievTwghhBCirnF2DtWQ8yfpuSSEEEIIIYQQQgghLtl/tueSUmlh4NgUbhiQTVBjA9kZatZ90YgVb0TA2dbEgWNSuO62HBpH6jEYFBzb68PSl5tweLevS2O75e7T3HJ3EmERpQAknvDl03fj2PFnYwBuHpDEdTen0aJNAd6+Ju697gaKizwvWM8VV2fxwPDjNGtRiEGvZO/OYGaP7+LS2G99+Az9Bp0hLFpvjf2IluULwtm+wd9Wpu3lxTwyKY02XUowmeDEfi+eeSgOfZnz2jo9V+bi8UcJymQ9FrUCczstukeDsUSrbWUUOUbU7+Wg2lWKosSMOcoT/QOBmK6u+PfVPp+O8oQORZ4Zi68SUxcv9EODsYRYDx1FugGfR5Iu+PslCyIxt9U67fcs+2OvbZue67tljVk0rSmeGjOPPZvMdbfn4Km2sGOTPwufbUremQv3C1e7b1QGPW7JJ7qFDn2ZkgPbvXl/TgTJxyu2x5MvJtHlmiJCwgyUlig5uN2H9+dEkHTMedvMUcs2/1P5tv0olEXTYnhp5SE6xRfaffbDJ415c2qzWoqwwsBxqQwal263LOmYhmE92wPw0udHuCy+yO7zHz5uxBtTmtZajOXuG5VBj7559vvB3Ei7/aCChdkfn+CKGwqZ/mgztqwJrNVYq9uuAG27FvHIpNRz6i1vnhnYwqn1lis5+zG65esU/w0dLs/jrkeTadG+iJBQPbNGt2PLr41sn2u9TQwZe5L4G8/gF2gkI0XLt59E8uNnkQD4BhgYOCqRrlfl0jhCR36uJ1t+DeHjN5pRUuS8VPSeISe46voMopoVo9epOLgnkA/faEVKoo+tTFCIjkefOkyXbtl4+ZhITvTms/eb8+f6cFuZuDYFDBl9hJbt8zGbFPy5Pox3X21NWalr0+aBY1MZODbNblnSMQ3Db+hwXkkLs5Yd44rrC5gxLI4tvwQ6NQ6vz3NQ/1mIKkUPaiWGNlpKHmmMKaoihwqYkoTnvlK775XeHEBxQpjtvec/JXh/cgZVog40Sspu9KdkUCNQWesOZYaB4GEnL/j7eS9HY2zj5bTfU9V5ftkrTRg0LoXLrymgcRMd+dmebPklkGXzm1BSWPuXSdXl0X0fOsP1/XNp0bEUHz8zd7btQHFB7cTZ4YoC7n4sjRYdigkJMzDz8ZZsWRts+/yqPjn0ezCDFh1K8A8yktCvAycO+titY/Tsk3TpkU9wmJ6yYhUHdvrywYtNST7hvH9vR2IFC4PGpHDz/Zn4+Bs5sMOPhdNiST1VkaMs/W0XYVH2+80HL0Xz+ZJIp8Z6vqpyEr9AI4PGp9H12gJCm+jJz/bgzzWBLHs5kpJClUvjqowj19NgYdC4VPo+kGXd1tv9eHNqjN22ruucnUM15PzpP9u4dM/INPoNzGL++FgSj3jRslMx414+SXGBim+WWk+MySe1vPVcU9JOa9BoLQwYls7cj4/w6HUdyc9x3UX7mQwtS99sReppb1BAr1tTmfbqLp588CpOn/BFozWxc0sjdm5pxCOjj1a6jqtuSOfJZ/ezbFEr/tkWjEplIaZFUaVlnSkrzZMP5kWSclKDQmHhpntymf7BSRL6tCLxiBdtLy9mzifHWbkwjLeebYLJpKB5u1IsZufGodpbhuE2f8ytNGC2oP4wB6+p6ZS8EwVa68Wg5pUsFEVmyqaHYfFX4bGhCO3cTErf8MTcQgOA6TIt+vsDsQSrUGSb0LybjXZ2BqULmtj9vdJ5EZhjKvYJi79zK/gnb2uD8pxVNmtdyrwVR/n9hyAAHn8uiStvyGfOyOYUF6pImJnEtHeOM/7ONk6NwxGd4ov5bmkjjuz2RuVh4ZHJacz99ATDr2uNrtT6I47u8Wb9V0FkpajxCzIycHwGcz89weBubTGba7fCffL2dvbbtlUJ81YcsW1bgB9XNObjVyv+zXWl7mtQOHVIy+QHWtrem4z22+vH5SF89EpF4uOuWDt1L+K7ZeX7Adb9YMVxhvdsY9sPyg0YnuX0yaZrqqrt2rZrEXM+OcbKReG8NS0ak9E19ZYQdZXW28zJwz788lU40948cMHnwyce57Luebw8qQ0ZKVq69sglYdpRsjM1/LUhhJDGekIa63nv5eacPu5NWGQZo54/RkhjPXPHtnNanB275vDD5005sj8AlcrM4FFHmb1oOyPu7oGuzJryjpu5Fx9fAzPHdaEgT811N6cx+YV/GDPImxOH/QluVMact7bx29oIFr/UFm8fI4+NP8TY6fuYN6mz02K9mFOHtUx5sJXt/fl1PMCAoZkurTM995VQ1i8QY0stmMHnozP4P5dM7lvNbDkUQFmfAIofCqn4oqYiVtVJHf7TUyi5Nxjd2HCU2UZ838oEE5QMbWz39/JnR2FsWtFwZfFzcg5VxXk+JExPSJiBd+dEc/qoltAoPaPnnCI4zMCckS2cGocjqsujtV5mtm/0Z/tGf4Y+k1b9Cp1I623mxEFvfvm8MdOWXHj9ofUysX+7H7/9EMKYFy5sNAQ4ts+HDd+EkJmqwS/QyMCnkpnz0SGGXNvZqflfdbHe83gatz+Szvynm5OerOXhsUnMXnqIx3t3wqCv2Mc/ejWKn1dW7K8lxbXTgHOxnCQ4zGDdX2c14fRRL0Kb6HnyhdOEhBmY/XjzWontXI5cT98zIp07HsnglfGxZCRpeHh8CnM+PsJjvTpg0NWPG3TCcW5tXFq8eDGLFy/m1KlTALRv357nnnuOvn37uvxvt7u8iK1rA/l7fSAAGckaet6eQ+vORYD1YNj4TYjdd96Z1ZSb7z9DbNtSdv/husalv38PtXv/0VstueXu07TpmMfpE75882kzADpenlPp95UqM48/fYgPXm/NL99E2ZYnnXRtjyuAv9YG2L1f+mIEtw46Q5uuJSQe8eLx6Sl8/UFjVi2quLNVeU+Gf6dsToT9+/Gh+N6fiPKoDnNH690R1YEydKMaYW5t/fuGB4NQr863ljnbuGS4M9C2DkuYJ/p7A9HOzACjBTwqToIWfyWWYNcdTuc3Zt77RDqppzTs2eqLt5+JPvdl8+KTsfzzp/XO1vynm/Hehv206VLEoV2u/3c/19SH7E9u88c0ZdW+/bTsVMq+v6yx/LS84tjKSFaz7MVwlvx6hLBoPWmJmlqN94JtOzL/7Lb1sy3TlSrJzar9XmCVMZkUVcZSV2KdOjDO7v38MU1ZtXef3X4A0Lx9CXc9nsXovq1YuXt/bYdpU9V2fXx6Ml9/EMqqRRU9G5JP1J87bgBmiwKFk++UOfOxvKJmajt/2v57MNt/D77o5227FPDr12Hs3RYIwM+fR9D33jRadyzgrw0hJB7zYc6Yikak9CQvlr3ejAkvHkKpsmA2OWdfem70/+zev/p8Rz79dQMt2hawf5c1/rad8lg0rx1H9ltj/ez9OPo/mEiLtgWcOOzPlddkYTQqWfxCW9vd5YXz2vHWZ38SEVVMWrJ9TwxnMxmrruObtyvhzscyePLWtny6Y49LYiiYEWX3vnBMGCEDT+BxrAxjB2/bcotGgSWo8txH83shxmZqSh+wnu/NkWpKhjTC78U0Sh8IweJdcVFp9lNedD3OUPV5XsHsERWNSGmntSx7OYoJr51w6r7pqOry6NXvWa8Rzu9RXRu2bwpk+6bAi36+/mtrI0xoE91Fy/y0suIaJzNFw7JXo1n8417ConSknXbeebXqWC30H5LOyoVN2LrOWi+88nQcn/69k6t657Lp+4octbRYSe4Z9UXW4zoXy0kSD3sx67GKPDstUcPSFyOZ+MYpt+yv1V9PWxgwNINPF0awda31pu3L42JZuX23dVt/F3LRddclzs6hGnL+5NbmwqioKF544QV27NjB9u3bueGGG7jjjjvYv9/1FxgHdvjS+aoCmsSWARDbtoT2/ytk28bASst7eJrp+2AmRfkqThxwbtfNqiiVFq7tnYbWy8TBPZXHdr4WbQpoFKbDbFbwxvI/+XjNBma8sYOYuNo9ESmVFq67PReNt5mDO3wICDHQtmsJeWc8WPDNEVbu3sfLXxyl/RWu71GlKDnbxeCcu2Gmdlo8fiuGQhOYLXhsLAK9BdNlF/n3LTThsaEIc1uNXcMSgHZ6Ot73ncJrXAqqLcWu+hmAdV+8YUA2az4LARS07FiMp9rCrs0VjSHJx7VkJKtp29W1sTjCx98EQGFe5Xd7NF4met+XQ1qimqxU9zaK2LbtqkZwzmR71/fP5rNdu1jyyz6GTExCozW5LcYmsTpWbN/L0j/2MenNkzSOtO+yff2AXFbt+Ye31x1gyOQUNNq60b2msv1AozUzeWEii56JcnuD2MW2q63eyvZgwdeHWblrDy9/caRW6i1nslhc8xLu4c78qTIHd/nT7fpsQkJ1gIVOV+bRpFkpO/8Iuuh3fHyNlBR5uPRiyMfXAEBRQUX9cnBPINf2TsfXX49CYc2x1Boze7dbY/VUmzEalHbDFsqHv7bvkueyWMs1idWxfNsePty8l4mv29fxGq2ZSW+eZNGzTWu1zlQUW88j5/co0mwsJPjBYwQmnMJ7WRaUVZxvFAYLqO0vMyxqBQq9BY/jZXbL/WelEjzwOAETT6P+y7V168XO8+fy8TdRUqSq9Qv1852fRzc0Gi8Tve/OIu20hqy02mvACY/WERxqYNcfFVN2lBR6cHi3L2262F8r3TMijc927GDhd3u5a3gqSlXtnPiqy/XO5c79tbrradu23lzRaFpS6MGh3b607Vp/8ijJnxzn1p5Lt912m937OXPmsHjxYrZu3Ur79u0v8i3nWPVWBN6+Jt5dvxezSYFSZWHZy03Y8LV9C+qVN+QxZeFxNF5mcjI9eWZgKwpyXX9Cj2lRyPwP/0KtNlNaqmL2010c7nkU3sQ6Bv6hx4/x7qutyUz1YsCgU8x7ZxuPDbiaogLXVuDN2pTy2rdHUWvMlBYrmTksltNHtbQ529AxaHw6786M5Ph+L3rdk8sLnx3n8RvbkHrSRT1WzBY0S7IxtdNgblbx28ueCUU7NxPfexKxqACNgrLnwrBE2v/7qt/PxvPbAhQ6C6Y2GkpnVvResHgp0Q0PxtReCwrw+KMY7cwMyp4LwxTvmkQgvk8evv4m1n5h3VeDGhvR6xQXjLnPO+NBUKjBJTE4SqGwMGJGCvv+9ibxsH2j3a2DzzDs2TS8fMwkHdMw5f7mGA3u7R4b3zsPX38jaz+vmEtkwzfBZKZoyM7wJLZtKY9OTiIqroxZj7esYk2ucWiXD6+MjSH5hIbgUCMDx6Yx/6sjPH5jW0qLVWz4OpjMZLUt1qHPpFhjHR5X/cpdqGI/8LHbDx6fkcKB7T5s+SWgim+7XlXbNSLGmtANGpfGu7OirPXW3Tm8sPIoj/dqS+rJ+tWDSTQM7syfKrN4TguenHGEjzf+hdGgwGKB159rxb4dgZWW9w808MDI0/z0eXilnzuDQmHhsacPs393IInHK26+vDDpMia98A+fbdiA0ahAV6Zi9tOdbT2S/tkWwrBxh7lz0Em+/TQGrZfJNgVBUKOL98hwhkO7fJg/vhnJxzUEhxp4aEwar3xxmBE3taO0WMXjzydxcLsPW9cGujQOO2YLvu9mYWirxRRTkaeVXeeHOdQTc7AHHqd0eC89gyrFQOEz1mHZ+i7eaL/NRb2pAP3VfijzjHivtPa4V+QYAbBolRQNbYyxrRYUCtR/FuI3J5XCqZHou7mm13Vl5/lz+QcZeGB0Kj992rjSz2vDxfLohqLfwAyGTjptzf+Oa5n6cJtazf+CGltz49zz5iXNPeNp+wzgm2XhHNvnQ2G+B+26FvLIhCSCQw28OyfGpfFVl+udyz/IyINPpduNCKhN1V1Pl1+H5J2p5BqlsXuvUYRr1Jk5l0wmE59//jnFxcXEx8dXWkan06HTVZzYCwoKLvnvXXtrDjf0z+bFJ5uTeMSLuHYlPP78aetEZF9WnHD+2eLHE33bExBspO8DWTzz1nGeuqMd+dmubWBKOeXD6Afi8fE10qNXBuNm7GXS8CsdamBSKK3NoedOULlgekc++mkjV/fK4Oevol0ae/JxDU/0bo23n4lr+uXx9GuJTLirJcqz540fPwnhl1XWSuf4fm869yikz33ZfPiCaybI0yw6g/KUntL59utXf5SLothM6bwILAFKVH+WWOdceiUSc2xFI5T+7kAMffxQZhpRf5KL9uVMymaGg0IBASoMdwVWlG2tRZFtQv1FPqUualy6+b5stm0MICej9rvp1tSouSnEtCljfP8L5y1Y/1UQO3/zIzjUwN0js5j6diJj72jh1vHXN9+XZd22mRXb9qdPK7pwnzrsTU6mJy9+epiIpmVO7cLtiO0bKhphTh6EQ7u8+XjrPq69LZc1Kxvx0/KKuuvUIS9yMjx5adVRImJ0tT7c8Fyj5iYT07qU8QMqGuS635RP5x6FPNG7tdviKlfVdk06m9D/+Ekj+3rr6oKz9VaTStdZ18iE3g2XI/kTODeHOt/tA1Noc1kh059oT2aqhg7/y+eJacfIyVKze4t97yUvHyMzluzj9HFvli9y3UXayMkHiYkrZMLQbnbLB408hq+fkWdG/I+CPE+698xk8gv/MHHYlSQe8+P0CV9efb4Dw8ce5pFRRzGb4duVMeSeUbt8nrXtG8+piw7Bod0+fPTnXq69NZf8HA8uu6qQhL5tXRvEeXyWZKI6rSP/RfvcUXdzoO3/Tc00mIM8CHg2meI0PeYINYauPhQPaYzvW5koXk0HTwUl94Xgub8UlNa6wxKgoqx/xf5hbKVFmWPE66tclzUuVXaeL+fta2Lmh0c5fcyLTxa4dtLmqlwsj24oDUwbvglh1+YAghvruWt4GlPePMr4e9rbzXVUF6x+v2KKjVOHvDEaFIyefYqlL0e7NNbqcr1y3r4mZn10jNNHtXz8qnv2V0evp+s7mdDbcW5vXNq7dy/x8fGUlZXh6+vL6tWradeu8skd582bx4wZM5zyd4c9k8SqxRG2sZ6nDnsTGqXnvifS7A4GXamKtEQVaYlwaJcv72/cw833ZfHZW649iI1Gpe0u2rFDAbRql88dDySycG71dyRzz1gvIk+f0xBlNChJT/EmNLzsYl9zGqNBSeopawzH9nrTunMJ/Ydl8dlC60V64hH7k2PSMS2hTVzTeq1edAbVXyWUvhKJpXHF7q5INaD+toCSJVG23kzm5hpU+8rw/C4f3ZPn3LEKUGEJUGGKUlMWrcZn0GmUB3WY21V+kje31qDaWVrpZ/9WaBMdna8uYNZjFT1RcrM8UGss+Pgb7XovBTYykpvpvqFGCXOS6XZTAeMHxHGmku7OJYUqSgpVpJ7UcGinN18e3E+Pvvls/PriwyhcybZtH696As9Du6zHZWQz584PcCmKCzxIPqElslnld9MP7bLOjRHZzH2NSwmzk+nWq4Dxd7aw2w86X11IRIyerw7utSs/7d1T7PvLh4n31H7PsHLnbtfdf1h7PCSel9QnHdUS2uTi3dSFcLWa5E/g3BzqXGqNicFjTjF7dDu2/XY2pzriS1ybYu58JNmuccnL28isd/ZRUqxi1uj2mIyuuUAbMfEAV16dxaThV5CdWXHshkeVcNv9pxl5Tw9On7DmSCeP+tOhSy633nOaRfOsOdamnyPZ9HMkgcE6ykpVWCzQ/6FTpKd4V/r3XKW4wIOUk9a6qFmbUiJidHy5b7ddmWffPs7+v32ZeJ/zG+p9lmSg3lZM/rxozI2qzicMZ+evVKUZMEdY6/qy/kGU3RGIMseE2VeJKtOAz0dnMIddfF3G1l6od2c770eco6rzvJePidkfHaa0WMXMx1q4bN90xMXy6DcmufbmcG0pKfSgpNCD1FNaDu325fNdO7iqTw6bvqudxojyIaVBjQzkZlXkJUGNDBw/cPFj/NBuXzw8LYQ20ZFysvamSKks1/PyMTHnk2OUFqmYMax5pRP/14bqrqfLr0MCGxntGnQDGxlrdZoZUXvc3kTcunVrdu/ezV9//cXIkSMZPHgwBw5c+CQSgClTppCfn297JSVd+Ah4R2m8zBc8lcBsquj1czEKJXiqa3+gpPXvOnbL7OjBAPQ6JVExFfPtqDzMhEaUkplW+xfD5bFnJKk5k+ZJVJz9hXCT5joyU5zcCGKxoF50Bo8/iyl9MRJLuP36FTrrv6Hl/CNACVT1z3v2M4Xh4oWUJ/RYgl3zNIne92aTn+3B3+sr7moc3euDQa+gc4+KceJRzcsIi9JzcKc7xuhbSJiTzFU35zPxnjgykqpv1FAoAIXFLcdWud73nCE/29M2KeHFxLUvASDHjQ135bTeJiKb6S4aS1x7ayNnTqY77iNYSJh9dj+4t8UF+8FnC8MY0as1I3tXvADent6E+eOauiHeCudu14wkNWfSPYlqXkm9lVz3ew+WK7/r5uyXcJ+a5E/g3BzqXCoPC56elgv2B5PZOmdMOS8fI7Pf24vRoGBmgqt6KVgYMfEA8ddn8syI/5GRan+hWD5f3vk9kExmha139bnycjSUlXpwbe90DHoVu7bW7tATrbeJiBhrXbTqrXBG9m7HEzdXvADemRnN/KebOfcPWyzWhqUtReTPicIcXv35zuOEtY40nz8xt0KBOcQDNEo0mwoxNfLAGHfxvMDjRNmF63CSi53nvX1NzP3kMEa9kulD3duDujI1uQaob6z5X+1eW6UnacjJ9KTzVRW9N719jbTuXMShXX4X/V5cuxJMJlw+euV85+d63r4m5q44hsGg4PkhcW7dX6u7nrZt6x7nbmsTbToXcXBn7T5w6N+Q/Mlxbu+5pFaradHCegfh8ssvZ9u2bbz++uu8/fbbF5TVaDRoNM65+/7XukDuH5VKVqra2o2vfQkDhmXwyyprq7nGy8QDo9LYui6QnExP/IOM3DY4k0Zhen7/4eJPTHGGwaOOsP2PRmSle+HlY6TnzWl0vDyHaaMuByAoREdQiI6IaOtFbrMWRZSWqMhM11JUoKa02IMfv4ziocePkZWhJTPNi7setj4SdPM6181vADBkcirbNviTleKJl6+Z6/vn0im+iKkPxgEKvljSmEHj0zlxwIsT+73odU8O0XFlzH6smVPj0CzKxmNDEaXPh4GXomJ8v48SNErM0Z6YIz3QvnEG3fBgLH4qPLYUo9pVStkM6zZSHipDdUSHqb0Wi68SZZoR9Uc5mCM8MLW1NtJ5rC0EDwWmFtaLTI8/ivH4pRDdGOeP1bc+kjabtV+E2E3aV1KoYs1nITw2LZnCPA9KipQ8MSOJA9t9av1JcWAdCnf9gFymD4mltEhpG1NdXKhCX6YkvKmO627PY8cmP/JzPGgcYeDeUZnoS5X8/evFT+quZN22Zy7YthFNy7i+fw5/rw+gMM+D2DYlPPZcEnu2+nHyUO3ewQYY/mwyW9cFkJmsJiTMwKDxaZhMCjZ+HUREjK4i1lwVsW1Lefz5ZPZs9eXkwdqPddTcZK7vn8v0R5tXuh/kZnlWOiFtZoqnQw2SzlTVdgUFXywOY9D4VE4cPFtv3Z1DdIsytzz2V4hyNcmf4N/lUFpvE5FNK3rkhjUpo3mbIgrzPchK07Ln7wAeffoEujIlmakaOl6Rz423Z/Lui9ZjxMvHyJz39qLRmnl5Uhu8fU14+1obevJzPJ32CPInJh/kupvTmDWuC6UlHgSFWBs8ios80OtUJJ/yIeW0N6OmHuD911pRkK8mvmcmXbplM2NMV9t6br03kYN7gigtUdGlWzaPjjnM0jdbUVzk2ovKYVOT+WtdAJkpaoLDDAwal2qti74JIj/nYnWm2ul1ps/iTDS/FVIwNRKLlxJF7tkcytuaQynT9Gg2FaL/n481fzqlw+e9LAztvTDFVsTi9VUO+q4+oAD1liK8vsyhcGIkqKz/3ppf87F4KDA1t+ZU6i2FaNYVUDQ67MKg/qWLnee9fU3M+fgwWi8zLz3VHG8/M95+1oac/GwPp+2bjqo6j7bOFxQUaiCymbXnbGybMkqKlWSlqCnMc+1lndbbRGRMxQiIsGgdzdsWW+uBVA2+AUZCI3WEhFnP91HNrWVzszzJPaMmPLqMa2/NZufvgeTneNAoXM+9I1LRlykv+kAlV8X69Yfh3D8qhZRTWjKSNQwam0x2hpo/f7H2tGzTpZA2nYv4Z4s/pcUq2nYt4rGpiWz4uhFFBa7dzlXlJNaGpaNovMy89GQc3n4mvP3O1qVu2F+ru54GBavfD+OB0amkntSQnqTh4fEpZGdWbGtRvXnz5vHVV19x6NAhvLy8uOqqq3jxxRdp3bqix2rPnj3ZtGmT3fcef/xxlixZYnt/+vRpRo4cyYYNG/D19WXw4MHMmzcPD4+KfXrjxo2MGzeO/fv3Ex0dzbPPPssjjzzicKxub1w6n9lstpsTwFXeej6Gh8enkDArkcBGBrIz1Py0ojHLX488G4eC6Bal9Lr7DP5BRgrzPDjyjw9P39OGxKOu7cYXGKRn/My9BDfSUVzkyamjvkwbdTm7/7IeqH3vSuKhx4/byr/0/t8ALJjegXXfWef/+OD11phNSsbP3ItGY+LwvkCeGXEFRYWuTYwCGxmZ8HoiwaFGSgpVnDyoZeqDcez83dposPq9UDw1FkZMT8Ev0MSJA1qmPBDn9CE7nt9bW8i9J6bZLS8b1xhjbz/wUFA6KwLNB9lon89AUWrGHOmJbnxjTFeevRDXKFH9UYz641wos2AJVmH6nxf6Z4JAXVF5qz/NRZFhBBWYo9WUTQnFdI3zG3W6XF1IWJSeXz67sNvw2zOjsZiTmfb2cTzVFnZs8mfhs+7p/XHbI9bu7K98ddxu+Stjolm7Khi9TkmHbsUMGH4G3wATeWc82LvVh7F3tKj1u0HlulxdYN22q+wbBQ0GBZ17FND/0XS0Xmay0tT88VMQn77pnrHtjSIMTFl4Cr8gI/k5Huz/25cxt7cmP8cTtUZPl2sKGTAs0xbr5p8C+fT1iOpX7AK3DT67H3x5zG75K2OjWbuqbj16tqrtCrD6/VA8tWZGPJ98tt7yYsoDLd06j1VNOfsxuuXrFHWHK/Onlu0LeXFZxWPvH5t8AoC1q8NYMLU1Lz7dlkfGnmTCS4fwCzCSmarho9eb8eNn1vqnRbsi2lxm7V37wZptdut+pNeVZKY6p1d1v3usvbFefNf+b5TnRyajkulPduWR0Ud4bsEuvLxNpCZ58erzHdn+R0X936p9AQ89fhwvbyNJp3xYOKc9G350fb3fKELP5IUn8Qs8Wxdt82Vs/za2uqi2eP2UD0DgM8l2ywufCkPXKwA8FKh3l+D1bS6KMgvmRh7orvKl9D77m6+eO4rxWpWDwmDBGKuhYGoTDP+z71Ht/VkOqkwDFpUCU5SawokR6Hs4/0bTxc7zLToU256s++Hv9sO0B/foREZy7dbz1eXR/QadYdD4DFv5+aut59jaOLe27FjMS58etL1//NnTAKz9ohGvToyje69cxr98wvb5lDetsX3yehOWvx5lzf+uKKT/kHR8/U3knfFk3zY/xt3t/Llsq4v187cj0HqZeXLuSXz9jezf7se0Ia1tPSoNeiXX3ZrNQ0+lnB19oWH1h+F28zC5SlU5Saf4Qtp2tXYuWPqH/dNBH+7evtb31+qupwE+XxKO1tvMk/NO4etvYv92P559uFWd6yFYFWfnUDXNnzZt2kRCQgJXXHEFRqORZ555ht69e3PgwAF8fCrq1OHDhzNz5kzbe2/vipvLJpOJfv36ER4ezp9//klaWhoPP/wwnp6ezJ07F4CTJ0/Sr18/RowYwfLly/n1118ZNmwYERER9OnTx6FYFRaL+x6GN2XKFPr27UvTpk0pLCxkxYoVvPjii6xZs4abbrqp2u8XFBQQEBDA9Z734KFw/xCV6qgaubbHkzMZ0zOqL1RHFP0U6+4QHOZ362l3h+Awi9Ho7hAcpvCsP8OTACwmk7tDcJyrZ7B1JkX9SFSMFgMbzV+Rn5+Pv79/9V/4F8rPk62WT0bl7dyk01Si48hDL9TK7xD2/m3+BBX7xo2Bg/BQ1P06VOFVf+bnMGWdcXcIDstaXX96YDa+85S7Q3CYxVh/noSldNKoEHEhs77+7AcKlWum9HA2o8XABsPn9TqH+rf5U1ZWFqGhoWzatIlrr70WsPZc6ty5M6+99lql3/npp5+49dZbSU1NJSzM2jt0yZIlTJo0iaysLNRqNZMmTeKHH35g3759tu/df//95OXl8fPPPzsUm1sz8czMTB5++GFat27NjTfeyLZt22qUGAkhhBBC/NdI/iSEEELUbwUFBXYvR3sf5+dbe5cGB9t3XFm+fDmNGjWiQ4cOTJkyhZKSEttnW7ZsoWPHjraGJYA+ffpQUFDA/v37bWV69eplt84+ffqwZcsWh3+TW4fFvf/+++7880IIIcR/gsXi/Effuq/fs5D8SQghhKgdzs6hyvOn6Gj7J0A+//zzTJ8+vcrvms1mxowZQ48ePejQoYNt+YMPPkhMTAyRkZHs2bOHSZMmcfjwYb766isA0tPT7RqWANv79PT0KssUFBRQWlqKlwM9iOvcnEtCCCGEEEIIIYQQDVVSUpLdsDhHHrqRkJDAvn372Lx5s93yxx57zPb/HTt2JCIightvvJHjx48TFxfnvKCrIY1LQgghRAPnikffNuRH6QohhBBCgPNzqPJ1+fv712jOpVGjRvH999/z22+/ERUVVWXZbt26AXDs2DHi4uIIDw/n77//tiuTkWGdYzk8PNz23/Jl55bx9/d3qNcSuHnOJSGEEEIIIYQQQghxIYvFwqhRo1i9ejXr168nNrb6h1nt3r0bgIgI6xMO4+Pj2bt3L5mZmbYya9euxd/fn3bt2tnK/Prrr3brWbt2LfHx8Q7HKo1LQgghRANncdFLCCGEEKIhc3f+lJCQwCeffMKKFSvw8/MjPT2d9PR0SktLATh+/DizZs1ix44dnDp1im+//ZaHH36Ya6+9lk6dOgHQu3dv2rVrx6BBg/jnn39Ys2YNzz77LAkJCbbheCNGjODEiRNMnDiRQ4cO8dZbb7Fq1SrGjh3rcKzSuCSEEEIIIYQQQghRxyxevJj8/Hx69uxJRESE7fXZZ58BoFarWbduHb1796ZNmzaMHz+eu+66i++++862DpVKxffff49KpSI+Pp6BAwfy8MMPM3PmTFuZ2NhYfvjhB9auXctll13G/Pnzee+99+jTp4/DscqcS0IIIUQDJ3MuCSGEEELUnKvmXHK8fNV9naKjo9m0aVO164mJieHHH3+sskzPnj3ZtWtXjeI7lzQuCSGEEA2dK8axybg4IYQQQjR0zs6hGnD+JMPihBBCCCGEEEIIIcQlk55LQgghREPngmFxyLA4IYQQQjR0zs6hGnD+JD2XhBBCCCGEEEIIIcQlk55LQgghRANnsVhfzl6nEEIIIURD5uwcqiHnT9JzSQghhBAuNW/ePK644gr8/PwIDQ2lf//+HD582K5Mz549USgUdq8RI0bYlTl9+jT9+vXD29ub0NBQJkyYgNFotCuzceNGunbtikajoUWLFixdutTVP08IIYQQ4j9PGpeEEEKIBq78MbrOfjlq06ZNJCQksHXrVtauXYvBYKB3794UFxfblRs+fDhpaWm210svvWT7zGQy0a9fP/R6PX/++SfLli1j6dKlPPfcc7YyJ0+epF+/flx//fXs3r2bMWPGMGzYMNasWfPvN6IQQggh/nPcmT/VNzIsTgghhGjoLArnTyBZg/X9/PPPdu+XLl1KaGgoO3bs4Nprr7Ut9/b2Jjw8vNJ1/PLLLxw4cIB169YRFhZG586dmTVrFpMmTWL69Omo1WqWLFlCbGws8+fPB6Bt27Zs3ryZBQsW0KdPn0v4kUIIIYT4T3N2DiWNS3WbxaDHoqj7gxeN6RnuDsFx9WgwqG/fk+4OwWFjjh5wdwgOW9CirbtDcJjFaHB3CA1XPaoLsJjcHYFj6kucDiooKLB7r9Fo0Gg0VX4nPz8fgODgYLvly5cv55NPPiE8PJzbbruNadOm4e3tDcCWLVvo2LEjYWFhtvJ9+vRh5MiR7N+/ny5durBlyxZ69eplt84+ffowZsyYS/15DZ6poBiFQu/uMKqXX1B9GVFjjQeccHcIDpt8eKe7Q3DYvLhO7g7BYZb6dJ4HMNWjc6jF7O4IHGYx1o9YLRbJ+euyBtG4JIQQQoiLc+WE3tHR0XbLn3/+eaZPn37R75nNZsaMGUOPHj3o0KGDbfmDDz5ITEwMkZGR7Nmzh0mTJnH48GG++uorANLT0+0algDb+/T09CrLFBQUUFpaipeX1yX9ViGEEEL8N8mE3o6TxiUhhBBCXLKkpCT8/f1t76vrtZSQkMC+ffvYvHmz3fLHHnvM9v8dO3YkIiKCG2+8kePHjxMXF+fcoIUQQgghhFPJhN5CCCFEQ2dx0Qvw9/e3e1XVuDRq1Ci+//57NmzYQFRUVJUhd+vWDYBjx44BEB4eTkaG/fDy8vfl8zRdrIy/v7/0WhJCCCFEzbkof2qIpHFJCCGEEC5lsVgYNWoUq1evZv369cTGxlb7nd27dwMQEREBQHx8PHv37iUzM9NWZu3atfj7+9OuXTtbmV9//dVuPWvXriU+Pt5Jv0QIIYQQQlRGhsUJIYQQDZwrHn1bk/UlJCSwYsUKvvnmG/z8/GxzJAUEBODl5cXx48dZsWIFt9xyCyEhIezZs4exY8dy7bXX0qmTdWLc3r17065dOwYNGsRLL71Eeno6zz77LAkJCbbeUiNGjGDhwoVMnDiRRx99lPXr17Nq1Sp++OEHp/52IYQQQvw3ODuHcnY+VpdIzyUhhBDiv8CNXboXL15Mfn4+PXv2JCIiwvb67LPPAFCr1axbt47evXvTpk0bxo8fz1133cV3331nW4dKpeL7779HpVIRHx/PwIEDefjhh5k5c6atTGxsLD/88ANr167lsssuY/78+bz33nv06dOn5ttLCCGEEAJkSJyDpOeSEEIIIVyqukddR0dHs2nTpmrXExMTw48//lhlmZ49e7Jr164axSeEEEIIIf4daVwSQgghGjh3D4sTQgghhKiPZFic42RYnBBCCCGEEEIIIYS4ZNJzSQghhGjoXDHOv4HPGyCEEEII4fQcqgHnT9JzSQghhBBCCCGEEEJcMod6Ln377bcOr/D222+/5GCEEEII4QqKsy9nr1NUR3IoIYQQoj5zdg7VcPMnhxqX+vfv79DKFAoFJpPp38QjhBBCCGeTYXFuIzmUEEIIUY/JsDiHOdS4ZDabXR2HEEIIIUSDIzmUEEIIIf4L/tWcS2VlZc6KQwghhBCuYnHRS1wyyaGEEEKIekDyJ4fV+GlxJpOJuXPnsmTJEjIyMjhy5AjNmzdn2rRpNGvWjKFDh7oiTpdb9tcBwqMNFyz/dmkIi56JckNEFW59+Az9Bp0hLFoPQOIRLcsXhLN9gz9+gUYGjU+n63WFhEbqyc/x4M+fA1j2cgQlhSq3xNuhWxH3PJFFy44lhIQbmf5oM7b8HFBp2SdfSKbfw9kseS6S1e81rtU47xuVQY++eUS30KEvU3Jguzfvz40k+bjWViYiRsfwaam0v7IIT7WFHRv9WfRsE/LOeDo1ln+WB7JnRRAFydb1hrTU0W30GWKvKyY/2ZMPerao9Hv93kim1S2FlOaq+GlcJGcOayjLVeEVYiKuVyE9xmeh8bvwrnnKDi8+fzCGRq10DPzupFN/C1S9D6g8LDwyKY0rbigkIkZPcYGSXb/78f7cCHIynLtdHVHV8VWu7eXFPDIpjTZdSjCZ4MR+L555KA59We0+E8GRWK0szP74BFfcUGjd9msCazVOqL4eGL/gNL3vy7X7zvYNfkx9qHlth2qtC27Jt68L5kTY1QVPvphEl2uKCAkzUFqi5OB2H96fE0HSMW0VaxbCXkPIoW4dlEW/h7MIiyqvh7xY/lo42zdYj2/reTOZ9lcU46k2W8+b06Kdft50hCPneag/dXzfh85wff9cWnQsxcfPzJ1tO1Bc4J4HPw8cm8rAsWl2y5KOaRh+QwfAuh8Mm5pM+yuKrPvBpgDees75+8HO5cHsXB5CfooagEYty7h6VCZxPQsBWP5gc07/5Wv3nS4PZHPz7BQA9nwRxA+Toitd95N/7cenkYnDa/zZuTyEjINemPQKGrUs45onM2h+bZFTf0tl6vL1iVJpYeCYFG7of4agxgayM9Ss+7IRK96MpHxOGa23iUcnJRF/Uy7+QUbSkzR8szScH1eE1nq8IWF6hk5J4X/X56PxMpN6SsOrTzfj6B4fwLpPX3dbDo0jDRgMCo7t9WbpS004vNunVuOsrt4Ki9Lx0V8HK/3u7Meb8fv3gXUmVnvuz02F69X4jDRnzhyWLVvGSy+9xPDhw23LO3TowGuvvVYvEqPKPNm3FUpVRTNiszZlvPDZCX7/LtB9QZ2VlebJB/MiSTmpQaGwcNM9uUz/4CQJfVqBAkLCDLw7K5LTR7SERul58oVkQsINzH4s1i3xar3NnNivZc2nwTz/wamLlrvq5nzaXF7MmTT3JEaduhfx3bJGHNntjcoDHpmcxtwVxxnesw26UhUaLxNzVxznxAEvJt1rbdwZPCGNmUtP8tRtLbFYnDcZm2+4kasnZBLYTA8WBQe+CuDbEdE89M0JguP0PLbliF35vSuD2P5eMM2usyY2CqWFuF6FXDUuC+9gI3mJatZPD6csX8UtC1LtvltWoGTN05E0jS+mJNs1276qfUDjZaZFx1JWvBbGiQNafANMjJyZyoylJxndt5VL4qlKVcdX4hEv2l5ezJxPjrNyYRhvPdsEk0lB83alWNww0qW6WMsNGJ6Fxc13RRypB7at92P+2Iqk3qB3zwSHneKL+W5peV1gsdYFn55g+HWt0ZVaG+mP7vFm/VdBZKWo8QsyMnB8BnM/PcHgbm0xm+vBxIwWhfXl7HWKGmkIOZS1HmpirYeAm+7JZvr7J0i4uQ3pSWrmLj/KiYNeTLqvJQCDn05l5tLjPHVba6eeNx1R3XkeqFd1vNbLzPaN/mzf6M/QZ9KqX6GLnTqsZcqDFedtk9H676vxMjHnkyOcPODN5Putnz/8dAozPjjGmDvaOHU/8As30HNCOsHNdFiAfV8G8cWIGB799iiNW+kA6HxfNteMzbB9x1Nb8Y/b9tY8ml9XaLfO7ydEY9Ir8GlknQPt9N8+xPYo4rqn09H6mdjzZTCfP9aMwV8eI7y9a3sg1uXrk3tGpNHvoUzmP92cxCNetOxUzLiXTlBcqOKbpeEAPPbsaTrHF/Dy2DgykjV0vTafUTNPkZPpydZ1QbUWq2+AkVe/Osw/W/x49uGW5Od40KSZjqL8ijw4+YSWt55rStppDRqtmQFDM5j7yREevbYD+Tm11zheXb2Vlarm/s7t7b5zy0PZ3D0yk23r/WotTkdiPVddyE0vmbNzqAacP9X4yvKjjz7inXfe4cYbb2TEiBG25ZdddhmHDh265EBeeOEFpkyZwlNPPcVrr712yeu5VPk59pvivlGZpJ5Us2dL7bZWV+avtfa9fpa+GMGtg87QpmsJa1aGMOucRqS0RA1LX4xg4huJKFUWzKba33m3b/CvpCeFvZBwA0/MTmHqg82Z+fGJWorM3tSBcXbv549pyqq9+2jZqZR9f/nS/opiwqL1JPRpTUmRtYJ8eUwMXx7YS+eri9j1u/Mq8Lgb7e9+9RifxT8rgkjf7UWjVnp8GttP8nrsFz9a9S1E7WOtpbUBZi57KM/2uX8TI5c9lMv2d0Mu+Fu/Tgunze0FKJQWjq9zzUmoqn2gpFDFlPvtt/2iqU1486ejNG6iJ+vs3cfaUtXxlXjEi8enp/D1B41ZtSjMVqbyOzKuV12sAM3bl3DX41mM7tuKlbv3uyNMwLF6wKBXkJtV+70Zznd+b6n5Y5qyat9+W10A8NPyimMpI1nNshfDWfLrEcKi9aQlamo1XlF/NYQc6q91gXbvl77UhFsfPkObrsWEhBus582b21acN8c248v9/9C5RyG7NlddJzhbded5oF7V8avfs/b26BRfWNnXa53JWHkd3v5/xYRF6RnVt51tP3hlXCxf7N3t9P2g5Y322+K6pzPYuSKE1N3etsYlDy8zvo2NlX7fU2vBU1vxWUm2isStPtwyL9m27KZp9g15PZ9O5+g6f46t93d541Jdvj5p17WQrWsD+XtDIAAZKRp63pZN68uKzylTxLqvGrHnL+u/+U+fhnLLA5m0vqy4VhuX7hmZTlaamlefbmZblpFkf+7e+E2w3ft3ZkVz8wPZxLYtZfcftZerVFdvmc0XHndX9c3nt+8CKSup3VErjtSxUHdyU+F6Ne7vm5KSQosWFw7RMZvNGAwXdtt0xLZt23j77bfp1KnTJX3f2Tw8zdxwVy5rVgZT1x4VqFRauO72XDTeZg7uqPzE4uNnoqRI6ZaGJUcoFBYmvnGaLxY3JvFI3RlS4uNvbcApzLNWzJ4aC1jse1MYdAosZmh/heu6QptNcPh7f4wlCiK6lF7wecY+LVkHtXS4N++i6yjK8ODYGj+iriyxW77/iwDyk9R0H53l7LD/FR9/E2YzFOe7ZyhnufOPr4AQA227lpB3xoMF3xxh5e59vPzFUZf++19qrAAarZnJCxNZ9ExUnWi0qU6n+CI+27Of934/xOh5yfgFVZ7817bz64LzabxM9L4vh7RENVmpdX87A1gsrnmJmmloOZS1HspB42WthzzV5oufN690f715/rFd3+r4uqZJrI7l2/bw4ea9THz9JI0jrcP5PDVV7Acuzp8OfBeAoVRJky4V+c/+b4N47X/tePfmVmx8ORxD6cXz472rg/DUWmjTN/+iZSxm0Bcp0QbU7tMd69r1yYGdfnTuUUCTWGuuGtu2hPZXFLJtY8A5ZXzpfmMeIWF6wEKn7gU0iS1jx++129Dc/aZ8juzxZuri46zc+Q8LfzzAzQ9cPBf28DTT98EsivJVnDjgXYuRXqi6nKRFxxJadChlzcoLbyjXtspirW+5aWUkf3JcjXsutWvXjt9//52YmBi75V988QVdunSpcQBFRUU89NBDvPvuu8yePbvG33eFq24uwNffxC+rgqsvXEuatSnltW+PotaYKS1WMnNYLKePXtgw4x9k5MEx6fy0vJEbonTMvQmZmEzw9ft1J0aFwsKIGSns+9uHxMPWHiCHdvhQVqJk6NRUPpwXCQoLQ59JQ+UBwWHOvwg+c1jDynuaYdQpUHubuW1xMiEt9ReU27cqkOA4HZFdL2x4+nFMJMfX+WEsU9L8hkJumldxty33lCebXw7l3pWJKN0zErFSnhozQ6emsfHrQNsdztp2seOrTVfr3bdB49N5d2Ykx/d70eueXF747DiP39iG1JO132Olqrrg8RkpHNjuw5ZfKp/jrC7ZvtGPP34KIP20mohmeoZMTmPOJycYc1tLtw4zq6gLvG11QblbB59h2LNpePmYSTqmYcr9zTEaandOlkvmigkkG3By5CoNJYdq1qaU1745fLYeUjFzeHNOH/UiP9vDet58JoUPX2hy9ryZaj1vhrq38biy83xEjPUcW1/q+Lrk0C4f5o9vRvJxDcGhBh4ak8YrXxxmxE3tOLTTmj89OiWFpS9a94NHJ6ec3Q8urRG1KpmHtXx0dxxGnRK1t5k730qkUUtrr6V2t+UR0ESPb5iRzENaNr4UTvYJDXctTqx0Xf98Hky723Px1F68gvvr3cboS5S0vSXP6b+lKnXt+mTV4gi8fU28u24vZpMCpcrCslei2PBNRX6/eHoMT849yfKtuzEaFJjN8Pozsez7u3YblyKiddw6MIuv3gtj5cIIWl1WzMgZSRgNStZ9UdEoc+WNeUxZeBKNl5mcTE+eeaglBbnuS5orq7fOd/MD2SQe0XBgu3sboS8Wa33KTS/K2TlUA86fany0PPfccwwePJiUlBTMZjNfffUVhw8f5qOPPuL777+vcQAJCQn069ePXr16VZsY6XQ6dDqd7X1BQUGN/54j+jyQzbYN/m6ZXPhiko9reKJ3a7z9TFzTL4+nX0tkwl0t7RIOb18Tsz46wekjWj6eH+7GaC+uRccS+g87Y50vqg7cdSk3am4yMa1LGT+gpW1Zfo4Hsx9vxuh5ydzx6BksZtjwTRBH93i5ZC6GoFgdA789ga5IxdGf/FgzIZJ7ViTaNTAZyxQc/s6fbglnKl3HdVMz6D76DLkn1Wx+JZRNc8K4cWY6ZhP8NLYJ3Z/KIij2wgYrd1F5WJj6diIo4M3J7puY8mLHl/Jsu8GPn4Twyypr8nF8vzedexTS575sPnwhss7EGtlMR+cehTzRu3Wtx3QpNn1T0R3+1CEvTh7QsmzrITpdVcTuzbU7Z8C5Rs1NIaZNGeP7X9i7ZP1XQez8zY/gUAN3j8xi6tuJjL2jBQZdPWlgEm7XUHKo5OManujTBm8/M9f0y+XpBYlMuLslp496MXtEc0bPPc0dj2adPW8Gu+y8WROVnefrUx1f1xqYtp/TO+XkITi024eP/tzLtbfmsuazRswZGceouYncMSQTixk2fhvM0b3emF2wH4TE6nj0u6PoClUc/jmA7ydGM3DFcRq11NHlgRxbudDWZfg2NvDpoDhyE9UExdjnQ8k7vck+puW2V5Iu+rf2fxvI5jfDuOvtU7Y5mWpLXbs+ubZfDjfckc2LT8WReNSLuHYlPD4tkewMT9Z9ZX1Iz+2DM2jbpZjnh7UkM0VDhysLSZhxipwMT3b9UXuNDQqlde7EpS81AazHebPWpfR7KMuucemfP/144ua2BAQb6fvAGZ556wRP3dGG/Gz3bPPK6q1zqbVmru+fy4rX3X/dV1ms3W/Kr1e5qfj3aty4dMcdd/Ddd98xc+ZMfHx8eO655+jatSvfffcdN910U43WtXLlSnbu3Mm2bdscKj9v3jxmzJhR05BrJLSJni7XFDFrWDOX/p2aMhqUpJ6y3kE7tteb1p1L6D8sizfOPuHCy8fEnOXHKS1WMmNYrG1SxbqmY7diAhsZ+WTbAdsylQcMfz6V/sOzGNytXa3HlDA7mW69Chh/ZwvOpNnP97PzN3+G9GiHf5ARkwmKCzz4dNc+l8yxolJDYDMDYCCsQxnpe73YtSyYXrPTbWWO/OSHoUxJ2wGVd9f2aWzCp7GJ4Dg92kATq+5vRrdRZ/DQmsnY60XmAS0bZlhPQBYzYFHwWus23Ln0NE3jSypdp6tYG5ZOEdZEz8R749zWawkufnx9ttA6v8X5wzeTjmkJbeL8u6+OuFis+jIFETF6vjq41678tHdPse8vHybeU3liUlekn9aQl60ispme3ZvdE0PCnGS63VTA+AFxF9QFYJ0vrKRQRepJDYd2evPlwf306JvPxq9rb96ISyYTetcJDSWHstZD1nrx2F5vWl9WQv+hWbwxuan1vHl1B/vz5s49pJ1239xkFzvPZ2dY0+D6UMe/cZEnmtUVxQUepJzUEtnM2oC583d/Hr2mo91+sGL7P6Sfdn59qVJbCG5mbSiK6FhK2h4vti1tRN85KReUjexszXUqa1z6Z1UwYe1Kieh4Yc9wsA65+3FKFAMWJhLbo3aHTtbF65NhU5JYtSSCTd9bG2dOHfYmtImO+55IY91XjVFrzDzydDKzRrS0zct08pA3ce1KuGt4eq02LuVkel7QQHv6qBc9+ubZLdOVqkhLVJGWCId2+fL+pn3cfP8ZPlsUUWuxlqvq+qTcNf3y0HhZWPe5e3uzXSzWzlcX1uvc1EYm9HbYJfXzu+aaa1i7du2/+sNJSUk89dRTrF27Fq3WsbsxU6ZMYdy4cbb3BQUFREc792Tb+/4c8s548Ne62u2uWVMKJda5DbD2WJqz4jgGnYLnH2lep++ir/syiJ2/2z8Sdu6KE/z6ZRC/fFbbFaOFhNkpXHVzPhPuaXHBxH7nKu8Se1mPQgIbGdm6thb2DzOYznt61v7PA2l+QyHeIdXfLSu/S2x94omZQT/aT5z+zydBJG315taFKQRE1W5vpvKGpSaxeibeHUehG7scV6b8+MpIUnMmzZOoOJ3d502a69i+wX29a85VHuvHr0Ty0wr78fbvrD/M29Ob1M7++i81itDjH2QiJ9Md+4KFhDln64K7q64LyikUgMKCp7oB920WLtEQcyiF0mLLSWzrLz9vXnX2vOmWIRFVn+frUx1f12m9TUTE6Pj1K/seHhX7QcHZ/CnQ5bFYzIoL8qdymQesw3V8zxumqS9WcujHAK57Or2yr7H/20B+nBzFHa+fpsX1tT+hel28PtF4mS7oiWY2KVAoredFD0/rOfLCMtjK1JYD230qOc7LyEyu+iEy1rqtts/zjl+f9Lk/m61r/S+Y+L32VB3rZwvD6nVuKmrukvfE7du3c/DgQcA6h8Dll19eo+/v2LGDzMxMunbtaltmMpn47bffWLhwITqdDpXKvieDRqNBo3HdnS+FwkLv+3JY93lQnZoMe8jkVLZt8CcrxRMvX2v3x07xRUx9MA5vXxNzPz2ORmvmpdGxePuZ8PazNjzkZ3u4Ze4SrbeJyHOGXoVH62nevpTCPBVZKeoLGhKMRgW5mZ61/nSWUXOTub5/LtMfbU5pkZKgxta7lMWFKvRl1ga63vdmc/qYlvxsD9peXszImSmsfrex02Pd/HJjml1XhF+kEUOxkkPf+pP0lzd3fljRNTvvlCfJ27wZ8N6F3bVPbvSh5IwHYZ3K8PQ2k31Uw+8vhBJ5eQkBUdbf1aiV/UnVO8SIh8ZywXJnqGofyMnwZNq7p2jRsZTnHo5FqbLYtn1hnqrW57Cp6vgCBV8sacyg8emcOODFif1e9Lonh+i4MmY/1qxW46wu1twsz0onSsxM8XSoscTZqtoHCnNVDByfweYfAsjN9CSimY5hz6aRelLNjo21f0E3am4K1w/IZfqQ2ErrgvCmOq67PY8dm/zIz/GgcYSBe0dloi9V8vevdeMCtDoKi/Xl7HWKS1Ofc6ghk1PO1kPqs/VQjrUeesg6lNT+vFnEyBnJrH43lOQTtT+sq/rzfP2p4wGCGhsICjUQebaXTmybMkqKldbcKq92Ly6HTU3mr3UBZKaoCQ4zMGhcKiaTgo1nhzzfdM8Zko5pyc/xpG3XIkZMT2L1e87fDza+HE7z6wrxj9SjL1Zx4NtAEv/y4f6lmeQmqtn/bSBxPQvxCjKSdciLdXMiiL6yiNA29k95O/hDAGajgg79cy/4G/u/DeT7CdH0mpZKZOcSirKs29pDa0br5/qGv7p6ffLXr0Hcn5BKVqqGxCNexLUvZsDQdH753DokrqRIxZ6tfgybkoS+TElGioZO3Qq48c4zvDO7aa3Guvq9MF5dfYj7EtL47fsgWncu4ZYHz/D6ZGscGi8TD4xOZ+vaAHIyPfEPNnLbw1k0CjPw+w+12zvZkesTgMhmOjp2L2baoOYXW5XLVRdrXctNL5Wzc6iGnD/V+EyUnJzMAw88wB9//EFgYCAAeXl5XHXVVaxcuZKoKMfmTbnxxhvZu9e+i9yQIUNo06YNkyZNuiApqg1dri0iLMpQJ2bbP1dgIyMTXk8kONRISaGKkwe1TH0wjp2/+9EpvpC2Xa1dfJf+edDuew93a0tGcu0fuK0uK+XlL4/b3o+YkQrAL58FMX9s7Z5MqnLb4GwAXvnymN3yV8ZGs/bs3AtRcTqGTEnDL9BERrKaT98I46t3Gjs9lpJsD9ZMiKQ40wO1n5lGbXTc+WESMVdXPM513xeB+IUbibmm+ILve2gs7P0skE1zNBj1CvwiDLToXcgVI7KdHqsjqtoHPpkfTnwf61wfi9cdsfvehLvi2LPFvmebq1V1fAGsfi8UT42FEdNT8As0ceKAlikPxLnl8fPVxVqXVLUPvDkliti2pdx0Ty4+/iayMzzYucmPZS+FY9DXfs/L2x45Wxd8ddxu+Stjolm7Khi9TkmHbsUMGH4G3wATeWc82LvVh7F3tHDbPAyifmoIOVRgIyMTXkskONRwth7yYupDLdh59ulPUXFlDJmccs55M5yv3g11WTxVceQ8X5/q+H6DzjBofIat/PzVxy74PbWlUYSeyQtP4hdoJD/Hg/3bfBnbvw35OdY6MSqujCGTKvaDlW9G8NV7zt8PirM9+P7paIqyPND4mgltU8r9S08Se3URBamenPrTl21LG2EoUeIfYaB1n3x6JGResJ5/VgXTqk8+Wv8LG4t2rwzGbFTwy/NN+OX5JrblHe/M4daXk53+m85XV69P3poew8PjkkmYdYrAEAPZGWp++jSU5W9UzFU2b3QcQyYmM/G14/gFGslM0bDslSh+WF67dcKRPT7MfCyOIZNSeOipNNKTNCyZEcWGr63b1GxWEB1XRq+7s/EPMlKY58GRf7x5+u7WJB6pfCJtV3Gk3gJrr6UzaZ7s2OS+HNDRWMV/h8JiqdnD8G6++Wby8vJYtmwZrVtbJ+c6fPgwQ4YMwd/fn59//vmSg+nZsyedO3fmtddec6h8QUEBAQEB9OQOPBT1IMFX1J27DdWqT89IrEfbdezRA9UXqiMWtGjr7hAcV4/2gXqnPtUF9YTRYmAj35Cfn4+/v2u7hZefJ6Nfm4nSy7k9BsylZSSNea5WfkdDUSdzKOWd9SOHcveM4A2Uwg03cy/V5MM73R2Cw+bFdXJ3CA5TuHBUiEuYanci9X/DUo9irS+MFgMbLV/X6xyqIedPNe65tGnTJv78809bUgTQunVr3nzzTa655hqnBieEEEIIJ5AJvesEyaGEEEKIekYm9HZYjRuXoqOjMRgufIKGyWQiMvLfPbJ148aN/+r7QgghhBB1leRQQgghhGioajy5xcsvv8zo0aPZvn27bdn27dt56qmneOWVV5wanBBCCCGcwOKil6gRyaGEEEKIekbyJ4c51HMpKCgIxTlzmhQXF9OtWzc8PKxfNxqNeHh48Oijj9K/f3+XBCqEEEIIUd9IDiWEEEKI/wKHGpccnRxSCCGEEHWQK+6UNeA7b84kOZQQQghRjzk7h2rA+ZNDjUuDBw92dRxCCCGEEA2O5FBCCCGE+C+o8YTe5yorK0Ov19sta2iP0xNCCCHqPem5VOdIDiWEEELUA9JzyWE1ntC7uLiYUaNGERoaio+PD0FBQXYvIYQQQtQx5Y/RdfZL1IjkUEIIIUQ9I/mTw2rcuDRx4kTWr1/P4sWL0Wg0vPfee8yYMYPIyEg++ugjV8QohBBCCFHvSQ4lhBBCiIaqxsPivvvuOz766CN69uzJkCFDuOaaa2jRogUxMTEsX76chx56yBVxCiGEEOISKSzWl7PXKWpGcighhBCifnF2DtWQ86ca91zKycmhefPmgHVugJycHACuvvpqfvvtN+dGJ4QQQgjRQEgOJYQQQoiGqsaNS82bN+fkyZMAtGnThlWrVgHWu3GBgYFODU4IIYQQTmBx0UvUiORQQgghRD3j5vxp3rx5XHHFFfj5+REaGkr//v05fPiwXZmysjISEhIICQnB19eXu+66i4yMDLsyp0+fpl+/fnh7exMaGsqECRMwGo12ZTZu3EjXrl3RaDS0aNGCpUuX1ijWGjcuDRkyhH/++QeAyZMns2jRIrRaLWPHjmXChAk1XZ0QQgghxH+C5FBCCCGEqIlNmzaRkJDA1q1bWbt2LQaDgd69e1NcXGwrM3bsWL777js+//xzNm3aRGpqKnfeeaftc5PJRL9+/dDr9fz5558sW7aMpUuX8txzz9nKnDx5kn79+nH99deze/duxowZw7Bhw1izZo3DsdZ4zqWxY8fa/r9Xr14cOnSIHTt20KJFCzp16lTT1QkhhBBC/CdIDiWEEEKImvj555/t3i9dupTQ0FB27NjBtddeS35+Pu+//z4rVqzghhtuAODDDz+kbdu2bN26le7du/PLL79w4MAB1q1bR1hYGJ07d2bWrFlMmjSJ6dOno1arWbJkCbGxscyfPx+Atm3bsnnzZhYsWECfPn0cirXGPZfOFxMTw5133ilJkRBCCCFEDUgOJYQQQvw3FRQU2L10Op1D38vPzwcgODgYgB07dmAwGOjVq5etTJs2bWjatClbtmwBYMuWLXTs2JGwsDBbmT59+lBQUMD+/fttZc5dR3mZ8nU4wqGeS2+88YbDK3zyyScdLiuEEEII11PggqfFOXd1DZbkUEIIIUT95ewcqjx/io6Otlv+/PPPM3369Cq/azabGTNmDD169KBDhw4ApKeno1arL5i7MSwsjPT0dFuZcxuWyj8v/6yqMgUFBZSWluLl5VXtb3OocWnBggWOFEOhUEhi1FAo6tFlg6X+zCq7oGU7d4fgsKZ/ebs7BIed7l7i7hBEXaBUuTsCx1jMYK7tv6mwvpy9TlGtup5DKVQqFIq6f+xYjLV90PwLin89MKDWWMz1J4ea1+Iyd4fgsJA/At0dgsOyrylwdwg1ovTSujsEh1lKJD9tEJydQ51dV1JSEv7+/rbFGo2m2q8mJCSwb98+Nm/e7Lx4nMihxqXyJ5sIIYQQQgjHSQ4lhBBCiPP5+/vbNS5VZ9SoUXz//ff89ttvREVF2ZaHh4ej1+vJy8uz672UkZFBeHi4rczff/9tt77yp8mdW+b8J8xlZGTg7+/vUK8lcMKcS0IIIYSo41zxGN360+FBCCGEEOLSuDl/slgsjBo1itWrV7N+/XpiY2PtPr/88svx9PTk119/tS07fPgwp0+fJj4+HoD4+Hj27t1LZmamrczatWvx9/enXbt2tjLnrqO8TPk6HFHjp8UJIYQQQgghhBBCCNdKSEhgxYoVfPPNN/j5+dnmSAoICMDLy4uAgACGDh3KuHHjCA4Oxt/fn9GjRxMfH0/37t0B6N27N+3atWPQoEG89NJLpKen8+yzz5KQkGAbjjdixAgWLlzIxIkTefTRR1m/fj2rVq3ihx9+cDhWaVwSQgghGjpX9DSSnktCCCGEaOicnUPVcF2LFy8GoGfPnnbLP/zwQx555BHAOr+jUqnkrrvuQqfT0adPH9566y1bWZVKxffff8/IkSOJj4/Hx8eHwYMHM3PmTFuZ2NhYfvjhB8aOHcvrr79OVFQU7733Hn369HE4VmlcEkIIIYQQQgghhKhjLA48vEqr1bJo0SIWLVp00TIxMTH8+OOPVa6nZ8+e7Nq1q8YxlpPGJSGEEKKBU1ic+xjd8nUKIYQQQjRkzs6hGnL+dEkTev/+++8MHDiQ+Ph4UlJSAPj444/r7CPxhBBCiP80mdC7zpAcSgghhKhHJH9yWI0bl7788kv69OmDl5cXu3btQqfTAZCfn8/cuXOdHqAQQggh6rd58+ZxxRVX4OfnR2hoKP379+fw4cN2ZcrKykhISCAkJARfX1/uuuuuCx6Je/r0afr164e3tzehoaFMmDABo9FoV2bjxo107doVjUZDixYtWLp0qat/nsMkhxJCCCFEQ1XjxqXZs2ezZMkS3n33XTw9PW3Le/Towc6dO50anBBCCCGcwM09lzZt2kRCQgJbt25l7dq1GAwGevfuTXFxsa3M2LFj+e677/j888/ZtGkTqamp3HnnnbbPTSYT/fr1Q6/X8+eff7Js2TKWLl3Kc889Zytz8uRJ+vXrx/XXX8/u3bsZM2YMw4YNY82aNTXdYi4hOZQQQghRz0jPJYfVeM6lw4cPc+21116wPCAggLy8PGfEJIQQQogG5Oeff7Z7v3TpUkJDQ9mxYwfXXnst+fn5vP/++6xYsYIbbrgBsD4FpW3btmzdupXu3bvzyy+/cODAAdatW0dYWBidO3dm1qxZTJo0ienTp6NWq1myZAmxsbHMnz8fgLZt27J582YWLFhQo6eduIrkUEIIIYRoqGrccyk8PJxjx45dsHzz5s00b97cKUEJIYQQwnnKJ6N09gugoKDA7lU+1Ksq+fn5AAQHBwOwY8cODAYDvXr1spVp06YNTZs2ZcuWLQBs2bKFjh07EhYWZivTp08fCgoK2L9/v63MuesoL1O+DneTHEoIIYSoX1yVPzVENW5cGj58OE899RR//fUXCoWC1NRUli9fztNPP83IkSNdEaMQQggh6qjo6GgCAgJsr3nz5lVZ3mw2M2bMGHr06EGHDh0ASE9PR61WExgYaFc2LCyM9PR0W5lzG5bKPy//rKoyBQUFlJaWXvJvdBbJoYQQQgjRUNV4WNzkyZMxm83ceOONlJSUcO2116LRaHj66acZPXq0K2IUQgghxL9hUVhfzl4nkJSUhL+/v22xRqOp8msJCQns27fvP/l0NMmhhBBCiHrG2TmUs/OxOqTGjUsKhYKpU6cyYcIEjh07RlFREe3atcPX19cV8QkhhBDi33LFBJJn1+fv72/XuFSVUaNG8f333/Pbb78RFRVlWx4eHo5erycvL8+u91JGRgbh4eG2Mn///bfd+sqfJndumfOfMJeRkYG/vz9eXl41+nmuIDmUEEIIUc84O4eSYXEXUqvVtGvXjiuvvFKSIiGEEEJclMViYdSoUaxevZr169cTGxtr9/nll1+Op6cnv/76q23Z4cOHOX36NPHx8QDEx8ezd+9eMjMzbWXWrl2Lv78/7dq1s5U5dx3lZcrXUVdIDiWEEEKIhqbGPZeuv/56FIqLd+Vav379vwqotnToVsQ9T2TRsmMJIeFGpj/ajC0/B9g+X5P6T6Xfe3dWBF8sDq2tMAG49eEz9Bt0hrBoPQCJR7QsXxDO9g3WO8V9HzrD9f1zadGxFB8/M3e27UBxQY3/aZ3ivlEZ9OibR3QLHfoyJQe2e/P+3EiSj2srKW1h9scnuOKGQuv2XxNY2+FWux8MHJ9OzzvyaBxpwKBXcGyvFx++EM7hXT61Gqcj2zWosYFh01Lpek0h3r5mko5rWPlGGJt/DHRqLIVfGij6yoAx1drs7tlcScBQT7yusu5zRasNFP9iRH/IjKUEotZ5o/SzrzP0h0zkLdKjO2BGoQSv6z0IGqNG6W0tpz9iouAjA7p/zJjzLagiFPgO8MT/fk+crT7ts9XVBRExOoZPS6X9lUV4qi3s2OjPomebkHfG+dutOtUdWwDRLcoY+mwanboXofKAxCMaZg1vRlaKutbjLXdvQjpDp6Sy+r3GLJkebVvetmsRj0xKpU2XEkwmOLHfm2cGtkBfdsn3aGqVKyaQrMn6EhISWLFiBd988w1+fn62OZICAgLw8vIiICCAoUOHMm7cOIKDg/H392f06NHEx8fTvXt3AHr37k27du0YNGgQL730Eunp6Tz77LMkJCTYhuKNGDGChQsXMnHiRB599FHWr1/PqlWr+OGHH5z74y9RQ8mhlm3+x1YPneu7j0JZNC0GsB4zgyck06ZzsfWYOeDN1EGt0etq95iprt701Jh57LlUet6Re7be9OPNZ6LcUm+eq7K6KKixgWHPptD1moKK8/yb4Wz+MajW4xs4LpVB49LtliUd0zCsZ3v8Ao0MGp9G12sLCG2iJz/bgz/XBLLs5UhKClW1Hqsj5/knX0yiy9WFhIQZKC1RcnC7D+/PiSSp0lzg0pR+VIpukwFTogmFRoFHRw98RnqhiqnYJqZkE8WLSjHuMYLegmd3T3zGeqMMrjhuCiYWYTpmxJxrQeGnwPN/nviM9ELZuKKM/i8Dpe+VYjxp/Vuel3ngPdoLVYTztn9d3gc6XJHP3cNSadG+iJAwAzNHtmbLuhDb5w+NPs11/bJpHKHDYFBwbJ8vyxY05fA/frYyce2KeHRiIq06FmE2KfhjTQjvzGtGWYlr46+qzgqL0vHRXwcr/d7sx5vx+/eBLo3tfNXVry99fpTLriq2+84PH4fwxuToC9ZVlzk7h2rIE3rXuAWic+fOdu8NBgO7d+9m3759DB482FlxuZzW28yJ/VrWfBrM8x+cuuDz+y9rZ/f+ihsKGTs/ic0/BFxQ1tWy0jz5YF4kKSc1KBQWbronl+kfnCShTysSj3ih9TKzfaM/2zf6M/SZtFqP71yduhfx3bJGHNntjcoDHpmcxtwVxxnesw26UvvKeMDwLCxuPriq2w9STmhYNLUJaYlqNFoLAx7LYt6nJxhyVVvyc2qvAc+R7Trh9dP4+puYPiSW/BwPrh+QyzNLTjG6byuO7/d2WiyqUAWBT6jxiLYmMcU/GMmaoCP8YyXq5krMZaDtrkLbXUX+W4YLvm/MMpM5ugzvXh4EPa3BXGwhd4Ge7Jk6Gr9gTeL0h8wogxSEzNDgEaZAt8dMzjwdChX43ePchL8+7bNV1QXpSWrmrjjOiQNeTLq3BQCDJ6Qxc+lJnrqtJZZaHt9d3bEVEaPj1a+P8fPKYD5+JYySQhUxrcvQl7lvHHqry4rp99AZThywHz7VtmsRcz45xspF4bw1LRqTUUHzdqVYzG4KtB5avHgxAD179rRb/uGHH/LII48AsGDBApRKJXfddRc6nY4+ffrw1ltv2cqqVCq+//57Ro4cSXx8PD4+PgwePJiZM2faysTGxvLDDz8wduxYXn/9daKionjvvffo06ePy3+jIxpKDvXk7e1QnlM9NmtVwrwVR/j9B2sjR9uuRcxedoTP3opg8XMxmEwQ27bULfVndTnUiOkpXHljAbMfb0ZxgYqEOck8994pxvVvWfvBnnWxumjCa6fwDTAx/dE463m+fw7PLD7J6Fs0Tj3PO+rUIS2TH6jYTiajtf4ODjMQEmbg3VlNOH3Ui9Amep584TQhYQZmP177T0V05Dx/dI8X678KIivFE79AEwPHpzP30+MM7t4Os9k55yXDbiPaOzV4tPUAk4WSt0spGFtE4HJ/FF4KLKUWCsYW4dFChf8b1kaOkndLKZhYRMA7fiiU1jg8u3rg9bAWZSMF5iwLJQtLKHy2iIC3rRf0plQThZOL8LpPi+/zPliKLRS/UUrhM8UEfujYEGZH1dV9QOtl5sQhH375IpRpbx2+4POUU168NTOW9CQtao2ZAUNSmfPhAYb26kp+jifBoXrmLTvAbz+G8NaM5vj4Gnls6inGv3iUOaPbuDT2quqspGNa7u/c3q78LQ9lc/fITLat97vIGt0Ta+IRa/314ychfPRKuO07utL6cVNOXJoaXx0vWLCg0uXTp0+nqKioRuuaPn06M2bMsFvWunVrDh06VNOwamz7Bn9bq2plcrPsL2Dj++Tzzx++pJ+ueqJSV/hrrX2D1tIXI7h10BnadC0h8YgXq9+z9qTqFF9Y67Gdb+rAOLv388c0ZdXefbTsVMq+vyq6/jdvX8Jdj2cxum8rVu7eX9th2lS3H2xYbX838J3pkfR9MIfYdqXs3lx7lbgj27Xd/4p5c0oUh3dbe1V9+no4dw7PomWnUqcmnd7X2FcbgSPVFH1lQL/PhLq5Ev8HrMdO2Q4TcGHjUtlmE6ggaILaligFT9KQ/lAphiQzntFKfG+3P/48mijR7TVRssHo9Mal+rTPVlUXhIQbCIvWk9CnNSVF1mT55TExfHlgL52vLmLX77WbdFR3bD0yOZ2/1/vz/uxI27K0xNqvX8tpvU1MevMUr01sygNP2d+JfXx6Ml9/EMqqRRXJUfIJ593NrhUunHPJoaIOtCpotVoWLVrEokWLLlomJiaGH3/8scr19OzZk127djkeXC1yVg7lzvwJID/Hvh6+d2Q+qac07NlqrWcem3aab5aGsmpxhK1M8gn3zHlVVb2Zlaamz/05vDAqhn/+sMb+6timvPfbIdp0LebQztrtpQxV10Xt/lfMm89EV5zn34jgzuGZtOxU4pbGJZNJcUG+DJB42ItZj1U0IKQlalj6YiQT3ziFUmXBbKrdmwiOnOd/Wt7I9nlGMix7KYIl6w4TFq132rnJ/1X787DvVB9yb83HeNiIZ2dPDHuMmNPN+Cz1R+lj3Ua+z/qQe3Mehh1G1FdYt7XX/RXnH1U4eA3UUjilGIvRgsJDgfGwCUzg9ZjWlmd5PaChcHJFGWepq/vA9t+C2P7bxXv0bfyusd37d+c14+Z7M4ltXczuLYF0uz4Ho1HBounNbTfnFj7XnMU//ENE01LSTruuPqvuuu/87X1V33x++y7Q5T2qKlNdrAC6ssr3kXpF5lxymNOaDgcOHMgHH3xQ4++1b9+etLQ026suPj0msJGBK28sYM3KYHeHglJp4brbc9F4mzm4o/aTnpry8TcBUJhXUeFptGYmL0xk0TNR9aqy8fA0c8vAbIrylRfcTaxtlW3XA9t9uO72PPwCjSgU1v1ErbGwZ4vr5vOwmCwU/2LEXAqaDo6d1CwGUHgqbAkPgOJs3qb7x3TR75mLLSj9XZ+Q1pd99vy6wFNjAQsY9BXbyKBTYDFD+ytq1vDvagqFhStvLCDlhIY5K47z2Z79vP79UeJvzndbTKPmJPH3rwHs2mzfIBYQYqBt1xLysj1Y8PVhVu7aw8tfHKlz21TUb5eSQ9WV/MnD08wNA7JZs6oRoDh7zBSTl+3Jq18d4NPtu3jps0O0/5/7b4CdX2+27FSCp9rCrt8rzpNJx7VkJHvS9vLiKtbkOheri+Dsef623HPO8zkuP89XpUmsjhXb97L0j31MevMkjSMvHCpZzsffREmRqtYbli4WC9if58+l8TLR+74c0hLVZKW67pxvKbZeYSr8z16OGSygAMU5f1KhBpRYh8lVwlxgRveLHo+OKlujkUdrFShB94Mei8mCuciCbo0ez/95OLVhCervPnAuD08zfe/LoKhAxYlD1msrT7UFo0Fh1+tbd3YYfG3WZdVd97XoWEKLDqWsWRlSybdr18VivX5ALqv27uXtXw8xZHIqGq10+27InDauZ8uWLWi1Nb+T6+HhYXvKS1110725lBap2Pxj7Q+JK9esTSmvfXsUtcZMabGSmcNiOX20bt85VygsjJiRwr6/fUg8XNEY8/iMFA5s92HLL+7bnjXRrVcBUxYnovEyk5PhwZT74yioxSFx57vYdp0zIoZnFifyxf59GA3WbqczhjYj9ZTze4Poj5nJGFaKRQ8KL2j8ogbP5o61VWv+p8L0mp6Cj/X43e+JpRTyFlmTEdOZypvydXtMlKw10fhV1/ZsqQ/77MXqgvxsD8pKlAydmsqH8yJBYWHoM2moPCA4rPKk1F0CGxnx9jVz36hMlr4YzvtzIvnf9QU8994pJt4dx96ttXuhdN3tObToWMLofhd2dY+Ise6bg8al8e6sKI7v96LX3Tm8sPIoj/dqS+rJul0P27hgzqWGfOettl1KDlVX8qf43nn4+htZ+7m150dEUx0AA8ek8O6caE4c8ObGO7OZt+IwI3p3IPVU7R8zF6s349qXotcpLpinMi/Lk+DGtV9vVlUXAcwZGcszb53ki317Ks7zw5q7ZZse2uXDK2NjSD6hITjUyMCxacz/6giP39iW0mL7Rhv/ICMPPpXOT8vdfwF8sfM8wK2DzzBsaipePmaSjmmY8kAcRoNrhvBYzBaKXy/Fo5MKj+bW7eXR3gOFFkreKsV7hBdYoGRxKZjAnG1/QV78VgllX+qgDDzaq/B7ueK8qYpU4b/Al8JpxRS/XAIm8Oigwu8V555b6+s+UO7K63OYvOCINb/PVDP1kXYU5Fpb9nZvCWD4lFPcNSyFb5ZFoPUy8+iERACCG1+8Ac1ZHL3uu/mBbBKPaDiw3X0dDqqKdcPXQWQmq8nO8CS2bSlDp6YRFadj1vDYatZaxzg7h2rA+VONr5DvvPNOu/cWi4W0tDS2b9/OtGnTahzA0aNHiYyMRKvVEh8fz7x582jatGmlZXU6HTqdzva+oKCgxn/vUvS5P4f1qwMx1PIklOdKPq7hid6t8fYzcU2/PJ5+LZEJd7Ws0w1Mo+YmE9O6lPEDKsZid78pn849Cnmid2s3RlYzu//w4YmbWuEfbKTvQzlMfTuRJ/u1ID/bPT1YKtuuAIMnpOPrb2LSfdbGr/g++Uxdcorxd7bk1CHn9rTyjFEQ/rEXliILJetNZM/UEbZY6VADk7q5kpDnNeS+pidvsQGU4HevJ8pg6+Te59MfN5M1oYyAYZ54dXdto1592GerqgtmP96M0fOSuePRM1jMsOGbII7u8apzcwOV/ztvWePP6netXdNP7Pei3f9K6Pdwdq02LjWO0DNyRjJTHmxRaR2vPJtN/PhJI35ZZU2Kj+/3pvPVBfS5L5sPX2hSa7H+K24eFiesnJlD1SR/AtflUDffl8W2jQHkZFon4lcozx4zy0NZ+7n1+D6+34cuPQroc28WH75U+xO5XqzerEuqq4vAOo+eb4CJSfe1sJ7nb85n6uKTjL+rldPP89XZvqHiZsvJg3Bolzcfb93HtbflsmZlxRAzb18Tsz46xumjWj5+NbKyVdWqi+VQAOu/CmLnb34Ehxq4e0QmU5ecYmz/li7J/4vnl2A6YcJ/ccVQOWWQEt9ZvhS/UkLZFzpQgrqXGlVrFZzX2cfrQS3aWzWY0s2UflhK0axi/F72RaFQYM42U/RiCZq+ajQ3qbGUWCh5r4yiZ4vxe823yocK1ER93QfK/bM1gITbLyMg2MjN92Yw5fUjjLm7I/k5ak4f82b+pBYMn3KKIeMTMZsVfPNRBDlZnrUyd5wj131qrZnr++ey4nX33mSoKtZzh5ueOuRFTqYnL606TkSMzq1TIdSYDItzWI2v1AIC7O/cK5VKWrduzcyZM+ndu3eN1tWtWzeWLl1K69atSUtLY8aMGVxzzTXs27cPP78L5weZN2/eBXMMuFqHK4uIbqFj7oiYWv275zMalLYeKMf2etO6cwn9h2XxxqS6Odt+wuxkuvUqYPydLTiTVvHkp85XFxIRo+erg3vtyk979xT7/vJh4j11K9kD0JWqSD2lIvWUhkM7ffhg80FufiCHzxaG1XosF9uuETE67nj0DI9d39o2xvnEAS86divi9kfOOP2pDApPBZ7R1uRE3VaF7qCJws8MBE9x7ETh08cDnz4emLItKLwABRR+asCjiX0CZzhhJjOhFN/+ngQ86toniNWXfbaqumDnb/4M6dEO/yAjJhMUF3jw6a59de4EXpCjwmiwPlXkXElHNbS/snaHorToVEJQYyOLfqqYq0blwdljJ4uh11knzkw8en6sWkKbuP7upWhYnJVD1TR/AtfkUKFNdHS+uoBZj7ewLStvZDp9zP6YOX1MS2M3HTMXqzc3fRuIWmPBx99o13spsLGBnKza7aHsSF10x5AsHruhbcV5/qA3Ha8s4vbBWbwx5eINi7WhuMCD5BNaIptVNGB6+ZiY88kxSotUzBjW3DbZs7tc7DxfrqRQRUmhitSTGg7t9ObLA/vocXM+G79x7tP4iuaXYPjTgP8iP1Sh9nmPupsn6s8DMOeZQQVKPyU5t+WhutE+XmWgEgJB1VSFqpmKvAH5GPeb8OzgQdmXOhQ+CnwSKubh8n3Ovowr1Id94Fy6UhVpp71IOw2Hdvvx3tqd9Lknk1VvRwHWeZk2fteYwBA9ZaUqLBYYMCSVtNOuv7HvyHXfNf3y0HhZWPe5e6dtqck16qGd1n0yslk9a1wSDqtR7WIymRgyZAgdO3YkKOjfV7R9+/a1/X+nTp3o1q0bMTExrFq1iqFDh15QfsqUKYwbN872vqCggOho1zau9HkghyP/eLl9jp3zKZTgqa5j3REAsJAwO4Wrbs5nwj0tyEiyrzg+WxjGTyvsu8S+s/4wb09vwta1zn2ChasolFjnt6lVVW9XjZd1Xzj/iSYmkwIn3aCqmtk6l1JNqUKswRV9a0ChBu2VFd2o9SfMZD5Rik8/TwJHurJhqX7vs5XVBQW51qr9sh6FBDYy1ok4z2U0KDnyjzdRcTq75U2a68hMdm0j4vl2b/bjsRvb2i0bPz+RpONaVr0VRlqimjPpnkQ1vzDWqiYsr3Ok55LbOTOHqmn+BK7JoXrfc4b8bE/+Xh9oW5aRVH7MlNmVtR4z7h9aDBX15tE93hj0CrpcXcTmHwMBiIorIyzKUOvzWlZXF1Wc5+2/ZzJV9BZzJ623ichmOn79ynqh6+1rYs7yYxj0Cp4fEufW3v/Vnecro1AACgueGufl2haLheJXS9H/pidgoR+qyIvPVakMtG4vww4DllwL6qur6C1fHqLeuh9YdJYLeoLb3rtwV6nb+0D1lEpLpddWednWvKT33RkYdEp2/RFYy5FVnuv1uT+brWv9a/Xp1Y6o6ho1rn0pADmZdWP+UodJzyWH1WhvVKlU9O7dm4MHDzqlcel8gYGBtGrVimPHjlX6uUajQaNxTiun1ttEZGzFHbTwaD3N25dSmKciK8VaiXj7mrj2tnzemRFxsdXUiiGTU9m2wZ+sFE+8fK1dIDvFFzH1QevTL4IaGwgKNRDZzPp7YtuUUVKsJCtFTWFe7VY4o+Ymc33/XKY/2pzSIiVBja0tDsWFKvRlSnKzPCudEDkzxdOhk72zVbUfFOSoePCpTLb84k9Ohif+wUZuH3KGRuEGfv8usFbjrG67Jh3TknJSzVMvJvHurEgKcj246uZ8ul5byHODnfvI17xFerRXqfAIU2AugZI1RnQ7zfi/bj1uTNlmTNkWjMnWE4v+mBmlD6jClKgCrI1JhZ8b0HRUovBWUPaXibw39QQmqFH6WT/XH7f2WNJ2U+H/oAem8rkGlApUQc5tLatP+2x1dUHve7M5fcw6/1Lby4sZOTOF1e82Jvl47Q+fra6O/fytUJ5Zksi+rT7886cv/7u+kO43FTDh7rgq1up8pcWqC+bdKCtVUphbsfyLxWEMGp/KiYNenDg751J0izK3PFJb1F+uzKGqy5/AuTkUcPax02dY+0XIeRP0Kvji7XAGjU3lxEFvju/35qa7zxAdV8qcEbV7fEPV9WZJoYo1K4N57PkUCvNUFBeqSJidzIHt3rX+pLjq6iKVh4WUkxqeeiGJd2c3sZ7n++RZz/OP1P52Hf5sMlvXBZCZrCYkzMCg8WmYTAo2fh2Et6+JuSuOovEy89KTcXj7mfD2s06inZ/tccGNMFer7jwf3lTHdbfnsWOTH/nZHjSONHBvQgb6MiV//+q8mwjF80vRr9Xj94IPCm+FbR4lha8Chca6Tcp+0KGKUaEMVGDcb6T4tVK092lQxVgbogz7jRgPGvHs5IHCX4E5xUzJu6UomyjxONsjSX2VJ2Wf6Sj5oLRiWNzbpSjDlXi0ct4TxeryPqD1NhEZU9HAHRalo3nbYgrzPCjI8+D+kcn8tT6YnExP/IOM3DYwnZAwPb//VDGM67aBaRzY6UdZiYouPfIYOimRD1+JobjQtddW1eV6YO3507F7MdMGuTcPqSrWiBgd1zmKyaoAALJOSURBVA/I5e9f/SnMVRHbtozHp6ewZ4sPJw/WrU4bwnlqfHR06NCBEydOEBvr/Im4ioqKOH78OIMGDXL6us/X6rJSXv7yuO39iBmpAPzyWRDzx1q7Fl93Rx4oLGz42vkNaTUR2MjIhNcTCQ41UlKo4uRBLVMfjGPn2UeL9xt0hkHjM2zl56+2JpevjI1m7aranTjvtsHZ1r/9pX2C645YHFHVfvDG5CiiWuiYds8p/INNFOaqOPKPN+MHtLhgOI+rVbddTUYFzw6KY+iUVGYsPYmXj5nUU2peGdOUbeud27vClGshe4YO0xkLSl/wbKGk8etavLpZE5bCr4wUvFfRjSlzhPXkHjxNje+t1kYa3X4z+e/oMZeCZ4yS4MlqfG6paMApWW/EnAslP5so+bnUtlwVoaDJ18593HJ92merqwui4nQMmZKGX6CJjGQ1n74RxlfvNK5mra5RXR37588BvDG5CfePymTkrBSST2iYNbwZ+/92z1OPqrL6/VA8tWZGPJ+MX6CJEwe8mPJAy3rVpVvhggm9nT5B+H+Aq3Ko2syfynW5uoCwKD2/rLqwjvn6g3DUGguPTzttPWYOevHMQ61rZTjJ+aqrN5dMb4LZrGDaO6fw1FjYvtGPhc9E1Xqc1TEZFTz78Nnz/IfHz57nNbwyNoZt62u/R1ijCANTFp7CL8hIfo4H+//2ZcztrcnP8aRTfCFtu5YAsPSP/Xbfe7h7ezKSa7furO48r9cp6XBlEQOGZeEbYCLvjAd7t/oy9o6WTp1fU7fa2gO2YJT900Z9nvFG28+6TUynTZQsKcVSYEEZocRrsBbtfRXbS6FVoN9koPT9MixlFpQhSjy7eeA7ywuF2tpg43m5J77TfShdXkbpijIUGgUeHTzwf9XX1ojlDHV5H2jZoYiXllf83cenngJg7VeNeXNaHNFxpfQacJiAYAMFuR4c2evLhAc6cPpYRY7ZqlMRA59MwsvHRNJxL96c1pz134S6NG6ovs4Ca6+lM2me7NhU+TDo2lJVrI0j9XS5upABw7LQepnJSvNk84+BfPp67U8r8m85O4dqyPmTwmKp2bRkP//8M1OmTGHWrFlcfvnl+PjY39nx93f8Qvbpp5/mtttuIyYmhtTUVJ5//nl2797NgQMHaNy4+guigoICAgIC6MkdeCjqQfe6Whmf9B9UGzPrOUs92geabnVuI44rne5e4u4QGq76dHwpnXdH1pWMFgMbzV+Rn59fo3PmpSg/T8Y9MxfVJTzRtSqmsjKOz32mVn5HQ+GsHOrf5k9QsW9c73lPvcihLMZLGHvtLpU9nUL8e3Xt6RRVCNkc6O4QHJZ9Te08IMlZlF5192FG5zOXSH7qbEaLgY2Wr+t1DtWQ8yeHey7NnDmT8ePHc8sttwBw++232z1twGKxoFAoMJlMDv/x5ORkHnjgAbKzs2ncuDFXX301W7dudTgxEkIIIYSo65ydQ0n+JIQQQoi6xuHGpRkzZjBixAg2bNjgtD++cuVKp61LCCGEEBchE3q7lbNzKMmfhBBCiFoiE3o7zOHGpfLRc9ddd53LghFCCCGEaGgkhxJCCCFEQ1ejCb0V9Wi+GCGEEEJYyYTe7ic5lBBCCFH/yITejqtR41KrVq2qTY5ycnL+VUBCCCGEEA2N5FBCCCGEaMhq1Lg0Y8YMAgJq/3GnQgghhPiXGvCdsvpAcighhBCinpIcyiE1aly6//77CQ0NdVUsQgghhBANkuRQQgghhGjIHG5ckrkChBBCiHpKnhbnVpJDCSGEEPWUPC3OYTV+WpwQQggh6heZ0Nu9JIcSQggh6ieZ0NtxDjcumc1mV8YhhBBCCNEgSQ4lhBBCiIauRnMuCSGEEKIekmFxQgghhBA1J8PiHKZ0dwBCCCGEEEIIIYQQov6SnktCCCFEAydzLgkhhBBC1JzMueQ46bkkhBBCCCGEEEIIIS6Z9FwSQgghGjqZc0kIIYQQouZkziWHSeOSEEII0dBJ45IQQgghRM1J45LDZFicEEIIIYQQQgghhLhkDaLnktLHG6VC7e4wqmUuLXN3CA5TeNafXUOhrvv/9jZms7sjcNjp7iXuDsFhR975n7tDqJHWo/a4OwSHKVQqd4fguHpyfCktFqjl04FM6C0uRunvi1JZ98+jppw8d4fgsPpUbyp9vNwdgsMseoO7Q3BY9tV57g7BYUcWX+HuEGqkzfj97g7BYaoAf3eH4DBLmc7dIThEaVHU+xyqIedP0nNJCCGEEEIIIYQQQlyy+tM9RQghhBCXRuZcEkIIIYSoOZlzyWHSc0kIIYQQQgghhBBCXDLpuSSEEEI0dNJzSQghhBCi5qTnksOkcUkIIYRo4GRCbyGEEEKImpMJvR0nw+KEEEIIIYQQQgghxCWTnktCCCFEQyfD4oQQQgghak6GxTlMei4JIYQQQgghhBBC1DG//fYbt912G5GRkSgUCr7++mu7zx955BEUCoXd6+abb7Yrk5OTw0MPPYS/vz+BgYEMHTqUoqIiuzJ79uzhmmuuQavVEh0dzUsvvVTjWKVxSQghhGjgyucLcPZLCCGEEKIhc3f+VFxczGWXXcaiRYsuWubmm28mLS3N9vr000/tPn/ooYfYv38/a9eu5fvvv+e3337jscces31eUFBA7969iYmJYceOHbz88stMnz6dd955p0axyrA4IYQQQgghhBBCiDqmb9++9O3bt8oyGo2G8PDwSj87ePAgP//8M9u2beN///sfAG+++Sa33HILr7zyCpGRkSxfvhy9Xs8HH3yAWq2mffv27N69m1dffdWuEao60nNJCCGEaOgsLnoJIYQQQjRkLsqfCgoK7F46ne6SQ9y4cSOhoaG0bt2akSNHkp2dbftsy5YtBAYG2hqWAHr16oVSqeSvv/6ylbn22mtRq9W2Mn369OHw4cPk5uY6HIc0LgkhhBBCCCGEEELUkujoaAICAmyvefPmXdJ6br75Zj766CN+/fVXXnzxRTZt2kTfvn0xmUwApKenExoaavcdDw8PgoODSU9Pt5UJCwuzK1P+vryMI2RYnBBCCNHQydPihBBCCCFqzkVPi0tKSsLf39+2WKPRXNLq7r//ftv/d+zYkU6dOhEXF8fGjRu58cYb/1WoNSU9l4QQQogGTuGilxBCCCFEQ+aq/Mnf39/udamNS+dr3rw5jRo14tixYwCEh4eTmZlpV8ZoNJKTk2Obpyk8PJyMjAy7MuXvLzaXU2X+Mz2XOlyRz93DUmnRvoiQMAMzR7Zmy7qQSsuOmnmcfg9k8PacZny9NNK2fOmGHYRF2Y+F/ODlpnz+TpRLYx84LpVB4+y7oyUd0zCsZ/vzSlqY/fFxrri+gOlDm7NlTaBL47oYLx8TD49L5qo+uQSGGDi+34clM5tyZI8vAAOfSua623JoHKHHYFBwbK8PS+dHcXi3r0vj6vC/fO4emkyLDsWEhOqZ+URbtvxasQ+Mm3eEm+60P/C2/x7ItGEd7JZdcV0ODyacJrZ1CXqdgr3bApiV0M65sTphf/UNMPDEcyfpdkMuZjP8sSaEJbNjKStROTXW8903KoMeffOIbqFDX6bkwHZv3p8bSfJxrV25tpcX88ikNNp0KcFkghP7vXjmoTj0Zc5r8w76MRW/nbmo08swq5WUxfmSdVcUhnAvW5nQj0/hfbAAjzw9Zo2qokxERZnGnybidawIdWop+nAtp5/vcMHf8t2WQ/CPqagzdZh8Pci7IZTcPhH/Kv4OVxZw92PptOxQTEiYgRmPtWTL2qBzSlgYNDaFvvdn4eNv5MB2P96c1ozUU9ZtHdZEx4OjU7jsqgKCGhvIzlCz/usQVi6KxGhw7r2FDlcUcPfwc/bZEa3Zsi7Y9vlDTyZxXb8zFcf9Pl+WvRrN4X/8AAhtUsaDo5K5rHsBQY315GSqWf9NY1a+1cQ1sT6WZq0LwgzMfLwlW9ZWxHpVnxz6PZhBiw4l+AcZSejXgRMHfWyfhzbRsez33ZWue05CCzb/VPmxKkR9dO/QU1x1YxZRsSXodUoO7g7gg9fiSDlVcUyMmnaILt1zCG6sp6xExYF/AvhwQRzJZ8v0uj2NcbMPVrr+B3peTX6OutLPnP5bEtIZOiWV1e81Zsn0aACCGhsY9mwKXa8pwNvXTNJxDSvfDGfzj0HVrM35lEoLA8emcMOAbFudve6LRqx4I4KKyxELg8al0veBc+r9qTG2et9VOlyex12PJlvr+FA9s0a3Y8uvjWyfB4boGTLuJF175OLjZ2Tf9gCWzG1BamLFudRTbWb4xONce0sWnmozOzcHs2hWC/KynfvvX9X5SOVhZvDYJP7XM5eIaB3FhSp2/RnAhy/HkJNpjaM2z0fnu/XhM/QbdIawaD0AiUe0LF8QzvYN1t4NfR86w/X9c2nRsRQfPzN3tu1AcYHzL+eCfk7Fb1cu6vRSa/7U3JesAdF2+VPA75n4/Z2NJqkYVZmZY692xextH0vkW0fQJJWgKjRg9vagpK0/WQOiMQVW/Jv7bs8m+Oc01BllmPw8yOsZRm7vf5k/1aPrvuqOrR8P/Fbp995/JZYvP7DWY3FtC3l0/EladijEbFbwxy+NePelOKfn/P82fwIYPfskXXrkExymp6xYxYGdvnzwYlOST3id/+fEJUpOTiY7O5uICOtxFB8fT15eHjt27ODyyy8HYP369ZjNZrp162YrM3XqVAwGA56engCsXbuW1q1bExTk+PnwP9O4pPUyc+KQD798Ecq0tw5ftNxVN2XTpnMhZ9IrP9F99Fo0P39WMR6xpNi1F+rlTh3SMvmBlrb3JuOF94wHDMvEUgeGKYx54STNWpXy8rjmZGeoubH/GeZ9fJjHenckO0NN8kktbz0fQ9ppDRqtmQFDM5i77DCPXt+J/BxPl8Wl9TZx4rAvv3wZxrRFhyots+23IBZMqdjOBr19EtGj9xmemnWMpQti+GdrICqVhZhWxc6P1Qn768T5RwkO1fPMI+3w8LAw9oVjPDn7OC+Na+X0eM/VqXsR3y1rxJHd3qg84JHJacxdcZzhPdugK7UeL20vL2bOJ8dZuTCMt55tgsmkoHm7Uixm58bifaSQvOvDKGvmA2YLjVYnE7XgCKdmdsCiscaii/GmsFsIhmA1qmIjId+lEvXaEU7O6wTKiuMs/+pGeJ0oRp1ccuHf2ZtHxPsnyLy/KSXt/VGnlRH20Sksnkrybgi7oLyjtF5mTh705pdVjXju7WMXfH7P42nc8UgGrzzdnIwkDQ+PS2bOssM8dlNHDHolUXGlKJTwxtRYUk9paNa6lKfmnUTrbea9uU0vOa7KYzVx4qA3v3zemGmLj1zwecpJLW/NiCU9SYtaa2bAkDTmLD3I0Bu7kJ/jSXRcKQoFvDmtOamJWmJalfDUnBNovUy890Iz58bqba6IdcnRSn/L/u1+/PZDCGNeOHnB52fS1Dx4ZRe7ZX0fyOSu4Wls3xTo1FidRobFiUvU4X95fL8yiiP7/VCpLAx+8gRzluzm8QHdbXX6sQN+bPwxjMw0LX4BRh4aeZLZb+/m0b5XYTYr+G1NKDv+CLZb79jZ/2fvvsObqv4Hjr+TNE2a7r0onUBLAVkOnCDIEEVRURFQAQURUAFlCoIIKCoORPg6QVniALeAAwXZexQotKV775n9+yM0JbSlBdOk7e+8nifPQ5Kbmw+3J+d+7rlnnMbR0WCzhqX215UzeEQeiXGWFzAvvXsBF3c988dEUlzgQJ/7C5i9MonJdytIOKWySWzVhk3IZPDIXN6eFk5yvBPtupQz9c0kyktkfL/adC4Z9kyWqd6fFm6q96els+jLeMb164RW3XQNH0qVgaSzzmz7LoC5y+Mue9fI3OWn0OskvDoplooyGUOfTGPxp8cZf29PczkZNzOB6+8oYMmUGMpLHZjw8nlefi+OF0d2tW6sVzgfKZQGImPL2bCiDYmnnXF11zH+5Qu88r8zPD+0C4BNz0eXy82U89mSINKTFEgkRu4aVsj8z5KYOKA9yfFOKJ0MHNzhxsEdboydndlkcajiSym6w+9i/gQ+W1Jp8/5ZLrzS2Zw/STQGymPdKY91x3dLWp37qWjvRsHAIHTuchyKNPh+m0rQR+dJnW66Kas6WUTgZ4nkPBpKRYwbjllV+K9NMuVPff5b/tRSrvuu/NuCEbffZPG8520FPL8wnn+3mRqgvHzVLP7sBP/86suHr0WhctEzfmYCUxedZfEU6978/q/5E8D5k8789b03ORkKXD10jHw+jUVfnGH07V0xGJppn+gmGhbXWGVlZeZeSABJSUkcPXoULy8vvLy8WLBgAQ8++CABAQEkJCQwffp0oqKiGDBgAAAxMTEMHDiQp59+mlWrVqHVapk0aRKPPvooQUGmBtXHHnuMBQsWMHbsWGbMmMHJkyd57733eOedd64qVrsPi0tPT2fkyJF4e3vj5ORE586dOXjwoNW/5+A/nnzxTlt2b6//jrK3v5oJ85JYOrV9nY03AJXlMgrzHM2P6hNmU9PrJRTmys2PkkLLdsGIjhU8OD6HZdNCbRJPfRwVBm4dWMCnr4dwcr8bmclK1r7XhoxkBfeMNPUK2vGDD0f+dScrVUnyORUfvdYWZzc94dG1L9qt6eA/Xnzxbii7f/epdxutRmLx9y275G6QVGbkmTmJfPJmGL9sDCT9ghMpCSp2/urbBLH+t/IaElnB9XcU8d7sKM4ec+XUITdWvhrOHYPz8PLTWD3eS80ZGcn2Td4kxzuRGOfE2y+0xb+NlnZdKs3bjJ+fzpbPfNm0wp/keCfSEpT886Nnrca8/yr9hQ6U3OKDJtgJTYiK7NHhyAs0KJNrylrx7X5UtndF56NAHepM3v3ByAs0yPNq7lblDg+luI8/Wt+6u6u67c2nrKsHxb390PoqKe/iQcGgQDx/y+S/tPge/NuDNW+3Yfc2rzreNTJ0TDYbPghi73ZPks6oeHNaBN7+Gm7ub1rV4dA/HiybHsHhnabf297fPfn240BuGdD4VR8aHWsDZXbHj74c3e1BVqqSlHMqPl4cirOrnvAOFRdj9eSdmVEc3mXaZt8fXnz7SSA39y+wfqx/e/DFspB6jiv8ucWX9cvbcORf9zrfNxgs64nCPEdu7l/Izl+8m7xnYEv2zz//cO+99xIUFIREImHLli0W7z/55JNIJBKLx8CBAy22KSgoYMSIEbi5ueHh4cHYsWMpKyuz2Ob48ePcdtttKJVKQkJCWLp0aVP/1+zCVvnTvAld+f2HQFISXEiKd2XZ3Bj8gtS061hi3ua3b4M5eciTnAwnEk678sXyCPwC1fgFmep9jVpGYb7C/NAbJFx3QyHbNv+33gmNpVTpmbH8Au9Ob0tpseVvtGPPcr7/3JezR53JSlGw4f1AyktktOvStDlJXTr2KGPvdg/2/+lBdpqCXb94cXinOx26VpdxI0PHZrPhg8Caen9qON5+NfV+Uzm404sv3g+36FFRLTi0kpiupXzwajvOnXQl/YKKFQva4agw0PtuU+6nctHR/8EsPn4jgmP7PDkf58o7czrQsXsJHbqU1Nrnf4r1CuejijIH5jzZkZ2/+JCe5MSZo66sXBBO+87l+Aaazvu2PB9dbt92dw786UZGkoL0RCWr3wikqlxKdHdTedz8iR+bVvhz5nDTNnymP9eBkpt90QSp0LRRkf1EhCl/Sqm5oVrUN4DCgUFUhdc/8qCoXwBVES7ovBVURbpSMCAQZVIZ6E13E9325Znyp9sv5k+dPSgYGIjntv+YP7Wg674r/baAWvnGTXfmc3y/B1lppobyG3oXoNNK+HBhFOkXVJw76coHC9px64A8AttW1rnPa471P+ZPAL9u9OPkATdy0hUknHJmzbIQ/II0tXqJCTUOHjxIt27d6NbNdGNz6tSpdOvWjXnz5iGTyTh+/DhDhgyhffv2jB07lh49erBz506LYXbr1q0jOjqavn37cvfdd3Prrbfy0Ucfmd93d3dn27ZtJCUl0aNHD6ZNm8a8efMYN27cVcVq155LhYWF3HLLLfTp04dff/0VX19fzp07d1Vdr6xFIjHy4pvn+OaTIFLO119hDxuXzvBn08jNVPDXjz5s/jwIg77pW1mDw9WsP3gCjVrC6cPOfLYkmNwMUyu7Qmlg5gcXWDEnhMLcpuv50xgyByMyB9CoLY+JpkpKbM/SWts7yA0MGp5DWYmMxNO2vUNYly43FLNh9z7KShw4ttedNe+GUlpkOqZRHcvwCdBgNEj4YPMRPH00JJxx4dOlYSSfc25gz9bVUHmN6VZKabGMcydrTvhHdntgNED0daVXPNlam7ObaaWC0iLTCdndW0tM9wr+/M6Td76PJzBUQ+p5BavfCOTUgaYdGimtNMWid647OZCo9bj/m4fGR4HWq/F30yU6I0ZHy4Yxg6MUeaEWh3wNOh/rjKG+VECIGi8/LUd21UwEWFHqwJmjLsR0L+Pvn+r+Gzu76s1/C3txkBsY9MjF3/2Z+n/3zq56SoubfwfbqE7lRMZWsOKVMHuHUi+J0fSw9j6vRnl5Oddddx1jxozhgQceqHObgQMH8vnnn5ufXz7/wIgRI8jMzGT79u1otVpGjx7NuHHjWL9+PWBa1rd///7069ePVatWceLECcaMGYOHh8dVJ0jNmT3zJ2cXHQClxXXnGwonPXfdn0lmmpK8rLqHavW9Nwt1pYxd2/3qfN/aJi1KZf8f7hzZ5cbw5y2nGYg76Mwd9xay/w93yopl3H5vIY4KI8f3NO35qC5xh1y4e3guweFVpCcpCY+pILZnKR+9ZuppWlPv11y4WdT7P9pnSK7c0VQZaC7pOWU0StBqJHTsXsLWbwNpF1uKXG7k6J6aMpqWpCInQ0FM1xLOHnertV9bUbnqMBigvLT+c6M9zkdSqZHb7ilCoTJw+pBt88xasVTnT6prPwbSch1u+/OpinABmams1Jk/yaXICzVNlj9B87/uq4+Ht4brby9g2ewO5tfkjgZ0WglGY01c6ou/xdjuxWSmNN/hZgonPf0fyiUzRUFupm16sV4La+dQV7uv3r17Y7xCY+vWrVsb3IeXl5c5V6pPly5d2Llz59UFdxm7Zu1vvPEGISEhFolkeHi4XWIZNi4dg17C92vqv4v2/ReBnD/lTGmxAx27l/LktGS8fDV8vKRpYz5zxJm3poSSlqjAy0/HyCmZvP1dPOP7xlBZLmP8/DTiDjmzZ5tHk8bRGJXlMuIOufDY5AxSzjtRlCen95B8oruXkZlck2TecGchs95PQOFkoCBHzuxRHSgptG/D2KGdnvy73ZvsNCWBIVU8OfUCCz8+xdRHrsNgkBAYUgXAiEkpfPx6ONnpSh4Ync4bX57gqQE9KKsn0W4KDZVXTx8txfmW8Rj0EkqLHfD01doiRMB08n5mQTon9zuTfNZ0cgsMNfWcGjUti49fDSLhlBP9hhXy+lcJjO8bTUZS0yQSGIz4bkyhMsoFTbBlIuH+Vw6+36YiVRvQBChJn9IeHBrfi6oi1g3fr1JxurmEyg6uyHPUeG4zXcA4FGubJDmq/jsW5Vn+nYvy5PX+jQNDqxjyeDYfLwmxejyNcUOfQma+G2/+3c95omO9v/vA0EqGPJ7FJ6/btzdmYwx4OIeUc0pOH3a1dyjN2qBBgxg0aNAVt1EoFPVOHHn69Gl+++03Dhw4QM+ePQFYvnw5d999N2+99RZBQUGsW7cOjUbDZ599hqOjI7GxsRw9epRly5a1qsYle+VPEomR8dPPceqwO8nnLRtfBj+SxpgpCTip9KQmqZgzris6Xd316IChGez41R+Nuukbuu8YUkBU5womD46u8/1FE8KZ/WES35w8jk4L6kopC56KaPI5jOqy6cNAVC56Pv7zBAa9BKnMyJo3g/lri6nRyNOvut63TN+L8mx7br9capITORkKRk9JYvn8dlRVyrj/8XR8AzV4+ZrO+Z4+WrQaCeWllrEX5jni6dO0PaqvRO5oYMz0FP7+0YeKsrovi2x9PgqLruTdH87hqDBQWS7l1afCSTln+/JoZjDi+3UylZG186fG8PkuFY8d2Ug1BirDnUmfWDM9Q0VHd3y/TsGpVzGV7d2Q51bh+fvF/Kmk6RqXmvN135X0uy+bygoZ/26v6eV0bJ8HT09P5MExqXz/ZTBKJz2jp5iGpFX//pqbwSOzGTsjBSdnA6kJSuY8Ht3k85kJtmHXv+IPP/xAz549GTZsGH5+fnTr1o2PP/643u3VajUlJSUWD2uIii3jvicyeXtGO660/s3mz4M4sd+dC2ed+WVDAJ+8HsaQUVnIHa08UcxlDv7lzs6fPUk6reLQ3268/HgkLm46br+3kJvuKqLrLaWseqVpJxW/Gm9OjQAJrN93lB/PHuC+J7P5+0dvDJccpmN73Hh2cCemPtiRQ3+7M/uD87h72y8xAvj7F1/2/enNhXhn9vzhzSvjY+nQpYwuNxQDIJGaWoy/WhXCv9t8OH/KxTQ/kxFuG5hnszgbW16bg0mL0wjtUMmSZ2sSMunFWueXtd5s2+RNwikV/5sfTFqCggGP5DdZLH7rk1FkVJL5dGSt90pv9CJ5biypL0Wj8VcS+L8EJNrG/66Lb/OlqI8fwcvjaTfhIG2XxFF6/cUuw83kT+Ttr2HR6rPs/NWL3zbaprfA5Y7tdWPikC5Me7gTh3Z6MOv9eNy9av/uvf3VvPbZaXb+6m0x10Fz5Kgw0HtIPls32eeYNpqxiR5Q67ysVl971/YdO3bg5+dHhw4dmDBhAvn5NXXCnj178PDwMDcsAfTr1w+pVMq+ffvM29x+++04OtbcAR0wYABnz56lsLBphw3Z0tXmT2CdHOrZOfGERpXz+ozLFxSBv34OYPLD1zN9dDfSk1XMeusUckd9re2iuxTTNrKCbd81/ZA430ANExak8cbksHrnI3ripUxc3PXMeCSKyXdH8+3H/sxZmURYtHWHkzTG7fcUcOf9+bzxXASTBnfk7anhPDgui34P2i7HuBZ6nZTXnutIUFglm/buYfOhXXS5oYgD/3g2i7lA6yNzMDB7eTwSCXzwSt0NBvY4H6UlKHi2fweeu6c9P33hw4vvJtO2XZVNvrsufhuTUaRXkvlU1DV9vqB/AMlzYkl7rgNIJQSsTjQPeSu+1Zei3v4Er4in3aQDtH0jjtKeF3vgSZomgWru131XctcDWfz1k5/FNBIp551ZNrsDQ59MY/OhXaz7Zy9Z6UoK8uTNdg6jv773ZtK9nXnpkRjSk5TMWn7Orse1QU2UP7VGdu25lJiYyMqVK5k6dSqzZ8/mwIEDPPfcczg6OvLEE0/U2n7JkiUsWLDA6nF0ur4ED28tX/xdM1eBzAGemnmB+5/I5Mk+Per83JmjrjjIjfgFq0lPsl2Xw/ISB9ISlQSFqQmPriQwVM13cccstpn7USIn97swfVjTTt5cl8wUJdMfjUHhpMfZRU9BriOzlp8nK6Xm7oO6UkZmsozMZDhz1IVP/zzGwIdz+Wpl0BX2bFtZaUqKCxwIDK3k6F4PCnJNFyspCTV/a61WSmaqEr9A240Tbkx5LcyT12qsk8qMuLrrbDZ0cuJradzYr4RpD0SRd0lX1/xsU7WTHG95Fy71vBK/4KZpYPRbn4zz8SJSX4pBV8dwN4PKAYPKAa2/ksoIZ6KeP4LL4UJKb2zkEAOJhLyHQsh7oI2pp5KrA6rTpgu3+uZp+q+q/44ePlpz2ax+nhhneWfRy0/DGxtOE3fYhfdmhTVJPI1h+t07Xfzdu/LJ70cY8HAOm1YFW8T6+to44g678v6cCLvF2li3DspHoTTwx+b653JrNpoomQkJsewJ98orrzB//vyr3s/AgQN54IEHCA8PJyEhgdmzZzNo0CD27NmDTCYjKysLPz/LRjwHBwe8vLzIyjLd6c7KyqrVg8ff39/8nj2G3TeFq82f4L/nUBNmneWG2/OYPro7+dm1e1FUlDlQUeZARoqKM8fc2fTvP9zcN5e/f7XsiTbggQwSTrtw/nTTD4OK6lKBp6+OFb/WLOIhc4DON5Yx5Mlcxt4Ry32jcxl3ZwzJ8aZze+JpFZ1vKGPIE7m8P8u6Cx805KnZqWxaGWge3nbhrAq/NhoeeTaT37/1oTCnut7XmVc2q35++UTltnY+zpXJD/RA5aLDQW6gpNCRdzYeMQ/PL8yTI3c04uyqs+i95OmjoTDP9sNhZA4GZr8fj1+QmpmjOtbZa8le5yOdVkrGBVPucP6Eig5dK7j/qVzen2H7Xsd+Gy7gfKKI1Gkx6Dyv7e9kcJFjcJGj9XdCE+hExKyjKJPKqIpwNeVPD4SQd/8l+dOZi/lTE/VaamnXfdViexQTElHJ69Niar2342c/dvzsh4e3hqpKGUYjDH0ijaw0O/Z4u4KKUgcqSh3IuKDkzFEXvj5yiJsHFPD3j804l2rFDULWZNfGJYPBQM+ePVm8eDEA3bp14+TJk6xatarO5GjWrFlMnTrV/LykpKRWUnst/tjiW2visdc+O82f3/uy7dv670ZHdixHr6fW8KOmplTpCQpT88d3Xvzzoye/brD8IX70x2n+t6ANe7fXP5maLagrZagrZbi46ehxezGfvl7/30oipdm1WPv4q3H10Jkv3M+fdEGjlhAcXsmpQ6ZjK3Mw4B+sJifDdpV3Y8rr6SOuuLrriYot4/wpU2LXtVcxEimcOdbUQ3eMTHwtnZsHFvPSsCiyUy2Tg+xUR/Iy5bSJtGyQC45Qc/AvK8dmNOK3IQWXI4WkvhiNrhENPdXjoCW6aziLSCXm5MttfwGVkc7oXZumfshKVVCQI6frLSXmZV5VLnqiu5bx89qaesvb39SwdP6EM8teirAYk29vUqnR4nfv7a/m9bVxnD/pzDszoppVrPUZ8HAu+/7waNKVLpu71NRU3NxqGgounyepsR599FHzvzt37kyXLl2IjIxkx44d9O3b9z/H2Zpcbf4E/yWHMjJhVjy97sxl5tjuZKc34qLq4k9XLresR5VOOm4bkMPq92r3IG0KR3e5Mq6v5YXYtLeTSU1QsulDfxROpvrHcFn6odfX9Fa2JYWToVZPA8MlsVjU+xdvItTU+9ZfXORaVDfSBIVWEhVbyhfvm3ounzvlilYroetNhfy73RRrcFgFfkFqTh+17XxL1Q1LQWFVzBwZa55b81LN6XxklxzZaMRvYzIuRwtJnRpjveFpF3ssSbSX/b4uzZ8O5FMZ4dJk+VNLu+6r1v+BLM6ddCHp7BUmUM83HcO7HshCq5ZyZHfzv6EikQCSmrnbhJbNro1LgYGBdOxouURiTEwM3377bZ3bKxSKa05alSo9QaE1XUr926iJiCmntMiB3ExFrROLXiehME9ubpmO7lpKdNdSju11p7JcRky3UsbNTuKv730tVhRrCk+/nMbe393JSXPE21/LqGmZ6PUSdmzxpLhAXmdPlJx0x1oX9bbS4/YiANISnQgKq+KpWamkJijZ9rUPCic9wydmsPd3Twpy5bh56rh3VDY+ARp2/lL3ygPWolTpCbpk1QT/NlVERJdRWuxAabGcEZNS+HerNwV5jgSFVDHmpSQykpUc3mmqmCvKHfhlYyCjJqeQl6kgO0PBQ2PTAdj5m3Vb2v9reU1NUHHgbw+eX5TA8nkRODgYmTAvkb9/9rG429kUJi1Oo8/9hcwfE0FlmdQ8D0R5qQxNlRSQ8M0qX0ZNyyIxzonEU070G1ZASGQVr40Ls2osfuuTcd1XQMbEKAxKGbJiUywGJxlGRyny3CpcDhRQEeuO3sUBh0INXr9lYZRLKO9ck3jIc6qQVhmQFWuRao0oUkyrtqiDlOAgRVqqxfVQIRUdXJFqjbjtzsXlUAFpL9U9x0djXV4OAkIuloNiB3IzFGz+zJ/hkzLIuKAkK1XB41PTyM92ZPc2U5n19tewdMNpctIVfLy4rcUQNGvfKa5VZkOqzGW2pMiBR59NZ98fnhTkOOLmqeXekVl4+2vY+av3xVjVvLEujpx0BZ+8HmrjWC2Pq4u7Dr8gNd7+phjaRJi2LcyVW8QSGFpFpxtKmTemA81dU07o7ebmZtG4ZC0RERH4+Phw/vx5+vbtS0BAADk5ORbb6HQ6CgoKzPM0BQQEkJ2dbbFN9fP65nJqia42f4Jrz6GenRNP70HZvPp8ZyrLZXh6m24MlJc5oFHLCAiu5PaB2Rze7UVxoSM+/mqGjU1Go5ZyYJdl78/bB+Ygkxn562fbDC+qLJeZ5/urVlUppbTQ9LrMwUh6koLnX0/l49eCKSl04OYBRXS/vZR5T9qmAexS+3734NFJGeRmOJIc70RkbAVDn8pm26bqHEPC5k/9GT45g4wkhanen5ZOfk5Nvd9UauVQwTU5VG6mklsH5FJcICc3U0FY+3LGz0pg7x8+HNltyu0qyhzY9m0AT89IpLRYTkWZjGfmJBB3xM3qk3lf6XxUkCtnzgfxRMWW88rT0UilRvOcT6XFDui0Upuejy43emYGB/5yIzddjpOLgT73F9KlVxlzHjOVR09fLZ5+WoLCTDGHR1dRUS4lN92R0iLrXY/4bUjG9UA+GRPaYVBKkRWbvs/g5GCegFtWrMGhRIs813SsFemVGJRStF4KDM4OKJPKUF4opzLKBb3KAXmuGp8f0tD4KkyTegPSMi2uhwupaO+KVGvAbXceLocLSJtau3fO1WhJ130N/bYAnJx13DYgl0/erLsH3T2PpXP6iBtVFTK63VzEmBcTWf1OeK05zqwS63/InwJCqrj9nnwO7/SguMABnwANDz+TgaZKyoEdHlaN1ZrsPaF3S2LXxqVbbrmFs2fPWrwWHx9PaKj1J8xr16mMpetOmZ+Pn3MBgO3f+bJsRrsGP6/VSLhjcB4jJqcidzSSnaZg8+dBbP686Ydx+QRqmfXBBVw9dRQXOHBqvwsvDOnQbO+Uq1z1jH4pDZ8ADWXFDuz6zZPVb7VBr5MilRoIiayi34PncPPUUVrkQPxxZ158OIbkc027Wly7TqUs/fKk+fn42abJ7rZ/58cH8yMJb19Ov/tzcHY1dTc//K8HX7wXivaSCeY+WRqGXifhxaXxKJQGzhxzZeYTnax+ovmv5RVg6bR2PPtKEkvWnMJolPDvVm9WLmz6SQjvfcI0R8pb3563eP2tKSFs32S60Nj8iR9yhZFn5qfj6qEnMU7JrOGRZCZbt0HUY0cuACFvWdYzWU+GU3KLDwa5FNW5Mjx/z0ZWoUfn5kBlO1dSZsagd6v5ffmvuYAqvma1w9CFpr9N4pIu5rt5bnvy8P0mFYxQGelC2ovRV1yetzHady5n6caa4Rzj56YAsP0bH95+KYKv/xeIUmXgucUXcHHTceqAKy8/2d48Fr/7rcUEh6sJDlezbu9Ri30PDL/hP8V2uXady1i6Lq4m1jnJpli/9WX53AhCIirpNzQHdy8dJYUOxJ9w4aVHO5Fy8Xff7ZZigsOqCA6rYu2/hy32PSiql5VjLWfphtM1sb5cc1yXTY/kpn6FTHsz0fz+rOWmsrz2vWDWvVczv13/YbnkZTlyeKd9e4m2VmlpaeTn5xMYaJqbp1evXhQVFXHo0CF69DANW/jzzz8xGAzceOON5m3mzJmDVqtFLjf9hrdv306HDh1azZA4sG3+dM8jppsoSz8/YvH6spdj+P2HQDQaKbHdi7lvZCoubjqK8h05eciDaY/3oLjA8kK8/9AMdv/hS3lp88hf9DoJLz8eydhZGSz4PAEnZwMZFxS8NSWUA3/a/nf94SuhPD4tnYkLk/Hw0ZKf7civ631Z915Nrvn1qgBTvb/kAi5uek4ddOXlx9vXO6eUtbSLLeWNNcfNz8fNNNWR2zf7886cDnj5anh6egIePloKcx3543t/NqyyHFb40euRGA0w57045HIDh/715MOFjctprirWK5yP1r7fhl79TPOvffjTcYvPTR/RkRP73G16Prqch4+Ol95LxstPR0WpjKTTSuY8Fsnhnaae3YNH5TFqWk0D+tubTeenS3Msq8Txj6khP2TZGYvXsx4Pp+RmX/M23j9nmN8Lefu0xTYGRykuRwvw/ikNidqA3l1OeawHBYOCMMpryqvbnlx8v00x5U8RLqRNjfnP+VNLuu5r6LcFcMfduSAxDX+rS4fOpYyclGxaUCFRxQfz2/Hnj9ZvxP+v+ZNGLaXT9aXcPzoLFzc9RXlyTh5wZepDHe3WI0ywLonxSuvaNbEDBw5w8803s2DBAh5++GH279/P008/zUcffcSIESMa/HxJSQnu7u7c6TwcB0nzXb6wmqHSfpPxXS2JvPkv/11N4tj8//Zml/e9b8YMFRX2DqHR4j/q2fBGzUiHSccb3qiZkMiafjUnq2khvy+dUcOfVZsoLi5ukh4/l6o+T3Z6ejEyR+sO39Vrqjj58exG/z/Kyso4f96UaHbr1o1ly5bRp08fvLy88PLyYsGCBTz44IMEBASQkJDA9OnTKS0t5cSJE+YeN4MGDSI7O5tVq1ah1WoZPXo0PXv2NC+vW1xcTIcOHejfvz8zZszg5MmTjBkzhnfeeadVrRb3X/MnqCkbfb1H4yBt/udRfUGRvUNotJZUb0qdm+8y5Zczauy78MvVMFTafkL4axW/8np7h3BVoqedanijZqIlXU8Zq2w3f+x/0RpyqKvNn1oSu64Wd/3117N582Y2bNhAp06dWLhwIe+++26jEyNBEARBEFqGgwcP0q1bN7p16wbA1KlT6datG/PmzUMmk3H8+HGGDBlC+/btGTt2LD169GDnzp0WQ7nWrVtHdHQ0ffv25e677+bWW2/lo48+Mr/v7u7Otm3bSEpKokePHkybNo158+a1qoYlEPmTIAiCIAjNj92bU++55x7uuecee4chCIIgCK1WU8651Fi9e/fmSp2lt27d2uA+vLy8zL2U6tOlSxd27tx5dcG1QCJ/EgRBEISmJ+Zcajy7Ny4JgiAIgtDEjFh/Gd1WnBwJgiAIgiAA1s+hWnH+ZNdhcYIgCIIgCIIgCIIgCELLJnouCYIgCEIr1xyGxQmCIAiCILQ0Ylhc44meS4IgCIIgCIIgCIIgCMI1Ez2XBEEQBKG1E3MuCYIgCIIgXD0x51KjiZ5LgiAIgiAIgiAIgiAIwjUTPZcEQRAEobUTPZcEQRAEQRCunui51GiicUkQBEEQWjkxobcgCIIgCMLVExN6N54YFicIgiAIgiAIgiAIgiBcM9FzSRAEQRBaOzEsThAEQRAE4eqJYXGNJnouCYIgCIIgCIIgCIIgCNdM9FwSBEEQhFZOYjQiMVr3Vpm19ycIgiAIgtDcWDuHas35k+i5JAiCIAiCIAiCIAiCIFwz0XNJEARBEFo7MeeSIAiCIAjC1RNzLjWaaFwSBEEQhFbO2svoVu9TEARBEAShNbN2DtWa86dW0bhk1OgwSiT2DqNVMWo09g6h0Yxanb1DaDSJtOWUU4lMZu8QGq39uIP2DuGqPBN/zt4hNNqqmGh7h9DqGI16e4cgCDX0OjCIWRKsyahvOb9xQ1m5vUNoPEkLKqctKNYOkw7bO4Sr8vyZE/YOodHejbnO3iE0WkuptwzGlnPd9/9Rq2hcEgRBEAThCsSwOEEQBEEQhKsnhsU1WstpVhcEQRAEQRAEQRAEQRCaHdFzSRAEQRBaOTHnkiAIgiAIwtUTcy41nui5JAiCIAiCIAiCIAiCIFwz0XNJEARBEFo7MeeSIAiCIAjC1RNzLjWaaFwSBEEQhFZODIsTBEEQBEG4emJYXOOJYXGCIAiCIAiCIAiCIAjCNRM9lwRBEAShtRPD4gRBEARBEK6eGBbXaKLnkiAIgiAIgiAIgiAIgnDNRM8lQRAEQfh/oDWP8RcEQRAEQWgqIodqHNFzSRAEQRAEQRAEQRAEQbhmoueSIAiCILR2RqPpYe19CoIgCIIgtGbWzqFacf4kGpcEQRAEoZWz9jK61fsUBEEQBEFozaydQ7Xm/EkMixMEQRAEQRAEQRAEQRCumei5JAiCIAitnbWX0a3epyAIgiAIQmtm7RyqFedP/28bl6RSIyOnpHPn0Hw8fbXkZzvy+zc+rH8/EJCYtwuJqmTszDQ631iKzMFIyjklC5+JIjdDYbfYH56YxdhZGWz+xJdV80PMr8d0L+PJGRlEd6tAr4fEUypmj4xCU2W7Dmr3PJ7H4FF5+IdoAEiOV7LunQAO/uUGwKARefS5v5CozpU4uxp4IKYT5SX2KYYjp2YwamqWxWup5xU81TsWVw8do6Zl0v32EvyCNRTnO7B7qwdr3gyiolRml3i9/TWMnZVOzz7FKJwMZFxQsOzFMM4ddwZg5JQM7ri3AN8gLVqthPMnVKxeGszZo87NLlYwMmpqJoMey8XZTU/cQReWz25LxgWlzWNtqMwGhqp5em4GsTeUIXc0cmiHGyteDqYoT27VOE6uc+PUBndK00z79WqnocekAkLvqDBvk3VEyb5lXuQcUyKRgk+Mmns+z8BBaTpLFSXJ2fOGN1mHndBrJHhHq7nhhQKCb6oEoKpQyu/T/Mk/q6CqUIaTt47wfuXcODUfR1frn+muVA5kDkaeeCmd6/sUE9hWQ3mpjCO7XPns9WAKsh2tHsuVjJySwcgpmRavpZ5X8PSdnfBvo2bN7pN1fm7RhAh2/uxpixAFwW469SjiwTFpRMWW4e2nYeHkjuz5w8f8vlKlZ/SUJHr1zcPVQ0d2upIf1gbxy1dBFvuJvq6EJ55PokOXUgwGCYlnnHn56c5o1LY7p9aXP5kYee3LBK7vU8L8sRHs2ephs7jq0hJibehc/1vKoTo/98miYL75X4DN4lyz65j5HH+pH7/wY8XcUJZuPEOXXqUW7/281pflc8JsFGH96ioHcoWBcXPT6H1foSkv+duN5bNDrJ6XNEZzKAPH1nlwfL0nJRfzJ+92am6cnEf4HeUAfP1YW9L2W+bCnYcX0m+h6RqgslDGr1ODyDPnRnoi+5Vyy7RcFK4GAMpyHPhniR/ZJ5QUJTvS7YlCer+cbZX4L9fQNarMwcATL1bnT+qL+ZMbn73ehoIc2+ZPl6urvD73egrdbi3BO0BLZbmM0wed+XRxMKkJts/5haZn18alsLAwkpOTa73+7LPPsmLFiib97mETMhk8Mpe3p4WTHO9Euy7lTH0zifISGd+v9gcgsG0Vb39zmq1f+fLlO6ZGhdD2lWjU9htN2P66cgaPyCMxzsni9ZjuZSxae56NKwL4cG4Iep2EiI6VGA22jS83U85nS4JIT1IgkRi5a1gh8z9LYuKA9iTHO6F0MnBwhxsHd7gxdnZmwztsYhfOKJk5vJ35uV5nalj08tfi7a/l44XBpJxzwi9Yw3Ovp+Dtr+W18RE2j9PFXcey785ybI8rLz/ejuICB4LD1JQV1/yE0xKVfDivLZkpChRKA0PHZrN4bTxjbu9EcYHtEo7GxDpsQjb3jc7hralhZKc68viLGSxae45xfWPR2vj3daUym5XqyOL1CSTGOTHj4SgAnngpk1dXJ/H8ve0wGiUN7L3xXAJ03PRiPu5hWjDC2c2u/DYhkGHfp+LVTkPWESU/jwmk2zOF3DYvD4nMSP4ZU8zVfhkXiHuoliFfpCNTGjm+2p1fxgUy4o9kVL56JFII61vODVMKcPLSU5wsZ+cCX6qKZNz1jnWTpIbKgcLJQFSnCta/H0hSnAoXdx3PzE9l/qcJPHdPjFVjaYwLZ5XMeqy9+Xl1XZCb4cjwHl0sth30WC4Pjc/mwMUGyJZAYjA9rL1PwT5smT8pVQaSzjqz7bsA5i6Pq/X+09MTuO6mIt6cEU12upLutxQyce458nMU7PvLGzA1LC386ASbPg5h5eIoU44SXY7BYL06tCH15U/Vhj6V02zmWG0JsTbmXH953dmzdzFT3kxm16+2bZR/bkhHpJe0YYa1r2DJ+niLmwO/rPfly2XB5ufqSvvPHFJfOXjmlTRu6FvMa+MjKC+VMfG1VOZ9nMjUoR1sGl9zKQMuATpufSkHjzANGCXEfefOD8+EMOL7RHzamxoVOz1SyM0v5Jo/U31TDkAiNRLZr5Sbp+ai8tJRlOzIn/MDqCqWcfc7GQDoNRKcvPTcODGfw595WS32ujR0jVqTPwWRdNoJF3c9z7ySwvxPz/HcvbFNGtuV1Fdez51Q8edmT3LTHXH10DNyaiaL15/jiV6dbHoO+C+snUO15vzJro1LBw4cQK/Xm5+fPHmSu+66i2HDhjX5d3fsUcbe7R7s/9MDgOw0Bb2HFNChaxlgalx64qV0DvzlwadLau4YZabYr5VVqdIzY/kF3p3eluHPW/a4GT8/jS2f+bFpRc1dgLRE28e6b7u7xfPVbwRyz6g8ortXkBzvxOZP/ABq3SGyF71eQmFu7YaX5LNOLBxX04iUmaxg9RtBTH//AlKZEYPetpXhsAlZ5GY6suzFMPNr2amWved2fG95svtoYQgDh+cTHlPJ0X9t17jUcKxGho7NZsPyAPZu9wDgzSnhbDx0jJv7F/H3j0170r7clcqsd4AW/xANEwd0oKLMlJm++UIo38adoOutZRzZ6Wq1OML6Vlg8v3FqAafWu5N9VIFXOw3/LvKh8+PFdB9fZN7GM0Jr/ndlgZTiC470XpyDd7QpmbrpxXxOrfOgIN4RlW8lCncDnUaUmD/jGqwj9rFijn7iYbX/R7WGykFFqYzZI9pbfObDuW15/6cz+AZpyM2w7d03va7uusBgqP36zQOK2PmTJ1UV9unFKAi2zJ8O7vTi4M766+WYbiX8scWfEwc8APjt60AGPZxJh84l5salcTMT+GFtMF9/0tb8ufQLKqvHWp8r5U8AER0reHB8DpPvjmbjkRM2i6suLSXWxuQll9edvfoXcWyPK1kptu39f/kNtocnFJNxQcHxvTXncHWltM5zgL3UVw5UrnoGPJrP65PDOLbbFP+yqaF88ncc0d3LOXPYdr3Vm0sZiOxbZvH8lmm5HFvvSdZRJ3PjktzJiLOvvq6Po3Q3cN2IIvNzt2Ad140o5ODH3ubX3Nto6TPXdBPu1Nful+/Cqhq6Rq0odWD2SMuGxA/nteX9H0/jG6S2y+iaK9Vbv66r6emanQZr3gxk1fYz+IdoyEy230ggoWnYtVne19eXgIAA8+Onn34iMjKSO+64o8m/O+6QC11vLiE4vAqA8JgKYnuWcmCHBwASiZEb7iwiPUnJoi/OsvHQEd7dEkev/oVNHlt9Ji1KZf8f7hzZZXm33N1bS0z3CoryHXhny1k2HjnOm9/EE3t9WT17sg2p1MgdQwpRqAycPmT7oVmNERyuZv3BE6z+9yQzlifhG1S723Q1Zzc9FWUymzcsAdx0VzHxx1XMWZnAxsPH+OCXOAYOz613ewe5gUGP5VJWLCMxznYJPDQca0BbDV5+OotyXFEq48xRZ2J6lNs01stdXmblCiMYQaup+Ztr1RKMBpr092XQw7mfXNBWSPHvWkVFvoycY0qcvPV893Awq28KY8tjwWQerGlAVnoa8IjQEL/FFW2FBIMO4ja64+Stw7eTus7vKc+WkbTNhaAbqqz+f7jaMgum35jBAOUltm+0CQ5Xs+7AcT7fdYLp79VfF0R1LieqUyW/feVT5/vNlrGJHoJd2DN/utzpI27c2Ccfbz81YKTLDUUEh1Vy+F9TzwR3Lw3R15VSVCDnrXVHWffPHt5Yc4yO3YttFmN9+ROAQmlg5gcXWDEnpFk0LrSUWK+2jvfw0XLDncVs3WjfutNBbuDOofls3eTDpdNg9Lk/n6+OHGHVtpOMnp6KQll3Q4St1FcO2nWuQO5otLi5lZqgJDvNkZjuts37m2MZMOjh7E9u6CokBHarNL9+5ns3Vl7fji8GhbPrTV+0lfXn8mXZDpzf6kqbGyrq3aYpNXSNWhdn1+r8yT79Rq5Ub11K4aSn/8MFZCY7kpth//q20UT+1GjNZs4ljUbD2rVrmTp1KhJJ3T94tVqNWl1zkVRSUlLndo2x6cNAVC56Pv7zBAa9BKnMyJo3g/lri6mV2sNHh8rFwMMTMlnzVjCfvh5CzzuKmfu/88x4tAMn9tl2OMQdQwqI6lzB5MHRtd4LDDVdBI2amsnHC9uQcMqJfg8V8PrGc4zvF0NGkm17MIVFV/LuD+dwVBioLJfy6lPhpJxrfuNqzxxx5q0poaQlKvDy0zFySiZvfxfP+L4xVJZbXty6eep47Pksfl3nXc/emlZgiJp7Ruby3Sf+bPwgkPbXlTNhQSo6rZTfv6mJ6Ya+Rcz6IAmFk4GCHDmzR7SjpNC2P/OGYvX0NfW2uXxugKI8ufk9W6uvzBbnO1BVIWXsnAw+XxIEEiNjZ2cicwAvf53V48g/68h3D7dBr5YgVxkY+GEmXu20ZB0x3dk5sNyLm2fk4R2jJn6LGz88Hswjv6TgEaZFIoF7V6fz27OBfNI1AokUnLz1DP40A4W7Zf/b7S/4c+EPZ3RVUkLvLKf34hyr/18aW2aryRUGxsxKZ8f3XuZeYrZy5ogzb08LIy1BgZeflhEvZPLWN2d55q6OteqCAY/kk3xOyelDLjaNURDq05j8CaybQ11q5aIonlsQz5c79qHTSjAa4b157Tl5yAOAgDamC6QRE5P59M0IEs640HdINks+O86E+3qSkVz30C9ruVL+BKae33GHnNmzzaNJ42iMlhTr1dbx/R7Kp7Jcxr+/edg+2Ev06l+Ei5uO7V/XNHD89b0XOekK8rPlhMdUMmZmKm0iq1g4vt0V9tR0rlQOvPy0aNSSWo0IRXkOePlZPy+5kuZUBvLOKtg4LAydWoKjysC9K9Pwbme6PuowpAS3IC0u/jpyzyjYtdSPwiRH7v0w3WIfv7wQRMLvruiqpETcWcpdS+wzfUdD16iXM+VPaez4wfb5EzRcbwHc83guT81Jx8nZQOp5BbMea4dOa/+hp4L1NZvGpS1btlBUVMSTTz5Z7zZLlixhwYIFVvm+2+8p4M7783njuQiS452I7FjB+FdSTJOmfetjnsdkz3YPNn9qGmqWGKeiY48yBo/ItWnjkm+ghgkL0pj1WFSd89FIL8b6y1oftm0yVTwJp1R0vbWEAY/k8/nrwbU+05TSEhQ8278DKlc9tw0u4sV3k3npwXbNroHp4F813VqTTsOZIyq+3HuS2+8ttLironLRs/CL86ScU/LlsqC6dtXkJFI4d9w0QTeY/r5hHSoZPCLX4gR+bLcrzw6Mwd1Lx6Dhecz+MJHn74umON92dwcaG2tzcqUy+9r4MCYvSeO+MXkYDfDX956cO+7UJPOZeYRrePiHVDSlUhJ+c+HP6f7cty4NLs7t1PHRYqIfMg0p9Y3NI22PE2e+ceOmF/MxGmHnAl+cvPXcvyEdB6WR05vc+HV8EA9+l4qzX81d2Fvm5NFzcgFFF+Tse8ub3Yt9uH3BlXsVXa2rKQcyByNzPkxEgpEP5rSta3dN6uCOS+qCM3DmqDNf7D7B7fcUsvWSHkqOCgN97iu4OKlmyyIxmh7W3qdgf43Jn8C6OdSlhoxMJ/q6UuY/G0tOhoJOPYt5du55CnIdObrHE6nUVFB+3RTI9s0X86nTLnS9qYj+D2Sx+p1wq8dUraH86aa7iuh6SynPDqj/oshWWlKscPXn+gEP5/HnZi+bz6t4uYGP5HJgh7vFxMe/bvAz//vCWRUFOXLe2HCWwLZVNp8Oo6Fy0Jw0pzLgGa5m5A+JqMtknPvVla0vBTFsfTLe7TR0ebTIvJ1PBzXOfjq+HRVKUXIOHqE1NzXvmJPNTZPzKExyZNdbfvy9yJ++r9YemtrUGrpGvZTMwcCcFQlIJPCBHSagb2x5/XOzF4d3uuLlp+Wh8TnMWZnIlKEdmn0Zr2btHKo150/N5i/66aefMmjQIIKC6r94nzVrFsXFxeZHamrqNX/fU7NT2bQykL9/9ObCWRV/bPZh86cBPPKsqZW6pNABnVZCyjnLO2op55X4Btc/dKopRHWpwNNXx4pfz/DLhcP8cuEw1/Uq474xufxy4TCFF3uAJF/WeJN6TomfjWMF0GmlZFxQcP6Eis9fDyIpzon7n7LuhWtTKC9xIC1RSVBYzZ1dJ2c9i9aep7JMxoKnIsyT/NpaQY68VuNcyjmnWmVRXSkjM1nJmSMuvDM9DL1ewsBH82wZaoOxVnfl9/Cx7KXk4aO1Wzf/K5XZw/+4MfqWjjzSpRPDOnfizedC8Q7QNsk4cZkjuIdq8e2k5qYX8/GOUXNijQcqX9PdSK8oy7+3Z6SGsgzTPYL0PU4k/+XMXe9kEdijCt9YNbcvyMVBaeDsZsu5oVS+ejwjtYT3reCOhbmcWu9OeY5173Y1tszKHIzM/jARv2ANs0a0t8tdt8uVlziQnmRZFwDcNrgQhZOBP7617bxgVmE0Ns1DsLvG5E9g3RyqmqNCzxMvXODjNyLYv8ObC/Eu/LQ+mJ2/+vLAk2kAFOSaLuJTEiyHaKcmqvANtP6Q3Es1lD91v72UwFA138UdM78PMPejRJZ+Hd+ksbXkWKHxdTxA7A2lhESp+c3OQ+L8gtV0vbWE3zb6XnG7M0dMUzlcfg6whQZz/lwHHBVGnN0seyl5+OgoyLFtn4HmVAZkjuARpsW/UxW3vpSLT4yaI2vqPlcHXmcaLleUbDm3o7OvHq9IDZH9yuj3WibH13tSZuNjCg1fo1aTORiYvSIBv2A1s0Z0sEv+1FB5rb65UFEqIyNJycl9rrw2PpyQKDW3DCyyebzXzM750z///MO9995LUFAQEomELVu2XBaekXnz5hEYGIiTkxP9+vXj3LlzFtsUFBQwYsQI3Nzc8PDwYOzYsZSVWQ6lPX78OLfddhtKpZKQkBCWLl161YeqWfRcSk5O5vfff+e777674nYKhQKFwjoXdAonQ60Z6g1604oBYLrYjD+uok2EZeITHF5FTrptJ5o9usuVcX0tV0+a9nYyqQlKNn3oT2ayI3lZctpEWJ4EgyPU5uXU7UkiBblj858WX6nSExSm5o/vTCcjlYueRevOo9VIeGV0pF1b1+MOOtMm8vK/bxU5aVcuixKpEbmjbS8AG4o1K8WRghwHut5Sap4PSuWiJ7prOT9/eeWEz1bqKrPVwwuvu6UUDx8de7c3/W/LaDCtUOLaRoezv46iRMu/d3GSIyEXl9rVXZw/QHJ5MZWC8QqrcVT3wNJrrNtw2pgyW92wFBxexYxH2lNa1CxOSShVegJD1fzxnWVj54BH8tj7u7tNV18UhCtpbP4E1s2hqskcjMjlxlorZ+oNmC8qstOV5GU70ias0mKb4LCKK04Ubg0N5U8lBQ78vNbyYvejP07zvwVt2HvZYg9NrSXFCleXlwx8JJ/44yqSTtt2DsjL9R+WR3G+3DxRcn0iY01z7RTk2L6ub6gc5GY4otVI6HZrKbt+Mc1r1iaiCv82Gk4ftu1w7WZdBgz15zU5p00NYs5XGEbYVLlRYzR0jQo1DUvB4WpmPNrBbvlTQ+W1rtXgJBJAYvvrk5asvLyc6667jjFjxvDAAw/Uen/p0qW8//77rFmzhvDwcObOncuAAQOIi4tDqTSV9xEjRpCZmcn27dvRarWMHj2acePGsX79esA0VL5///7069ePVatWceLECcaMGYOHhwfjxo1rdKzNIpP//PPP8fPzY/DgwTb7zn2/e/DopAxyMxxNXQ5jKxj6VDbbNtWcuL/5XyCzPkjgxD5Xju1xpWfvYm7qV8T0R2zbJbmyXEbyWcseVFWVUkoLa17/ZqU/o6ZlkHjaicSLcy6FRFXx2viIunbZZEbPzODAX27kpstxcjHQ5/5CuvQqY85jkQB4+mrx9NMSFGa6qxEeXUVFuZTcdEebV4xPv5zG3t/dyUlzxNtfy6hpmej1EnZs8UTlomfx+nMonAwsfS4SlaselatpWFFxvoPNl87c/Ik/yzaf4ZGJmfzzkycdulZw92N5vDfTNIRI4aRn+OQs9m53pyBHjpuXjnsfz8XHX2ux1G5ziBUkbP7Un+HPZZJxQUFWioLHX0wnP0fObjvMI9FQme3/cD4p503zL8X0KGfCq+ls/tiXtATrdpXf+5Y3bW8vxyVIh7ZcyrkfXcnY58Q9n2UgkcB1Yws5+L4X3tFqfDpqOPudK4WJcvovN82b4t+tCoW7gT+m+9NzUgEOSiNxX7lRmiYntLepASp5h4rKPBm+XdTIVQYKzzmy5w0fAnpU4tbGunM1NFQOZA5GXl6VQFSnCuaNjkIqwzznVmmRzKZj8Z+ak8a+393JSXfEy1/LqKkZprrg+5rfTmBoFZ1uLGPuE1E2i8uaxLC41skW+ZNSpSeobU3DkH9wFRHRZZQWO5CbqeT4fnfGvJiIukpKToaCztcX03dIDh+/UZ1/SPj2szaMnJRM4llnEs+40O++bNqEV7LohYC6v9RKGpM/1dVjNifdsdaqV02tJcUKjTnXm6hc9Nw2uJCPXmtj8xgvJZEYuWtYHtu/8bZYmCWwbRV97i9g/5/ulBY5EB5dwbh5qRzf60rSGds3hjWmHGzd6M24eemUFjlQXipj4sJU4g4623SlOGg+ZWDXm76E3VGG68X86cwPbqTuU/HA56kUJcs586M74b3LUHroyTuj4O9F/gRfX45vtKlhLGmHMxV5Dvh3qUKuMpB/TsHO1/0I6lGBe5uaXvY5cabfmaZCSmWBjJw4BTK50Ty3k7U0dI0qczDw8soEojqVM29Me7vmTw2V14C2au64t5BD/7hRnO+Ab6CGhydmo6mSsv9P+3eAaCx7D4sbNGgQgwYNqvM9o9HIu+++y8svv8x9990HwBdffIG/vz9btmzh0Ucf5fTp0/z2228cOHCAnj17ArB8+XLuvvtu3nrrLYKCgli3bh0ajYbPPvsMR0dHYmNjOXr0KMuWLWtZjUsGg4HPP/+cJ554AgcH24Xz4SuhPD4tnYkLk/Hw0ZKf7civ631Z915Nt/LdWz1ZPieUR57NZMKCZNISlCx8JopTB623/Li1bP7UD7nSwDOvpOHqoScxzolZw9vZfIlHDx8dL72XjJefjopSGUmnlcx5LJLDF1e1GDwqj1HTss3bv735PABvTQlh+ybbzsfjE6hl1gcXcPXUUVzgwKn9LrwwpAPFBXK69ColprvpztXqf09ZfO7xm2LJTrPtcY0/7syr4yIZPSOdEc9nkpWqYNWCNubJ/QwGCSGRVfR7KB83Tx2lRQ7EH1Px4kMdSI5v2slSrzZWgK9X+qN0MvDckmRc3PScOujCy6Pa2aV3WENltk2kmtGzMnH10JOd5siG9/357iPr97CqzJfx53R/ynMccHTV4x2t4Z7PMgi51XRRd93oYvQaCf8u9kFdLMM7Ws29qzNwDzU1Cjl5GRj8aQb7l3nzw+PBGLQSvNppGLgyE58YU+LjoDQSt8mNwsWO6DUSXAJ1RPQvp9t466+C2VA58AnQ0Ku/abWolVtPW3x2+sPtLZaIbmo+gRpmfpCEq8fFuuCAC1Puj7booTTgkXzyMuUc/qflJENC62ar/KldbClvrDlufj5uZiIA2zf7886cDrzxYgxPTknipaVncHXXkZOh4Iv3wvjlq5q5yb7/sg2OCgPjZiTg6q4j8awLc57qTFaqbc9PgvU05lwPpsl+kRjZ8b19hxN3u7UE/zYatm2yPH9rtRK63lLC/WOyUDoZyM105N9fPdmw3D5zbDbGqgVtMBjSmPtRInJHIwf/duWD2bafr7C5lIGKfAe2vhR0MX8y4BOt5oHPUwm9tZzSDAdS/lVxZLUn2goproE6ogaWcuOzNVNGOCiMnPjKg78XKdBpJLgGaonqX8r1z+RbfM+6ITU37HNOOnHmB3fcgjWM/TvBqv+fhq5RfQK09OpfBMDK3yyvUaY/0oHje5tPnqJRS+h0YxlDn8rBxV1PUZ4DJ/a5MOW+DjadD7a5unxhjWvpYZyUlERWVhb9+vUzv+bu7s6NN97Inj17ePTRR9mzZw8eHh7mhiWAfv36IZVK2bdvH0OHDmXPnj3cfvvtODrW9DwcMGAAb7zxBoWFhXh6Nq6zgsRotO+kCdu2bWPAgAGcPXuW9u3bX9VnS0pKcHd3p498GA6S5l9AjXr7Lmt6VZpituKmUmscUPMlkdpnzqbWrkX9toAJ8eca3qiZWBXTPCaPbU10Ri1/6b6luLgYN7emTQKrz5M33rMQB7l1e9vptFXs+2muTf4fQm3/JX+CmrLR12MUDhLbDve/FvoS2y6z/v9Fi8pLWlC+15LykhZVBoAXzpywdwiN9m7MdfYOodFaSpnVGbXsMHzXonOo6vzpcq+88grz58+/4mclEgmbN2/m/vvvB2D37t3ccsstZGRkEBhYc1Pn4YcfRiKR8NVXX7F48WLWrFnD2bNnLfbl5+fHggULmDBhAv379yc8PJz//e9/5vfj4uKIjY0lLi6OmBjL4Y/1sXvPpf79+2Pn9i1BEARBEIQWReRPgiAIgtBypaamWjSQWXteRHtoObcABEEQBEG4JtXzBVj7cTVa0mongiAIgiAI0HT5k5ubm8XjWhqXAgJMcxdmZ2dbvJ6dnW1+LyAggJycHIv3dTodBQUFFtvUtY9Lv6MxROOSIAiCILR2TbGM7lX2mqle7WTFihV1vl+92smqVavYt28fzs7ODBgwgKqqmlVbR4wYwalTp9i+fTs//fQT//zzj8VEk9WrnYSGhnLo0CHefPNN5s+fz0cffXRtx00QBEEQhP/f7Jw/XUl4eDgBAQH88ccf5tdKSkrYt28fvXr1AqBXr14UFRVx6NAh8zZ//vknBoOBG2+80bzNP//8g1ZbM4n99u3b6dChQ6PnW4JmMCxOEARBEITWryWtdiIIgiAIgtAclJWVcf78efPzpKQkjh49ipeXF23btuWFF17gtddeo127doSHhzN37lyCgoLM8zLFxMQwcOBAnn76aVatWoVWq2XSpEk8+uijBAWZJop/7LHHWLBgAWPHjmXGjBmcPHmS9957j3feeeeqYhU9lwRBEAShlWvKYXElJSUWD7VafdXxNbTaCdDgaifV29S12snZs2cpLLT+qoiCIAiCILRu9p5W4ODBg3Tr1o1u3boBMHXqVLp168a8efMAmD59OpMnT2bcuHFcf/31lJWV8dtvv6FU1kxCvm7dOqKjo+nbty933303t956q0Wvbnd3d7Zt20ZSUhI9evRg2rRpzJs376pvzImeS4IgCIIgXLOQkBCL541Z7eRyWVlZAPj7+1u87u/vb34vKysLPz8/i/cdHBzw8vKy2CY8PLzWPqrfu5qu3YIgCIIgCPbWu3fvKy7gIZFIePXVV3n11Vfr3cbLy4v169df8Xu6dOnCzp07rzlOEI1LgiAIgtD6GS8+rL1PWudqJ4IgCIIgCID1cyhr52PNiBgWJwiCIAjCNWuNq50IgiAIgiAIV0c0LgmCIAhCK9eUcy5ZQ3Nb7UQQBEEQBAGad/7U3IjGJUEQBEFo7QzGpnlchbKyMo4ePcrRo0eBmtVOUlJSkEgk5tVOfvjhB06cOMHjjz9e72on+/fv599//61ztRNHR0fGjh3LqVOn+Oqrr3jvvfeYOnWqNY+mIAiCIAj/X9g5f2pJxJxLgiAIgiA0uYMHD9KnTx/z8+oGnyeeeILVq1czffp0ysvLGTduHEVFRdx66611rnYyadIk+vbti1Qq5cEHH+T99983v1+92snEiRPp0aMHPj4+17TaiSAIgiAIgnB1ROOSIAiCILR2TTihd2O1pNVOBEEQBEEQADGh91UQw+IEQRAEQRAEQRAEQRCEayZ6LgmCIAhCKyfB+hNISqy7O0EQBEEQhGbH2jlUa86fRM8lQRAEQRAEQRAEQRAE4ZqJnkuCIAiC0NoZjaaHtfcpCIIgCILQmlk7h2rF+ZNoXLIlg97eETSaRO5o7xAazajV2DuERjMaW1BHyJZU8Ula0HEFVnXsaO8QGu23lP32DqHRBrTpYe8QGuVKk1o3FYmxCYbFtaAqQmgFWlAOJb1khcPmzqDR2juExjO2pFhbUAUpazk5P8B7XVrGuR7gt+Td9g6h0VpKDmUP1s6hWnP+JIbFCYIgCIIgCIIgCIIgCNdM9FwSBEEQhNbO2svoVu9TEARBEAShNbN2DtWK8yfRc0kQBEEQBEEQBEEQBEG4ZqLnkiAIgiC0chKjEYmV5wCx9v4EQRAEQRCaG2vnUK05fxI9lwRBEARBEARBEARBEIRrJnouCYIgCEJrZ7j4sPY+BUEQBEEQWjNr51CtOH8SjUuCIAiC0MqJYXGCIAiCIAhXTwyLazwxLE4QBEEQBEEQBEEQBEG4ZqLnkiAIgiC0dtZeRrd6n4IgCIIgCK2ZtXOoVpw/iZ5LgiAIgiAIgiAIgiAIwjUTPZcEQRAEobUzGk0Pa+9TEARBEAShNbN2DtWK8yfRc0kQBEEQBEEQBEEQBEG4ZqLnkiAIgiC0chKj6WHtfQqCIAiCILRm1s6hWnP+JBqXBEEQBKG1E8PiBEEQBEEQrp4YFtdoYlicIAiCIAiCIAiCIAiCcM3+3/ZckkqNjJySzp1D8/H01ZKf7cjv3/iw/v1AQALAtLcSuWtYvsXnDu5w4+UnOtghYktOznqemJ7FzYOK8fDWkXDKiZVzg4k/prJrXI05rkqVnjEz0+jVvxA3Tx1ZqQq+/9yfX9b52TTWRyZlc8vdxYREqdFUSYk7qOLTRYGkJSgBcPXQMerFLLrfUYZfkIbiAgd2/+bOmqUBVJTKbBrrPY/nMXhUHv4hGgCS45WseyeAg3+5mbeJ6VHOkzMyie5WgV4PiaecmD0iEk2V7duQO91YxrBnc2nXuQLvAB3zx4Sx5zd38/tbM47V+bmPFwbyzUrbloPGHFsTI699mcj1d5aa/j9bPWwaJ8CaXcfMcV7qxy/8WDE3FICY7mU88VIa0V3LTeUgTsWcUR3QqJuuHHy13I/PlgRx/1O5THg1nZJCGV++FcDhv13JyXDE3UvHzQOLeWJ6Js5uBvPnctLkLJ/VhmP/uqJ01nPXsELGzM5AdvHMdHKfM58uCiQ1QYm6UopfsIbBo/J5YFxuk/1fHp6YxdhZGWz+xJdV80NM9cC0TLrfXoJfsIbifAd2b/VgzZtBNq8H/guJwfSw9j6F1q9TjyIeHJNGVGwZ3n4aFk7uyJ4/fMzve3hrGD01ie63FOLsquPkQXdWLY4iI9nJvM3AYZn0HpxDVMcyVC56ht14M+WltklBr3Q+kjkYeXJGJtffWUpgqIbyEilHdrry6eJACrLlTR/b9SU8NC6TqE7lePtreXV8O/Zs97pkCyOjXkhn4KM5OLvpiDvkygdzw8m4oDRv8cpHZ4noWIGHt5ayYgeO/OvGZ2+0pSDHscnjr9bc682GzvPPvZFKt1tL8fbXUlkh5fRBZz5dFERqgvJKu7UJqdTIyGlZ9H2w6GJeLWf7Ji/Wv+tHdV5tL1fKSb75XwBr/j1e5+cWTYhk5y9edb5nLZ2uL+GhpzNM9Za/llef6cCe303fKXMw8MSUVHr2LiQwRE15qYwju935/M1Qi99NZGwZY15KoX2XMgx6Cf9u9eKjxWFUVVx7Gf5xjTc/f+FDdqrpe0I7VDFiShbX31kKQMYFRz5+NYhT+13QaiT06FPCxNfS8fTVAXBstwvTH4qqc9/v/3KWDl0r0VRJeH9mCOeOO5FyTsmN/UqY/3nSNcd8NS6vC6rFdC/jyRkZl1yjqJg9Msou1yjXwto5VGvOn+zauKTX65k/fz5r164lKyuLoKAgnnzySV5++WUkkqatMIdNyGTwyFzenhZOcrwT7bqUM/XNJMpLZHy/2t+83YEd7ix7Mdz8XKu2b0VebcrbqYR1qGLp5LYUZMu588FCXv8qgad7R5Of1fQJUX0ac1zHzU2l680lvPlCBNlpCrrfVsyk15IpyJaz93dPm8XapVc5P672If6oypRgzsxk8YZEnr6jA+pKGV7+Wrz9dXz8aiAp8Ur82mh47vU0vP21vDYuzGZxAuRmyvlsSRDpSQokEiN3DStk/mdJTBzQnuR4J2J6lLNobQIbP/Dnw5eD0eslRHSsxGinykupMpB4SsnWDV688tmFWu8/el1Hi+fX31nKlLdT2fWze61tm1pDx7ba0Kdz7d6L9bkhHZFektOEta9gyfp4dv5s+t3EdC/jtTXxfPVhICvnhaLXQ3hMZZPGffaoEz+v9Sa8Y6X5tYJsOfnZcp6el0Hb9lXkpDny/sw25GfLmfvxBQD0epj7eASevjre+eEcBTkOvPlcKDK5kTGzMgFTORoyOo/wjlUoVQZO7XfmveltUKoM3D0yv65w/pP215UzeEQeiXE1f3dTPaDl44XBpJxzwi9Yw3Ovp5jqgfERVo9BEBrDlvmTUmUg6awz274LYO7yuMveNTJ3+Sn0OgmvToqlokzG0CfTWPzpccbf2xN1panCUij1HNrlyaFdnoyeesGq8TUm/vrORwonA1GdK1n/rj+JcUpc3PVMeDWDBauTmDyovW1iO61i29e+zF11rtb7w8ZnMuTJLN5+MYKsNCWPT0nltdVnGN+/C1qN6aLs2F43vvowiIIcR7wDNDw1K4U5K84xbVhsk8cPLaPebOg8f+64E39+50luuhxXDz0jp2WxeEMCT9zUEYPBvnn/wxNzuOeJfN56vi3JZ5W0u66Cae+kUl4q5ftPfe0a25VyktwMR4b37Gqx/aDhOTw0PosDO5o+11M66Wt+WyvjLd5TKA1ExpazYUUbEk874+quY/zLF3jlf2d4fmgXALz8NCxZE8c/P/vw4YJwnF30jHv5AtOWnmfRpGvvZOAbqGXM7AyCw9UYjRK2f+3J/NHhrNgWT0CIhtnDI4noWMkbX58HYM3SQOY9Ec57P51DKoWOPcvZcPSkxT7XLA3k6C4X2l9nysMMBgmOSgP3jc1l188e1xzr1aqrLgBTbrpo7Xk2rgjgw7kh6HX2vUYRmpZdG5feeOMNVq5cyZo1a4iNjeXgwYOMHj0ad3d3nnvuuSb97o49yti73YP9f3oAkJ2moPeQAjp0LQNqGpe0agmFufZrrKmLo9LArXcXM390OCf3uQCw9u0AbrqrhHsez2PN0kC7xdaY49qxRxm/f+vD8b2mO0a/bvDj7hG5dOhabtPGpTkjLBOct19oy6aTp2jXpZKT+1xIPuvEwqfDzO9nJitY/UYg05enIJUZMehtl3Ds2255Il79RiD3jMojunsFyfFOjJ+fzpbPfNm0oqbsptnxjtvBv9zq6PlT4/LfVK8BxRz714WsFEVTh1ZLQ8cWICK2ggfH5zJ5UHs2Hj1l8xirFRdYHreHJxSTcUHB8b2uAIybm8L3q/3YtLKmDkhLtDzJW1NluZQ3JoXywpupbHgvwPx6WHQV8z65YH4eFKbhyRmZLJ0cil4HMgc4/LcrKfFKXv/qFJ6+OiKBx6dn8umiIEZNy0LuaCSqcyVRnWsarQJCNPz7izsn9zlbvXFJqdIzY/kF3p3eluHPZ5lfTz7rxMJxNXWFqR4IYvr7F2xeD/wnYs6lVsWW+dPBnV4c3Fl3L4Pg0EpiupbyzJAepJx3BmDFgnas+2cvve/OYeu3prro+y/bAND5+iKrxtYYVzofVZTKmPVopMVrK+YEs/zXc/gGa8hNb9rePwf/9uDg3x71vGvk/tFZbPwgmL0Xe1y89WIkG/Yf5ub+hfz9kzcAWz6rqe9zMhRsWhXEvP/FI3MwoNc1ba+AllJvNnSe/3VdTU+87DTTxfqq38/iH6IhM9n2ecmlOvYsZ89Wd/b/4XYxPkf63F9Eh64Vdo0LGspJal8/3TywiJ0/e/2nnj+NdfAfTw7+U/c1RUWZA3OetLzJuXJBOO9tPoFvoJrcTAU39ilEp5OyYn44RqOpvH4wN5yVvxwnMLSSzORry61u6l9i8Xz0zCx++sKHM4dU5GfKyU51ZMW2szi7mlpeXnovmQdjOnN0lwvdby9D7mjEy09n/rxOC3u2unHfmDyq7ysoVQaeez0NgLgDLpQVN/3xrq8uABg/P40tn/mxaUVNnpiWaP9egVdFzLnUaHbti7Z7927uu+8+Bg8eTFhYGA899BD9+/dn//79Tf7dcYdc6HpzCcHhVQCEx1QQ27OUAzs8LLbrclMpGw8d4ZM/TzDptQu4eujq2JttyWRGZA6guawXlbpKQuwN5XaKyqQxxzXukAs39SvE218DGOnSy7T9oX9s32vlUs5uegBKi+qvhJ3d9FSUSe16QSmVGrljSCEKlYHTh5xx99YS072CojwH3vk+no1HT/LmN+eIvb7MbjFeDQ8fLTf0LWHrxqbtIt0Ylx9bMN3hmvlBMitmt2lWDc0OcgN3Ds1n6yYfQHKxHJRTlC9n2XdxbDh4hKVfnSG2Z2mTxfDB7Dbc0LeE7rc3XNbKS2SoXAzmIW9xB50Ji64yd/UG6Nm7lIpSGcln6046zp9wIu6gM51vsn7ZnrQolf1/uHNkV/2NotVM9YCs5TQsCa2OPfOnS8kdTQnypcNujUYJWo2Ejt1L6vtYs+bspsdggHIbXJBdSUCIGi8/LUf+ramTKkodOHvUhehuddfrLu46+tyXx+nDLk3esAQts96s6zx/KYWTnv6PFJCZ7Ehuhv3P+XEHnel6aynBEWoAIjpWEntDOQf+bPiY29LlOcnlojqVExVbwW9f+dT+cDOgctWZfvcXh23KHQ3otBJzwxKA+mI9F9vDOnmVXg87tnigrpAS07McrUYCkpp6FUCuMCKRwqn9LnXuY882d0oLHej/SIFVYrpW9dUF5muUfAfe2XKWjUeO8+Y38S3mGkW4enbtuXTzzTfz0UcfER8fT/v27Tl27Bi7du1i2bJldW6vVqtRq9Xm5yUl1564bPowEJWLno//PIFBL0EqM7LmzWD+2uJt3ubg3+78+5snWakKAkPVPDk9jdfWxDNlaIxdu8lWlsuIO6jisReySTmnpCjXgd73FxHTo4KMC/a9w9KY47rylbY8t+QC6/YfQ6eVYDDAezPDOLnf1W5xSyRGnlmQzsn9KpLP1n03ws1Lx2MvZPPrWu86329qYdGVvPvDORwVBirLpbz6VDgp55REdzc1KI6alsXHrwaRcMqJfsNMwyTH940mI8m+ZaIhdz1cSGWZjF2/2K9xsb5jCzB+QTpxB53Zs82+jZ+X69W/CBc3Hdu/NiVqgW1NdePIF9L5eFEIiXEq+j6Qz5L1Z3mmfyeLOTqsYccWD86fcGL5L/ENblucL2P9uwEMGplnfq0w1wFPX63Fdh4+WvN7lxrRoyPF+Q7odRJGTsti0AjrJlF3DCkgqnMFkwdHN7itm6eOx57P4td19qkHrpnx4sPa+xTs4mrzJ7BuDlUtNcmJnAwFo6cksXx+O6oqZdz/eDq+gRq8fGvPxdLcyRUGxs7JZMcWDyrK7Nu4VF0/FuZZNnAU5slr1Z1jZqRw76hslCoDpw+78MpTTT+kr6XVm1c6zwPc80QeT83JwMnZQOp5BbOGR6LT2n8+mK8+8EPlqueTf85g0INUBqtfD+Cvzbbr6d8Yl+cklxvwaC7J55ScPmS/XL8+ckcDY6an8PePPlSUmfKPo3vdeXp2Mg8+lc73awJROhkY81IKAF5+2ivtrkFJp5W8cG87NGopTs4G5n2aRGh7Ne7eOpQqA58uCmL0zAxAwqeLAjHoJRTk1H3JvnWDNz16l+Ib9N9i+i+uVBcEhprOA6OmZvLxwjama5SHCnh94znG94shI6mF9GCydg7VivMnuzYuzZw5k5KSEqKjo5HJZOj1ehYtWsSIESPq3H7JkiUsWLDAKt99+z0F3Hl/Pm88F0FyvBORHSsY/0qKaQLqb00V498/1pwEL5xVkXTaidW7TtClVylH/7XvHYOlk9sydVkqG47EodeZ7ujv2OJBuy6VDX+4CTXmuA55MpuYbuW8MqYdOemOdLqxlIkLTXMuHfnXPhfwkxanExpdxbT7654kT+WiZ+EXSaTEK/ny7YA6t2lqaQkKnu3fAZWrntsGF/Hiu8m89GA7pBdzn1/WerNtk6nMJpxS0fWWUgY8ks/nrwfZJd7GGvBoAX9u9kDbhBNON6S+YxsUpqbrLaU829/+k/hfbuAjuRzY4W6efFIiNZ2pflnnx/avTfMwJJxyptstJQx4OJfPl4bUu6+rlZMuZ+W8YJZsTMBReeUzZHmplLmPR9C2fRWjpmVdcdv6vL35PJXlUk4fVvHZ4iCCwtT0GVp0Tfu6nG+ghgkL0pj1WFSDZdBUD5wn5ZySL5c179/V5SRGIxIrd8O29v6Exrva/Amsm0NV0+ukvPZcR55/LZ5Ne/eg18GRPZ4c+MeTJp460+pkDkbm/C8ZJLB8Zht7h3NVvvkokK2bfPEL1jDiuTRefDuRV8a2p6kmfG6J9WZ95/nqBqY/v/Pk8D+uePlpeeiZHOasusCU+9vZNTcBuH1IEXc+UMTrE01zLkXGVvLMggzys+X8/rX9e3xXuzwnuZSjwkCfIQWsX978zpsyBwOzl8cjkcAHr9TMsZtyTsXb0yN5enYyo19MwWCQ8P2aAApy5f95rqA2kWo+3H6WilIZO3/y4K3nQ3nzu3OEtlfz8v8usHxWG77/1AeJFPrcX0hU5wokdRTD3Aw5h3a4Mvt/F/5bQP9BQ3WBVHIxN13rY3mNcmvJxWuUYJvGe62snUO15vzJro1LmzZtYt26daxfv57Y2FiOHj3KCy+8QFBQEE888USt7WfNmsXUqVPNz0tKSggJubYLpqdmp7JpZaC5AenCWRV+bTQ88mymuRHkclmpSoryHQgKrbJ741JmsoKXHoxC4aTH2dVAQY6c2asukJlsu9VB6tLQcXVUGHjypXQWjo8yz8uUdEZFZMcKHhyXZZfGpYmL0rjxrhKmDY0kL7P28XNy1rNofSKV5VIWjA1Dr7NPxqzTSs09086fUNGhawX3P5XLVx+YVldLjrds/U89r8Qv2H53Mhqj0w1lhESpWfxMqF3jqO/YaqokBIZq+O70CYvt5358gZP7nJk+rJ09wsUvWE3XW0tYOL6mMbQ6oUs5b1kOUs4r8Q22bg+C88dVFOXJmTigptHNoJdwYq8zP3zuw08XjiGTQUWZlDmPReLkbOCVT5NwuOQGvKevjrNHLIckFF28Q3/pUDmAgLam+MNjqijKlbP27QCrNS5FdanA01fHil/PmF+TOUDnG8sY8mQu90R0w2CQmOqBteepLJOx4KkIu9UDggBXnz+BdXOoS52Pc2XyAz1QuehwkBsoKXTknY1HOHey7mEczZGpYekC/sEapj8cafdeS1AzN6Gnj5bC3JrcxNNHS0Kc5crAJYVySgrlpCc5kXpeyZe7jxLdrYwzR5qml0hLrDfrO8+/P8P0G6golVFRKiMjScGZwyq+jTvJLQOL2fG9fXsIPT03k68+8OPvi3FcOOOEXxstj07OaTaNS3XlJJe67e4CFE4G/vi2efX4lTkYmP1+PH5BamaO6mjutVRtx4++7PjRFw9vDVWVMoxGGDomk8zU/9bbRu5oJDjclNe061LJ2aMqtnziy/NL0+jRu5TVe05TnC9D5gAu7noevS7W3Dv9Utu+8sLVU0ev/sX/KZ7/oqG6YOwdpoUFks9ddo1yTomflXNToXmwa+PSSy+9xMyZM3n00UcB6Ny5M8nJySxZsqTO5EihUKBQWGeIj8LJUGtom0Ffc/e/Lj4BGtw8dRTk2H8MdjV1pQx1pQwXdx097ijlk9fse1egoePqIDcidzRiuKzV36CX1Nkq37SMTFyUzs0Di3npoSiyU2uXLZWLqWFJq5HwypPhdr+DdSmJ1NSVNzvVkbxMOW0iLU88wRFqDv7V/LofX2rA8ALijznVWlnC3qqP7ZdvBfHrestk6KM/z/K/+cHs3W6/Bub+w/IozpebG2gBUznIktMmospiW1M5sG6jbdfbSvnfn2csXnt7SltCoqp4eGIOMpmpx9KcxyKROxpZsDqxVg+njj3L2fi+P0V5Dnj4mBqTDv/jispVT9v2lv+HSxkMmFdJsoaju1wZ1zfG4rVpbyeTmqBk04f+GAwSUz2w7rypHhgd2azqgUYTE3q3KlebP4F1c6i6VF+YBYVWEhVbyhfv2/emQWNVNywFh2uY/lAkpYV2TY3NslIVFOTI6XpzCYmnTQ3xKhcdHbqW8fM6/3o/V51LXTpvi7W1hnqz+jxf53sSQGJErrD/clYKpaFWTxmD3jSdQ3NRV05yqQGP5LH3d49aE4DbU3XDUlBYFTNHxlJaVH9sRfmmxt3+D+WgVUs5ssu6OZXRWDuvcfc2zQN7dJcLRXkOtSYCNxpNjUv9Hiq0uHFnaw3VBZnJ1blpXdcozWvesCsSE3o3ml3PoBUVFUillj8mmUyG4fKWhyaw73cPHp2UQW6Go2n4VmwFQ5/KZtsmU68lpUrPyBcy2PWrJ4W5cgJD1YydlUrGBYXdJ54G6HFHCRIJpCYoCA7X8NTcDFLPK9n2lX3vYjR0XCvKZBzf48pTs9PQVEnJTlfQ5cZS+j6Yx0cL29o01kmL0+kztJD5o8OpLJOa5zAoL5WhqZKictGzeEMiCicDSyeHoXLRo3IxVfbF+Q42nXdr9MwMDvzlRm66HCcXA33uL6RLrzLmPBYJSPhmlS+jpmWRGOdE4ikn+g0rICSyitfGhdksxkspVXqCwmvuSASEaIiIraS0SGZefUflouf2e4v5aIH9VjeEKx/bwlx5nZN456TL62yMtAXTMsp5bP/G+7KJUSV8878ARk3JIPG0ioRTKu56KI+QyEoWPRNZ7/6uhcrFQFi0ZQOQUmXA1VNPWHQV5aVSZg+PRF0pZfryJCrKZFRcnLvR3VuHTAbd7yilbfsqlk5uy9iXMyjMlbP6jQDufTIPR4XppPvD5z74BWsIiTJ914m9Lny7yo/7xuZa7f9SWS6rNc9aVaWU0kLT6yoXPYvXnzPVA89FonLVo3K1Tz0gCNVsmT8pVXqC2tYMufcPriIiuozSYgdyM5XcOiCX4gI5uZkKwtqXM35WAnv/8OHI7pp8xNNHg6ePxryfsPblVJbLyMlUUFbctFdGVzofFWTLmfvxBaI6VzLv8XCkMqM5FygtkjX5nDtKlZ6g0Jq61D9ETURMuenYZijY8nkAj05KJ/2Ckuw0BaOmpJGf7cjubaZeLB2uK6N9lzJOHXSlrNiBwNAqRk1JI+OCgjNHmq7nWEurN690ng9oq+aOIUUc+tuV4nwHfIO0PDwxG02V1LxCmz3t3e7Go8/lkJPuaBoW16mSB8bnsq0ZLIICV8pJTAJDq+h0Yylzn2z6ecAuVfu3VWX6bRU5UJArZ84H8UTFlvPK09FIpUY8fUx1RGmxg/l3f++oTOIOu1JVLqPbrcWMnZHM52+2pbz02i+fP1scyPV3luAbrKWyTMpfmz05vtuFResTANi60Yu27apw99Zx+pAzK+cFM3RcLiFRlo0zR3eZVlge+FjdK+cmxyvQaUy/yYpyKQknTb/XyE7WnT6loboA4JuV/oyalkHi6YvXKA8VEBJVxWvjI+rapdDC2bVx6d5772XRokW0bduW2NhYjhw5wrJlyxgzZkyTf/eHr4Ty+LR0Ji5MxsNHS362I7+u92Xde6aePwa9hPDoCvo9mIezm56CbDmHdrrzxdvBVr1rfq2c3QyMnpWJT6CW0iIZ//7izuevB9p9qEZDxxVgyeRIRk9PY/p7ibh66MhJU7DmzTb8vNbXprHe+6SpQn7ruwSL1996IYTtm7yI6lxJTA/TUq+r91j20nj8hhiy02w3BNHDR8dL7yXj5aejolRG0mklcx6L5PBOU8+kzZ/4IVcYeWZ+Oq4eehLjlMwaHmm3JXTbX1fJm9/WHNdnFmQAsO0rT96eYmpEvOO+IpAY+WuLfbucN3Rsm5tut5bg30bDtk21fy9bPgvAUWFk/NwUUzk47cTsER3ITLHthInnT6g4c9h0p330zZbL/a7ZF0dAiAaZDF79IpHlM0OYcm97lCoD/YYV8MRLmeZtjQb4bEkgWSmOyBwgKFTNmDkZDB5VdzLVFKI6VxDT/WI98O8pi/cevymW7LTmPWG+mRGwdrtD673x1uzZMn9qF1vKG2uOm5+Pm5kIwPbN/rwzpwNevhqenp6Ax8XhW39878+GVZY3i+5+JIMRE1PMz9/88hgAy2a35/ctTTuP4ZXOR2vfDqDXAFOPgJW/Wy5O8NKDkRzf07RD+9p1LmfphtPm5+NfNh2j7d/4sGx6JF//zzSR8HOLk3Bx03HqoCtzR3cw56HqKik3Dyhk5AvpKFV6CnIcOfSPO0sm2zdXbW715pXO817+WjrdUMbQp3JxcddTlOfAib0uTLmvHcX59u9p8+HLwTwxPYtJS9Lw8NaRny3nly+9WfdO/b3XbOlKOQnAgIfzyMt05PA/tm2oa9e5jKXr4szPx89JBmD7t76sfb8NvfoVAvDhT8ctPjd9REdO7DN1ImjfpYyRz6Xh5KwnNcGJ5XMj+HPLf7tWKcpz4M3nQinIcUDlqic8popF6xPocYfpDlxagoLPlwRSWiTDP0TD8OeyeWBc7Rtqv23wpmPPMtq2qz1cDmDuyEiL65TquUO3Zhz9T/Ffi82f+iFXGnjmlbSL1yhOzBrezm7XKNfE2jlUK86fJEaj/fpllZaWMnfuXDZv3kxOTg5BQUEMHz6cefPm4ejY8IV7SUkJ7u7u9JEPw0Fi/xNAQ4zaljO2VCK379xNV6MlHdcWNcNpS+qy2ZKOKyCxZx/mq/Rbsm2XNv8vBrTpYe8QGkVn1LLD8B3FxcW4uTVtwm0+T3afhYPMuo2MOn0Vfx1eYpP/h2Dpv+ZPUFM2+nqMwkHS/M/5+iL7zStytaTKFrICEmDQNO+5GS3815mUbakF5VAtKecHkMibx9DVxvj1/G57h9BoIoeqralyqNacP9n11+nq6sq7777Lu+++a88wBEEQBKFVE6vFtS4ifxIEQRAE2xCrxTWe/cd3CYIgCIIgCIIgCIIgCC1Wy+lXKAiCIAjCtTHSBKvFWXd3giAIgiAIzY61c6hWnD+JxiVBEARBaO2svYxu9T4FQRAEQRBaM2vnUK04fxLD4gRBEARBEARBEARBEIRrJnouCYIgCEJrZwCsvahiC1q4SRAEQRAE4ZpYO4dqxfmT6LkkCIIgCIIgCIIgCIIgXDPRc0kQBEEQWjlrL6NbvU9BEARBEITWzNo5VGvOn0TPJUEQBEEQBEEQBEEQhGZm/vz5SCQSi0d0dLT5/aqqKiZOnIi3tzcuLi48+OCDZGdnW+wjJSWFwYMHo1Kp8PPz46WXXkKn01k9VtFzSRAEQRBaO7FanCAIgiAIwtVrBqvFxcbG8vvvv5ufOzjUNONMmTKFn3/+ma+//hp3d3cmTZrEAw88wL///guAXq9n8ODBBAQEsHv3bjIzM3n88ceRy+UsXrz4v/9/LiEalwRBEAShtRONS4IgCIIgCFevGTQuOTg4EBAQUOv14uJiPv30U9avX8+dd94JwOeff05MTAx79+7lpptuYtu2bcTFxfH777/j7+9P165dWbhwITNmzGD+/Pk4Ojr+5/9SNTEsThAEQRCEJtWSunQLgiAIgiA0tZKSEouHWq2ud9tz584RFBREREQEI0aMICUlBYBDhw6h1Wrp16+fedvo6Gjatm3Lnj17ANizZw+dO3fG39/fvM2AAQMoKSnh1KlTVv0/icYlQRAEQWjtqu+6WftxFWJjY8nMzDQ/du3aZX5vypQp/Pjjj3z99df8/fffZGRk8MADD5jfr+7SrdFo2L17N2vWrGH16tXMmzfPaodIEARBEAShlibKn0JCQnB3dzc/lixZUufX33jjjaxevZrffvuNlStXkpSUxG233UZpaSlZWVk4Ojri4eFh8Rl/f3+ysrIAyMrKsmhYqn6/+j1rEsPiBEEQBEFoci2lS7cgCIIgCEJTS01Nxc3NzfxcoVDUud2gQYPM/+7SpQs33ngjoaGhbNq0CScnpyaP82qInkuCIAiC0NoZmuhB47t1t5Qu3YIgCIIgCGZNlD+5ublZPOprXLqch4cH7du35/z58wQEBKDRaCgqKrLYJjs723xDLyAgoNZUA9XP67rp91+IxiVBEARBEK5ZY7p1t6Qu3YIgCIIgCM1VWVkZCQkJBAYG0qNHD+RyOX/88Yf5/bNnz5KSkkKvXr0A6NWrFydOnCAnJ8e8zfbt23Fzc6Njx45WjU0Mi7MlicTeETSaUae1dwiNJ5XZO4LGM+jtHUHjtaDyKpG1oDJAy/p9DQjuZu8QGu2NxN32DqFRykoN3NHZtt8pMRqRWHl1t+r9NaZbd0vq0i00Uy3onGTQtJw6XiJvOZcCxitMditcu5ZUBgCM2pazkENLyqEWJOy3dwiNUl5qYEcX236ntXOoq93Xiy++yL333ktoaCgZGRm88soryGQyhg8fjru7O2PHjmXq1Kl4eXnh5ubG5MmT6dWrFzfddBMA/fv3p2PHjowaNYqlS5eSlZXFyy+/zMSJExvdW6qxWlZtIgiCIAjC1bP2MrrV+6SmW/fVuLRL91133WXu0n1p76XLu3Tv32+Z+DZVl25BEARBEAQza+dQV7mvtLQ0hg8fTn5+Pr6+vtx6663s3bsXX19fAN555x2kUikPPvggarWaAQMG8OGHH5o/L5PJ+Omnn5gwYQK9evXC2dmZJ554gldffdV6/6eLROOSIAiCIAg2Vd2le9SoURZduh988EGg7i7dixYtIicnBz8/P6DpunQLgiAIgiA0Fxs3brzi+0qlkhUrVrBixYp6twkNDeWXX36xdmi1iMYlQRAEQWjtDEaQWLnnkqHx+2tJXboFQRAEQRDMrJ1DXUX+1NKIxiVBEARBEJpUS+rSLQiCIAiCIFw90bgkCIIgCK1dE8651BgtqUu3IAiCIAiCmZ3nXGpJpPYOQBAEQRAEQRAEQRAEQWi5RM8lQRAEQWj1mqDnEq33zpsgCIIgCIKJtXOo1ps/icYlQRAEQWjt7DwsThAEQRAEoUUSw+IaTQyLEwRBEARBEARBEARBEK6Z6LkkCIIgCK2dwYjVu2G34qV0BUEQBEEQAOvnUK04fxI9lwRBEARBEARBEARBEIRrJnouCYIgCEJrZzSYHtbepyAIgiAIQmtm7RyqFedPoueSIAiCIAiCIAiCIAiCcM1EzyVBEARBaO3EanGCIAiCIAhXT6wW12iicUkQBEEQWjsxobcgCIIgCMLVExN6N9r/28YlqdTIyCnp3Dk0H09fLfnZjvz+jQ/r3w8EJAD8lnygzs9+srgN3/wv0GaxPjIpm1sGFRESpUZTJSXuoIpPFweRlqAEwL+Nmi/2na7zs6+ND2PnTx7NJtZqMT3KeXJGJtHdKtDrIfGUE7NHRKKpst1IzZFTMxg1NcvitdTzCp7qHQvAoBF59Lm/gKhOFTi7GnigYxfKS+zzk3lkUja33F1seVwXBVoc10Ej8ukztJCozpWmeKM7UV4is3ms9zyex+BRefiHaABIjley7p0ADv7lBoCnr5an5mbQ/bZSVC4GUhMUbHzfn12/eNg8VgBvfw1jZ6XTs08xCicDGRcULHsxjHPHnQG4ZWAhd4/MpV3nCtw89Tw7MIbEOJVdYm3o2C79+hzX3Vxu8Zmfv/Tm/ZkhNo+1sXWBiZHXvkzk+jtLmT8mjD1bPawWx561fuxd609hugIA/3YV9H0unejexQCU5sr5eXFbzu1yQ10uwzeiijsnptN5UCEACXtd+Wh4xzr3PWnLSUKuMx3vs3+7s/3dNmSfc0KuMBB+QymD5yTj1UZjtf+LINhLpx5FPDgmjajYMrz9NCyc3JE9f/iY3/fw1jB6ahLdbynE2VXHyYPurFocRUayEwAu7lpGTkqm+82F+AaqKS6Us+cPb758P4yKsqY9rzZUb5rO9ZecO2M62e1cf6mHJ2YxdlYGmz/xZdV8Ux3enPISJ2c9j09N4+YBhXh4a0k45cyqV9sSf9wFAA8fLWNnpNL9tmKc3fSc3O/Kh/NDybhQ1zmgaTUmh5IrDIx7JYPeQ4qQK4wc2uHK8lnBFOXJbRprpxvLGPasKefwDtCZzom/uZvf9/DRMnZOJj3uKMXZXc/JvS6seDmYjCRF08d2fQkPPZ1hqgf8tbz6TAf2/O5lfv/m/vkMfiybqNhy3Dx1TLy3C4mnnS324emjYezMZLrdUozKWU9akhMbPwzm363eTRr7ml3HzHXApX78wo8Vc0NZuvEMXXqVWrz381pfls8Ja9K46tJccr39a304uM6Xoov5k2+7SnpPzqRd7xLzNqmHnfnj7SDSjjojlUFATAWj1pxDrjQ1nvy9IoBzf7mTFadCJjcw69ixWt+TfkzF9qXBZJ5UgQSCryun/8x0AmIqrfr/EWzDrmfP0tJS5s6dy+bNm8nJyaFbt2689957XH/99U3+3cMmZDJ4ZC5vTwsnOd6Jdl3KmfpmEuUlMr5f7Q/A8J5dLT7Ts3cRU5ZeYNcvnk0e36W63FTGj2t8iD+qQuYAT87MZPH6BJ7uHY26UkZuhiOPdo21+MzdI/J5aEIOB/50bVaxgqlhadHaBDZ+4M+HLwej10uI6Fhpl7nNLpxRMnN4O/NzvU5i/rdSaeDgDjcO7nBj7KwM2wd3iS69yvlxdfVxNZqO64ZEnr6jg/m4Kp0MHNzhysEdroydndXAHptObqacz5YEkZ6kQCIxctewQuZ/lsTEAe1JjnfipfdScHHTM390OMUFDvQZWsjsVReYPKg9Cads22jj4q5j2XdnObbHlZcfb0dxgQPBYWrKimuqRqXKwKkDLuz8yYsXlibbNL7LNXRsAX5Z680XbwWYP6OutM/Ueo2pC6oNfTq3yXoIuwdoGDQjBZ+wKoxGCYe+9eGLce157qeTBLSv5KupkVSWyHjy43hUXjqOfu/NukntmPzDSYJjKwjtXsbL+w9b7HPr221I2O1Gmy6m5K4gVcEX49pz21OZDH/3PFWlMn5cGMqXz7Tn+Z9ONs1/7GqJYXGtji1zKKXKQNJZZ7Z9F8Dc5XGXvWtk7vJT6HUSXp0US0WZjKFPprH40+OMv7cn6koZ3r4avH01fPJmBCkJKvyDqpj0ynm8fTUsnlJ34621NFRvms6dF8/1szObNJbGan9dOYNH5JEY52TxenPKS154PYmw9pW8OTWC/GxH+t6fx5IvzzKuf2fys+W88r94dDopC8a1o6JMxgNjs1iy9gzj7upc6xzQ1BqTQz0zP4Mb+pXw2vhQyktkTFyUzrxPLzD1vnYN7N26lCoDiaeUbN3gxSufXbjsXSOvfHYBvU7C/NHhVJRJeWBcLq9/lWDxf2my2Jz0JJ5Wse1rX+aujK8z9lMHXfnnF29eWJxY5z5efOs8zq46FozvQEmhnN735jHr/XieH9qFhDjnOj9jDc8N6Yj0ksMT1r6CJevj2flzzTXdL+t9+XJZsPm5vfKn5pLruQdq6Tc9He8wNUYjHP3Omw3jI3nmx9P4ta8i9bAzXz7ZjtsmZHL3K6lIHYxknVYhqbmUQq+R0HFQIW26lXNkU+0GRHW5lC9Ht6ND3yLuWZiCQSfhr3eD+PKJdkz99zgy27bt1k8Mi2s0uzYuPfXUU5w8eZIvv/ySoKAg1q5dS79+/YiLiyM4OLjhHfwHHXuUsXe7B/v/9AAgO01B7yEFdOhaBpgalwpzLUt0r7uKOLbHlaxU2951mTMy0uL52y+0ZdOJk7TrUsnJfS4YDJJasd48qJh/fvSgqsK2J/CGYgUYPz+dLZ/5smmFv3m7unszND29vvaxq7b5Uz+AWncy7GHOiAiL52+/0JZNJ09ZHNfNn/gC0KVXmc3ju9S+7e4Wz1e/Ecg9o/KI7l5BcrwTHXuWs3xWG84eNSURG94L4IGnc2nXpdLmjUvDJmSRm+nIshfDzK9lp1re/fvjO9PJ0L+N2pah1amhYwugrqq/TNtSY+oCgIjYCh4cn8vkQe3ZePSU1ePo2K/I4vnAl9LYu86flCMuBLSvJPmwC0MXXiCkq6mhqO/kDHZ9FkD6CWeCYytwcDTi6qs1f16vlRD3uyc3P55lTqDSTjhjMED/aWlIL+Z3tz+dyRfj2qPXSpDJW28SIdiPLXOogzu9OLjTq873gkMrielayjNDepBy3lSvr1jQjnX/7KX33Tls/TaQ5PPOLHqhphEpK9WJNe+F8dIbZ5DKjBj0kjr3bQ0N1ZubP2k+53oApUrPjOUXeHd6W4Y/b3mjqLnkJY4KA7cOLGDBuPac3G/qTbH2vTbc2LeIe0bm8Pt33sR0L2d8/04knzOd15e/HMaG/UfoMySf377ys2m8DeVQKlc9A4YX8PrEthz713RTdtnUED755yzR3cs5c7jpGj0ud/AvN3MPlcsFR2jo2LOCcb07kBxvypuXz2zDxmNx9BlaxG/rm7b3z8F/PDn4T/032P/cYspD/YKr6t0mplspH7wSQfxx03He+GEbho7OJKpTWZM2LhUXWOZFD08oJuOCguN7a27CqyulzSJ/ai65Xoe+xRbP+72YwcF1vqQeccavfRW/vdaGG5/M4bYJ2eZtfCIsc+U7p5ga7I98U3fZzEtQUlnkwJ1TMnAPMuVavZ/L4MO7YylKV+AdZv/cW7g6dlstrrKykm+//ZalS5dy++23ExUVxfz584mKimLlypVN/v1xh1zoenMJweGmCjA8poLYnqUc2OFR5/YePlpuuLOYrV/5NnlsDXF20wNQWlR3w1FU5wqiOlWydWPTnmQa4/JY3b21xHSvoCjPgXe+j2fj0ZO8+c05Yq+3T4NIcLia9QdPsPrfk8xYnoRvUMsYwtJQGWgupFIjdwwpRKEycPqQKWmIO+jMHUOKcPXQIZGY3ndUGDm+x6WBvVnfTXcVE39cxZyVCWw8fIwPfolj4PBcm8dxLeo6tgB9hhay6cQJ/vfHGUbPzEChbB7LndZVZhVKAzM/SGbF7DY2SegMejj6oxeaSimh3U11Tmj3Mo797EVFkQyDwfS+Vi0l4qaSOvcR97sHFYUO9ByWZ36tTedyJFI4+LUvBj1Ulsg4vNmHqFtKmk/DkpGaO29We9j7P/X/l71zqEvJHU0FQaOuSSmNRglajYSO3ev+HQE4u+ioKHNo0oaly9VXbzYnkxalsv8Pd47sqruBoTmQORiROYBGbfm301RJie1ZeoUyISW2p31vgEHt81G7LhXIHY0c2VnT0JB6Xkl2mpyYHhV2ibEuckfT+fzS4179W4u9vry+jzUrp4+4cvvdebi4a0054OA8HBUGju+zXXl3kBu4c2g+Wzf5UD0VCkCf+/P56sgRVm07yejpqSiUepvFVJ/mkusZ9HDiR080lVJCupdTludA2lEXnL21fPJQB5Ze34XPHm1P8oGrq1d9IqpQeeo4vMkHnUaCtkrC4U0++EZV4tEMbuqaWT2Hsvd/qOnYreeSTqdDr9ejVFr2WHFycmLXrl11fkatVqNW1xS0kpL6k5aGbPowEJWLno//PIFBL0EqM7LmzWD+2lJ3g0y/B/OoLJfy72+2HRJ3OYnEyDML0jm535nks051bjNweD7J8QriDto3caor1sBQU+PNqGlZfPxqEAmnnOg3rJDXv0pgfN9om4wZr3bmiDNvTQklLVGBl5+OkVMyefu7eMb3jaGyvPk22tQcV1W9ZcDewqIrefeHczgqDFSWS3n1qXBSzpl+64ueCWX2ymS+OXUSndZ0p2jB2DAyLtjub18tMETNPSNz+e4TfzZ+EEj768qZsCAVnVbK7/XcZbG3Kx3bv7Z4kpPmSH62nPCYSsbOyaRNpJqFT4fbNeb66q3xC9KJO+jMnm3uV/j0f5d5xokPH4xFp5biqNLz+Kp4/NuZxvKPWHGOdZOiWNCtJ1IHA3InA4+vOodPPXfLDmzyo/3txXgE1jREe4WoeWrNGdZNasfmOeEY9BLadi9lzOdnm/T/Jfz/Ze8c6lKpSU7kZCgYPSWJ5fPbUVUp4/7H0/EN1ODlW/cNGzcPLcMnpPDr1wF1vm9tV6o3m5M7hhQQ1bmCyYOj7R3KFVWWy4g75MJjkzNIOe9EUZ6c3kPyie5eRmayktQEJdnpjoyensb7s8OoqpQydEwWvkEavPzsexOvrhzKy0+HRi2pNU9lUa4DXn7aunZjF9UNXmNmZfLejDZUVUh5YFwevkFavPybT5xXsnhye2a9H8/Xhw6i00pQV0lZ+GwHMpNtl8/26l+Ei5uO7V/XzBv31/de5KQrzPnTmJmptImsYuF42w6LrNZccr3sM0o+eSjanD89ujIBv3ZVpB4xXWPueC+IAbPSCOhYwdHvvFkzqj0Tf43DO7xxDUMKFwNPrj/Lxmci+fsD03zG3mFqRq05h8z+U98J18BufzZXV1d69erFwoULiYmJwd/fnw0bNrBnzx6ioqLq/MySJUtYsGCBVb7/9nsKuPP+fN54LoLkeCciO1Yw/pUU08Te3/rU2n7Aw3n8ucUbrdpunb0AmLQ4jdAOlUwbWndl56g00Of+Qta/Z5uE7UrqirV6yMgva73ZdnHsbcIpFV1vKWXAI/l8/nqQzeI7+FfNBW3SaThzRMWXe09y+72FbN1Yuww0F5MWpxMaXcW0++v+nTQHaQkKnu3fAZWrntsGF/Hiu8m89GA7Us4peeKlLFzc9Mx4JJKSAgd6DShmzqoLTHugHRfO2LaxTCKFc8dVrF5qGkKScEpFWIdKBo/IbbaNS1c6tr+uqym3F844UZAjZ+mmBAJD1WQm277xrlpddcFNdxXT9ZZSnu3focm/3zeiiud/PkFVqYwTv3qz6cVIxm88jX+7Sra93YaqEgeeXnsalaeOU9s9WTcpimc2xREYbTmZZFGmI/H/uDPig3MWr5fmyvl2Vjg9HszluiH5qMtkbH+nDWufbcdTX56xmH/AbsScS62KvXOoS+l1Ul57riPPvxbPpr170OvgyB5PDvzjWWfZd3LWsWDVSVISVKxbEWr1eOpypXqzufAN1DBhQRqzHouye67ZGG9OjWDK0iTW7zuKXgfnTznz94/eRHUqR6+TsvCZdkx5I4lvjh02lYl/3dn/l7vd68OWkEPVR6+T8OrYMKYuS+Xb06dMx3WnK/v/cLX7cW2sx6ek4uyqZ9aojhQXOtDrrgJmvR/PS4/GciHeNjfFBz6Sy4Ed7hTkOJpf+3VDzVDNC2dVFOTIeWPDWQLbVpGZYvt6ornket4Rap756TTqUhmnfvVg80thjN4Qb54nt+fwXLoNywcgMDaNpN2uHP7am7umN25OOG2VhO9nhhHSo5yH3k3CYJCw+2N/1o2NYtyW0+aJwe1OzLnUaHZtE/zyyy8ZM2YMwcHByGQyunfvzvDhwzl06FCd28+aNYupU6ean5eUlBAScm0z4z81O5VNKwP5+0fTBeSFsyr82mh45NnMWo1LsdeXEhJVxeJJkXXtymYmvpbGjf1KmPZAFHmZjnVuc9vgIhRORn7/uu65EWylvljzs01FrnqseLXU80r8gu1716W8xIG0RCVBzXh878RFadx4VwnThkbWWwaaA51Wau6JdP6Eig5dK7j/qVy+/tCP+8bkMa5PB/O48cQ4JzrfWMaQJ/NsvqpZQY681sVFyjknbhlUZNM4rkZ9x/b9GbWP3ZnDprkugsLs17hUX13Q9dZSAkM1fHf6hMX2cz++wMl9zkwfZr27hQ6ORnNPpDadK0g77syuz/3pPT6T3V8EMGXrcQLamxqSgjpWcOGAK3u+9OeBRRcs9nPwax9Unrpa8zjt/sIfpZueu2elml975J0EltzcjZSjLoR2s/8wEAwGwMrd5g3NY8jl/1f2zKEudz7OlckP9EDlosNBbqCk0JF3Nh7h3EnL4c5OKh0LPzpJRbmMhZNj0ets04hyNfWmvUR1qcDTV8eKX8+YX5M5cPH8mMs9Ed0wGJpPC0JmipLpj8agcNLj7KKnINeRWcvPk5Vy8TifdGbi4E6oXHXI5UaKC+S8u/kU507Yr1d9fTlUQY4Djgojzm56i95LHr46CnLsPwfPpc6fUPHsXaZGB9NxdeC9n84Rf7x59mS/VGDbKoY8nsX4QdeRcnEurqQzznTqWco9I7P5YF5EA3v47/yC1XS9tYSF46/cuHjmYs+coDC1XRqXmkuu5+BoNM97FNS5gozjzuxd7cdtz5jmg/NtZzm/lk9UFcUZjb8+Of69F0Vpjjz17RlzB4QH303i9W7XcWa7B53vLbTOf+S/snYO1YrzJ7s2LkVGRvL3339TXl5OSUkJgYGBPPLII0RE1F25KBQKFArr/GgUToZaJ2mDHiTS2i2JAx/JJf64iqTT9ll+HIxMfC2dmwcW89KwqFoTDl9qwKP57N3uRnGBvf60V441O9WRvEw5bSItG3CCI9Qc/Mu2K9tdTqnSExSm5o/v7NswVzcjExddPK4PXbkMNEcSqWmuAIWTqTK9/Len10vsctct7qBzHWWxipy05ttwd7nqY1uXyFhTg4l9kuMr1wVffeDPr5dNPvrRn2f53/xg9m5v2rkXjAbQa6RoLq6ucnm9L5EaMV5WRo1GOPSNL92H5tWaR0lbKa1VfqUyo/m7BKEp2DOHqk9FmSn3CAqtJCq2lC/er+mZ5OSs47WPT6DVSHl1Yixajf1651yp3rSXo7tcGdc3xuK1aW8nk5qgZNOH/s2qYelS6koZ6koZLm46etxezKevW178VpReLBNhVbTrXM4Xy9rYIcor51DnjqvQaiR0u7WUXb94ANAmsgr/NlpOH7JX7n9lFaWmRrCgcDXtrqtgzZv2H7HQkOo5jC4/LxoMprmFbKH/sDyK8+XmBZ3qExlrmmuruTQuNpdcz2g0rQDn0UaDq7+GvETLhrf8JCXt7iiu59O1aaukSKRY5FASqRGJRORPLVWzGM3o7OyMs7MzhYWFbN26laVLlzb5d+773YNHJ2WQm+FoGhYXW8HQp7LZtsmy15LKRc9tgwv56DX73d2atDiNPvcXMn9MBJVlUjwvrlxUXipDU1WTnAWFqel8UzlzRzV9y399Go5VwjerfBk1LYvEOCcSTznRb1gBIZFVvDYuzKaxPv1yGnt/dycnzRFvfy2jpmWi10vYscU0r5anrxZPX625J1N4dBUVZVJyMxwpLbLtT2fS4nT6DC1k/ujwesuAp68WTz8dQeHV8VZSUS4jN11u03hHz8zgwF9u5KbLcXIxDdPs0quMOY9FknpeSXqSI8+/kcrHC4MoKXTg5oHFdL+9lHlP2L7cbv7En2Wbz/DIxEz++cmTDl0ruPuxPN6b2da8jYu7Dr9gDd4X5zNoE2m6S1OYK7f5qiJXOraBoWr6DC1k/x9ulBbKCI+pYvz8dI7vcSbptO3vaDZUF9R3/HLS5VZtPP11aQgd7ijCI1iNukzG0R98SNzrxpg1Z/CLrMI7rIrNs8MZPDvFNCxumyfnd7nz5KeW8yUl7HajIFXJDY/m1PqO6DuL2PVZAL+/H0zXe/NQl8v47c0QPIPVBMc2k0lWxbC4VssWOZRSpSeobc0wUf/gKiKiyygtdiA3U8mtA3IpLpCTm6kgrH0542clsPcPH47sNt2scXLWseiTEyiUBt6cEY3KRY/KxXShWVwgb9KGkyvVm1B97tQSFGaaCyg8uoqKcim56bY911eWy2rNo1hVKaW0sOb15pSX9Li9CIC0RCeCwqp4alYqqQlKtl2cx+a2uwsozncgJ8ORsOhKJsxLZs82Tw7vbNo59urSUA5VUSpj6wYvxs3PoLTIgfJSKRMXpRN3UGXTleLg4m8tvGZeqoAQDRGxlZQWychNd+S2e4pMxzVdTnhMFc+8ms6e39w5/HfT36BVqvQEhdb0VPEPqSIippzSIgdyMxW4uGvxC9LgfXFerTbhpjqjMFdOYZ4jqYlOpF9QMnlhIp+8HkppkZxedxXQ7ZZi5j/d9POMSSRG7hqWx/ZvvC0WEghsW0Wf+wvY/6c7pUUOhEdXMG5eKsf3upJ0xvaNi80l19u+NIh2vUtwD9KgKZNy/AcvLux1ZdTqc0gkcMvT2fz1bhAB0RUEdKzk6Hfe5CUoeWRFgnkfRelyKosdKM5wxGCQkBl3cZ6zUDUKZwORt5awfUkbfp4Xwo1P5GI0wM5VAUhlRsKbyQqe/9fenUc1dSZsAH9CJBA1gKgsUcGFCmjRilY/tB1rpS7jsbS24lhsUdRvpuIRcSk6HgcdP0VttVXr4FroqKhUhba2llJbUauOuODnViy4K25fZbVsyfv9ocamAYU04ebG53cOf3CT3DzkQPLw3ve+FwBPi6sHhRDS/XQZGRkQQsDf3x95eXmYPn06nJ2dsW/fPjg6PvmftuLiYri6uqKf43A0UtTvnzx1Ex3emXoNvQfehVuLKvzfTRWyvnDHpmVaVFc9GrAZPPIW/hp/BW8939Vw9MVcotq8074yruXUuP2D2DbITH105H/MjOt4edhdvNOrE4SQ5ghXXbOGR9/Eq6PvQOOmw/kzzlj3P1qczjbzamEK845+zlx5AUG9SqFpVo2iXxrh9OGmSF6sNUwpHTXlOt6ecsPkcR/E+iLzMzPX49Gbd+WJjOsnatz+weQ2yEy9X95HTb2Bt6fefOx96sXMqUSxH1zGcy+UwN2jGvdKlLhw1hmpKz1x7MFVWLTtKjB25nV07lkGdRM9rl9UYdsqD+zebv6MMYXS/AXYe/YvxJi4a2jVtgI3rjhhxzoPfLP50VUhX3nzDqYuvWTyuI0femPjh+atESZ05v0ePO61bamtxHvLL6FtQDmc1XrcLnDEj7vcsHmZJ+6VNvwC9XV9L/j9Y+ZEtcXBDDeznnPR+UMm2z6La4f8H11RfNsRzhodvAPuoe9fr6Pji/cXM75zwQm7FvvgYrYGFfcc0MK3HH8afwPBw+4Y7WdzTAfcveaECdvO1PjcOV+6I2u1FncuOMNRrYdvt1IMnnEZHh1ML8lcWqJH36BrKCoqgouLdWdpPfycDG05Fo0cLDsjr1pfie9ur2+Qn4NMWapD9Xd7G40Uj//dCHq+EIs+/V+T7Zlpnvhwlj9eHXUNb4y5ArcWVbh7W4Xdn3ti8yofQ5+q7fEAMDq0J25df/JpJ7oi8xYgf9Jn0qgpBTV/dj7mveqJzOwlv7f4s3M4f1qNVXPuH+C0Ri9ROJrXbV8c8n8YM/0qWnhVorSoEfZ/0wzJH7Q2dOWw0Tfw5vgbcGtRhV9uO2L3jhZIWWHcsetLVJi3bEFdOpSjkx7/HX8d/cIK4egkcGSPBh/PbNXgB5G6hJTi/e35Jtu/3doMS2J9EDb2Noa/extuLarxy61G+O6zZkj5yPMPva4Ojes2gBLUqwiLN5l+BmZub4mlcX4IHXYLUxebZt+4vDU2Lb//O6z1/RVjpl9G5x4lUDfW4folZ2xfr8X36XW/Greoqq7zfX8r+MUiLNh4DmNfCsK1C4/ec1p4V+C9jy6grf+9B/1JhQMZzbB5hfYP9ydz/veTquvNzT9i9H16nC8uHNCg5EF/8vT/FS/89QY6vPho0GdfoicOb/TAr4VKeAX+ilfirsL3N1cuTJvui5wa1jIenZKLdv91f8mA/H0a7Fmuxa1zzlA4AF6d7qH/tOto063mg3NlJXoM6HJJ1h3KnvuTpINLqampmDlzJq5evQp3d3e88cYbmD9/Plxd63ZU448MLknB3MElegILlbgGYebgkiTksjok/tjgkhTMHVyix6tpcMkWSTK41CLKOoNLdz6xy3IkB5bqUHUZXLIF5g4uSUJGvcTcwSUpmDu4RI9X18ElW2Hu4JIU5PS/3+8Hl2yVJINLFu5Q9tyfJP1ECQ8PR3h4uJQRiIiIiGSHHYqIiIhsiXwOVxAREZF59AKAhScq6+13zQAiIiIiAJbvUHbcnzi4REREZOeE0ENY+NIrlt4fERERka2xdIey5/4kn5PCiYiIiIiIiIjI5nDmEhERkb0TwvLTsO34UrpEREREACzfoey4P3HmEhERERERERERmY0zl4iIiOydsMKC3nZ85I2IiIgIgOU7lB33J85cIiIiIiIiIiIis3HmEhERkb3T6wGFha9OYsdXOyEiIiICYPkOZcf9iYNLRERE9o6nxRERERHVH0+LqzOeFkdERERERERERGbjzCUiIiI7J/R6CAufFifseFo3EREREWD5DmXP/Ykzl4iIiIiIiIiIyGycuURERGTvuOYSERERUf1xzaU648wlIiIiIiIiIiIym6xnLokHo37VokriJHUjZJJTfmQ0Rip0UieoB4XUAepMIbNzl4Wsfg/ko7REHr8HZaX3c4qGPHKlF4CCM5fokUcdqlLiJHWjk1WHkk8vUcjo75g92jocZPIe8JCcOpScfmfL2KFqZ+kOJaP33fqS9eBSSUkJAGBfdbq0QUha9vv3KS05va7VUgcgW9A3SOoE9VNSUgJXV1epY9BT6mGHyiraKnESOySnz88KqQOQ5O5JHYBswZ4uUieoH3Yo2yTrwSWtVosrV65Ao9FAobDcLIvi4mK0adMGV65cgYuLi8X2aw3Mah3Mah3Mah3Maj3WyCuEQElJCbRarUX2V8cnBWDho5J2fOTtaWCNDiWnv29mtQ45ZQXklZdZrYNZrcNaWe2iQ9lxf5L14JKDgwNat25ttf27uLjY/B/uQ8xqHcxqHcxqHcxqPZbO29BH24ReQFj4tLgGnZJOFmfNDiWnv29mtQ45ZQXklZdZrYNZrcMaWeXeoey5P8nnpHAiIiIiIiIiIrI5sp65RERERHUg9LD8aXHyWPyTiIiIyGyW7lB23J84c6kGTk5OiI+Ph5OTk9RRnohZrYNZrYNZrYNZrUdueYmkJKe/F2a1DjllBeSVl1mtg1mtQ05ZyXIUwp5P+iMiInqKFRcXw9XVFS8pXkcjhaNF910tqrBHpKGoqEg2az8QERER1YW1OpQ99yfOXCIiIiIiIiIiIrNxzSUiIiI7Vy0qLH6OfzWqLLo/IiIiIltj6Q5lz/2Jg0tERER2SqVSwcvLC/tvfG2V/Xt5eUGlUlll30RERERSsWaHstf+xDWXiIiI7Fh5eTkqKyutsm+VSgVnZ2er7JuIiIhIStbqUPban7jm0u+sXLkSbdu2hbOzM3r16oXDhw9LHalGe/fuxdChQ6HVaqFQKJCeni51pFolJCTg+eefh0ajgYeHB1577TXk5uZKHatGiYmJ6NKlC1xcXODi4oKQkBDs2rVL6lhPtHDhQigUCkyePFnqKDWaM2cOFAqF0VdAQIDUsWp17do1jBo1Cs2bN4darUZQUBCOHDkidSwTbdu2NXldFQoFoqOjpY5mQqfTYfbs2WjXrh3UajU6dOiAefPmwVaPb5SUlGDy5Mnw9fWFWq1G7969kZ2dLXUsszg7Oxve0yz9ZY/FiMwnhw7F/mQdcu1PgG13KPYn62GHsg576k+A9TqUvfYnDi79xtatWzFlyhTEx8fj2LFj6Nq1KwYOHIhbt25JHc1EWVkZunbtipUrV0od5YmysrIQHR2NQ4cOITMzE1VVVRgwYADKysqkjmaidevWWLhwIY4ePYojR47g5ZdfRlhYGE6fPi11tFplZ2dj9erV6NKli9RRHqtz584oKCgwfO3fv1/qSDW6e/cu+vTpA0dHR+zatQtnzpzBkiVL0KxZM6mjmcjOzjZ6TTMzMwEAw4cPlziZqUWLFiExMREff/wxzp49i0WLFmHx4sVYsWKF1NFqNG7cOGRmZmLDhg04efIkBgwYgNDQUFy7dk3qaEQ2SS4div3JOuTYnwB5dCj2J+tgh7IO9qennCCDnj17iujoaMP3Op1OaLVakZCQIGGqJwMg0tLSpI5RZ7du3RIARFZWltRR6qRZs2Zi3bp1UseoUUlJiXjmmWdEZmam6Nu3r4iJiZE6Uo3i4+NF165dpY5RJ3FxceKFF16QOoZZYmJiRIcOHYRer5c6iokhQ4aIqKgoo23Dhg0TEREREiWq3b1794RSqRQ7d+402h4cHCxmzZolUSoi2ybHDsX+ZF223J+EkEeHYn9qOOxQfxz7E3Hm0gOVlZU4evQoQkNDDdscHBwQGhqKgwcPSpjM/hQVFQEA3N3dJU7yeDqdDlu2bEFZWRlCQkKkjlOj6OhoDBkyxOj31lb9/PPP0Gq1aN++PSIiInD58mWpI9Xoiy++QI8ePTB8+HB4eHigW7duWLt2rdSxnqiyshIbN25EVFQUFAqF1HFM9O7dG7t378a5c+cAACdOnMD+/fsxePBgiZOZqq6uhk6nM5myrFarbfaIMZGU2KEaBvuTZcmlQ7E/WR87lGWwPxGvFvfAnTt3oNPp4OnpabTd09MTP/30k0Sp7I9er8fkyZPRp08fPPvss1LHqdHJkycREhKC8vJyNG3aFGlpaejUqZPUsUxs2bIFx44dk8V5zL169UJycjL8/f1RUFCAuXPn4sUXX8SpU6eg0Wikjmfk/PnzSExMxJQpU/D3v/8d2dnZmDRpElQqFSIjI6WOV6v09HQUFhZi9OjRUkep0YwZM1BcXIyAgAAolUrodDrMnz8fERERUkczodFoEBISgnnz5iEwMBCenp7YvHkzDh48CD8/P6njEdkcdijrY3+yLLl0KPanhsEOZRnsT8TBJWpQ0dHROHXqlE2PXvv7+yMnJwdFRUXYtm0bIiMjkZWVZVMF6cqVK4iJiUFmZqYsFoT77ZGVLl26oFevXvD19UVqairGjh0rYTJTer0ePXr0wIIFCwAA3bp1w6lTp7Bq1SqbLkfr16/H4MGDodVqpY5So9TUVGzatAkpKSno3LkzcnJyMHnyZGi1Wpt8XTds2ICoqCi0atUKSqUSwcHBGDlyJI4ePSp1NCJ6CrE/WY6cOhT7U8Ngh7Ic9qenGweXHmjRogWUSiVu3rxptP3mzZvw8vKSKJV9mThxInbu3Im9e/eidevWUseplUqlMoyud+/eHdnZ2Vi2bBlWr14tcbJHjh49ilu3biE4ONiwTafTYe/evfj4449RUVEBpVIpYcLHc3NzQ8eOHZGXlyd1FBPe3t4mRTgwMBDbt2+XKNGTXbp0Cd999x127NghdZRaTZ8+HTNmzMBf/vIXAEBQUBAuXbqEhIQEmytGANChQwdkZWWhrKwMxcXF8Pb2xogRI9C+fXupoxHZHHYo62J/siw5dyj2J8tjh7Is9qenG9dcekClUqF79+7YvXu3YZter8fu3btt+nxxORBCYOLEiUhLS8P333+Pdu3aSR2pXvR6PSoqKqSOYaR///44efIkcnJyDF89evRAREQEcnJybLYUPVRaWor8/Hx4e3tLHcVEnz59TC71fO7cOfj6+kqU6MmSkpLg4eGBIUOGSB2lVvfu3YODg/FHjlKphF6vlyhR3TRp0gTe3t64e/cuMjIyEBYWJnUkIpvDDmUd7E/WIecOxf5keexQ1sH+9HTizKXfmDJlCiIjI9GjRw/07NkTH330EcrKyjBmzBipo5koLS01Ompx4cIF5OTkwN3dHT4+PhImMxUdHY2UlBR8/vnn0Gg0uHHjBgDA1dUVarVa4nTGZs6cicGDB8PHxwclJSVISUnBnj17kJGRIXU0IxqNxmTNhSZNmqB58+Y2uRbDtGnTMHToUPj6+uL69euIj4+HUqnEyJEjpY5mIjY2Fr1798aCBQsQHh6Ow4cPY82aNVizZo3U0Wqk1+uRlJSEyMhINGpku2/pQ4cOxfz58+Hj44POnTvj+PHjWLp0KaKioqSOVqOMjAwIIeDv74+8vDxMnz4dAQEBNvl5QGQL5NKh2J+sQy79CZBXh2J/si52KMtjf3rKSXuxOtuzYsUK4ePjI1QqlejZs6c4dOiQ1JFq9MMPPwgAJl+RkZFSRzNRU04AIikpSepoJqKiooSvr69QqVSiZcuWon///uLbb7+VOlad2OpldIUQYsSIEcLb21uoVCrRqlUrMWLECJGXlyd1rFp9+eWX4tlnnxVOTk4iICBArFmzRupItcrIyBAARG5urtRRHqu4uFjExMQIHx8f4ezsLNq3by9mzZolKioqpI5Wo61bt4r27dsLlUolvLy8RHR0tCgsLJQ6FpFNk0OHYn+yDjn3JyFst0OxP1kXO5TlsT893RRCCNFwQ1lERERERERERGRPuOYSERERERERERGZjYNLRERERERERERkNg4uERERERERERGR2Ti4REREREREREREZuPgEhERERERERERmY2DS0REREREREREZDYOLhERERERERERkdk4uERERERERERERGbj4BKRjI0ePRqvvfaa4fuXXnoJkydPbvAce/bsgUKhQGFhYa33USgUSE9Pr/M+58yZg+eee+4P5bp48SIUCgVycnL+0H6IiIjIfrA/PR77ExGZg4NLRBY2evRoKBQKKBQKqFQq+Pn54Z///Ceqq6ut/tw7duzAvHnz6nTfuhQaIiIioobA/kREJG+NpA5AZI8GDRqEpKQkVFRU4Ouvv0Z0dDQcHR0xc+ZMk/tWVlZCpVJZ5Hnd3d0tsh8iIiKihsb+REQkX5y5RGQFTk5O8PLygq+vL959912Ehobiiy++APBoKvb8+fOh1Wrh7+8PALhy5QrCw8Ph5uYGd3d3hIWF4eLFi4Z96nQ6TJkyBW5ubmjevDnee+89CCGMnvf307orKioQFxeHNm3awMnJCX5+fli/fj0uXryIfv36AQCaNWsGhUKB0aNHAwD0ej0SEhLQrl07qNVqdO3aFdu2bTN6nq+//hodO3aEWq1Gv379jHLWVVxcHDp27IjGjRujffv2mD17Nqqqqkzut3r1arRp0waNGzdGeHg4ioqKjG5ft24dAgMD4ezsjICAAPzrX/+qdxYiIiKSHvvTk7E/EZGt4uASUQNQq9WorKw0fL97927k5uYiMzMTO3fuRFVVFQYOHAiNRoN9+/bhxx9/RNOmTTFo0CDD45YsWYLk5GR88skn2L9/P3755RekpaU99nnfeecdbN68GcuXL8fZs2exevVqNG3aFG3atMH27dsBALm5uSgoKMCyZcsAAAkJCfj3v/+NVatW4fTp04iNjcWoUaOQlZUF4H6JGzZsGIYOHYqcnByMGzcOM2bMqPdrotFokJycjDNnzmDZsmVYu3YtPvzwQ6P75OXlITU1FV9++SW++eYbHD9+HBMmTDDcvmnTJvzjH//A/PnzcfbsWSxYsACzZ8/Gp59+Wu88REREZFvYn0yxPxGRzRJEZFGRkZEiLCxMCCGEXq8XmZmZwsnJSUybNs1wu6enp6ioqDA8ZsOGDcLf31/o9XrDtoqKCqFWq0VGRoYQQghvb2+xePFiw+1VVVWidevWhucSQoi+ffuKmJgYIYQQubm5AoDIzMysMecPP/wgAIi7d+8atpWXl4vGjRuLAwcOGN137NixYuTIkUIIIWbOnCk6depkdHtcXJzJvn4PgEhLS6v19vfff190797d8H18fLxQKpXi6tWrhm27du0SDg4OoqCgQAghRIcOHURKSorRfubNmydCQkKEEEJcuHBBABDHjx+v9XmJiIhIeuxPNWN/IiK54JpLRFawc+dONG3aFFVVVdDr9XjrrbcwZ84cw+1BQUFG6wScOHECeXl50Gg0RvspLy9Hfn4+ioqKUFBQgF69ehlua9SoEXr06GEytfuhnJwcKJVK9O3bt8658/LycO/ePbzyyitG2ysrK9GtWzcAwNmzZ41yAEBISEidn+OhrVu3Yvny5cjPz0dpaSmqq6vh4uJidB8fHx+0atXK6Hn0ej1yc3Oh0WiQn5+PsWPHYvz48Yb7VFdXw9XVtd55iIiISFrsT0/G/kREtoqDS0RW0K9fPyQmJkKlUkGr1aJRI+M/tSZNmhh9X1paiu7du2PTpk0m+2rZsqVZGdRqdb0fU1paCgD46quvjEoJcH8dBEs5ePAgIiIiMHfuXAwcOBCurq7YsmULlixZUu+sa9euNSlrSqXSYlmJiIioYbA/PR77ExHZMg4uEVlBkyZN4OfnV+f7BwcHY+vWrfDw8DA5+vSQt7c3/vOf/+BPf/oTgPtHmI4ePYrg4OAa7x8UFAS9Xo+srCyEhoaa3P7wyJ9OpzNs69SpE5ycnHD58uVaj9gFBgYaFtd86NChQ0/+IX/jwIED8PX1xaxZswzbLl26ZHK/y5cv4/r169BqtYbncXBwgL+/Pzw9PaHVanH+/HlERETU6/mJiIjI9rA/PR77ExHZMi7oTWQDIiIi0KJFC4SFhWHfvn24cOEC9uzZg0mTJuHq1asAgJiYGCxcuBDp6en46aefMGHCBBQWFta6z7Zt2yIyMhJRUVFIT0837DM1NRUA4OvrC4VCgZ07d+L27dsoLS2FRqPBtGnTEBsbi08//RT5+fk4duwYVqxYYVjk8W9/+xt+/vlnTJ8+Hbm5uUhJSUFycnK9ft5nnnkGly9fxpYtW5Cfn4/ly5fXuLims7MzIiMjceLECezbtw+TJk1CeHg4vLy8AABz585FQkICli9fjnPnzuHkyZNISkrC0qVL65WHiIiI5If9if2JiGwHB5eIbEDjxo2xd+9e+Pj4YNiwYQgMDMTYsWNRXl5uOBI3depUvP3224iMjERISAg0Gg1ef/31x+43MTERb775JiZMmICAgACMHz8eZWVlAIBWrVph7ty5mDFjBjw9PTFx4kQAwLx58zB79mwkJCQgMDAQgwYNwldffYV27doBuH8e//bt25Geno6uXbti1apVWLBgQb1+3ldffRWxsbGYOHEinnvuORw4cACzZ882uZ+fnx+GDRuGP//5zxgwYAC6dOlidKnccePGYd26dUhKSkJQUBD69u2L5ORkQ1YiIiKyX+xP7E9EZDsUorbV7IiIiIiIiIiIiJ6AM5eIiIiIiIiIiMhsHFwiIiIiIiIiIiKzcXCJiIiIiIiIiIjMxsElIiIiIiIiIiIyGweXiIiIiIiIiIjIbBxcIiIiIiIiIiIis3FwiYiIiIiIiIiIzMbBJSIiIiIiIiIiMhsHl4iIiIiIiIiIyGwcXCIiIiIiIiIiIrNxcImIiIiIiIiIiMz2/4SXLg0XWHhLAAAAAElFTkSuQmCC",
      "text/plain": [
       "<Figure size 1200x500 with 4 Axes>"
      ]
     },
     "metadata": {},
     "output_type": "display_data"
    }
   ],
   "source": [
    "cm_teacher = confusion_matrix(true_labels, teacher_preds)\n",
    "cm_student = confusion_matrix(true_labels, student_v1_preds)\n",
    "\n",
    "fig, axes = plt.subplots(1, 2, figsize=(12, 5))\n",
    "ConfusionMatrixDisplay(cm_teacher).plot(ax=axes[0], values_format='d')\n",
    "axes[0].set_title(\"Teacher Confusion Matrix\")\n",
    "\n",
    "ConfusionMatrixDisplay(cm_student).plot(ax=axes[1], values_format='d')\n",
    "axes[1].set_title(\"Student V1 Confusion Matrix\")\n",
    "\n",
    "plt.tight_layout()\n",
    "plt.show()"
   ]
  },
  {
   "cell_type": "markdown",
   "id": "41050fdd",
   "metadata": {},
   "source": [
    "The confusion matrices show that while the Student V1 model approximates the Teacher model quite well overall, there are notable differences in how they handle specific classes:\n",
    "\n",
    "The Teacher model is more confident and accurate across almost all classes. For example, class 3 (\"Society & Culture\") and class 6 (\"Health\") are much better separated by the teacher, with stronger diagonals (e.g., 2835 correct for class 3 vs. only 2595 for Student V1).\n",
    "\n",
    "The Student V1 model confuses several classes more frequently. For instance, it tends to misclassify class 3 as class 0 or 6, and class 6 predictions are more widely spread, suggesting that the student struggles with nuanced semantics or overlapping vocabulary. You can also see more off-diagonal values in V1 for classes like 1, 3, 6, and 9, indicating lower precision for these.\n",
    "\n",
    "Despite this, Student V1 still preserves the overall structure of the prediction behavior and achieves strong diagonal values, especially for high-volume classes like 8 and 9 (e.g., class 8 has 4203 correct for teacher vs. 3971 for V1)."
   ]
  },
  {
   "cell_type": "markdown",
   "id": "a692d907",
   "metadata": {},
   "source": [
    "**Per-Class Accuracy Comparison:**"
   ]
  },
  {
   "cell_type": "code",
   "execution_count": 91,
   "id": "4f358eb3",
   "metadata": {},
   "outputs": [
    {
     "data": {
      "image/png": "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",
      "text/plain": [
       "<Figure size 1000x500 with 1 Axes>"
      ]
     },
     "metadata": {},
     "output_type": "display_data"
    }
   ],
   "source": [
    "# Per-class accuracy\n",
    "teacher_per_class_acc = cm_teacher.diagonal() / cm_teacher.sum(axis=1)\n",
    "student_per_class_acc = cm_student.diagonal() / cm_student.sum(axis=1)\n",
    "classes = np.arange(len(teacher_per_class_acc))\n",
    "\n",
    "# Plot\n",
    "plt.figure(figsize=(10, 5))\n",
    "bar_width = 0.35\n",
    "plt.bar(classes - bar_width/2, teacher_per_class_acc, width=bar_width, label='Teacher')\n",
    "plt.bar(classes + bar_width/2, student_per_class_acc, width=bar_width, label='Student V1')\n",
    "plt.xlabel(\"Class Label\")\n",
    "plt.ylabel(\"Accuracy\")\n",
    "plt.title(\"Per-Class Accuracy Comparison (Teacher vs. Student V1)\")\n",
    "plt.xticks(classes)\n",
    "plt.ylim(0, 1.0)\n",
    "plt.legend()\n",
    "plt.grid(True, axis='y', linestyle='--', alpha=0.6)\n",
    "plt.tight_layout()\n",
    "plt.show()"
   ]
  },
  {
   "cell_type": "markdown",
   "id": "1451cc9e",
   "metadata": {},
   "source": [
    "We can see that the student performs in all classes somewhat worse, the good thing here is that it does not seem to be biased towards one class, so itis not just perfectly predicting a few and lacks with others."
   ]
  },
  {
   "cell_type": "markdown",
   "id": "52add95a",
   "metadata": {},
   "source": [
    "**Interpretations and Suggestions:**\n",
    "\n",
    "The student models that we chose were limited to the DistilBERT base architecture for the case when we do not want to retrain and use the weights. We saw that already a very simple approach can give very good performance, while benefitting from reduced computaional inference time. \n",
    "\n",
    "Even though the models benefit from faster inference and are much faster to be trained one has to consider that the training still takes a signifcant amount of time which leads to the fact that one can even with those models only do some limited parameter tuning.\n",
    "\n",
    "The most obvious deficiency of the student model's learning is the limited model capacity. Fewer parameters (fewer layers, smaller hidden size, fewer attention heads) mean that it cannot represent complex functions learned by the teacher. Thus, the student may underfit especially on nuanced or ambiguous samples.\n",
    "\n",
    "While the student may generalize quite good, the student misses depth which makes it worse at modeling complex syntax or abstract semantics.\n",
    "\n",
    "To overcome these limitations, future work could explore architectures with intermediate capacities, for example, models with fewer layers than the teacher but more than DistilBERT, possibly reusing parts of the teacher model to avoid retraining from scratch. Additionally, structured pruning techniques could be used to compress the model without sacrificing too much performance.\n",
    "\n",
    "We also suggest experimenting with more advanced quantization techniques, such as post-training quantization with ONNX Runtime or quantization-aware training, which may further reduce memory and inference costs with minimal accuracy degradation. Finally, better distillation objectives that combine soft targets with intermediate layer alignment or contrastive learning may allow student models to capture richer representations without increasing model size."
   ]
=======
   "id": "44b97901",
   "metadata": {},
   "source": [
    "In this example, the teacher model correctly identifies the topic as class 3, likely a medical or health-related category, while the student V1 model misclassifies it as class 0. The text refers to a medical condition on a TV show, which may require more nuanced understanding of context and domain-specific terms. This suggests that the student model, due to its reduced capacity, struggles to capture such specific references and semantic cues, leading to errors in more specialized or context-dependent queries."
   ]
>>>>>>> f0e7895634d6c08a5b570633dca077ab16b11787
  }
 ],
 "metadata": {
  "kernelspec": {
   "display_name": ".venv",
   "language": "python",
   "name": "python3"
  },
  "language_info": {
   "codemirror_mode": {
    "name": "ipython",
    "version": 3
   },
   "file_extension": ".py",
   "mimetype": "text/x-python",
   "name": "python",
   "nbconvert_exporter": "python",
   "pygments_lexer": "ipython3",
   "version": "3.11.8"
  }
 },
 "nbformat": 4,
 "nbformat_minor": 5
}
